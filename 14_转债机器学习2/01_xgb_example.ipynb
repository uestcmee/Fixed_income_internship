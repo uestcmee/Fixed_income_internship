{
 "cells": [
  {
   "cell_type": "code",
   "execution_count": 1,
   "metadata": {},
   "outputs": [],
   "source": [
    "from sklearn import datasets\n",
    "from sklearn.model_selection import train_test_split\n",
    "import xgboost as xgb\n",
    "from sklearn import metrics\n"
   ]
  },
  {
   "cell_type": "code",
   "execution_count": 2,
   "metadata": {},
   "outputs": [],
   "source": [
    "# 导入鸢尾花的数据\n",
    "iris = datasets.load_iris()\n",
    "# 特征数据\n",
    "data = iris.data[:100] # 有4个特征\n",
    "# 标签\n",
    "label = iris.target[:100]\n",
    "\n",
    "# 提取训练集和测试集\n",
    "# random_state：是随机数的种子。\n",
    "train_x, test_x, train_y, test_y = train_test_split(data, label, random_state=0)"
   ]
  },
  {
   "cell_type": "code",
   "execution_count": 8,
   "metadata": {},
   "outputs": [],
   "source": [
    "dtrain = xgb.DMatrix(train_x, label = train_y)\n",
    "dtest = xgb.DMatrix(test_x)\n"
   ]
  },
  {
   "cell_type": "code",
   "execution_count": 26,
   "metadata": {},
   "outputs": [
    {
     "name": "stdout",
     "output_type": "stream",
     "text": [
      "[11:08:40] WARNING: C:\\Users\\Administrator\\workspace\\xgboost-win64_release_1.2.0\\src\\learner.cc:516: \n",
      "Parameters: { silent } might not be used.\n",
      "\n",
      "  This may not be accurate due to some parameters are only used in language bindings but\n",
      "  passed down to XGBoost core.  Or some parameters are not used but slip through this\n",
      "  verification. Please open an issue if you find above cases.\n",
      "\n",
      "\n",
      "[0]\ttrain-auc:1.00000\n",
      "[1]\ttrain-auc:1.00000\n",
      "[2]\ttrain-auc:1.00000\n",
      "[3]\ttrain-auc:1.00000\n",
      "[4]\ttrain-auc:1.00000\n",
      "[5]\ttrain-auc:1.00000\n",
      "[6]\ttrain-auc:1.00000\n",
      "[7]\ttrain-auc:1.00000\n",
      "[8]\ttrain-auc:1.00000\n",
      "[9]\ttrain-auc:1.00000\n"
     ]
    }
   ],
   "source": [
    "# 参数设置\n",
    "params={'booster':'gbtree',\n",
    "    'objective': 'binary:logistic',\n",
    "    'eval_metric': 'auc',\n",
    "    'max_depth':4,\n",
    "    'lambda':10,\n",
    "    'subsample':0.75,\n",
    "    'colsample_bytree':0.75,\n",
    "    'min_child_weight':2,\n",
    "    'eta': 0.025,\n",
    "    'seed':0,\n",
    "    'nthread':8,\n",
    "     'silent':1}\n",
    "\n",
    "watchlist = [(dtrain,'train')]\n",
    "\n",
    "bst=xgb.train(params,dtrain,num_boost_round=10,evals=watchlist)\n",
    "ypred=bst.predict(dtest)\n",
    "\n"
   ]
  },
  {
   "cell_type": "code",
   "execution_count": 23,
   "metadata": {},
   "outputs": [
    {
     "name": "stdout",
     "output_type": "stream",
     "text": [
      "AUC: 1.0000\n",
      "ACC: 1.0000\n",
      "Recall: 1.0000\n",
      "F1-score: 1.0000\n",
      "Precesion: 1.0000\n"
     ]
    },
    {
     "data": {
      "text/plain": [
       "array([[13,  0],\n",
       "       [ 0, 12]], dtype=int64)"
      ]
     },
     "execution_count": 23,
     "metadata": {},
     "output_type": "execute_result"
    }
   ],
   "source": [
    "# 设置阈值, 输出一些评价指标\n",
    "# 0.5为阈值，ypred >= 0.5输出0或1\n",
    "y_pred = (ypred >= 0.5)*1\n",
    "\n",
    "# ROC曲线下与坐标轴围成的面积\n",
    "print ('AUC: %.4f' % metrics.roc_auc_score(test_y,ypred))\n",
    "# 准确率\n",
    "print ('ACC: %.4f' % metrics.accuracy_score(test_y,y_pred))\n",
    "print ('Recall: %.4f' % metrics.recall_score(test_y,y_pred))\n",
    "# 精确率和召回率的调和平均数\n",
    "print ('F1-score: %.4f' %metrics.f1_score(test_y,y_pred))\n",
    "print ('Precesion: %.4f' %metrics.precision_score(test_y,y_pred))\n",
    "metrics.confusion_matrix(test_y,y_pred)"
   ]
  },
  {
   "cell_type": "code",
   "execution_count": 24,
   "metadata": {},
   "outputs": [
    {
     "data": {
      "text/plain": [
       "array([0.45167056, 0.551545  , 0.45167056, 0.551545  , 0.551545  ,\n",
       "       0.551545  , 0.45167056, 0.551545  , 0.551545  , 0.551545  ,\n",
       "       0.551545  , 0.551545  , 0.551545  , 0.45167056, 0.45167056,\n",
       "       0.45167056, 0.45167056, 0.45167056, 0.45167056, 0.45167056,\n",
       "       0.45167056, 0.551545  , 0.45167056, 0.551545  , 0.45167056],\n",
       "      dtype=float32)"
      ]
     },
     "execution_count": 24,
     "metadata": {},
     "output_type": "execute_result"
    }
   ],
   "source": [
    "ypred"
   ]
  },
  {
   "cell_type": "code",
   "execution_count": null,
   "metadata": {},
   "outputs": [],
   "source": []
  }
 ],
 "metadata": {
  "kernelspec": {
   "display_name": "Python 3",
   "language": "python",
   "name": "python3"
  },
  "language_info": {
   "codemirror_mode": {
    "name": "ipython",
    "version": 3
   },
   "file_extension": ".py",
   "mimetype": "text/x-python",
   "name": "python",
   "nbconvert_exporter": "python",
   "pygments_lexer": "ipython3",
   "version": "3.7.6"
  }
 },
 "nbformat": 4,
 "nbformat_minor": 4
}
