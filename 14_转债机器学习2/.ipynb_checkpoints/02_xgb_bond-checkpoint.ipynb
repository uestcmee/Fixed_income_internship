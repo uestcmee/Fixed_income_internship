{
 "cells": [
  {
   "cell_type": "code",
   "execution_count": 2,
   "metadata": {},
   "outputs": [],
   "source": [
    "import pandas as pd\n",
    "import numpy as np\n",
    "import xgboost as xgb\n",
    "\n",
    "from sklearn.model_selection import train_test_split\n",
    "from sklearn import metrics\n",
    "from sklearn.metrics import mean_squared_error\n",
    "from sklearn.preprocessing import MinMaxScaler\n",
    "import math,os\n",
    "import matplotlib.pyplot as plt \n",
    "import seaborn as sns\n",
    "sns.set()"
   ]
  },
  {
   "cell_type": "code",
   "execution_count": null,
   "metadata": {},
   "outputs": [],
   "source": []
  },
  {
   "cell_type": "code",
   "execution_count": 3,
   "metadata": {},
   "outputs": [],
   "source": [
    "\n",
    "def create_dataset(dataset, look_back=1):  # 后一个数据和前look_back个数据有关系\n",
    "    dataX, dataY = [], []\n",
    "    for i in range(len(dataset) - look_back - 1):\n",
    "        a = dataset[i:(i + look_back)]\n",
    "        dataX.append(a)  # .apeend方法追加元素\n",
    "        dataY.append(dataset[i + look_back])\n",
    "    return np.array(dataX), np.array(dataY)  # 生成输入数据和输出数据\n",
    "\n",
    "\n",
    "def cal_the_return(testPredict,testY):\n",
    "    # 测试集的实际收益率和测试集的预测收益率\n",
    "    compare=pd.DataFrame({'pred_y':testPredict.T[0],'real_y':testY.T[0]})\n",
    "    # 计算转债累计收益率\n",
    "    accy=(compare['real_y']/100+1).cumprod()\n",
    "    # 计算策略累计收益率\n",
    "    accp=(pd.Series(compare['real_y'][compare['pred_y']>0],index=compare.index).fillna(0)/100+1).cumprod()\n",
    "\n",
    "    compare['acc_y'] = accy # 累计收益率真实值\n",
    "    compare['acc_p'] = accp # 预测累计收益率\n",
    "    return compare\n",
    "\n",
    "\n",
    "def data_processing_xgb(price_series,look_back):\n",
    "    # 转换为收益率序列\n",
    "    pct_chg_series=(price_series/price_series.shift(1)-1)[1:]\n",
    "\n",
    "    # 进行归一化\n",
    "    scaler = MinMaxScaler(feature_range=(0, 1))  # 定义归一化函数，归一化0-1\n",
    "    scaler_series=scaler.fit_transform(np.array(pct_chg_series*100).reshape(len(pct_chg_series),1))\n",
    "    train,test=scaler_series[0:int(len(scaler_series)*0.7)],scaler_series[int(len(scaler_series)*0.7):] # 对其进行训练和测试的划分\n",
    "    \n",
    "    # 对于训练集和测试集按照所需格式进行划分\n",
    "    train_x,train_y=create_dataset(train,look_back=20) # 训练集\n",
    "    test_x,test_y=create_dataset(test,look_back=20) # 测试集\n",
    "\n",
    "    # 进行reshape，用于XGBoosting模型\n",
    "    train_x=np.reshape(train_x, (train_x.shape[0], train_x.shape[1]))\n",
    "    test_x=np.reshape(test_x, (test_x.shape[0], test_x.shape[1]))\n",
    "    return train_x,train_y,test_x,test_y,scaler\n",
    "    \n",
    "    \n",
    "def xgb_model(price_series):\n",
    "    assert type(price_series)==type(pd.Series(dtype='float')),'请传入价格的pandas Series序列'\n",
    "    \n",
    "    look_back=20\n",
    "    train_x,train_y,test_x,test_y,scaler=data_processing_xgb(price_series,look_back)\n",
    "    dtrain = xgb.DMatrix(train_x, label = train_y)\n",
    "    dtest = xgb.DMatrix(test_x)\n",
    "    # 参数设置\n",
    "    params={'booster':'gbtree',\n",
    "        'objective': 'binary:logistic',\n",
    "        'eval_metric': 'auc',\n",
    "        'max_depth':4,\n",
    "        'lambda':10,\n",
    "        'subsample':0.75,\n",
    "        'colsample_bytree':0.75,\n",
    "        'min_child_weight':2,\n",
    "        'eta': 0.025,\n",
    "        'seed':0,\n",
    "        'nthread':8,\n",
    "         'silent':1}\n",
    "\n",
    "    watchlist = [(dtrain,'train')]\n",
    "    # 进行训练\n",
    "    bst=xgb.train(params,dtrain,num_boost_round=1000,evals=watchlist,verbose_eval=100)\n",
    "    # 预测\n",
    "    test_predict=bst.predict(dtest)\n",
    "    # 反归一化\n",
    "    test_predict=scaler.inverse_transform(test_predict.reshape(len(test_predict),1))# 需要reshape一下，以便inverse_transform\n",
    "    test_y=scaler.inverse_transform(test_y)\n",
    "    # 进行策略对比\n",
    "    compare=cal_the_return(test_predict,test_y)\n",
    "    # print(compare)\n",
    "    return compare,bst"
   ]
  },
  {
   "cell_type": "code",
   "execution_count": 4,
   "metadata": {},
   "outputs": [
    {
     "name": "stdout",
     "output_type": "stream",
     "text": [
      "[16:30:35] WARNING: C:\\Users\\Administrator\\workspace\\xgboost-win64_release_1.2.0\\src\\learner.cc:516: \n",
      "Parameters: { silent } might not be used.\n",
      "\n",
      "  This may not be accurate due to some parameters are only used in language bindings but\n",
      "  passed down to XGBoost core.  Or some parameters are not used but slip through this\n",
      "  verification. Please open an issue if you find above cases.\n",
      "\n",
      "\n",
      "[0]\ttrain-auc:0.50412\n",
      "[100]\ttrain-auc:0.53154\n",
      "[200]\ttrain-auc:0.54588\n",
      "[300]\ttrain-auc:0.55148\n",
      "[400]\ttrain-auc:0.55421\n",
      "[500]\ttrain-auc:0.55610\n",
      "[600]\ttrain-auc:0.55740\n",
      "[700]\ttrain-auc:0.55827\n",
      "[800]\ttrain-auc:0.55890\n",
      "[900]\ttrain-auc:0.55942\n",
      "[999]\ttrain-auc:0.55978\n"
     ]
    },
    {
     "data": {
      "text/plain": [
       "<matplotlib.axes._subplots.AxesSubplot at 0x1f3771ac648>"
      ]
     },
     "execution_count": 4,
     "metadata": {},
     "output_type": "execute_result"
    },
    {
     "data": {
      "image/png": "[encoded data removed]",
      "text/plain": [
       "<Figure size 432x288 with 1 Axes>"
      ]
     },
     "metadata": {},
     "output_type": "display_data"
    }
   ],
   "source": [
    "df=pd.read_excel('转债时间序列.xlsx',index_col=0)[:-7]\n",
    "price_series=df['110031.SH']\n",
    "compare,bst=xgb_model(price_series)\n",
    "compare.iloc[:,2:].plot()"
   ]
  },
  {
   "cell_type": "markdown",
   "metadata": {},
   "source": [
    "## 第二个模型"
   ]
  },
  {
   "cell_type": "code",
   "execution_count": 5,
   "metadata": {},
   "outputs": [],
   "source": [
    "price_series=df.iloc[:,1]\n",
    "look_back=20\n",
    "train_x,train_y,test_x,test_y,scaler=data_processing_xgb(price_series,look_back)\n",
    "dtrain = xgb.DMatrix(train_x, label = train_y)\n",
    "dtest = xgb.DMatrix(test_x)"
   ]
  },
  {
   "cell_type": "code",
   "execution_count": 6,
   "metadata": {},
   "outputs": [
    {
     "data": {
      "text/plain": [
       "2017-09-18    125.2293\n",
       "2017-09-19    124.5082\n",
       "2017-09-20    125.0671\n",
       "2017-09-21    124.8260\n",
       "2017-09-22    123.9149\n",
       "                ...   \n",
       "2020-09-09    112.9567\n",
       "2020-09-10    112.7923\n",
       "2020-09-11    111.1679\n",
       "2020-09-14    111.8848\n",
       "2020-09-15    112.1304\n",
       "Name: 110034.SH, Length: 729, dtype: float64"
      ]
     },
     "execution_count": 6,
     "metadata": {},
     "output_type": "execute_result"
    }
   ],
   "source": [
    "price_series"
   ]
  },
  {
   "cell_type": "code",
   "execution_count": 7,
   "metadata": {},
   "outputs": [
    {
     "data": {
      "text/plain": [
       "2017-09-19   -0.005758\n",
       "2017-09-20    0.004489\n",
       "2017-09-21   -0.001928\n",
       "2017-09-22   -0.007299\n",
       "2017-09-25   -0.007532\n",
       "                ...   \n",
       "2020-09-09   -0.005235\n",
       "2020-09-10   -0.001455\n",
       "2020-09-11   -0.014402\n",
       "2020-09-14    0.006449\n",
       "2020-09-15    0.002195\n",
       "Name: 110034.SH, Length: 728, dtype: float64"
      ]
     },
     "execution_count": 7,
     "metadata": {},
     "output_type": "execute_result"
    }
   ],
   "source": [
    "(price_series/price_series.shift(1)-1)[1:]"
   ]
  },
  {
   "cell_type": "code",
   "execution_count": 8,
   "metadata": {},
   "outputs": [
    {
     "name": "stdout",
     "output_type": "stream",
     "text": [
      "[16:30:37] WARNING: C:\\Users\\Administrator\\workspace\\xgboost-win64_release_1.2.0\\src\\learner.cc:516: \n",
      "Parameters: { silent } might not be used.\n",
      "\n",
      "  This may not be accurate due to some parameters are only used in language bindings but\n",
      "  passed down to XGBoost core.  Or some parameters are not used but slip through this\n",
      "  verification. Please open an issue if you find above cases.\n",
      "\n",
      "\n",
      "[0]\ttrain-auc:0.50551\n",
      "[100]\ttrain-auc:0.54719\n",
      "[200]\ttrain-auc:0.56290\n",
      "[300]\ttrain-auc:0.56953\n",
      "[400]\ttrain-auc:0.57323\n",
      "[500]\ttrain-auc:0.57575\n",
      "[600]\ttrain-auc:0.57769\n",
      "[700]\ttrain-auc:0.57911\n",
      "[800]\ttrain-auc:0.58018\n",
      "[900]\ttrain-auc:0.58096\n",
      "[999]\ttrain-auc:0.58156\n"
     ]
    }
   ],
   "source": [
    "# 参数设置\n",
    "params={'booster':'gbtree',\n",
    "    'objective': 'binary:logistic',\n",
    "    'eval_metric': 'auc',\n",
    "    'max_depth':4,\n",
    "    'lambda':10,\n",
    "    'subsample':0.75,\n",
    "    'colsample_bytree':0.75,\n",
    "    'min_child_weight':2,\n",
    "    'eta': 0.025,\n",
    "    'seed':0,\n",
    "    'nthread':8,\n",
    "     'silent':1}\n",
    "\n",
    "watchlist = [(dtrain,'train')]\n",
    "\n",
    "bst=xgb.train(params,dtrain,num_boost_round=1000,evals=watchlist,verbose_eval=100,xgb_model=bst)\n",
    "pred_y=bst.predict(dtest)\n"
   ]
  },
  {
   "cell_type": "code",
   "execution_count": 9,
   "metadata": {},
   "outputs": [
    {
     "name": "stdout",
     "output_type": "stream",
     "text": [
      "pred_y    0.190912\n",
      "real_y    0.644880\n",
      "acc_y     1.060960\n",
      "acc_p     1.208375\n",
      "Name: 197, dtype: float64\n"
     ]
    },
    {
     "data": {
      "text/plain": [
       "<matplotlib.axes._subplots.AxesSubplot at 0x1f378451f88>"
      ]
     },
     "execution_count": 9,
     "metadata": {},
     "output_type": "execute_result"
    },
    {
     "data": {
      "image/png": "[encoded data removed]",
      "text/plain": [
       "<Figure size 432x288 with 1 Axes>"
      ]
     },
     "metadata": {},
     "output_type": "display_data"
    }
   ],
   "source": [
    "# 反归一化\n",
    "# train_predict=scaler.inverse_transform(train_predict)\n",
    "test_predict=scaler.inverse_transform(pred_y.reshape(len(pred_y),1))\n",
    "test_y0=scaler.inverse_transform(test_y)\n",
    "# 进行策略对比\n",
    "compare=cal_the_return(test_predict,test_y0)\n",
    "print(compare.iloc[-1])\n",
    "compare.iloc[:,2:].plot()"
   ]
  },
  {
   "cell_type": "code",
   "execution_count": 12,
   "metadata": {},
   "outputs": [
    {
     "data": {
      "text/plain": [
       "array([[-0.44617207]])"
      ]
     },
     "execution_count": 12,
     "metadata": {},
     "output_type": "execute_result"
    }
   ],
   "source": [
    "scaler.inverse_transform(np.array([0.5]).reshape(-1, 1))"
   ]
  },
  {
   "cell_type": "code",
   "execution_count": 13,
   "metadata": {},
   "outputs": [
    {
     "data": {
      "text/plain": [
       "array([[[1]]])"
      ]
     },
     "execution_count": 13,
     "metadata": {},
     "output_type": "execute_result"
    }
   ],
   "source": [
    "a=np.array([[[1]]])\n",
    "a"
   ]
  },
  {
   "cell_type": "code",
   "execution_count": 14,
   "metadata": {},
   "outputs": [
    {
     "data": {
      "text/plain": [
       "(1, 1, 1)"
      ]
     },
     "execution_count": 14,
     "metadata": {},
     "output_type": "execute_result"
    }
   ],
   "source": [
    "a.shape"
   ]
  },
  {
   "cell_type": "code",
   "execution_count": 15,
   "metadata": {},
   "outputs": [
    {
     "data": {
      "text/plain": [
       "array([[1]])"
      ]
     },
     "execution_count": 15,
     "metadata": {},
     "output_type": "execute_result"
    }
   ],
   "source": [
    "a.reshape(1,-1)"
   ]
  },
  {
   "cell_type": "code",
   "execution_count": 16,
   "metadata": {},
   "outputs": [
    {
     "data": {
      "text/plain": [
       "(1, 1, 1)"
      ]
     },
     "execution_count": 16,
     "metadata": {},
     "output_type": "execute_result"
    }
   ],
   "source": [
    "a.shape"
   ]
  },
  {
   "cell_type": "code",
   "execution_count": null,
   "metadata": {},
   "outputs": [],
   "source": []
  }
 ],
 "metadata": {
  "kernelspec": {
   "display_name": "Python 3",
   "language": "python",
   "name": "python3"
  },
  "language_info": {
   "codemirror_mode": {
    "name": "ipython",
    "version": 3
   },
   "file_extension": ".py",
   "mimetype": "text/x-python",
   "name": "python",
   "nbconvert_exporter": "python",
   "pygments_lexer": "ipython3",
   "version": "3.7.6"
  }
 },
 "nbformat": 4,
 "nbformat_minor": 4
}
