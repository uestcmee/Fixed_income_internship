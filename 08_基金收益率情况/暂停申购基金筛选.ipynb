{
 "cells": [
  {
   "cell_type": "markdown",
   "metadata": {},
   "source": [
    "# 筛选基金，绘制同类收益率排名直方图"
   ]
  },
  {
   "cell_type": "code",
   "execution_count": 2,
   "metadata": {},
   "outputs": [],
   "source": [
    "import pandas as pd\n",
    "import numpy as np\n",
    "import matplotlib.pyplot as plt\n",
    "import seaborn as sns"
   ]
  },
  {
   "cell_type": "markdown",
   "metadata": {},
   "source": [
    "## 1. 使用的数据描述\n",
    "\n",
    "1. 已经经过初筛\n",
    "\n",
    "2. 排除了数据缺失的基金\n",
    "\n",
    "3. 若目前没有回复限额的基金，则基金暂停申购天数计算至2020-04-30"
   ]
  },
  {
   "cell_type": "code",
   "execution_count": 4,
   "metadata": {},
   "outputs": [
    {
     "name": "stdout",
     "output_type": "stream",
     "text": [
      "404\n"
     ]
    },
    {
     "data": {
      "text/html": [
       "<div>\n",
       "<style scoped>\n",
       "    .dataframe tbody tr th:only-of-type {\n",
       "        vertical-align: middle;\n",
       "    }\n",
       "\n",
       "    .dataframe tbody tr th {\n",
       "        vertical-align: top;\n",
       "    }\n",
       "\n",
       "    .dataframe thead th {\n",
       "        text-align: right;\n",
       "    }\n",
       "</style>\n",
       "<table border=\"1\" class=\"dataframe\">\n",
       "  <thead>\n",
       "    <tr style=\"text-align: right;\">\n",
       "      <th></th>\n",
       "      <th>code</th>\n",
       "      <th>name</th>\n",
       "      <th>pause_start</th>\n",
       "      <th>pause_end</th>\n",
       "      <th>limit_amount</th>\n",
       "      <th>limit_days</th>\n",
       "      <th>types</th>\n",
       "      <th>est_years</th>\n",
       "      <th>rank</th>\n",
       "      <th>minus_benchmark</th>\n",
       "      <th>scale2018</th>\n",
       "      <th>scale2019</th>\n",
       "      <th>scale2020</th>\n",
       "      <th>end_flag</th>\n",
       "      <th>scale</th>\n",
       "    </tr>\n",
       "  </thead>\n",
       "  <tbody>\n",
       "    <tr>\n",
       "      <th>1122</th>\n",
       "      <td>270030.OF</td>\n",
       "      <td>广发聚财信用债券B</td>\n",
       "      <td>2014/4/21</td>\n",
       "      <td>2020/4/30</td>\n",
       "      <td>1000.0</td>\n",
       "      <td>2201</td>\n",
       "      <td>混合债券型基金（一级）</td>\n",
       "      <td>8.136986</td>\n",
       "      <td>52.816901</td>\n",
       "      <td>3.24</td>\n",
       "      <td>2.230779</td>\n",
       "      <td>2.902601</td>\n",
       "      <td>2.240604</td>\n",
       "      <td>1</td>\n",
       "      <td>2.230779</td>\n",
       "    </tr>\n",
       "    <tr>\n",
       "      <th>1124</th>\n",
       "      <td>485011.OF</td>\n",
       "      <td>工银瑞信双利债券B</td>\n",
       "      <td>2013/8/5</td>\n",
       "      <td>2020/4/30</td>\n",
       "      <td>100.0</td>\n",
       "      <td>2460</td>\n",
       "      <td>混合债券型基金（二级）</td>\n",
       "      <td>9.712329</td>\n",
       "      <td>14.656690</td>\n",
       "      <td>3.99</td>\n",
       "      <td>3.437646</td>\n",
       "      <td>19.513382</td>\n",
       "      <td>59.055531</td>\n",
       "      <td>1</td>\n",
       "      <td>3.437646</td>\n",
       "    </tr>\n",
       "    <tr>\n",
       "      <th>1125</th>\n",
       "      <td>485111.OF</td>\n",
       "      <td>工银瑞信双利债券A</td>\n",
       "      <td>2013/8/5</td>\n",
       "      <td>2020/4/30</td>\n",
       "      <td>100.0</td>\n",
       "      <td>2460</td>\n",
       "      <td>混合债券型基金（二级）</td>\n",
       "      <td>9.712329</td>\n",
       "      <td>13.908451</td>\n",
       "      <td>4.31</td>\n",
       "      <td>55.755745</td>\n",
       "      <td>67.330021</td>\n",
       "      <td>188.959492</td>\n",
       "      <td>1</td>\n",
       "      <td>55.755745</td>\n",
       "    </tr>\n",
       "    <tr>\n",
       "      <th>1126</th>\n",
       "      <td>070002.OF</td>\n",
       "      <td>嘉实增长混合</td>\n",
       "      <td>2010/6/23</td>\n",
       "      <td>2020/4/30</td>\n",
       "      <td>10.0</td>\n",
       "      <td>3599</td>\n",
       "      <td>平衡混合型基金</td>\n",
       "      <td>16.821918</td>\n",
       "      <td>16.376423</td>\n",
       "      <td>34.20</td>\n",
       "      <td>22.008906</td>\n",
       "      <td>17.908015</td>\n",
       "      <td>23.673684</td>\n",
       "      <td>1</td>\n",
       "      <td>17.908015</td>\n",
       "    </tr>\n",
       "    <tr>\n",
       "      <th>1129</th>\n",
       "      <td>020002.OF</td>\n",
       "      <td>国泰金龙债券A</td>\n",
       "      <td>2008/11/21</td>\n",
       "      <td>2020/4/30</td>\n",
       "      <td>500.0</td>\n",
       "      <td>4178</td>\n",
       "      <td>混合债券型基金（一级）</td>\n",
       "      <td>16.413699</td>\n",
       "      <td>53.829225</td>\n",
       "      <td>-0.45</td>\n",
       "      <td>9.818163</td>\n",
       "      <td>1.132935</td>\n",
       "      <td>1.105124</td>\n",
       "      <td>1</td>\n",
       "      <td>1.105124</td>\n",
       "    </tr>\n",
       "  </tbody>\n",
       "</table>\n",
       "</div>"
      ],
      "text/plain": [
       "           code       name pause_start  pause_end  limit_amount  limit_days  \\\n",
       "1122  270030.OF  广发聚财信用债券B   2014/4/21  2020/4/30        1000.0        2201   \n",
       "1124  485011.OF  工银瑞信双利债券B    2013/8/5  2020/4/30         100.0        2460   \n",
       "1125  485111.OF  工银瑞信双利债券A    2013/8/5  2020/4/30         100.0        2460   \n",
       "1126  070002.OF     嘉实增长混合   2010/6/23  2020/4/30          10.0        3599   \n",
       "1129  020002.OF    国泰金龙债券A  2008/11/21  2020/4/30         500.0        4178   \n",
       "\n",
       "            types  est_years       rank  minus_benchmark\\n  scale2018  \\\n",
       "1122  混合债券型基金（一级）   8.136986  52.816901               3.24   2.230779   \n",
       "1124  混合债券型基金（二级）   9.712329  14.656690               3.99   3.437646   \n",
       "1125  混合债券型基金（二级）   9.712329  13.908451               4.31  55.755745   \n",
       "1126      平衡混合型基金  16.821918  16.376423              34.20  22.008906   \n",
       "1129  混合债券型基金（一级）  16.413699  53.829225              -0.45   9.818163   \n",
       "\n",
       "      scale2019   scale2020  end_flag      scale  \n",
       "1122   2.902601    2.240604         1   2.230779  \n",
       "1124  19.513382   59.055531         1   3.437646  \n",
       "1125  67.330021  188.959492         1  55.755745  \n",
       "1126  17.908015   23.673684         1  17.908015  \n",
       "1129   1.132935    1.105124         1   1.105124  "
      ]
     },
     "execution_count": 4,
     "metadata": {},
     "output_type": "execute_result"
    }
   ],
   "source": [
    "df=pd.read_csv('./xls/fund.csv',encoding='gbk')\n",
    "df['scale']=df[['scale2018','scale2019','scale2020']].min(axis=1)  # 得到三年间的最小规模\n",
    "df=df[df['scale']>1] # 剔除规模小于1亿的\n",
    "df=df[df['types']!='被动指数型基金'] # 删除被动指数型基金\n",
    "df_len=len(df)\n",
    "print(df_len)\n",
    "df.tail()"
   ]
  },
  {
   "cell_type": "code",
   "execution_count": 3,
   "metadata": {},
   "outputs": [
    {
     "data": {
      "text/html": [
       "<div>\n",
       "<style scoped>\n",
       "    .dataframe tbody tr th:only-of-type {\n",
       "        vertical-align: middle;\n",
       "    }\n",
       "\n",
       "    .dataframe tbody tr th {\n",
       "        vertical-align: top;\n",
       "    }\n",
       "\n",
       "    .dataframe thead th {\n",
       "        text-align: right;\n",
       "    }\n",
       "</style>\n",
       "<table border=\"1\" class=\"dataframe\">\n",
       "  <thead>\n",
       "    <tr style=\"text-align: right;\">\n",
       "      <th></th>\n",
       "      <th>limit_amount</th>\n",
       "      <th>limit_days</th>\n",
       "      <th>est_years</th>\n",
       "      <th>rank</th>\n",
       "      <th>minus_benchmark</th>\n",
       "      <th>scale2018</th>\n",
       "      <th>scale2019</th>\n",
       "      <th>scale2020</th>\n",
       "      <th>end_flag</th>\n",
       "      <th>scale</th>\n",
       "    </tr>\n",
       "  </thead>\n",
       "  <tbody>\n",
       "    <tr>\n",
       "      <th>count</th>\n",
       "      <td>404.000000</td>\n",
       "      <td>404.000000</td>\n",
       "      <td>404.000000</td>\n",
       "      <td>404.000000</td>\n",
       "      <td>404.000000</td>\n",
       "      <td>404.000000</td>\n",
       "      <td>404.000000</td>\n",
       "      <td>404.000000</td>\n",
       "      <td>404.000000</td>\n",
       "      <td>404.000000</td>\n",
       "    </tr>\n",
       "    <tr>\n",
       "      <th>mean</th>\n",
       "      <td>336.047237</td>\n",
       "      <td>589.049505</td>\n",
       "      <td>6.312146</td>\n",
       "      <td>48.234815</td>\n",
       "      <td>9.883614</td>\n",
       "      <td>10.733235</td>\n",
       "      <td>9.616641</td>\n",
       "      <td>13.008816</td>\n",
       "      <td>0.633663</td>\n",
       "      <td>7.074259</td>\n",
       "    </tr>\n",
       "    <tr>\n",
       "      <th>std</th>\n",
       "      <td>1195.593574</td>\n",
       "      <td>583.973305</td>\n",
       "      <td>3.804473</td>\n",
       "      <td>29.725887</td>\n",
       "      <td>16.219922</td>\n",
       "      <td>14.800371</td>\n",
       "      <td>14.870975</td>\n",
       "      <td>21.815292</td>\n",
       "      <td>0.482400</td>\n",
       "      <td>11.424296</td>\n",
       "    </tr>\n",
       "    <tr>\n",
       "      <th>min</th>\n",
       "      <td>0.001000</td>\n",
       "      <td>30.000000</td>\n",
       "      <td>2.345205</td>\n",
       "      <td>0.200938</td>\n",
       "      <td>-16.390000</td>\n",
       "      <td>1.002436</td>\n",
       "      <td>1.001043</td>\n",
       "      <td>1.001447</td>\n",
       "      <td>0.000000</td>\n",
       "      <td>1.001043</td>\n",
       "    </tr>\n",
       "    <tr>\n",
       "      <th>25%</th>\n",
       "      <td>5.000000</td>\n",
       "      <td>184.750000</td>\n",
       "      <td>3.604795</td>\n",
       "      <td>21.821493</td>\n",
       "      <td>-1.532500</td>\n",
       "      <td>2.514203</td>\n",
       "      <td>1.797850</td>\n",
       "      <td>2.354860</td>\n",
       "      <td>0.000000</td>\n",
       "      <td>1.516285</td>\n",
       "    </tr>\n",
       "    <tr>\n",
       "      <th>50%</th>\n",
       "      <td>50.000000</td>\n",
       "      <td>310.000000</td>\n",
       "      <td>4.876712</td>\n",
       "      <td>49.682807</td>\n",
       "      <td>5.600000</td>\n",
       "      <td>5.530481</td>\n",
       "      <td>4.402749</td>\n",
       "      <td>5.211059</td>\n",
       "      <td>1.000000</td>\n",
       "      <td>3.061919</td>\n",
       "    </tr>\n",
       "    <tr>\n",
       "      <th>75%</th>\n",
       "      <td>300.000000</td>\n",
       "      <td>1016.500000</td>\n",
       "      <td>7.746575</td>\n",
       "      <td>76.203681</td>\n",
       "      <td>18.675000</td>\n",
       "      <td>11.086769</td>\n",
       "      <td>10.223578</td>\n",
       "      <td>13.513926</td>\n",
       "      <td>1.000000</td>\n",
       "      <td>7.528087</td>\n",
       "    </tr>\n",
       "    <tr>\n",
       "      <th>max</th>\n",
       "      <td>20000.000000</td>\n",
       "      <td>4178.000000</td>\n",
       "      <td>17.991781</td>\n",
       "      <td>96.584059</td>\n",
       "      <td>84.830000</td>\n",
       "      <td>109.809997</td>\n",
       "      <td>115.114358</td>\n",
       "      <td>188.959492</td>\n",
       "      <td>1.000000</td>\n",
       "      <td>105.332783</td>\n",
       "    </tr>\n",
       "  </tbody>\n",
       "</table>\n",
       "</div>"
      ],
      "text/plain": [
       "       limit_amount   limit_days   est_years        rank  minus_benchmark\\n  \\\n",
       "count    404.000000   404.000000  404.000000  404.000000         404.000000   \n",
       "mean     336.047237   589.049505    6.312146   48.234815           9.883614   \n",
       "std     1195.593574   583.973305    3.804473   29.725887          16.219922   \n",
       "min        0.001000    30.000000    2.345205    0.200938         -16.390000   \n",
       "25%        5.000000   184.750000    3.604795   21.821493          -1.532500   \n",
       "50%       50.000000   310.000000    4.876712   49.682807           5.600000   \n",
       "75%      300.000000  1016.500000    7.746575   76.203681          18.675000   \n",
       "max    20000.000000  4178.000000   17.991781   96.584059          84.830000   \n",
       "\n",
       "        scale2018   scale2019   scale2020    end_flag       scale  \n",
       "count  404.000000  404.000000  404.000000  404.000000  404.000000  \n",
       "mean    10.733235    9.616641   13.008816    0.633663    7.074259  \n",
       "std     14.800371   14.870975   21.815292    0.482400   11.424296  \n",
       "min      1.002436    1.001043    1.001447    0.000000    1.001043  \n",
       "25%      2.514203    1.797850    2.354860    0.000000    1.516285  \n",
       "50%      5.530481    4.402749    5.211059    1.000000    3.061919  \n",
       "75%     11.086769   10.223578   13.513926    1.000000    7.528087  \n",
       "max    109.809997  115.114358  188.959492    1.000000  105.332783  "
      ]
     },
     "execution_count": 3,
     "metadata": {},
     "output_type": "execute_result"
    }
   ],
   "source": [
    "df.describe()"
   ]
  },
  {
   "cell_type": "code",
   "execution_count": 4,
   "metadata": {},
   "outputs": [],
   "source": [
    "def filter(dff,amount=(None,None),limit_days=(None,None),est_years=(None,None),scale=(None,None),end_flag=None):\n",
    "    if amount[1]:\n",
    "        dff=dff[dff['limit_amount']<amount[1]] # 大额申购额度限制额最大值\n",
    "    if amount[0]:\n",
    "        dff=dff[dff['limit_amount']>amount[0]] # 大额申购额度限制额最小值\n",
    "           \n",
    "    if limit_days[1]:\n",
    "        dff=dff[dff['limit_days']<limit_days[1]] # 大额申购限制天数最大值\n",
    "    if limit_days[0]:\n",
    "        dff=dff[dff['limit_days']>limit_days[0]] # 大额申购限制天数最小值           \n",
    "    \n",
    "    if est_years[1]:\n",
    "        dff=dff[dff['est_years']<est_years[1]] # 基金成立时长最大值\n",
    "    if est_years[0]:\n",
    "        dff=dff[dff['est_years']>est_years[0]] # 基金成立时长最小值\n",
    "           \n",
    "    if scale[1]:\n",
    "        dff=dff[dff['scale']<scale[1]] # 基金规模限制最大值\n",
    "    if scale[0]:\n",
    "        dff=dff[dff['scale']>scale[0]] # 基金规模限制最小值\n",
    "        \n",
    "    if end_flag!=None:\n",
    "        dff=dff[dff['end_flag']==end_flag] # 基金是否已经取消限购，为1则未取消，为0则已取消\n",
    "#     elif end_flag==0:\n",
    "#         dff=dff[dff['end_flag']==0]\n",
    "\n",
    "\n",
    "    print('该筛选条件下基金数量：',len(dff),'       基金百分比排名均值：',dff['rank'].mean())\n",
    "    dff['rank'].plot.hist()\n",
    "\n",
    "\n",
    "    return dff"
   ]
  },
  {
   "cell_type": "markdown",
   "metadata": {},
   "source": [
    "## 2. 直方图情况\n",
    "### 2.1 初始数据的直方图情况\n"
   ]
  },
  {
   "cell_type": "code",
   "execution_count": 5,
   "metadata": {},
   "outputs": [
    {
     "name": "stdout",
     "output_type": "stream",
     "text": [
      "该筛选条件下基金数量： 404        基金百分比排名均值： 48.234815458126235\n"
     ]
    },
    {
     "data": {
      "image/png": "[encoded data removed]",
      "text/plain": [
       "<Figure size 432x288 with 1 Axes>"
      ]
     },
     "metadata": {},
     "output_type": "display_data"
    }
   ],
   "source": [
    "%matplotlib inline\n",
    "sns.set()\n",
    "from matplotlib.ticker import FuncFormatter\n",
    "def to_percent(temp, position):\n",
    "    return '%.0f'%(1 * temp) + '%'\n",
    "plt.gca().xaxis.set_major_formatter(FuncFormatter(to_percent))\n",
    "print('该筛选条件下基金数量：',len(df),'       基金百分比排名均值：',df['rank'].mean())\n",
    "\n",
    "df['rank'].plot.hist()\n",
    "plt.show()"
   ]
  },
  {
   "cell_type": "markdown",
   "metadata": {},
   "source": [
    "### 2.2 筛选单日申购上限"
   ]
  },
  {
   "cell_type": "code",
   "execution_count": 6,
   "metadata": {},
   "outputs": [
    {
     "name": "stdout",
     "output_type": "stream",
     "text": [
      "该筛选条件下基金数量： 323        基金百分比排名均值： 45.77261218358205\n"
     ]
    },
    {
     "data": {
      "image/png": "[encoded data removed]",
      "text/plain": [
       "<Figure size 432x288 with 1 Axes>"
      ]
     },
     "metadata": {},
     "output_type": "display_data"
    }
   ],
   "source": [
    "dff=filter(df,amount=(1,10000)) # 单日申购上限（万元）\n"
   ]
  },
  {
   "cell_type": "markdown",
   "metadata": {},
   "source": [
    "### 2.3 筛选基金成立时长"
   ]
  },
  {
   "cell_type": "code",
   "execution_count": 7,
   "metadata": {},
   "outputs": [
    {
     "name": "stdout",
     "output_type": "stream",
     "text": [
      "该筛选条件下基金数量： 182        基金百分比排名均值： 35.7347410822912\n"
     ]
    },
    {
     "data": {
      "image/png": "[encoded data removed]",
      "text/plain": [
       "<Figure size 432x288 with 1 Axes>"
      ]
     },
     "metadata": {},
     "output_type": "display_data"
    }
   ],
   "source": [
    "dff=filter(df,est_years=(5,None)) # 基金成立时长（年）\n"
   ]
  },
  {
   "cell_type": "markdown",
   "metadata": {},
   "source": [
    "### 2.4 筛选暂停大额申购天数"
   ]
  },
  {
   "cell_type": "code",
   "execution_count": 8,
   "metadata": {},
   "outputs": [
    {
     "name": "stdout",
     "output_type": "stream",
     "text": [
      "该筛选条件下基金数量： 73        基金百分比排名均值： 42.54707112715068\n"
     ]
    },
    {
     "data": {
      "image/png": "[encoded data removed]",
      "text/plain": [
       "<Figure size 432x288 with 1 Axes>"
      ]
     },
     "metadata": {},
     "output_type": "display_data"
    }
   ],
   "source": [
    "dff=filter(df,limit_days=(60,200)) # 暂停大额申购天数（天）\n"
   ]
  },
  {
   "cell_type": "markdown",
   "metadata": {},
   "source": [
    "### 2.5 筛选基金管理规模"
   ]
  },
  {
   "cell_type": "code",
   "execution_count": 9,
   "metadata": {},
   "outputs": [
    {
     "name": "stdout",
     "output_type": "stream",
     "text": [
      "该筛选条件下基金数量： 404        基金百分比排名均值： 48.234815458126235\n"
     ]
    },
    {
     "data": {
      "image/png": "[encoded data removed]",
      "text/plain": [
       "<Figure size 432x288 with 1 Axes>"
      ]
     },
     "metadata": {},
     "output_type": "display_data"
    }
   ],
   "source": [
    "dff=filter(df,scale=(1,None)) # 基金管理规模（亿元）\n"
   ]
  },
  {
   "cell_type": "markdown",
   "metadata": {},
   "source": [
    "### 2.6 其他各种复合筛选\n",
    "1. amount: 单日申购上限（万元）\n",
    "2. limit_days: 暂停大额申购天数（天）\n",
    "3. est_years: 基金成立时长（年）\n",
    "4. scale: 基金管理规模（亿元）"
   ]
  },
  {
   "cell_type": "code",
   "execution_count": 10,
   "metadata": {},
   "outputs": [
    {
     "name": "stdout",
     "output_type": "stream",
     "text": [
      "该筛选条件下基金数量： 88        基金百分比排名均值： 33.411666266647714\n"
     ]
    },
    {
     "data": {
      "image/png": "[encoded data removed]",
      "text/plain": [
       "<Figure size 432x288 with 1 Axes>"
      ]
     },
     "metadata": {},
     "output_type": "display_data"
    }
   ],
   "source": [
    "dff=filter(df,amount=(1,10000),limit_days=(60,None),est_years=(5,None),scale=(2,None)) #  单日申购上限（万元），暂停大额申购天数（天），基金成立时长（年），基金管理规模（亿元）\n"
   ]
  },
  {
   "cell_type": "markdown",
   "metadata": {},
   "source": [
    "## 考虑是否停止限购\n",
    "\n",
    "1. 已经停止限购\n",
    "\n",
    "2. 未停止限购且限购天数已经超过XX天\n"
   ]
  },
  {
   "cell_type": "code",
   "execution_count": 11,
   "metadata": {},
   "outputs": [
    {
     "name": "stdout",
     "output_type": "stream",
     "text": [
      "该筛选条件下基金数量： 148        基金百分比排名均值： 35.34971131237162\n"
     ]
    },
    {
     "data": {
      "image/png": "[encoded data removed]",
      "text/plain": [
       "<Figure size 432x288 with 1 Axes>"
      ]
     },
     "metadata": {},
     "output_type": "display_data"
    }
   ],
   "source": [
    "dff=filter(df,end_flag=0) #  是否已经停止限购，为1则未取消，为0则已取消\n"
   ]
  },
  {
   "cell_type": "code",
   "execution_count": 12,
   "metadata": {},
   "outputs": [
    {
     "name": "stdout",
     "output_type": "stream",
     "text": [
      "该筛选条件下基金数量： 256        基金百分比排名均值： 55.68401629239066\n"
     ]
    },
    {
     "data": {
      "image/png": "[encoded data removed]",
      "text/plain": [
       "<Figure size 432x288 with 1 Axes>"
      ]
     },
     "metadata": {},
     "output_type": "display_data"
    }
   ],
   "source": [
    "dff=filter(df,end_flag=1,limit_days=(None,None)) #  是否已经停止限购，为1则未取消，为0则已取消\n"
   ]
  },
  {
   "cell_type": "markdown",
   "metadata": {},
   "source": [
    "未停止限购，且时间很长的基金收益率均值表现较差"
   ]
  },
  {
   "cell_type": "code",
   "execution_count": 13,
   "metadata": {},
   "outputs": [
    {
     "name": "stdout",
     "output_type": "stream",
     "text": [
      "该筛选条件下基金数量： 91        基金百分比排名均值： 57.93268614915386\n"
     ]
    },
    {
     "data": {
      "image/png": "[encoded data removed]",
      "text/plain": [
       "<Figure size 432x288 with 1 Axes>"
      ]
     },
     "metadata": {},
     "output_type": "display_data"
    }
   ],
   "source": [
    "dff=filter(df,end_flag=1,limit_days=(1000,None)) #  是否已经停止限购，为1则未取消，为0则已取消"
   ]
  },
  {
   "cell_type": "markdown",
   "metadata": {},
   "source": [
    "## 3. 分组绘制平均收益率的图形\n",
    "\n",
    "* 将初筛后的基金数据按照四个指标，从小到大分为十组\n",
    "\n",
    "* 计算每组的平均百分比排名情况"
   ]
  },
  {
   "cell_type": "code",
   "execution_count": 14,
   "metadata": {},
   "outputs": [],
   "source": [
    "\n",
    "def group_by_indicator(indicator,N=10,df_now=df):\n",
    "    dfs=df_now.sort_values(by=indicator)\n",
    "    \n",
    "    df_len=len(dfs) # 重新定义了一下df_len，传入该函数的df长度,为函数内部参数\n",
    "    print('分为 {} 个组，每组包含基金 {} 支'.format(N,int(df_len/N)))\n",
    "    avg_list=[]\n",
    "    sdf_list=[]\n",
    "    for i in range(N):# 分成十组\n",
    "        small_df=dfs.iloc[int(i*df_len/N):int((i+1)*df_len/N)]\n",
    "        sdf_list.append(small_df['rank'])\n",
    "        start_=small_df[indicator].min()\n",
    "        end_=small_df[indicator].max()\n",
    "        avg_list.append([start_,end_,small_df['rank'].mean()])\n",
    "    df_group=pd.DataFrame(avg_list,columns=['起始','结束','业绩百分比排名均值'])\n",
    "    \n",
    "    def to_percent(temp, position):\n",
    "        return '%.0f'%(1 * temp) + '%'\n",
    "    plt.gca().yaxis.set_major_formatter(FuncFormatter(to_percent))\n",
    "    \n",
    "    # print(sdf_list)\n",
    "    plt.boxplot(sdf_list)\n",
    "    plt.plot([x+1 for x in range(N)],[50]*N,'b--',linewidth=2)\n",
    "\n",
    "    plt.xlabel('Groups',fontdict={'size':14})\n",
    "    plt.ylabel('Avg Rank',fontdict={'size':14})\n",
    "    plt.title('Avg Rank of Different Group (Smaller is better)',fontdict={'size':16})\n",
    "    \n",
    "    # 其他的画图尝试，不用的\n",
    "    # df_group['业绩百分比排名均值'].plot()\n",
    "    # plt.bar([x for x in range(N)],df_group['业绩百分比排名均值']-50,color='lightblue') #用条形图的方式\n",
    "\n",
    "\n",
    "    print(df_group)"
   ]
  },
  {
   "cell_type": "markdown",
   "metadata": {},
   "source": [
    "### 3.1 按照单日申购的金额的限制分组"
   ]
  },
  {
   "cell_type": "code",
   "execution_count": 15,
   "metadata": {},
   "outputs": [
    {
     "name": "stdout",
     "output_type": "stream",
     "text": [
      "分为 10 个组，每组包含基金 40 支\n",
      "         起始       结束  业绩百分比排名均值\n",
      "0     0.001      0.5  57.470631\n",
      "1     0.500      1.0  58.997827\n",
      "2     5.000     10.0  53.272223\n",
      "3    10.000     10.0  51.504261\n",
      "4    10.000     50.0  58.289035\n",
      "5    50.000    100.0  47.940581\n",
      "6   100.000    100.0  33.606224\n",
      "7   100.000    500.0  44.231672\n",
      "8   500.000   1000.0  35.734615\n",
      "9  1000.000  20000.0  41.199749\n"
     ]
    },
    {
     "data": {
      "image/png": "[encoded data removed]",
      "text/plain": [
       "<Figure size 432x288 with 1 Axes>"
      ]
     },
     "metadata": {},
     "output_type": "display_data"
    }
   ],
   "source": [
    "group_by_indicator(indicator='limit_amount')\n"
   ]
  },
  {
   "cell_type": "markdown",
   "metadata": {},
   "source": [
    "### 3.2 按照已经实行限制的天数分组"
   ]
  },
  {
   "cell_type": "code",
   "execution_count": 16,
   "metadata": {},
   "outputs": [
    {
     "name": "stdout",
     "output_type": "stream",
     "text": [
      "分为 20 个组，每组包含基金 20 支\n",
      "      起始    结束  业绩百分比排名均值\n",
      "0     30    37  31.643223\n",
      "1     37    60  23.840820\n",
      "2     65   122  36.761336\n",
      "3    126   154  48.629423\n",
      "4    160   184  36.244548\n",
      "5    185   220  49.897967\n",
      "6    221   252  45.627764\n",
      "7    253   269  73.497553\n",
      "8    269   290  57.258963\n",
      "9    290   310  65.694872\n",
      "10   310   366  53.323170\n",
      "11   366   423  44.439863\n",
      "12   423   618  36.381129\n",
      "13   626   736  38.532480\n",
      "14   742  1015  37.839461\n",
      "15  1021  1113  49.980119\n",
      "16  1115  1217  68.918347\n",
      "17  1226  1389  56.596594\n",
      "18  1406  1640  66.906933\n",
      "19  1675  4178  43.180728\n"
     ]
    },
    {
     "data": {
      "image/png": "[encoded data removed]",
      "text/plain": [
       "<Figure size 432x288 with 1 Axes>"
      ]
     },
     "metadata": {},
     "output_type": "display_data"
    }
   ],
   "source": [
    "group_by_indicator(indicator='limit_days',N=20) # 改变参数N可选择分组的个数"
   ]
  },
  {
   "cell_type": "markdown",
   "metadata": {},
   "source": [
    "### 3.3 按照基金的成立时长分组"
   ]
  },
  {
   "cell_type": "code",
   "execution_count": 17,
   "metadata": {},
   "outputs": [
    {
     "name": "stdout",
     "output_type": "stream",
     "text": [
      "分为 10 个组，每组包含基金 40 支\n",
      "          起始         结束  业绩百分比排名均值\n",
      "0   2.345205   3.227397  51.569511\n",
      "1   3.263014   3.449315  63.967699\n",
      "2   3.449315   3.915068  55.374274\n",
      "3   3.950685   4.336986  63.708196\n",
      "4   4.336986   4.876712  54.781186\n",
      "5   4.876712   5.139726  64.020006\n",
      "6   5.180822   6.728767  45.266126\n",
      "7   6.747945   8.980822  30.517809\n",
      "8   9.106849  12.052055  26.405465\n",
      "9  12.101370  17.991781  27.360518\n"
     ]
    },
    {
     "data": {
      "image/png": "[encoded data removed]",
      "text/plain": [
       "<Figure size 432x288 with 1 Axes>"
      ]
     },
     "metadata": {},
     "output_type": "display_data"
    }
   ],
   "source": [
    "group_by_indicator(indicator='est_years')"
   ]
  },
  {
   "cell_type": "markdown",
   "metadata": {},
   "source": [
    "### 3.4 按照基金的资产管理规模分组"
   ]
  },
  {
   "cell_type": "code",
   "execution_count": 18,
   "metadata": {},
   "outputs": [
    {
     "name": "stdout",
     "output_type": "stream",
     "text": [
      "分为 10 个组，每组包含基金 40 支\n",
      "          起始          结束  业绩百分比排名均值\n",
      "0   1.001043    1.137697  49.200994\n",
      "1   1.141299    1.330627  48.277166\n",
      "2   1.331230    1.665352  47.374498\n",
      "3   1.681007    2.032300  49.145940\n",
      "4   2.068758    3.016095  59.614971\n",
      "5   3.107743    4.272408  56.213297\n",
      "6   4.400452    6.378587  52.247680\n",
      "7   6.418083    8.990369  51.773721\n",
      "8   9.003961   16.708558  37.917119\n",
      "9  17.518775  105.332783  30.670410\n"
     ]
    },
    {
     "data": {
      "image/png": "[encoded data removed]",
      "text/plain": [
       "<Figure size 432x288 with 1 Axes>"
      ]
     },
     "metadata": {},
     "output_type": "display_data"
    }
   ],
   "source": [
    "group_by_indicator(indicator='scale')"
   ]
  },
  {
   "cell_type": "markdown",
   "metadata": {},
   "source": [
    "## 尝试直接画图\n",
    "\n",
    "基金建立时长与其收益率排名直接画柱状图"
   ]
  },
  {
   "cell_type": "code",
   "execution_count": 20,
   "metadata": {},
   "outputs": [
    {
     "data": {
      "text/plain": [
       "<BarContainer object of 404 artists>"
      ]
     },
     "execution_count": 20,
     "metadata": {},
     "output_type": "execute_result"
    },
    {
     "data": {
      "image/png": "[encoded data removed]",
      "text/plain": [
       "<Figure size 432x288 with 1 Axes>"
      ]
     },
     "metadata": {},
     "output_type": "display_data"
    }
   ],
   "source": [
    "plt.bar(df['est_years'],df['rank'],width=0.2)"
   ]
  },
  {
   "cell_type": "code",
   "execution_count": null,
   "metadata": {},
   "outputs": [],
   "source": []
  },
  {
   "cell_type": "code",
   "execution_count": null,
   "metadata": {},
   "outputs": [],
   "source": []
  }
 ],
 "metadata": {
  "kernelspec": {
   "display_name": "Python 3",
   "language": "python",
   "name": "python3"
  },
  "language_info": {
   "codemirror_mode": {
    "name": "ipython",
    "version": 3
   },
   "file_extension": ".py",
   "mimetype": "text/x-python",
   "name": "python",
   "nbconvert_exporter": "python",
   "pygments_lexer": "ipython3",
   "version": "3.7.1"
  }
 },
 "nbformat": 4,
 "nbformat_minor": 2
}
