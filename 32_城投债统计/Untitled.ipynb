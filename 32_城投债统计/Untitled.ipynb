{
 "cells": [
  {
   "cell_type": "code",
   "execution_count": 26,
   "metadata": {},
   "outputs": [],
   "source": [
    "import numpy as np\n",
    "# 设置绘图\n",
    "from matplotlib import pyplot as plt\n",
    "import seaborn as sns\n",
    "sns.set()\n",
    "#设置字体为SimHei显示中文\n",
    "plt.rcParams['font.sans-serif'] = 'SimHei'\n",
    "#设置正常显示字符\n",
    "plt.rcParams['axes.unicode_minus'] = False\n"
   ]
  },
  {
   "cell_type": "code",
   "execution_count": null,
   "metadata": {},
   "outputs": [],
   "source": []
  },
  {
   "cell_type": "code",
   "execution_count": 54,
   "metadata": {},
   "outputs": [
    {
     "data": {
      "text/html": [
       "<div>\n",
       "<style scoped>\n",
       "    .dataframe tbody tr th:only-of-type {\n",
       "        vertical-align: middle;\n",
       "    }\n",
       "\n",
       "    .dataframe tbody tr th {\n",
       "        vertical-align: top;\n",
       "    }\n",
       "\n",
       "    .dataframe thead th {\n",
       "        text-align: right;\n",
       "    }\n",
       "</style>\n",
       "<table border=\"1\" class=\"dataframe\">\n",
       "  <thead>\n",
       "    <tr style=\"text-align: right;\">\n",
       "      <th></th>\n",
       "      <th>0</th>\n",
       "      <th>1</th>\n",
       "    </tr>\n",
       "  </thead>\n",
       "  <tbody>\n",
       "    <tr>\n",
       "      <th>0</th>\n",
       "      <td>1.000372</td>\n",
       "      <td>1.050207</td>\n",
       "    </tr>\n",
       "    <tr>\n",
       "      <th>1</th>\n",
       "      <td>1.023998</td>\n",
       "      <td>1.098412</td>\n",
       "    </tr>\n",
       "    <tr>\n",
       "      <th>2</th>\n",
       "      <td>1.004944</td>\n",
       "      <td>1.061025</td>\n",
       "    </tr>\n",
       "    <tr>\n",
       "      <th>3</th>\n",
       "      <td>1.038056</td>\n",
       "      <td>1.023568</td>\n",
       "    </tr>\n",
       "    <tr>\n",
       "      <th>4</th>\n",
       "      <td>1.001268</td>\n",
       "      <td>1.062198</td>\n",
       "    </tr>\n",
       "    <tr>\n",
       "      <th>...</th>\n",
       "      <td>...</td>\n",
       "      <td>...</td>\n",
       "    </tr>\n",
       "    <tr>\n",
       "      <th>95</th>\n",
       "      <td>2.168391</td>\n",
       "      <td>2.172421</td>\n",
       "    </tr>\n",
       "    <tr>\n",
       "      <th>96</th>\n",
       "      <td>2.162261</td>\n",
       "      <td>2.139085</td>\n",
       "    </tr>\n",
       "    <tr>\n",
       "      <th>97</th>\n",
       "      <td>2.175781</td>\n",
       "      <td>2.135449</td>\n",
       "    </tr>\n",
       "    <tr>\n",
       "      <th>98</th>\n",
       "      <td>2.299363</td>\n",
       "      <td>2.093781</td>\n",
       "    </tr>\n",
       "    <tr>\n",
       "      <th>99</th>\n",
       "      <td>2.326491</td>\n",
       "      <td>2.039231</td>\n",
       "    </tr>\n",
       "  </tbody>\n",
       "</table>\n",
       "<p>100 rows × 2 columns</p>\n",
       "</div>"
      ],
      "text/plain": [
       "           0         1\n",
       "0   1.000372  1.050207\n",
       "1   1.023998  1.098412\n",
       "2   1.004944  1.061025\n",
       "3   1.038056  1.023568\n",
       "4   1.001268  1.062198\n",
       "..       ...       ...\n",
       "95  2.168391  2.172421\n",
       "96  2.162261  2.139085\n",
       "97  2.175781  2.135449\n",
       "98  2.299363  2.093781\n",
       "99  2.326491  2.039231\n",
       "\n",
       "[100 rows x 2 columns]"
      ]
     },
     "execution_count": 54,
     "metadata": {},
     "output_type": "execute_result"
    }
   ],
   "source": [
    "genr=np.random.rand(100,2)/10-0.04\n",
    "df_rr=pd.DataFrame(genr)\n",
    "df_cum_r=(df_rr+1).cumprod()\n",
    "df_cum_r"
   ]
  },
  {
   "cell_type": "code",
   "execution_count": 60,
   "metadata": {},
   "outputs": [
    {
     "data": {
      "text/plain": [
       "[1.0,\n",
       " 1.0,\n",
       " 1.0,\n",
       " 1.0,\n",
       " 1.0,\n",
       " 1.0,\n",
       " 1.1,\n",
       " 1.0,\n",
       " 1.0,\n",
       " 1.0,\n",
       " 1.0,\n",
       " 1.1,\n",
       " 1.1,\n",
       " 1.1,\n",
       " 1.1,\n",
       " 1.1,\n",
       " 1.1,\n",
       " 1.1,\n",
       " 1.1,\n",
       " 1.2,\n",
       " 1.2,\n",
       " 1.2,\n",
       " 1.2,\n",
       " 1.2,\n",
       " 1.2,\n",
       " 1.2,\n",
       " 1.2,\n",
       " 1.2,\n",
       " 1.3,\n",
       " 1.4,\n",
       " 1.3,\n",
       " 1.3,\n",
       " 1.3,\n",
       " 1.3,\n",
       " 1.3,\n",
       " 1.3,\n",
       " 1.3,\n",
       " 1.3,\n",
       " 1.2,\n",
       " 1.3,\n",
       " 1.2,\n",
       " 1.2,\n",
       " 1.2,\n",
       " 1.3,\n",
       " 1.3,\n",
       " 1.3,\n",
       " 1.2,\n",
       " 1.2,\n",
       " 1.2,\n",
       " 1.3,\n",
       " 1.4,\n",
       " 1.4,\n",
       " 1.4,\n",
       " 1.5,\n",
       " 1.4,\n",
       " 1.4,\n",
       " 1.4,\n",
       " 1.5,\n",
       " 1.4,\n",
       " 1.5,\n",
       " 1.5,\n",
       " 1.5,\n",
       " 1.5,\n",
       " 1.5,\n",
       " 1.4,\n",
       " 1.5,\n",
       " 1.5,\n",
       " 1.5,\n",
       " 1.5,\n",
       " 1.5,\n",
       " 1.4,\n",
       " 1.4,\n",
       " 1.5,\n",
       " 1.4,\n",
       " 1.5,\n",
       " 1.5,\n",
       " 1.6,\n",
       " 1.6,\n",
       " 1.5,\n",
       " 1.6,\n",
       " 1.6,\n",
       " 1.6,\n",
       " 1.7,\n",
       " 1.7,\n",
       " 1.7,\n",
       " 1.8,\n",
       " 1.9,\n",
       " 1.9,\n",
       " 1.9,\n",
       " 2.0,\n",
       " 2.0,\n",
       " 2.1,\n",
       " 2.2,\n",
       " 2.2,\n",
       " 2.2,\n",
       " 2.2,\n",
       " 2.2,\n",
       " 2.2,\n",
       " 2.3,\n",
       " 2.3]"
      ]
     },
     "execution_count": 60,
     "metadata": {},
     "output_type": "execute_result"
    }
   ],
   "source": [
    "df_cum_r.round(1)[0].tolist()"
   ]
  },
  {
   "cell_type": "code",
   "execution_count": 55,
   "metadata": {},
   "outputs": [
    {
     "data": {
      "text/plain": [
       "<matplotlib.axes._subplots.AxesSubplot at 0x24cb7e32d08>"
      ]
     },
     "execution_count": 55,
     "metadata": {},
     "output_type": "execute_result"
    },
    {
     "data": {
      "image/png": "[encoded data removed]",
      "text/plain": [
       "<Figure size 432x288 with 1 Axes>"
      ]
     },
     "metadata": {},
     "output_type": "display_data"
    }
   ],
   "source": [
    "df_cum_r.plot()"
   ]
  },
  {
   "cell_type": "code",
   "execution_count": null,
   "metadata": {},
   "outputs": [],
   "source": []
  }
 ],
 "metadata": {
  "kernelspec": {
   "display_name": "Python 3",
   "language": "python",
   "name": "python3"
  },
  "language_info": {
   "codemirror_mode": {
    "name": "ipython",
    "version": 3
   },
   "file_extension": ".py",
   "mimetype": "text/x-python",
   "name": "python",
   "nbconvert_exporter": "python",
   "pygments_lexer": "ipython3",
   "version": "3.7.6"
  }
 },
 "nbformat": 4,
 "nbformat_minor": 4
}
