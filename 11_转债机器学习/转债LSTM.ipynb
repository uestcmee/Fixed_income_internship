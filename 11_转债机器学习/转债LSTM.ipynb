{
 "cells": [
  {
   "cell_type": "code",
   "execution_count": 3,
   "metadata": {},
   "outputs": [],
   "source": [
    "import pandas as pd\n",
    "import numpy as np\n",
    "import matplotlib.pyplot as plt\n",
    "import seaborn as sns\n",
    "import re,datetime"
   ]
  },
  {
   "cell_type": "code",
   "execution_count": 25,
   "metadata": {},
   "outputs": [
    {
     "data": {
      "text/html": [
       "<div>\n",
       "<style scoped>\n",
       "    .dataframe tbody tr th:only-of-type {\n",
       "        vertical-align: middle;\n",
       "    }\n",
       "\n",
       "    .dataframe tbody tr th {\n",
       "        vertical-align: top;\n",
       "    }\n",
       "\n",
       "    .dataframe thead th {\n",
       "        text-align: right;\n",
       "    }\n",
       "</style>\n",
       "<table border=\"1\" class=\"dataframe\">\n",
       "  <thead>\n",
       "    <tr style=\"text-align: right;\">\n",
       "      <th></th>\n",
       "      <th>110031.SH</th>\n",
       "      <th>110034.SH</th>\n",
       "      <th>110045.SH</th>\n",
       "      <th>110048.SH</th>\n",
       "      <th>110051.SH</th>\n",
       "      <th>110055.SH</th>\n",
       "      <th>110056.SH</th>\n",
       "      <th>110057.SH</th>\n",
       "      <th>110058.SH</th>\n",
       "      <th>110060.SH</th>\n",
       "      <th>...</th>\n",
       "      <th>128123.SZ</th>\n",
       "      <th>128124.SZ</th>\n",
       "      <th>128125.SZ</th>\n",
       "      <th>128126.SZ</th>\n",
       "      <th>128127.SZ</th>\n",
       "      <th>128128.SZ</th>\n",
       "      <th>128129.SZ</th>\n",
       "      <th>128130.SZ</th>\n",
       "      <th>128131.SZ</th>\n",
       "      <th>128132.SZ</th>\n",
       "    </tr>\n",
       "  </thead>\n",
       "  <tbody>\n",
       "    <tr>\n",
       "      <th>2017-09-18</th>\n",
       "      <td>105.2388</td>\n",
       "      <td>125.2293</td>\n",
       "      <td>--</td>\n",
       "      <td>--</td>\n",
       "      <td>--</td>\n",
       "      <td>--</td>\n",
       "      <td>--</td>\n",
       "      <td>--</td>\n",
       "      <td>--</td>\n",
       "      <td>--</td>\n",
       "      <td>...</td>\n",
       "      <td>--</td>\n",
       "      <td>--</td>\n",
       "      <td>--</td>\n",
       "      <td>--</td>\n",
       "      <td>--</td>\n",
       "      <td>--</td>\n",
       "      <td>--</td>\n",
       "      <td>--</td>\n",
       "      <td>--</td>\n",
       "      <td>--</td>\n",
       "    </tr>\n",
       "    <tr>\n",
       "      <th>2017-09-19</th>\n",
       "      <td>104.9560</td>\n",
       "      <td>124.5082</td>\n",
       "      <td>--</td>\n",
       "      <td>--</td>\n",
       "      <td>--</td>\n",
       "      <td>--</td>\n",
       "      <td>--</td>\n",
       "      <td>--</td>\n",
       "      <td>--</td>\n",
       "      <td>--</td>\n",
       "      <td>...</td>\n",
       "      <td>--</td>\n",
       "      <td>--</td>\n",
       "      <td>--</td>\n",
       "      <td>--</td>\n",
       "      <td>--</td>\n",
       "      <td>--</td>\n",
       "      <td>--</td>\n",
       "      <td>--</td>\n",
       "      <td>--</td>\n",
       "      <td>--</td>\n",
       "    </tr>\n",
       "    <tr>\n",
       "      <th>2017-09-20</th>\n",
       "      <td>105.0533</td>\n",
       "      <td>125.0671</td>\n",
       "      <td>--</td>\n",
       "      <td>--</td>\n",
       "      <td>--</td>\n",
       "      <td>--</td>\n",
       "      <td>--</td>\n",
       "      <td>--</td>\n",
       "      <td>--</td>\n",
       "      <td>--</td>\n",
       "      <td>...</td>\n",
       "      <td>--</td>\n",
       "      <td>--</td>\n",
       "      <td>--</td>\n",
       "      <td>--</td>\n",
       "      <td>--</td>\n",
       "      <td>--</td>\n",
       "      <td>--</td>\n",
       "      <td>--</td>\n",
       "      <td>--</td>\n",
       "      <td>--</td>\n",
       "    </tr>\n",
       "    <tr>\n",
       "      <th>2017-09-21</th>\n",
       "      <td>105.0205</td>\n",
       "      <td>124.8260</td>\n",
       "      <td>--</td>\n",
       "      <td>--</td>\n",
       "      <td>--</td>\n",
       "      <td>--</td>\n",
       "      <td>--</td>\n",
       "      <td>--</td>\n",
       "      <td>--</td>\n",
       "      <td>--</td>\n",
       "      <td>...</td>\n",
       "      <td>--</td>\n",
       "      <td>--</td>\n",
       "      <td>--</td>\n",
       "      <td>--</td>\n",
       "      <td>--</td>\n",
       "      <td>--</td>\n",
       "      <td>--</td>\n",
       "      <td>--</td>\n",
       "      <td>--</td>\n",
       "      <td>--</td>\n",
       "    </tr>\n",
       "    <tr>\n",
       "      <th>2017-09-22</th>\n",
       "      <td>104.5178</td>\n",
       "      <td>123.9149</td>\n",
       "      <td>--</td>\n",
       "      <td>--</td>\n",
       "      <td>--</td>\n",
       "      <td>--</td>\n",
       "      <td>--</td>\n",
       "      <td>--</td>\n",
       "      <td>--</td>\n",
       "      <td>--</td>\n",
       "      <td>...</td>\n",
       "      <td>--</td>\n",
       "      <td>--</td>\n",
       "      <td>--</td>\n",
       "      <td>--</td>\n",
       "      <td>--</td>\n",
       "      <td>--</td>\n",
       "      <td>--</td>\n",
       "      <td>--</td>\n",
       "      <td>--</td>\n",
       "      <td>--</td>\n",
       "    </tr>\n",
       "    <tr>\n",
       "      <th>...</th>\n",
       "      <td>...</td>\n",
       "      <td>...</td>\n",
       "      <td>...</td>\n",
       "      <td>...</td>\n",
       "      <td>...</td>\n",
       "      <td>...</td>\n",
       "      <td>...</td>\n",
       "      <td>...</td>\n",
       "      <td>...</td>\n",
       "      <td>...</td>\n",
       "      <td>...</td>\n",
       "      <td>...</td>\n",
       "      <td>...</td>\n",
       "      <td>...</td>\n",
       "      <td>...</td>\n",
       "      <td>...</td>\n",
       "      <td>...</td>\n",
       "      <td>...</td>\n",
       "      <td>...</td>\n",
       "      <td>...</td>\n",
       "      <td>...</td>\n",
       "    </tr>\n",
       "    <tr>\n",
       "      <th>2020-09-09</th>\n",
       "      <td>110.3455</td>\n",
       "      <td>112.9567</td>\n",
       "      <td>98.6807</td>\n",
       "      <td>118.245</td>\n",
       "      <td>121.091</td>\n",
       "      <td>126.907</td>\n",
       "      <td>116.36</td>\n",
       "      <td>115.008</td>\n",
       "      <td>124.138</td>\n",
       "      <td>125.493</td>\n",
       "      <td>...</td>\n",
       "      <td>119.188</td>\n",
       "      <td>111.665</td>\n",
       "      <td>126.751</td>\n",
       "      <td>114.971</td>\n",
       "      <td>--</td>\n",
       "      <td>--</td>\n",
       "      <td>--</td>\n",
       "      <td>--</td>\n",
       "      <td>99.9975</td>\n",
       "      <td>--</td>\n",
       "    </tr>\n",
       "    <tr>\n",
       "      <th>2020-09-10</th>\n",
       "      <td>108.6411</td>\n",
       "      <td>112.7923</td>\n",
       "      <td>98.2785</td>\n",
       "      <td>117.673</td>\n",
       "      <td>120.48</td>\n",
       "      <td>126.985</td>\n",
       "      <td>115.159</td>\n",
       "      <td>114.497</td>\n",
       "      <td>124.447</td>\n",
       "      <td>123.802</td>\n",
       "      <td>...</td>\n",
       "      <td>119.537</td>\n",
       "      <td>110.963</td>\n",
       "      <td>126.653</td>\n",
       "      <td>115.07</td>\n",
       "      <td>--</td>\n",
       "      <td>--</td>\n",
       "      <td>--</td>\n",
       "      <td>--</td>\n",
       "      <td>99.9967</td>\n",
       "      <td>--</td>\n",
       "    </tr>\n",
       "    <tr>\n",
       "      <th>2020-09-11</th>\n",
       "      <td>109.0967</td>\n",
       "      <td>111.1679</td>\n",
       "      <td>98.3963</td>\n",
       "      <td>117.391</td>\n",
       "      <td>120.678</td>\n",
       "      <td>126.973</td>\n",
       "      <td>113.757</td>\n",
       "      <td>113.745</td>\n",
       "      <td>122.125</td>\n",
       "      <td>124.47</td>\n",
       "      <td>...</td>\n",
       "      <td>119.047</td>\n",
       "      <td>111.983</td>\n",
       "      <td>126.452</td>\n",
       "      <td>115.392</td>\n",
       "      <td>104.82</td>\n",
       "      <td>--</td>\n",
       "      <td>--</td>\n",
       "      <td>--</td>\n",
       "      <td>99.9959</td>\n",
       "      <td>--</td>\n",
       "    </tr>\n",
       "    <tr>\n",
       "      <th>2020-09-14</th>\n",
       "      <td>109.1136</td>\n",
       "      <td>111.8848</td>\n",
       "      <td>97.7597</td>\n",
       "      <td>116.346</td>\n",
       "      <td>121.883</td>\n",
       "      <td>126.747</td>\n",
       "      <td>113.073</td>\n",
       "      <td>113.571</td>\n",
       "      <td>122</td>\n",
       "      <td>126.567</td>\n",
       "      <td>...</td>\n",
       "      <td>119.431</td>\n",
       "      <td>111.46</td>\n",
       "      <td>126.448</td>\n",
       "      <td>115.667</td>\n",
       "      <td>105.236</td>\n",
       "      <td>--</td>\n",
       "      <td>--</td>\n",
       "      <td>--</td>\n",
       "      <td>99.9934</td>\n",
       "      <td>--</td>\n",
       "    </tr>\n",
       "    <tr>\n",
       "      <th>2020-09-15</th>\n",
       "      <td>109.7592</td>\n",
       "      <td>112.1304</td>\n",
       "      <td>97.7875</td>\n",
       "      <td>116.085</td>\n",
       "      <td>121.171</td>\n",
       "      <td>131.295</td>\n",
       "      <td>112.502</td>\n",
       "      <td>113.47</td>\n",
       "      <td>121.349</td>\n",
       "      <td>128.256</td>\n",
       "      <td>...</td>\n",
       "      <td>119.93</td>\n",
       "      <td>110.359</td>\n",
       "      <td>127.277</td>\n",
       "      <td>116.066</td>\n",
       "      <td>104.983</td>\n",
       "      <td>107.678</td>\n",
       "      <td>--</td>\n",
       "      <td>--</td>\n",
       "      <td>99.9926</td>\n",
       "      <td>99.9989</td>\n",
       "    </tr>\n",
       "  </tbody>\n",
       "</table>\n",
       "<p>729 rows × 295 columns</p>\n",
       "</div>"
      ],
      "text/plain": [
       "            110031.SH  110034.SH 110045.SH 110048.SH 110051.SH 110055.SH  \\\n",
       "2017-09-18   105.2388   125.2293        --        --        --        --   \n",
       "2017-09-19   104.9560   124.5082        --        --        --        --   \n",
       "2017-09-20   105.0533   125.0671        --        --        --        --   \n",
       "2017-09-21   105.0205   124.8260        --        --        --        --   \n",
       "2017-09-22   104.5178   123.9149        --        --        --        --   \n",
       "...               ...        ...       ...       ...       ...       ...   \n",
       "2020-09-09   110.3455   112.9567   98.6807   118.245   121.091   126.907   \n",
       "2020-09-10   108.6411   112.7923   98.2785   117.673    120.48   126.985   \n",
       "2020-09-11   109.0967   111.1679   98.3963   117.391   120.678   126.973   \n",
       "2020-09-14   109.1136   111.8848   97.7597   116.346   121.883   126.747   \n",
       "2020-09-15   109.7592   112.1304   97.7875   116.085   121.171   131.295   \n",
       "\n",
       "           110056.SH 110057.SH 110058.SH 110060.SH  ... 128123.SZ 128124.SZ  \\\n",
       "2017-09-18        --        --        --        --  ...        --        --   \n",
       "2017-09-19        --        --        --        --  ...        --        --   \n",
       "2017-09-20        --        --        --        --  ...        --        --   \n",
       "2017-09-21        --        --        --        --  ...        --        --   \n",
       "2017-09-22        --        --        --        --  ...        --        --   \n",
       "...              ...       ...       ...       ...  ...       ...       ...   \n",
       "2020-09-09    116.36   115.008   124.138   125.493  ...   119.188   111.665   \n",
       "2020-09-10   115.159   114.497   124.447   123.802  ...   119.537   110.963   \n",
       "2020-09-11   113.757   113.745   122.125    124.47  ...   119.047   111.983   \n",
       "2020-09-14   113.073   113.571       122   126.567  ...   119.431    111.46   \n",
       "2020-09-15   112.502    113.47   121.349   128.256  ...    119.93   110.359   \n",
       "\n",
       "           128125.SZ 128126.SZ 128127.SZ 128128.SZ 128129.SZ 128130.SZ  \\\n",
       "2017-09-18        --        --        --        --        --        --   \n",
       "2017-09-19        --        --        --        --        --        --   \n",
       "2017-09-20        --        --        --        --        --        --   \n",
       "2017-09-21        --        --        --        --        --        --   \n",
       "2017-09-22        --        --        --        --        --        --   \n",
       "...              ...       ...       ...       ...       ...       ...   \n",
       "2020-09-09   126.751   114.971        --        --        --        --   \n",
       "2020-09-10   126.653    115.07        --        --        --        --   \n",
       "2020-09-11   126.452   115.392    104.82        --        --        --   \n",
       "2020-09-14   126.448   115.667   105.236        --        --        --   \n",
       "2020-09-15   127.277   116.066   104.983   107.678        --        --   \n",
       "\n",
       "           128131.SZ 128132.SZ  \n",
       "2017-09-18        --        --  \n",
       "2017-09-19        --        --  \n",
       "2017-09-20        --        --  \n",
       "2017-09-21        --        --  \n",
       "2017-09-22        --        --  \n",
       "...              ...       ...  \n",
       "2020-09-09   99.9975        --  \n",
       "2020-09-10   99.9967        --  \n",
       "2020-09-11   99.9959        --  \n",
       "2020-09-14   99.9934        --  \n",
       "2020-09-15   99.9926   99.9989  \n",
       "\n",
       "[729 rows x 295 columns]"
      ]
     },
     "execution_count": 25,
     "metadata": {},
     "output_type": "execute_result"
    }
   ],
   "source": [
    "df=pd.read_excel('转债时间序列.xlsx',index_col=0)[:-7]\n",
    "df"
   ]
  },
  {
   "cell_type": "code",
   "execution_count": 26,
   "metadata": {},
   "outputs": [],
   "source": [
    "my_ind_bond=open('转债.txt').read().split('\\n')[:-1]\n",
    "my_ind_list=list(map(lambda x:x.split('  ')[0],my_ind_bond))\n",
    "my_ind_list=set(df.columns.tolist()).intersection(set(my_ind_list))\n",
    "df_ind=df.loc[:,my_ind_list]"
   ]
  },
  {
   "cell_type": "code",
   "execution_count": 321,
   "metadata": {},
   "outputs": [
    {
     "data": {
      "text/plain": [
       "(array([-20.,   0.,  20.,  40.,  60.,  80., 100., 120.]),\n",
       " <a list of 8 Text xticklabel objects>)"
      ]
     },
     "execution_count": 321,
     "metadata": {},
     "output_type": "execute_result"
    },
    {
     "data": {
      "image/png": "[encoded data removed]",
      "text/plain": [
       "<Figure size 432x288 with 1 Axes>"
      ]
     },
     "metadata": {},
     "output_type": "display_data"
    }
   ],
   "source": [
    "df_ind.replace('--',0,inplace=True)\n",
    "df_ind\n",
    "df_chg=(df_ind/df_ind.shift(1)-1)[1:]\n",
    "\n",
    "\n",
    "df_ind.loc[:,df_chg.dropna(axis=1).columns.tolist()].iloc[-100:].plot()\n",
    "plt.xticks(rotation=60)\n"
   ]
  },
  {
   "cell_type": "code",
   "execution_count": 313,
   "metadata": {},
   "outputs": [
    {
     "data": {
      "text/html": [
       "<div>\n",
       "<style scoped>\n",
       "    .dataframe tbody tr th:only-of-type {\n",
       "        vertical-align: middle;\n",
       "    }\n",
       "\n",
       "    .dataframe tbody tr th {\n",
       "        vertical-align: top;\n",
       "    }\n",
       "\n",
       "    .dataframe thead th {\n",
       "        text-align: right;\n",
       "    }\n",
       "</style>\n",
       "<table border=\"1\" class=\"dataframe\">\n",
       "  <thead>\n",
       "    <tr style=\"text-align: right;\">\n",
       "      <th></th>\n",
       "      <th>128015.SZ</th>\n",
       "      <th>128013.SZ</th>\n",
       "      <th>113008.SH</th>\n",
       "      <th>110031.SH</th>\n",
       "    </tr>\n",
       "  </thead>\n",
       "  <tbody>\n",
       "    <tr>\n",
       "      <th>2017-09-19</th>\n",
       "      <td>-0.012271</td>\n",
       "      <td>0.000189</td>\n",
       "      <td>0.000068</td>\n",
       "      <td>-0.002687</td>\n",
       "    </tr>\n",
       "    <tr>\n",
       "      <th>2017-09-20</th>\n",
       "      <td>0.002179</td>\n",
       "      <td>-0.000192</td>\n",
       "      <td>0.000909</td>\n",
       "      <td>0.000927</td>\n",
       "    </tr>\n",
       "    <tr>\n",
       "      <th>2017-09-21</th>\n",
       "      <td>-0.006987</td>\n",
       "      <td>-0.001720</td>\n",
       "      <td>0.001096</td>\n",
       "      <td>-0.000312</td>\n",
       "    </tr>\n",
       "    <tr>\n",
       "      <th>2017-09-22</th>\n",
       "      <td>0.001495</td>\n",
       "      <td>-0.003987</td>\n",
       "      <td>-0.005064</td>\n",
       "      <td>-0.004787</td>\n",
       "    </tr>\n",
       "    <tr>\n",
       "      <th>2017-09-25</th>\n",
       "      <td>-0.006786</td>\n",
       "      <td>-0.006894</td>\n",
       "      <td>-0.002703</td>\n",
       "      <td>-0.005915</td>\n",
       "    </tr>\n",
       "    <tr>\n",
       "      <th>...</th>\n",
       "      <td>...</td>\n",
       "      <td>...</td>\n",
       "      <td>...</td>\n",
       "      <td>...</td>\n",
       "    </tr>\n",
       "    <tr>\n",
       "      <th>2020-09-09</th>\n",
       "      <td>-0.000394</td>\n",
       "      <td>-0.009157</td>\n",
       "      <td>-0.019380</td>\n",
       "      <td>-0.008664</td>\n",
       "    </tr>\n",
       "    <tr>\n",
       "      <th>2020-09-10</th>\n",
       "      <td>-0.005041</td>\n",
       "      <td>-0.019958</td>\n",
       "      <td>-0.011297</td>\n",
       "      <td>-0.015446</td>\n",
       "    </tr>\n",
       "    <tr>\n",
       "      <th>2020-09-11</th>\n",
       "      <td>0.001734</td>\n",
       "      <td>-0.002972</td>\n",
       "      <td>-0.003502</td>\n",
       "      <td>0.004194</td>\n",
       "    </tr>\n",
       "    <tr>\n",
       "      <th>2020-09-14</th>\n",
       "      <td>-0.001772</td>\n",
       "      <td>0.000738</td>\n",
       "      <td>0.001617</td>\n",
       "      <td>0.000155</td>\n",
       "    </tr>\n",
       "    <tr>\n",
       "      <th>2020-09-15</th>\n",
       "      <td>-0.004041</td>\n",
       "      <td>-0.005878</td>\n",
       "      <td>-0.004603</td>\n",
       "      <td>0.005917</td>\n",
       "    </tr>\n",
       "  </tbody>\n",
       "</table>\n",
       "<p>728 rows × 4 columns</p>\n",
       "</div>"
      ],
      "text/plain": [
       "            128015.SZ  128013.SZ  113008.SH  110031.SH\n",
       "2017-09-19  -0.012271   0.000189   0.000068  -0.002687\n",
       "2017-09-20   0.002179  -0.000192   0.000909   0.000927\n",
       "2017-09-21  -0.006987  -0.001720   0.001096  -0.000312\n",
       "2017-09-22   0.001495  -0.003987  -0.005064  -0.004787\n",
       "2017-09-25  -0.006786  -0.006894  -0.002703  -0.005915\n",
       "...               ...        ...        ...        ...\n",
       "2020-09-09  -0.000394  -0.009157  -0.019380  -0.008664\n",
       "2020-09-10  -0.005041  -0.019958  -0.011297  -0.015446\n",
       "2020-09-11   0.001734  -0.002972  -0.003502   0.004194\n",
       "2020-09-14  -0.001772   0.000738   0.001617   0.000155\n",
       "2020-09-15  -0.004041  -0.005878  -0.004603   0.005917\n",
       "\n",
       "[728 rows x 4 columns]"
      ]
     },
     "execution_count": 313,
     "metadata": {},
     "output_type": "execute_result"
    }
   ],
   "source": [
    "df_chg.dropna(axis=1)"
   ]
  },
  {
   "cell_type": "code",
   "execution_count": 281,
   "metadata": {},
   "outputs": [
    {
     "data": {
      "text/plain": [
       "2017-09-19    0.000189\n",
       "2017-09-20   -0.000192\n",
       "2017-09-21   -0.001720\n",
       "2017-09-22   -0.003987\n",
       "2017-09-25   -0.006894\n",
       "                ...   \n",
       "2020-09-09   -0.009157\n",
       "2020-09-10   -0.019958\n",
       "2020-09-11   -0.002972\n",
       "2020-09-14    0.000738\n",
       "2020-09-15   -0.005878\n",
       "Name: 128013.SZ, Length: 728, dtype: float64"
      ]
     },
     "execution_count": 281,
     "metadata": {},
     "output_type": "execute_result"
    }
   ],
   "source": [
    "test_one=df_chg.loc[:,'128013.SZ']\n",
    "test_one"
   ]
  },
  {
   "cell_type": "code",
   "execution_count": 282,
   "metadata": {},
   "outputs": [],
   "source": [
    "def create_dataset(dataset, look_back=1):  # 后一个数据和前look_back个数据有关系\n",
    "    dataX, dataY = [], []\n",
    "    for i in range(len(dataset) - look_back - 1):\n",
    "        a = dataset[i:(i + look_back)]\n",
    "        dataX.append(a)  # .apeend方法追加元素\n",
    "        dataY.append(dataset[i + look_back])\n",
    "    return np.array(dataX), np.array(dataY)  # 生成输入数据和输出数据\n"
   ]
  },
  {
   "cell_type": "code",
   "execution_count": 283,
   "metadata": {},
   "outputs": [
    {
     "data": {
      "text/plain": [
       "2017-09-19    0.000189\n",
       "2017-09-20   -0.000192\n",
       "2017-09-21   -0.001720\n",
       "2017-09-22   -0.003987\n",
       "2017-09-25   -0.006894\n",
       "                ...   \n",
       "2020-05-25   -0.002254\n",
       "2020-05-26    0.000059\n",
       "2020-05-27   -0.000560\n",
       "2020-05-28   -0.000061\n",
       "2020-05-29    0.001867\n",
       "Name: 128013.SZ, Length: 653, dtype: float64"
      ]
     },
     "execution_count": 283,
     "metadata": {},
     "output_type": "execute_result"
    }
   ],
   "source": [
    "test_one['2017':'2020-06']"
   ]
  },
  {
   "cell_type": "code",
   "execution_count": 284,
   "metadata": {},
   "outputs": [],
   "source": [
    "trainX,trainY=create_dataset(test_one['2017':'2020-06'],look_back=20)"
   ]
  },
  {
   "cell_type": "code",
   "execution_count": 285,
   "metadata": {},
   "outputs": [],
   "source": [
    "from sklearn.preprocessing import MinMaxScaler\n",
    "scaler = MinMaxScaler(feature_range=(0, 1))  # 归一化0-1\n",
    "test_scaler=scaler.fit_transform(np.array(test_one*100).reshape(728,1))\n",
    "train,test=test_scaler[0:int(len(test_scaler)*0.7)],test_scaler[int(len(test_scaler)*0.7):]\n",
    "train_x,train_y=create_dataset(train,look_back=20)\n",
    "\n",
    "\n",
    "test_x,test_y=create_dataset(test,look_back=20)\n",
    "\n",
    "\n",
    "train_x=np.reshape(train_x, (train_x.shape[0], 1, train_x.shape[1]))\n",
    "test_x=np.reshape(test_x, (test_x.shape[0], 1, test_x.shape[1]))\n",
    "\n"
   ]
  },
  {
   "cell_type": "code",
   "execution_count": null,
   "metadata": {},
   "outputs": [],
   "source": []
  },
  {
   "cell_type": "code",
   "execution_count": 286,
   "metadata": {},
   "outputs": [
    {
     "data": {
      "text/plain": [
       "(488, 1)"
      ]
     },
     "execution_count": 286,
     "metadata": {},
     "output_type": "execute_result"
    }
   ],
   "source": [
    "train_x.shape\n",
    "train_y.shape"
   ]
  },
  {
   "cell_type": "code",
   "execution_count": 287,
   "metadata": {},
   "outputs": [
    {
     "data": {
      "text/plain": [
       "<tensorflow.python.keras.callbacks.History at 0x24874c63b08>"
      ]
     },
     "execution_count": 287,
     "metadata": {},
     "output_type": "execute_result"
    }
   ],
   "source": [
    "look_back=20\n",
    "from keras.models import Sequential\n",
    "from keras.layers import Dense\n",
    "from keras.layers import LSTM\n",
    "from sklearn.metrics import mean_squared_error\n",
    "\n",
    "\n",
    "model = Sequential()\n",
    "model.add(LSTM(11, input_shape=(1, look_back)))  # 隐层11个神经元 （可以断调整此参数提高预测精度）\n",
    "model.add(Dense(1))\n",
    "model.compile(loss='mse', optimizer='adam')  # 评价函数mse，优化器adam\n",
    "model.fit(train_x, train_y, epochs=200, batch_size=100, verbose=0)  # 100次迭代\n"
   ]
  },
  {
   "cell_type": "code",
   "execution_count": 288,
   "metadata": {},
   "outputs": [
    {
     "data": {
      "text/plain": [
       "array([[0.54135   ],\n",
       "       [0.5385369 ],\n",
       "       [0.5395828 ],\n",
       "       [0.53306645],\n",
       "       [0.5721313 ],\n",
       "       [0.5236464 ],\n",
       "       [0.5448303 ],\n",
       "       [0.51635903],\n",
       "       [0.55867404],\n",
       "       [0.5464894 ]], dtype=float32)"
      ]
     },
     "execution_count": 288,
     "metadata": {},
     "output_type": "execute_result"
    }
   ],
   "source": [
    "trainPredict=model.predict(train_x)\n",
    "# trainPredict\n",
    "test_predict=model.predict(test_x)\n",
    "test_predict[-10:]"
   ]
  },
  {
   "cell_type": "code",
   "execution_count": 289,
   "metadata": {},
   "outputs": [
    {
     "data": {
      "text/plain": [
       "(488, 1)"
      ]
     },
     "execution_count": 289,
     "metadata": {},
     "output_type": "execute_result"
    }
   ],
   "source": [
    "trainPredict.shape"
   ]
  },
  {
   "cell_type": "code",
   "execution_count": 290,
   "metadata": {},
   "outputs": [
    {
     "data": {
      "text/plain": [
       "array([[ 0.14041317],\n",
       "       [ 0.05145196],\n",
       "       [ 0.09585091],\n",
       "       [ 0.1969534 ],\n",
       "       [ 0.11688299],\n",
       "       [ 0.02634189],\n",
       "       [ 0.02657232],\n",
       "       [ 0.1601118 ],\n",
       "       [ 0.11112694],\n",
       "       [-0.03097927]], dtype=float32)"
      ]
     },
     "execution_count": 290,
     "metadata": {},
     "output_type": "execute_result"
    }
   ],
   "source": [
    "trainPredict2=scaler.inverse_transform(trainPredict)\n",
    "trainPredict2[-10:]\n"
   ]
  },
  {
   "cell_type": "code",
   "execution_count": 291,
   "metadata": {},
   "outputs": [
    {
     "data": {
      "text/plain": [
       "(array([ 1.,  3.,  4.,  3., 25., 76., 51., 21., 10.,  4.]),\n",
       " array([-0.664588  , -0.5444853 , -0.42438254, -0.3042798 , -0.18417709,\n",
       "        -0.06407437,  0.05602835,  0.17613107,  0.2962338 ,  0.4163365 ,\n",
       "         0.53643924], dtype=float32),\n",
       " <a list of 10 Patch objects>)"
      ]
     },
     "execution_count": 291,
     "metadata": {},
     "output_type": "execute_result"
    },
    {
     "data": {
      "image/png": "[encoded data removed]",
      "text/plain": [
       "<Figure size 432x288 with 1 Axes>"
      ]
     },
     "metadata": {},
     "output_type": "display_data"
    }
   ],
   "source": [
    "test_predict2=scaler.inverse_transform(test_predict)\n",
    "test_predict2.shape\n",
    "plt.hist(test_predict2)"
   ]
  },
  {
   "cell_type": "code",
   "execution_count": 292,
   "metadata": {},
   "outputs": [
    {
     "data": {
      "text/plain": [
       "(array([  1.,   3.,  12.,  45., 115.,  12.,   7.,   1.,   1.,   1.]),\n",
       " array([-2.70647488, -2.04731542, -1.38815595, -0.72899649, -0.06983702,\n",
       "         0.58932244,  1.2484819 ,  1.90764137,  2.56680083,  3.22596029,\n",
       "         3.88511976]),\n",
       " <a list of 10 Patch objects>)"
      ]
     },
     "execution_count": 292,
     "metadata": {},
     "output_type": "execute_result"
    },
    {
     "data": {
      "image/png": "[encoded data removed]",
      "text/plain": [
       "<Figure size 432x288 with 1 Axes>"
      ]
     },
     "metadata": {},
     "output_type": "display_data"
    }
   ],
   "source": [
    "test_y2=scaler.inverse_transform(test_y)\n",
    "test_y2.shape\n",
    "plt.hist(test_y2)"
   ]
  },
  {
   "cell_type": "code",
   "execution_count": null,
   "metadata": {},
   "outputs": [],
   "source": []
  },
  {
   "cell_type": "code",
   "execution_count": 328,
   "metadata": {},
   "outputs": [
    {
     "data": {
      "text/html": [
       "<div>\n",
       "<style scoped>\n",
       "    .dataframe tbody tr th:only-of-type {\n",
       "        vertical-align: middle;\n",
       "    }\n",
       "\n",
       "    .dataframe tbody tr th {\n",
       "        vertical-align: top;\n",
       "    }\n",
       "\n",
       "    .dataframe thead th {\n",
       "        text-align: right;\n",
       "    }\n",
       "</style>\n",
       "<table border=\"1\" class=\"dataframe\">\n",
       "  <thead>\n",
       "    <tr style=\"text-align: right;\">\n",
       "      <th></th>\n",
       "      <th>predy</th>\n",
       "      <th>testy</th>\n",
       "      <th>acc_y</th>\n",
       "      <th>acc_p0</th>\n",
       "      <th>acc_p1</th>\n",
       "      <th>acc_p2</th>\n",
       "      <th>acc_p3</th>\n",
       "      <th>acc_p4</th>\n",
       "      <th>acc_p5</th>\n",
       "    </tr>\n",
       "  </thead>\n",
       "  <tbody>\n",
       "    <tr>\n",
       "      <th>0</th>\n",
       "      <td>0.240908</td>\n",
       "      <td>-0.050794</td>\n",
       "      <td>1.000000</td>\n",
       "      <td>1.000000</td>\n",
       "      <td>1.000000</td>\n",
       "      <td>1.000000</td>\n",
       "      <td>1.000000</td>\n",
       "      <td>1.000000</td>\n",
       "      <td>1.000000</td>\n",
       "    </tr>\n",
       "    <tr>\n",
       "      <th>1</th>\n",
       "      <td>-0.042244</td>\n",
       "      <td>-0.127666</td>\n",
       "      <td>0.998723</td>\n",
       "      <td>1.000000</td>\n",
       "      <td>1.000000</td>\n",
       "      <td>1.000000</td>\n",
       "      <td>1.000000</td>\n",
       "      <td>1.000000</td>\n",
       "      <td>1.000000</td>\n",
       "    </tr>\n",
       "    <tr>\n",
       "      <th>2</th>\n",
       "      <td>-0.023373</td>\n",
       "      <td>-0.136070</td>\n",
       "      <td>0.997364</td>\n",
       "      <td>1.000000</td>\n",
       "      <td>1.000000</td>\n",
       "      <td>1.000000</td>\n",
       "      <td>1.000000</td>\n",
       "      <td>1.000000</td>\n",
       "      <td>1.000000</td>\n",
       "    </tr>\n",
       "    <tr>\n",
       "      <th>3</th>\n",
       "      <td>0.191326</td>\n",
       "      <td>-0.080556</td>\n",
       "      <td>0.996561</td>\n",
       "      <td>0.999194</td>\n",
       "      <td>0.999194</td>\n",
       "      <td>0.999194</td>\n",
       "      <td>0.999194</td>\n",
       "      <td>0.999194</td>\n",
       "      <td>0.999194</td>\n",
       "    </tr>\n",
       "    <tr>\n",
       "      <th>4</th>\n",
       "      <td>-0.258085</td>\n",
       "      <td>-0.343854</td>\n",
       "      <td>0.993134</td>\n",
       "      <td>0.999194</td>\n",
       "      <td>0.999194</td>\n",
       "      <td>0.999194</td>\n",
       "      <td>0.999194</td>\n",
       "      <td>0.999194</td>\n",
       "      <td>0.999194</td>\n",
       "    </tr>\n",
       "    <tr>\n",
       "      <th>...</th>\n",
       "      <td>...</td>\n",
       "      <td>...</td>\n",
       "      <td>...</td>\n",
       "      <td>...</td>\n",
       "      <td>...</td>\n",
       "      <td>...</td>\n",
       "      <td>...</td>\n",
       "      <td>...</td>\n",
       "      <td>...</td>\n",
       "    </tr>\n",
       "    <tr>\n",
       "      <th>193</th>\n",
       "      <td>-0.118168</td>\n",
       "      <td>1.261120</td>\n",
       "      <td>1.182941</td>\n",
       "      <td>1.071137</td>\n",
       "      <td>1.055869</td>\n",
       "      <td>1.049389</td>\n",
       "      <td>1.053901</td>\n",
       "      <td>1.046285</td>\n",
       "      <td>1.047263</td>\n",
       "    </tr>\n",
       "    <tr>\n",
       "      <th>194</th>\n",
       "      <td>0.059862</td>\n",
       "      <td>-0.915733</td>\n",
       "      <td>1.172108</td>\n",
       "      <td>1.061328</td>\n",
       "      <td>1.046200</td>\n",
       "      <td>1.039780</td>\n",
       "      <td>1.044250</td>\n",
       "      <td>1.036704</td>\n",
       "      <td>1.037673</td>\n",
       "    </tr>\n",
       "    <tr>\n",
       "      <th>195</th>\n",
       "      <td>-0.179412</td>\n",
       "      <td>-1.995754</td>\n",
       "      <td>1.148716</td>\n",
       "      <td>1.061328</td>\n",
       "      <td>1.046200</td>\n",
       "      <td>1.039780</td>\n",
       "      <td>1.044250</td>\n",
       "      <td>1.036704</td>\n",
       "      <td>1.037673</td>\n",
       "    </tr>\n",
       "    <tr>\n",
       "      <th>196</th>\n",
       "      <td>0.176205</td>\n",
       "      <td>-0.297234</td>\n",
       "      <td>1.145302</td>\n",
       "      <td>1.058173</td>\n",
       "      <td>1.043090</td>\n",
       "      <td>1.036689</td>\n",
       "      <td>1.041146</td>\n",
       "      <td>1.033623</td>\n",
       "      <td>1.034589</td>\n",
       "    </tr>\n",
       "    <tr>\n",
       "      <th>197</th>\n",
       "      <td>0.073805</td>\n",
       "      <td>0.073834</td>\n",
       "      <td>1.146147</td>\n",
       "      <td>1.058955</td>\n",
       "      <td>1.043861</td>\n",
       "      <td>1.037455</td>\n",
       "      <td>1.041915</td>\n",
       "      <td>1.034386</td>\n",
       "      <td>1.035353</td>\n",
       "    </tr>\n",
       "  </tbody>\n",
       "</table>\n",
       "<p>198 rows × 9 columns</p>\n",
       "</div>"
      ],
      "text/plain": [
       "        predy     testy     acc_y    acc_p0    acc_p1    acc_p2    acc_p3  \\\n",
       "0    0.240908 -0.050794  1.000000  1.000000  1.000000  1.000000  1.000000   \n",
       "1   -0.042244 -0.127666  0.998723  1.000000  1.000000  1.000000  1.000000   \n",
       "2   -0.023373 -0.136070  0.997364  1.000000  1.000000  1.000000  1.000000   \n",
       "3    0.191326 -0.080556  0.996561  0.999194  0.999194  0.999194  0.999194   \n",
       "4   -0.258085 -0.343854  0.993134  0.999194  0.999194  0.999194  0.999194   \n",
       "..        ...       ...       ...       ...       ...       ...       ...   \n",
       "193 -0.118168  1.261120  1.182941  1.071137  1.055869  1.049389  1.053901   \n",
       "194  0.059862 -0.915733  1.172108  1.061328  1.046200  1.039780  1.044250   \n",
       "195 -0.179412 -1.995754  1.148716  1.061328  1.046200  1.039780  1.044250   \n",
       "196  0.176205 -0.297234  1.145302  1.058173  1.043090  1.036689  1.041146   \n",
       "197  0.073805  0.073834  1.146147  1.058955  1.043861  1.037455  1.041915   \n",
       "\n",
       "       acc_p4    acc_p5  \n",
       "0    1.000000  1.000000  \n",
       "1    1.000000  1.000000  \n",
       "2    1.000000  1.000000  \n",
       "3    0.999194  0.999194  \n",
       "4    0.999194  0.999194  \n",
       "..        ...       ...  \n",
       "193  1.046285  1.047263  \n",
       "194  1.036704  1.037673  \n",
       "195  1.036704  1.037673  \n",
       "196  1.033623  1.034589  \n",
       "197  1.034386  1.035353  \n",
       "\n",
       "[198 rows x 9 columns]"
      ]
     },
     "execution_count": 328,
     "metadata": {},
     "output_type": "execute_result"
    }
   ],
   "source": [
    "def cal_the_return(testPredict,testY):\n",
    "    compare=pd.DataFrame(testPredict)\n",
    "    compare['testy']=testY\n",
    "    # 测试集的实际收益率和测试集的预测收益率\n",
    "    compare.columns=['predy','testy']\n",
    "    compare.to_csv('compare.csv')\n",
    "    accy = [1]\n",
    "    accp = [[1]for i in range(6)]\n",
    "    for row in compare.index:\n",
    "        if row == 0:\n",
    "            continue\n",
    "        pred = compare['predy'].loc[row]\n",
    "        real = compare['testy'].loc[row]\n",
    "        accy.append(accy[row - 1] * (1 + real/100))\n",
    "        for i in range(6):\n",
    "            if pred > i*0.01:  # 如果预期收益率大于0.1%*i，则当日持有\n",
    "                accp[i].append(accp[i][row - 1] * (1 + real/100))\n",
    "            else:\n",
    "                accp[i].append(accp[i][row - 1])\n",
    "    compare['acc_y'] = accy\n",
    "    for i in range(6):\n",
    "        compare['acc_p'+str(i)] = accp[i]\n",
    "\n",
    "    return compare\n",
    "cal_the_return(test_predict2,test_y2)"
   ]
  },
  {
   "cell_type": "code",
   "execution_count": 384,
   "metadata": {},
   "outputs": [
    {
     "data": {
      "text/html": [
       "<div>\n",
       "<style scoped>\n",
       "    .dataframe tbody tr th:only-of-type {\n",
       "        vertical-align: middle;\n",
       "    }\n",
       "\n",
       "    .dataframe tbody tr th {\n",
       "        vertical-align: top;\n",
       "    }\n",
       "\n",
       "    .dataframe thead th {\n",
       "        text-align: right;\n",
       "    }\n",
       "</style>\n",
       "<table border=\"1\" class=\"dataframe\">\n",
       "  <thead>\n",
       "    <tr style=\"text-align: right;\">\n",
       "      <th></th>\n",
       "      <th>pred_y</th>\n",
       "      <th>real_y</th>\n",
       "      <th>acc_y</th>\n",
       "      <th>acc_p</th>\n",
       "    </tr>\n",
       "  </thead>\n",
       "  <tbody>\n",
       "    <tr>\n",
       "      <th>0</th>\n",
       "      <td>0.240908</td>\n",
       "      <td>-0.050794</td>\n",
       "      <td>0.999492</td>\n",
       "      <td>0.999492</td>\n",
       "    </tr>\n",
       "    <tr>\n",
       "      <th>1</th>\n",
       "      <td>-0.042244</td>\n",
       "      <td>-0.127666</td>\n",
       "      <td>0.998216</td>\n",
       "      <td>0.999492</td>\n",
       "    </tr>\n",
       "    <tr>\n",
       "      <th>2</th>\n",
       "      <td>-0.023373</td>\n",
       "      <td>-0.136070</td>\n",
       "      <td>0.996858</td>\n",
       "      <td>0.999492</td>\n",
       "    </tr>\n",
       "    <tr>\n",
       "      <th>3</th>\n",
       "      <td>0.191326</td>\n",
       "      <td>-0.080556</td>\n",
       "      <td>0.996055</td>\n",
       "      <td>0.998687</td>\n",
       "    </tr>\n",
       "    <tr>\n",
       "      <th>4</th>\n",
       "      <td>-0.258085</td>\n",
       "      <td>-0.343854</td>\n",
       "      <td>0.992630</td>\n",
       "      <td>0.998687</td>\n",
       "    </tr>\n",
       "    <tr>\n",
       "      <th>...</th>\n",
       "      <td>...</td>\n",
       "      <td>...</td>\n",
       "      <td>...</td>\n",
       "      <td>...</td>\n",
       "    </tr>\n",
       "    <tr>\n",
       "      <th>193</th>\n",
       "      <td>-0.118168</td>\n",
       "      <td>1.261120</td>\n",
       "      <td>1.182340</td>\n",
       "      <td>1.070593</td>\n",
       "    </tr>\n",
       "    <tr>\n",
       "      <th>194</th>\n",
       "      <td>0.059862</td>\n",
       "      <td>-0.915733</td>\n",
       "      <td>1.171513</td>\n",
       "      <td>1.060789</td>\n",
       "    </tr>\n",
       "    <tr>\n",
       "      <th>195</th>\n",
       "      <td>-0.179412</td>\n",
       "      <td>-1.995754</td>\n",
       "      <td>1.148132</td>\n",
       "      <td>1.060789</td>\n",
       "    </tr>\n",
       "    <tr>\n",
       "      <th>196</th>\n",
       "      <td>0.176205</td>\n",
       "      <td>-0.297234</td>\n",
       "      <td>1.144720</td>\n",
       "      <td>1.057636</td>\n",
       "    </tr>\n",
       "    <tr>\n",
       "      <th>197</th>\n",
       "      <td>0.073805</td>\n",
       "      <td>0.073834</td>\n",
       "      <td>1.145565</td>\n",
       "      <td>1.058417</td>\n",
       "    </tr>\n",
       "  </tbody>\n",
       "</table>\n",
       "<p>198 rows × 4 columns</p>\n",
       "</div>"
      ],
      "text/plain": [
       "       pred_y    real_y     acc_y     acc_p\n",
       "0    0.240908 -0.050794  0.999492  0.999492\n",
       "1   -0.042244 -0.127666  0.998216  0.999492\n",
       "2   -0.023373 -0.136070  0.996858  0.999492\n",
       "3    0.191326 -0.080556  0.996055  0.998687\n",
       "4   -0.258085 -0.343854  0.992630  0.998687\n",
       "..        ...       ...       ...       ...\n",
       "193 -0.118168  1.261120  1.182340  1.070593\n",
       "194  0.059862 -0.915733  1.171513  1.060789\n",
       "195 -0.179412 -1.995754  1.148132  1.060789\n",
       "196  0.176205 -0.297234  1.144720  1.057636\n",
       "197  0.073805  0.073834  1.145565  1.058417\n",
       "\n",
       "[198 rows x 4 columns]"
      ]
     },
     "execution_count": 384,
     "metadata": {},
     "output_type": "execute_result"
    }
   ],
   "source": [
    "def cal_the_return(testPredict,testY):\n",
    "    # 测试集的实际收益率和测试集的预测收益率\n",
    "    compare=pd.DataFrame({'pred_y':testPredict.T[0],'real_y':testY.T[0]})\n",
    "    # 计算转债累计收益率\n",
    "    accy=(compare['real_y']/100+1).cumprod()\n",
    "    # 计算策略累计收益率\n",
    "    accp=(pd.Series(compare['real_y'][compare['pred_y']>0],index=compare.index).fillna(0)/100+1).cumprod()\n",
    "\n",
    "    compare['acc_y'] = accy # 累计收益率真实值\n",
    "    compare['acc_p'] = accp # 预测累计收益率\n",
    "    return compare\n",
    "compare=cal_the_return(test_predict2,test_y2)\n",
    "compare"
   ]
  },
  {
   "cell_type": "code",
   "execution_count": 375,
   "metadata": {},
   "outputs": [
    {
     "data": {
      "text/plain": [
       "0     -0.050794\n",
       "3     -0.080556\n",
       "14    -0.108227\n",
       "27     0.560908\n",
       "30     0.429231\n",
       "         ...   \n",
       "190    0.118783\n",
       "192    0.039819\n",
       "194   -0.915733\n",
       "196   -0.297234\n",
       "197    0.073834\n",
       "Name: real_y, Length: 120, dtype: float64"
      ]
     },
     "execution_count": 375,
     "metadata": {},
     "output_type": "execute_result"
    }
   ],
   "source": [
    " compare['real_y'][compare['pred_y']>0]"
   ]
  },
  {
   "cell_type": "code",
   "execution_count": 374,
   "metadata": {},
   "outputs": [
    {
     "data": {
      "text/plain": [
       "0       True\n",
       "1      False\n",
       "2      False\n",
       "3       True\n",
       "4      False\n",
       "       ...  \n",
       "193    False\n",
       "194     True\n",
       "195    False\n",
       "196     True\n",
       "197     True\n",
       "Name: pred_y, Length: 198, dtype: bool"
      ]
     },
     "execution_count": 374,
     "metadata": {},
     "output_type": "execute_result"
    }
   ],
   "source": [
    "(compare['pred_y']>0)"
   ]
  },
  {
   "cell_type": "code",
   "execution_count": 307,
   "metadata": {},
   "outputs": [
    {
     "data": {
      "text/plain": [
       "<matplotlib.axes._subplots.AxesSubplot at 0x248353d1e88>"
      ]
     },
     "execution_count": 307,
     "metadata": {},
     "output_type": "execute_result"
    },
    {
     "data": {
      "image/png": "[encoded data removed]",
      "text/plain": [
       "<Figure size 720x504 with 1 Axes>"
      ]
     },
     "metadata": {},
     "output_type": "display_data"
    }
   ],
   "source": [
    "cal_the_return(test_predict2,test_y2).iloc[:,2:].plot(figsize=(10,7))"
   ]
  },
  {
   "cell_type": "code",
   "execution_count": 299,
   "metadata": {},
   "outputs": [
    {
     "name": "stdout",
     "output_type": "stream",
     "text": [
      "Train Score: 0.55919 RMSE\n",
      "Test Score: 0.53865 RMSE\n"
     ]
    }
   ],
   "source": [
    "import math\n",
    "trainScore = math.sqrt(mean_squared_error(train_y, trainPredict2))\n",
    "print('Train Score: %.5f RMSE' % (trainScore))\n",
    "testScore = math.sqrt(mean_squared_error(test_y, test_predict2))\n",
    "print('Test Score: %.5f RMSE' % (testScore))"
   ]
  },
  {
   "cell_type": "code",
   "execution_count": 326,
   "metadata": {},
   "outputs": [
    {
     "data": {
      "text/plain": [
       "Index(['2017-09-18', '2017-09-19', '2017-09-20', '2017-09-21', '2017-09-22',\n",
       "       '2017-09-25', '2017-09-26', '2017-09-27', '2017-09-28', '2017-09-29',\n",
       "       ...\n",
       "       '2020-09-02', '2020-09-03', '2020-09-04', '2020-09-07', '2020-09-08',\n",
       "       '2020-09-09', '2020-09-10', '2020-09-11', '2020-09-14', '2020-09-15'],\n",
       "      dtype='object', length=729)"
      ]
     },
     "execution_count": 326,
     "metadata": {},
     "output_type": "execute_result"
    }
   ],
   "source": [
    "df.index[0:]\n"
   ]
  },
  {
   "cell_type": "code",
   "execution_count": 387,
   "metadata": {},
   "outputs": [
    {
     "ename": "NameError",
     "evalue": "name 'test_scaler' is not defined",
     "output_type": "error",
     "traceback": [
      "\u001b[1;31m---------------------------------------------------------------------------\u001b[0m",
      "\u001b[1;31mNameError\u001b[0m                                 Traceback (most recent call last)",
      "\u001b[1;32m<ipython-input-387-90c4fb29c637>\u001b[0m in \u001b[0;36m<module>\u001b[1;34m\u001b[0m\n\u001b[0;32m      1\u001b[0m \u001b[1;32mfrom\u001b[0m \u001b[0mLSTM_pack\u001b[0m \u001b[1;32mimport\u001b[0m \u001b[0mLSTM_model\u001b[0m\u001b[1;33m\u001b[0m\u001b[1;33m\u001b[0m\u001b[0m\n\u001b[0;32m      2\u001b[0m \u001b[1;33m\u001b[0m\u001b[0m\n\u001b[1;32m----> 3\u001b[1;33m \u001b[0mLSTM_model\u001b[0m\u001b[1;33m(\u001b[0m\u001b[0mdf\u001b[0m\u001b[1;33m[\u001b[0m\u001b[1;34m'110031.SH'\u001b[0m\u001b[1;33m]\u001b[0m\u001b[1;33m)\u001b[0m\u001b[1;33m\u001b[0m\u001b[1;33m\u001b[0m\u001b[0m\n\u001b[0m",
      "\u001b[1;32m~\\Desktop\\转债机器学习\\LSTM_pack.py\u001b[0m in \u001b[0;36mLSTM_model\u001b[1;34m(price_series)\u001b[0m\n\u001b[0;32m     68\u001b[0m     \u001b[0mscaler\u001b[0m \u001b[1;33m=\u001b[0m \u001b[0mMinMaxScaler\u001b[0m\u001b[1;33m(\u001b[0m\u001b[0mfeature_range\u001b[0m\u001b[1;33m=\u001b[0m\u001b[1;33m(\u001b[0m\u001b[1;36m0\u001b[0m\u001b[1;33m,\u001b[0m \u001b[1;36m1\u001b[0m\u001b[1;33m)\u001b[0m\u001b[1;33m)\u001b[0m  \u001b[1;31m# 定义归一化函数，归一化0-1\u001b[0m\u001b[1;33m\u001b[0m\u001b[1;33m\u001b[0m\u001b[0m\n\u001b[0;32m     69\u001b[0m     \u001b[0mscaler_series\u001b[0m\u001b[1;33m=\u001b[0m\u001b[0mscaler\u001b[0m\u001b[1;33m.\u001b[0m\u001b[0mfit_transform\u001b[0m\u001b[1;33m(\u001b[0m\u001b[0mnp\u001b[0m\u001b[1;33m.\u001b[0m\u001b[0marray\u001b[0m\u001b[1;33m(\u001b[0m\u001b[0mpct_chg_series\u001b[0m\u001b[1;33m*\u001b[0m\u001b[1;36m100\u001b[0m\u001b[1;33m)\u001b[0m\u001b[1;33m.\u001b[0m\u001b[0mreshape\u001b[0m\u001b[1;33m(\u001b[0m\u001b[0mlen\u001b[0m\u001b[1;33m(\u001b[0m\u001b[0mpct_chg_series\u001b[0m\u001b[1;33m)\u001b[0m\u001b[1;33m,\u001b[0m\u001b[1;36m1\u001b[0m\u001b[1;33m)\u001b[0m\u001b[1;33m)\u001b[0m\u001b[1;33m\u001b[0m\u001b[1;33m\u001b[0m\u001b[0m\n\u001b[1;32m---> 70\u001b[1;33m     \u001b[0mtrain\u001b[0m\u001b[1;33m,\u001b[0m\u001b[0mtest\u001b[0m\u001b[1;33m=\u001b[0m\u001b[0mtest_scaler\u001b[0m\u001b[1;33m[\u001b[0m\u001b[1;36m0\u001b[0m\u001b[1;33m:\u001b[0m\u001b[0mint\u001b[0m\u001b[1;33m(\u001b[0m\u001b[0mlen\u001b[0m\u001b[1;33m(\u001b[0m\u001b[0mscaler_series\u001b[0m\u001b[1;33m)\u001b[0m\u001b[1;33m*\u001b[0m\u001b[1;36m0.7\u001b[0m\u001b[1;33m)\u001b[0m\u001b[1;33m]\u001b[0m\u001b[1;33m,\u001b[0m\u001b[0mscaler_series\u001b[0m\u001b[1;33m[\u001b[0m\u001b[0mint\u001b[0m\u001b[1;33m(\u001b[0m\u001b[0mlen\u001b[0m\u001b[1;33m(\u001b[0m\u001b[0mscaler_series\u001b[0m\u001b[1;33m)\u001b[0m\u001b[1;33m*\u001b[0m\u001b[1;36m0.7\u001b[0m\u001b[1;33m)\u001b[0m\u001b[1;33m:\u001b[0m\u001b[1;33m]\u001b[0m \u001b[1;31m# 对其进行训练和测试的划分\u001b[0m\u001b[1;33m\u001b[0m\u001b[1;33m\u001b[0m\u001b[0m\n\u001b[0m\u001b[0;32m     71\u001b[0m \u001b[1;33m\u001b[0m\u001b[0m\n\u001b[0;32m     72\u001b[0m     \u001b[1;31m# 对于训练集和测试集按照所需格式进行划分\u001b[0m\u001b[1;33m\u001b[0m\u001b[1;33m\u001b[0m\u001b[1;33m\u001b[0m\u001b[0m\n",
      "\u001b[1;31mNameError\u001b[0m: name 'test_scaler' is not defined"
     ]
    }
   ],
   "source": [
    "from LSTM_pack import LSTM_model\n",
    "\n",
    "LSTM_model(df['110031.SH'])"
   ]
  },
  {
   "cell_type": "code",
   "execution_count": 386,
   "metadata": {},
   "outputs": [
    {
     "data": {
      "text/plain": [
       "pandas.core.series.Series"
      ]
     },
     "execution_count": 386,
     "metadata": {},
     "output_type": "execute_result"
    }
   ],
   "source": [
    "type(df['110031.SH'])"
   ]
  },
  {
   "cell_type": "code",
   "execution_count": null,
   "metadata": {},
   "outputs": [],
   "source": []
  }
 ],
 "metadata": {
  "kernelspec": {
   "display_name": "Python 3",
   "language": "python",
   "name": "python3"
  },
  "language_info": {
   "codemirror_mode": {
    "name": "ipython",
    "version": 3
   },
   "file_extension": ".py",
   "mimetype": "text/x-python",
   "name": "python",
   "nbconvert_exporter": "python",
   "pygments_lexer": "ipython3",
   "version": "3.7.6"
  }
 },
 "nbformat": 4,
 "nbformat_minor": 4
}
