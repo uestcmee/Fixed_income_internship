{
 "cells": [
  {
   "cell_type": "code",
   "execution_count": 2,
   "metadata": {},
   "outputs": [],
   "source": [
    "import pandas as pd\n",
    "import numpy as np\n",
    "from keras.models import Sequential\n",
    "from keras.layers import Dense\n",
    "from keras.layers import LSTM\n",
    "from sklearn.metrics import mean_squared_error\n",
    "from sklearn.preprocessing import MinMaxScaler\n",
    "import math,os\n",
    "\n",
    "\n"
   ]
  },
  {
   "cell_type": "markdown",
   "metadata": {},
   "source": [
    "# 封装一个LSTM模型，方便使用\n",
    "* 输入收盘价数据，先使用一维数据\n",
    "* 按照lookback=20，预测后一天的涨跌情况\n",
    "* 70%的训练集，30%的测试集\n"
   ]
  },
  {
   "cell_type": "code",
   "execution_count": 70,
   "metadata": {},
   "outputs": [],
   "source": [
    "def create_dataset(dataset, look_back=1):  # 后一个数据和前look_back个数据有关系\n",
    "    dataX, dataY = [], []\n",
    "    for i in range(len(dataset) - look_back - 1):\n",
    "        a = dataset[i:(i + look_back)]\n",
    "        dataX.append(a)  # .apeend方法追加元素\n",
    "        dataY.append(dataset[i + look_back])\n",
    "    return np.array(dataX), np.array(dataY)  # 生成输入数据和输出数据\n",
    "\n",
    "\n",
    "def train_model(train_x,train_y,look_back):\n",
    "    \n",
    "    model = Sequential()\n",
    "    # input_shape为训练的输入形状，第一个数字为每次有多少个数据输入\n",
    "    model.add(LSTM(11, input_shape=(1, look_back)))  # 隐层11个神经元 （可以断调整此参数提高预测精度）\n",
    "    model.add(Dense(1)) # 输出层的个数（向后预测多少天？）\n",
    "    model.compile(loss='mse', optimizer='adam')  # 评价函数mse，优化器adam\n",
    "    model.fit(train_x, train_y, epochs=500, batch_size=100, verbose=0)  # 100次迭代\n",
    "    model.save('./{}.h5'.format('myLSTM'))\n",
    "    return model\n",
    "\n",
    "\n",
    "def cal_the_return(testPredict,testY):\n",
    "    # 测试集的实际收益率和测试集的预测收益率\n",
    "    compare=pd.DataFrame({'pred_y':testPredict.T[0],'real_y':testY.T[0]})\n",
    "    # 计算转债累计收益率\n",
    "    accy=(compare['real_y']/100+1).cumprod()\n",
    "    # 计算策略累计收益率\n",
    "    accp=(pd.Series(compare['real_y'][compare['pred_y']>0],index=compare.index).fillna(0)/100+1).cumprod() # 对于预测收益大于0的，进行买入\n",
    "    \n",
    "    compare['acc_y'] = accy # 累计收益率真实值\n",
    "    compare['acc_p'] = accp # 预测累计收益率\n",
    "    return compare\n",
    "\n",
    "\n",
    "def data_processing(price_series,look_back):\n",
    "    # 转换为收益率序列\n",
    "    pct_chg_series=(price_series/price_series.shift(1)-1)[1:]\n",
    "    # 进行归一化\n",
    "    scaler = MinMaxScaler(feature_range=(0, 1))  # 定义归一化函数，归一化0-1\n",
    "    scaler_series=scaler.fit_transform(np.array(pct_chg_series*100).reshape(len(pct_chg_series),1))\n",
    "    train,test=scaler_series[0:int(len(scaler_series)*0.7)],scaler_series[int(len(scaler_series)*0.7):] # 对其进行训练和测试的划分\n",
    "    # 对于训练集和测试集按照所需格式进行划分\n",
    "    train_x,train_y=create_dataset(train,look_back=20) # 训练集\n",
    "    test_x,test_y=create_dataset(test,look_back=20) # 测试集\n",
    "    # 进行reshape，用于LSTM模型\n",
    "    train_x=np.reshape(train_x, (train_x.shape[0], 1, train_x.shape[1]))\n",
    "    test_x=np.reshape(test_x, (test_x.shape[0], 1, test_x.shape[1]))\n",
    "    return train_x,train_y,test_x,test_y,scaler\n",
    "    \n",
    "    \n",
    "def LSTM_model(price_series):\n",
    "    \n",
    "    assert type(price_series)==type(pd.Series(dtype='float')),'请传入价格的pandas Series序列'\n",
    "    np.random.seed(7)\n",
    "    look_back=20\n",
    "    train_x,train_y,test_x,test_y,scaler=data_processing(price_series,look_back)\n",
    "\n",
    "    print('开始训练')\n",
    "    model=train_model(train_x,train_y,look_back)\n",
    "    \n",
    "    # 评估结果\n",
    "    print('开始评估结果')\n",
    "    train_predict=model.predict(train_x)\n",
    "    test_predict=model.predict(test_x)\n",
    "    # 反归一化\n",
    "    train_predict=scaler.inverse_transform(train_predict)\n",
    "    test_predict=scaler.inverse_transform(test_predict)\n",
    "    train_y=scaler.inverse_transform(train_y)\n",
    "    test_y=scaler.inverse_transform(test_y)\n",
    "    # 进行策略对比\n",
    "    compare=cal_the_return(test_predict,test_y)\n",
    "    # 输出mse值\n",
    "    trainScore = math.sqrt(mean_squared_error(train_y, train_predict))\n",
    "    print('Train Score: %.5f RMSE' % (trainScore))\n",
    "    testScore = math.sqrt(mean_squared_error(test_y, test_predict))\n",
    "    print('Test Score: %.5f RMSE' % (testScore))\n",
    "    \n",
    "    return compare"
   ]
  },
  {
   "cell_type": "code",
   "execution_count": 71,
   "metadata": {},
   "outputs": [
    {
     "name": "stdout",
     "output_type": "stream",
     "text": [
      "开始训练\n",
      "开始评估结果\n",
      "Train Score: 0.51294 RMSE\n",
      "Test Score: 1.15827 RMSE\n"
     ]
    },
    {
     "data": {
      "text/html": [
       "<div>\n",
       "<style scoped>\n",
       "    .dataframe tbody tr th:only-of-type {\n",
       "        vertical-align: middle;\n",
       "    }\n",
       "\n",
       "    .dataframe tbody tr th {\n",
       "        vertical-align: top;\n",
       "    }\n",
       "\n",
       "    .dataframe thead th {\n",
       "        text-align: right;\n",
       "    }\n",
       "</style>\n",
       "<table border=\"1\" class=\"dataframe\">\n",
       "  <thead>\n",
       "    <tr style=\"text-align: right;\">\n",
       "      <th></th>\n",
       "      <th>pred_y</th>\n",
       "      <th>real_y</th>\n",
       "      <th>acc_y</th>\n",
       "      <th>acc_p</th>\n",
       "    </tr>\n",
       "  </thead>\n",
       "  <tbody>\n",
       "    <tr>\n",
       "      <th>0</th>\n",
       "      <td>0.067939</td>\n",
       "      <td>-0.251389</td>\n",
       "      <td>0.997486</td>\n",
       "      <td>0.997486</td>\n",
       "    </tr>\n",
       "    <tr>\n",
       "      <th>1</th>\n",
       "      <td>-0.056778</td>\n",
       "      <td>-0.878553</td>\n",
       "      <td>0.988723</td>\n",
       "      <td>0.997486</td>\n",
       "    </tr>\n",
       "    <tr>\n",
       "      <th>2</th>\n",
       "      <td>0.057350</td>\n",
       "      <td>1.122133</td>\n",
       "      <td>0.999817</td>\n",
       "      <td>1.008679</td>\n",
       "    </tr>\n",
       "    <tr>\n",
       "      <th>3</th>\n",
       "      <td>0.105613</td>\n",
       "      <td>-0.609305</td>\n",
       "      <td>0.993726</td>\n",
       "      <td>1.002533</td>\n",
       "    </tr>\n",
       "    <tr>\n",
       "      <th>4</th>\n",
       "      <td>0.097816</td>\n",
       "      <td>0.883491</td>\n",
       "      <td>1.002505</td>\n",
       "      <td>1.011391</td>\n",
       "    </tr>\n",
       "    <tr>\n",
       "      <th>...</th>\n",
       "      <td>...</td>\n",
       "      <td>...</td>\n",
       "      <td>...</td>\n",
       "      <td>...</td>\n",
       "    </tr>\n",
       "    <tr>\n",
       "      <th>193</th>\n",
       "      <td>-0.063893</td>\n",
       "      <td>-0.201104</td>\n",
       "      <td>0.991219</td>\n",
       "      <td>0.872349</td>\n",
       "    </tr>\n",
       "    <tr>\n",
       "      <th>194</th>\n",
       "      <td>-0.028311</td>\n",
       "      <td>-0.866410</td>\n",
       "      <td>0.982631</td>\n",
       "      <td>0.872349</td>\n",
       "    </tr>\n",
       "    <tr>\n",
       "      <th>195</th>\n",
       "      <td>-0.015703</td>\n",
       "      <td>-1.544603</td>\n",
       "      <td>0.967453</td>\n",
       "      <td>0.872349</td>\n",
       "    </tr>\n",
       "    <tr>\n",
       "      <th>196</th>\n",
       "      <td>-0.022635</td>\n",
       "      <td>0.419362</td>\n",
       "      <td>0.971510</td>\n",
       "      <td>0.872349</td>\n",
       "    </tr>\n",
       "    <tr>\n",
       "      <th>197</th>\n",
       "      <td>0.050240</td>\n",
       "      <td>0.015491</td>\n",
       "      <td>0.971661</td>\n",
       "      <td>0.872484</td>\n",
       "    </tr>\n",
       "  </tbody>\n",
       "</table>\n",
       "<p>198 rows × 4 columns</p>\n",
       "</div>"
      ],
      "text/plain": [
       "       pred_y    real_y     acc_y     acc_p\n",
       "0    0.067939 -0.251389  0.997486  0.997486\n",
       "1   -0.056778 -0.878553  0.988723  0.997486\n",
       "2    0.057350  1.122133  0.999817  1.008679\n",
       "3    0.105613 -0.609305  0.993726  1.002533\n",
       "4    0.097816  0.883491  1.002505  1.011391\n",
       "..        ...       ...       ...       ...\n",
       "193 -0.063893 -0.201104  0.991219  0.872349\n",
       "194 -0.028311 -0.866410  0.982631  0.872349\n",
       "195 -0.015703 -1.544603  0.967453  0.872349\n",
       "196 -0.022635  0.419362  0.971510  0.872349\n",
       "197  0.050240  0.015491  0.971661  0.872484\n",
       "\n",
       "[198 rows x 4 columns]"
      ]
     },
     "execution_count": 71,
     "metadata": {},
     "output_type": "execute_result"
    }
   ],
   "source": [
    "df=pd.read_excel('转债时间序列.xlsx',index_col=0)[:-7]\n",
    "compare=LSTM_model(df['110031.SH'])\n",
    "compare"
   ]
  },
  {
   "cell_type": "code",
   "execution_count": 72,
   "metadata": {},
   "outputs": [
    {
     "data": {
      "text/plain": [
       "<matplotlib.axes._subplots.AxesSubplot at 0x1c6b1109a48>"
      ]
     },
     "execution_count": 72,
     "metadata": {},
     "output_type": "execute_result"
    },
    {
     "data": {
      "image/png": "[encoded data removed]",
      "text/plain": [
       "<Figure size 432x288 with 1 Axes>"
      ]
     },
     "metadata": {
      "needs_background": "light"
     },
     "output_type": "display_data"
    }
   ],
   "source": [
    "compare.iloc[:,2:].plot()"
   ]
  },
  {
   "cell_type": "code",
   "execution_count": null,
   "metadata": {},
   "outputs": [],
   "source": []
  },
  {
   "cell_type": "code",
   "execution_count": 21,
   "metadata": {},
   "outputs": [
    {
     "data": {
      "text/plain": [
       "<matplotlib.axes._subplots.AxesSubplot at 0x1c6abe2f748>"
      ]
     },
     "execution_count": 21,
     "metadata": {},
     "output_type": "execute_result"
    },
    {
     "data": {
      "image/png": "[encoded data removed]",
      "text/plain": [
       "<Figure size 432x288 with 1 Axes>"
      ]
     },
     "metadata": {
      "needs_background": "light"
     },
     "output_type": "display_data"
    }
   ],
   "source": [
    "df['110031.SH'].plot()"
   ]
  },
  {
   "cell_type": "code",
   "execution_count": null,
   "metadata": {},
   "outputs": [],
   "source": []
  }
 ],
 "metadata": {
  "kernelspec": {
   "display_name": "Python 3",
   "language": "python",
   "name": "python3"
  },
  "language_info": {
   "codemirror_mode": {
    "name": "ipython",
    "version": 3
   },
   "file_extension": ".py",
   "mimetype": "text/x-python",
   "name": "python",
   "nbconvert_exporter": "python",
   "pygments_lexer": "ipython3",
   "version": "3.7.6"
  }
 },
 "nbformat": 4,
 "nbformat_minor": 4
}
