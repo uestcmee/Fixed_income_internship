{
 "cells": [
  {
   "cell_type": "markdown",
   "metadata": {},
   "source": [
    "# 使用CUSUM控制图寻找变点\n",
    "\n",
    "基于长江证券金融工程报告[**变点理论在择时中的应用：CUSUM控制图**](https://max.book118.com/html/2017/0726/124391946.shtm)\n",
    "\n",
    "\n",
    "## 变点理论\n",
    "\n",
    "变点是指在一个序列或过程中，当某个统计特性（分布类型、分布参数）在某时间点发生变化，随机过程异质，称该时间点即为变点。过程仅受随机因素影响时，处于受控状态，存在系统因素影响时，处于失控状态。\n",
    "\n",
    "## 控制图技术\n",
    "\n",
    "控制图是统计过程最直接的应用，利用数理统计方法和计算机技术对工业过程或其他领域中的一个或多个变量进行监控，判断变量是否偏离典型分布、发生异动。控制图技术可减少偶然因素和异常因素判断的主观性，通过重复性的工作，可较大程度地降低工作量。其主要表现形式是具有控制线（中心线 CL、上控制界限 UCL、下控制界限 LCL）和样本统计量（按时间序列抽取的描点序列）的统计图，通过预先设定的控制线，客观科学的区别和判断两类因素（系统性因素和偶然性因素）所引起的波动。因此，构建控制图核心问题就是经济合理的确定统计量和控制线。\n",
    "\n",
    "## 择时原理\n",
    "\n",
    "控制图作为检测变点的一种典型方法，在工业生产应用中得到了广泛的应用，并形成一套成熟的体系。同样是通过抽取样本对产品的总体分布进行检测，我们完全可以将控制图的方法应用于股票技术择时中来，以检测变量的均值漂移过程。本文基于变点控制图图的基本原理，以股价对数收益率符合局部正态分布为基本原理，构建三大控制图（Shewhart 控制图、CUSUM 控制图、EWMA\n",
    "控制图）的统计量和控制限，一旦统计量突破阈值即判断出现变点。以股价上升时对数收益率出现上升变点作为买入时机，以股价下降时对数收益率出现下降变点作为卖出时机进行择时判别。\n",
    "\n",
    "## 数据概览\n",
    "\n",
    "* 使用沪深300指数收盘数据\n",
    "* 数据频率：15分钟\n",
    "* 价格使用前复权数据\n",
    "* 时间范围2017-01-01-->2020-03-27\n",
    "\n"
   ]
  },
  {
   "cell_type": "markdown",
   "metadata": {},
   "source": [
    "从Wind获取数据"
   ]
  },
  {
   "cell_type": "code",
   "execution_count": 1,
   "metadata": {},
   "outputs": [
    {
     "name": "stdout",
     "output_type": "stream",
     "text": [
      "Welcome to use Wind Quant API for Python (WindPy)!\n",
      "\n",
      "COPYRIGHT (C) 2017 WIND INFORMATION CO., LTD. ALL RIGHTS RESERVED.\n",
      "IN NO CIRCUMSTANCE SHALL WIND BE RESPONSIBLE FOR ANY DAMAGES OR LOSSES CAUSED BY USING WIND QUANT API FOR Python.\n"
     ]
    },
    {
     "data": {
      "text/html": [
       "<div>\n",
       "<style scoped>\n",
       "    .dataframe tbody tr th:only-of-type {\n",
       "        vertical-align: middle;\n",
       "    }\n",
       "\n",
       "    .dataframe tbody tr th {\n",
       "        vertical-align: top;\n",
       "    }\n",
       "\n",
       "    .dataframe thead th {\n",
       "        text-align: right;\n",
       "    }\n",
       "</style>\n",
       "<table border=\"1\" class=\"dataframe\">\n",
       "  <thead>\n",
       "    <tr style=\"text-align: right;\">\n",
       "      <th></th>\n",
       "      <th>close</th>\n",
       "    </tr>\n",
       "  </thead>\n",
       "  <tbody>\n",
       "    <tr>\n",
       "      <th>2017-03-29 09:45:00</th>\n",
       "      <td>3467.84</td>\n",
       "    </tr>\n",
       "    <tr>\n",
       "      <th>2017-03-29 10:00:00</th>\n",
       "      <td>3469.93</td>\n",
       "    </tr>\n",
       "    <tr>\n",
       "      <th>2017-03-29 10:15:00</th>\n",
       "      <td>3457.15</td>\n",
       "    </tr>\n",
       "    <tr>\n",
       "      <th>2017-03-29 10:30:00</th>\n",
       "      <td>3459.14</td>\n",
       "    </tr>\n",
       "    <tr>\n",
       "      <th>2017-03-29 10:45:00</th>\n",
       "      <td>3464.31</td>\n",
       "    </tr>\n",
       "  </tbody>\n",
       "</table>\n",
       "</div>"
      ],
      "text/plain": [
       "                       close\n",
       "2017-03-29 09:45:00  3467.84\n",
       "2017-03-29 10:00:00  3469.93\n",
       "2017-03-29 10:15:00  3457.15\n",
       "2017-03-29 10:30:00  3459.14\n",
       "2017-03-29 10:45:00  3464.31"
      ]
     },
     "execution_count": 1,
     "metadata": {},
     "output_type": "execute_result"
    }
   ],
   "source": [
    "import numpy as np\n",
    "import pandas as pd\n",
    "import matplotlib.pyplot as plt\n",
    "import talib\n",
    "from WindPy import *\n",
    "\n",
    "w.start()\n",
    "error,df5min=w.wsi(\"000300.SH\", \"close\", \"2017-01-01 09:00:00\", \"2020-03-27 14:25:00\", \"BarSize=15;Fill=Previous\", usedf=True)\n",
    "df5min.head()"
   ]
  },
  {
   "cell_type": "markdown",
   "metadata": {},
   "source": [
    "数据描述性统计"
   ]
  },
  {
   "cell_type": "code",
   "execution_count": 2,
   "metadata": {},
   "outputs": [
    {
     "data": {
      "text/html": [
       "<div>\n",
       "<style scoped>\n",
       "    .dataframe tbody tr th:only-of-type {\n",
       "        vertical-align: middle;\n",
       "    }\n",
       "\n",
       "    .dataframe tbody tr th {\n",
       "        vertical-align: top;\n",
       "    }\n",
       "\n",
       "    .dataframe thead th {\n",
       "        text-align: right;\n",
       "    }\n",
       "</style>\n",
       "<table border=\"1\" class=\"dataframe\">\n",
       "  <thead>\n",
       "    <tr style=\"text-align: right;\">\n",
       "      <th></th>\n",
       "      <th>close</th>\n",
       "    </tr>\n",
       "  </thead>\n",
       "  <tbody>\n",
       "    <tr>\n",
       "      <th>count</th>\n",
       "      <td>11694.000000</td>\n",
       "    </tr>\n",
       "    <tr>\n",
       "      <th>mean</th>\n",
       "      <td>3720.329384</td>\n",
       "    </tr>\n",
       "    <tr>\n",
       "      <th>std</th>\n",
       "      <td>309.264095</td>\n",
       "    </tr>\n",
       "    <tr>\n",
       "      <th>min</th>\n",
       "      <td>2958.920000</td>\n",
       "    </tr>\n",
       "    <tr>\n",
       "      <th>25%</th>\n",
       "      <td>3482.205000</td>\n",
       "    </tr>\n",
       "    <tr>\n",
       "      <th>50%</th>\n",
       "      <td>3792.915000</td>\n",
       "    </tr>\n",
       "    <tr>\n",
       "      <th>75%</th>\n",
       "      <td>3938.957725</td>\n",
       "    </tr>\n",
       "    <tr>\n",
       "      <th>max</th>\n",
       "      <td>4399.470000</td>\n",
       "    </tr>\n",
       "  </tbody>\n",
       "</table>\n",
       "</div>"
      ],
      "text/plain": [
       "              close\n",
       "count  11694.000000\n",
       "mean    3720.329384\n",
       "std      309.264095\n",
       "min     2958.920000\n",
       "25%     3482.205000\n",
       "50%     3792.915000\n",
       "75%     3938.957725\n",
       "max     4399.470000"
      ]
     },
     "execution_count": 2,
     "metadata": {},
     "output_type": "execute_result"
    }
   ],
   "source": [
    "df5min.describe()"
   ]
  },
  {
   "cell_type": "markdown",
   "metadata": {},
   "source": [
    "使用CUSUM计算得到变点数据"
   ]
  },
  {
   "cell_type": "code",
   "execution_count": 40,
   "metadata": {},
   "outputs": [],
   "source": [
    "\n",
    "def detect_via_cusum_lg(ts, istart=30, threshold_times=5):\n",
    "    \"\"\"\n",
    "    detect a time series using  cusum algorithm\n",
    "    :param ts: the time series to be detected\n",
    "    :param istart: the data from index 0 to index istart will be used as cold startup data to train\n",
    "    :param threshold_times: the times for setting threshold\n",
    "    :return:\n",
    "    \"\"\"\n",
    "    S_h = 0\n",
    "    S_l = 0\n",
    "    S_list = np.zeros(istart) # 前面填充的30个空数据\n",
    "    meanArray = talib.SMA(ts,timeperiod = istart)\n",
    "    stdArray = talib.STDDEV(np.log(ts/meanArray),timeperiod = istart)\n",
    "    for i in range(istart, len(ts)): # 这里是否应该掐头去尾？\n",
    "        tslog = np.log(ts[i] / meanArray[i - 1])\n",
    "        S_h_ = max(0, S_h + tslog - stdArray[i-1])\n",
    "        S_l_ = min(0, S_l + tslog + stdArray[i-1])\n",
    "        if S_h_> threshold_times * stdArray[i-1]:\n",
    "            S_list = np.append(S_list,1) # 该点为上变点\n",
    "            S_h_ = 0\n",
    "        elif abs(S_l_)> threshold_times *  stdArray[i-1]:\n",
    "            S_list = np.append(S_list, -1) # 该点为下变点\n",
    "            S_l_ = 0\n",
    "        else:\n",
    "            S_list = np.append(S_list, 0) # 该点无特殊情况\n",
    "        S_h = S_h_\n",
    "        S_l = S_l_\n",
    "\n",
    "    return S_list\n",
    "\n"
   ]
  },
  {
   "cell_type": "code",
   "execution_count": 66,
   "metadata": {},
   "outputs": [
    {
     "data": {
      "image/png": "[encoded data removed]",
      "text/plain": [
       "<Figure size 432x288 with 1 Axes>"
      ]
     },
     "metadata": {
      "needs_background": "light"
     },
     "output_type": "display_data"
    }
   ],
   "source": [
    "\n",
    "#数据导入\n",
    "dt0 = np.array(df5min[\"close\"])\n",
    "s_list = detect_via_cusum_lg(dt0,istart=30, threshold_times=100)\n",
    "\n",
    "listup,listdown = [],[]\n",
    "for i in range(0,len(s_list)):\n",
    "    if s_list[i] == 1:\n",
    "        listup.append(i)\n",
    "    elif s_list[i] == -1 :\n",
    "        listdown.append(i)\n",
    "signal_df=df5min[\"close\"]\n",
    "\n",
    "\n",
    "# listup=[757,4364,7384,9406]\n",
    "# listdown=[3348,4517,9200]\n",
    "\n",
    "plt.subplot(1,1,1)\n",
    "plt.plot(signal_df, color='wheat', lw=2.)\n",
    "plt.plot(signal_df, '^', markersize=5, color='r', label='UP signal', markevery=listup)\n",
    "plt.plot(signal_df, 'v', markersize=5, color='g', label='DOWN signal', markevery=listdown)\n",
    "plt.legend()\n",
    "\n",
    "plt.title('Up & Down Signal')\n",
    "# plt.subplot(2,1,2)\n",
    "# plt.title('s_list')\n",
    "# plt.plot(s_list,'r-')\n",
    "plt.show()"
   ]
  },
  {
   "cell_type": "markdown",
   "metadata": {},
   "source": [
    "对得到的变点数据，判断买入点和卖出点，计算指数和策略的收益率"
   ]
  },
  {
   "cell_type": "code",
   "execution_count": 57,
   "metadata": {},
   "outputs": [
    {
     "name": "stdout",
     "output_type": "stream",
     "text": [
      "757 buy\n",
      "3348 sell\n",
      "4364 buy\n",
      "4517 sell\n",
      "7284 buy\n",
      "9200 sell\n",
      "9406 buy\n"
     ]
    },
    {
     "data": {
      "text/html": [
       "<div>\n",
       "<style scoped>\n",
       "    .dataframe tbody tr th:only-of-type {\n",
       "        vertical-align: middle;\n",
       "    }\n",
       "\n",
       "    .dataframe tbody tr th {\n",
       "        vertical-align: top;\n",
       "    }\n",
       "\n",
       "    .dataframe thead th {\n",
       "        text-align: right;\n",
       "    }\n",
       "</style>\n",
       "<table border=\"1\" class=\"dataframe\">\n",
       "  <thead>\n",
       "    <tr style=\"text-align: right;\">\n",
       "      <th></th>\n",
       "      <th>index</th>\n",
       "      <th>stratety</th>\n",
       "    </tr>\n",
       "  </thead>\n",
       "  <tbody>\n",
       "    <tr>\n",
       "      <th>2020-03-27 13:30:00</th>\n",
       "      <td>1.075565</td>\n",
       "      <td>1.273467</td>\n",
       "    </tr>\n",
       "    <tr>\n",
       "      <th>2020-03-27 13:45:00</th>\n",
       "      <td>1.076894</td>\n",
       "      <td>1.275041</td>\n",
       "    </tr>\n",
       "    <tr>\n",
       "      <th>2020-03-27 14:00:00</th>\n",
       "      <td>1.077626</td>\n",
       "      <td>1.275906</td>\n",
       "    </tr>\n",
       "    <tr>\n",
       "      <th>2020-03-27 14:15:00</th>\n",
       "      <td>1.075798</td>\n",
       "      <td>1.273742</td>\n",
       "    </tr>\n",
       "    <tr>\n",
       "      <th>2020-03-27 14:30:00</th>\n",
       "      <td>1.074100</td>\n",
       "      <td>1.271732</td>\n",
       "    </tr>\n",
       "  </tbody>\n",
       "</table>\n",
       "</div>"
      ],
      "text/plain": [
       "                        index  stratety\n",
       "2020-03-27 13:30:00  1.075565  1.273467\n",
       "2020-03-27 13:45:00  1.076894  1.275041\n",
       "2020-03-27 14:00:00  1.077626  1.275906\n",
       "2020-03-27 14:15:00  1.075798  1.273742\n",
       "2020-03-27 14:30:00  1.074100  1.271732"
      ]
     },
     "execution_count": 57,
     "metadata": {},
     "output_type": "execute_result"
    }
   ],
   "source": [
    "r_i=df5min['close']/df5min['close'].shift(1)\n",
    "cum_return=pd.DataFrame(df5min['close']/df5min['close'][0])\n",
    "cumr_s=[1] # 策略收益率列表\n",
    "hold_flag=0\n",
    "for i in range(1,df5min.shape[0]):\n",
    "    if s_list[i]==1 and hold_flag==0: # 上升拐点且未持有\n",
    "        hold_flag=1\n",
    "        print(i,'buy')\n",
    "    elif s_list[i]==-1 and hold_flag==1: # 下降拐点且持有\n",
    "        hold_flag=0\n",
    "        print(i,'sell')\n",
    "    if hold_flag==1:\n",
    "        cumr_s.append(cumr_s[i-1]*r_i[i])\n",
    "    else:\n",
    "        cumr_s.append(cumr_s[i-1])\n",
    "cum_return.insert(1,'cumr_s',cumr_s)\n",
    "cum_return.columns=['index','stratety']\n",
    "cum_return.tail(5)"
   ]
  },
  {
   "cell_type": "markdown",
   "metadata": {},
   "source": [
    "绘制收益率的对比图像如下：\n",
    "\n",
    "注：各项指标由于使用的是15分钟数据，所有指标频率为分钟，年化收益率值不准确\n"
   ]
  },
  {
   "cell_type": "code",
   "execution_count": 58,
   "metadata": {},
   "outputs": [
    {
     "data": {
      "image/png": "[encoded data removed]",
      "text/plain": [
       "<Figure size 432x288 with 1 Axes>"
      ]
     },
     "metadata": {
      "needs_background": "light"
     },
     "output_type": "display_data"
    },
    {
     "data": {
      "text/html": [
       "<div>\n",
       "<style scoped>\n",
       "    .dataframe tbody tr th:only-of-type {\n",
       "        vertical-align: middle;\n",
       "    }\n",
       "\n",
       "    .dataframe tbody tr th {\n",
       "        vertical-align: top;\n",
       "    }\n",
       "\n",
       "    .dataframe thead th {\n",
       "        text-align: right;\n",
       "    }\n",
       "</style>\n",
       "<table border=\"1\" class=\"dataframe\">\n",
       "  <thead>\n",
       "    <tr style=\"text-align: right;\">\n",
       "      <th></th>\n",
       "      <th>信息比率</th>\n",
       "      <th>累计收益率</th>\n",
       "      <th>年化收益率</th>\n",
       "      <th>每日收益率</th>\n",
       "      <th>年化波动率</th>\n",
       "      <th>最大每日收益</th>\n",
       "      <th>最大每日损失</th>\n",
       "      <th>上涨天数</th>\n",
       "      <th>下跌天数</th>\n",
       "      <th>胜率</th>\n",
       "      <th>上涨时平均每日收益率</th>\n",
       "      <th>下跌时平均每日收益率</th>\n",
       "      <th>盈亏比</th>\n",
       "      <th>最大回撤</th>\n",
       "    </tr>\n",
       "  </thead>\n",
       "  <tbody>\n",
       "    <tr>\n",
       "      <th>index</th>\n",
       "      <td>0.056672</td>\n",
       "      <td>1.074100</td>\n",
       "      <td>0.002584</td>\n",
       "      <td>0.000010</td>\n",
       "      <td>0.045594</td>\n",
       "      <td>0.02715</td>\n",
       "      <td>-0.072546</td>\n",
       "      <td>5803.0</td>\n",
       "      <td>5882.0</td>\n",
       "      <td>0.496620</td>\n",
       "      <td>0.001882</td>\n",
       "      <td>-0.001836</td>\n",
       "      <td>1.024865</td>\n",
       "      <td>0.327437</td>\n",
       "    </tr>\n",
       "    <tr>\n",
       "      <th>stratety</th>\n",
       "      <td>0.165371</td>\n",
       "      <td>1.271732</td>\n",
       "      <td>0.005799</td>\n",
       "      <td>0.000023</td>\n",
       "      <td>0.035066</td>\n",
       "      <td>0.02715</td>\n",
       "      <td>-0.072546</td>\n",
       "      <td>3507.0</td>\n",
       "      <td>3436.0</td>\n",
       "      <td>0.505113</td>\n",
       "      <td>0.001800</td>\n",
       "      <td>-0.001759</td>\n",
       "      <td>1.023375</td>\n",
       "      <td>0.174029</td>\n",
       "    </tr>\n",
       "  </tbody>\n",
       "</table>\n",
       "</div>"
      ],
      "text/plain": [
       "              信息比率     累计收益率     年化收益率     每日收益率     年化波动率   最大每日收益    最大每日损失  \\\n",
       "index     0.056672  1.074100  0.002584  0.000010  0.045594  0.02715 -0.072546   \n",
       "stratety  0.165371  1.271732  0.005799  0.000023  0.035066  0.02715 -0.072546   \n",
       "\n",
       "            上涨天数    下跌天数        胜率  上涨时平均每日收益率  下跌时平均每日收益率       盈亏比      最大回撤  \n",
       "index     5803.0  5882.0  0.496620    0.001882   -0.001836  1.024865  0.327437  \n",
       "stratety  3507.0  3436.0  0.505113    0.001800   -0.001759  1.023375  0.174029  "
      ]
     },
     "execution_count": 58,
     "metadata": {},
     "output_type": "execute_result"
    }
   ],
   "source": [
    "cum_return.plot()\n",
    "plt.show()\n",
    "\n",
    "from Ratio import ratio\n",
    "single_day_r=(cum_return/(cum_return).shift(1))-1 # 计算指数和策略的单日收益率\n",
    "result=ratio().cal_ratio(single_day_r)\n",
    "result.T"
   ]
  },
  {
   "cell_type": "code",
   "execution_count": null,
   "metadata": {},
   "outputs": [],
   "source": []
  },
  {
   "cell_type": "code",
   "execution_count": null,
   "metadata": {},
   "outputs": [],
   "source": []
  },
  {
   "cell_type": "code",
   "execution_count": null,
   "metadata": {},
   "outputs": [],
   "source": []
  }
 ],
 "metadata": {
  "kernelspec": {
   "display_name": "Python 3",
   "language": "python",
   "name": "python3"
  },
  "language_info": {
   "codemirror_mode": {
    "name": "ipython",
    "version": 3
   },
   "file_extension": ".py",
   "mimetype": "text/x-python",
   "name": "python",
   "nbconvert_exporter": "python",
   "pygments_lexer": "ipython3",
   "version": "3.7.1"
  }
 },
 "nbformat": 4,
 "nbformat_minor": 2
}
