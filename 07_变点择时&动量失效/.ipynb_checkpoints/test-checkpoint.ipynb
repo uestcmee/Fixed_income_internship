{
 "cells": [
  {
   "cell_type": "code",
   "execution_count": null,
   "metadata": {},
   "outputs": [],
   "source": []
  },
  {
   "cell_type": "code",
   "execution_count": 24,
   "metadata": {},
   "outputs": [
    {
     "data": {
      "text/plain": [
       "{-1: {'2016-04-01': 1.0,\n",
       "  '2017-02-01': 1.0,\n",
       "  '2017-04-01': 0.0,\n",
       "  '2017-04-02': 1.0,\n",
       "  '2017-04-03': 1.0},\n",
       " 10: {'2016-04-01': 0.0,\n",
       "  '2017-02-01': 1.0,\n",
       "  '2017-04-01': 10.0,\n",
       "  '2017-04-02': 7.0,\n",
       "  '2017-04-03': 4.0}}"
      ]
     },
     "execution_count": 24,
     "metadata": {},
     "output_type": "execute_result"
    }
   ],
   "source": [
    "a=[['2016-04-01',-1],\n",
    "['2017-02-01',10],\n",
    "['2017-02-01',-1],\n",
    "['2017-04-01',10],\n",
    "['2017-04-01',10],\n",
    "['2017-04-01',10],\n",
    "['2017-04-01',10],\n",
    "['2017-04-01',10],\n",
    "['2017-04-01',10],\n",
    "['2017-04-01',10],\n",
    "['2017-04-01',10],\n",
    "['2017-04-01',10],\n",
    "['2017-04-01',10],\n",
    "['2017-04-02',10],\n",
    "['2017-04-02',10],\n",
    "['2017-04-02',10],\n",
    "['2017-04-02',10],\n",
    "['2017-04-02',-1],\n",
    "['2017-04-02',10],\n",
    "['2017-04-02',10],\n",
    "['2017-04-02',10],\n",
    "['2017-04-03',-1],\n",
    "['2017-04-03',10],\n",
    "['2017-04-03',10],\n",
    "['2017-04-03',10],\n",
    "['2017-04-03',10]]\n",
    "\n",
    "import pandas as pd\n",
    "\n",
    "df=pd.DataFrame(a,columns=['date','status'])\n",
    "a=df.groupby(['date', 'status']).size().unstack().fillna(0)\n",
    "a.to_dict()"
   ]
  },
  {
   "cell_type": "code",
   "execution_count": 30,
   "metadata": {},
   "outputs": [
    {
     "data": {
      "text/html": [
       "<div>\n",
       "<style scoped>\n",
       "    .dataframe tbody tr th:only-of-type {\n",
       "        vertical-align: middle;\n",
       "    }\n",
       "\n",
       "    .dataframe tbody tr th {\n",
       "        vertical-align: top;\n",
       "    }\n",
       "\n",
       "    .dataframe thead th {\n",
       "        text-align: right;\n",
       "    }\n",
       "</style>\n",
       "<table border=\"1\" class=\"dataframe\">\n",
       "  <thead>\n",
       "    <tr style=\"text-align: right;\">\n",
       "      <th>status</th>\n",
       "      <th>-1</th>\n",
       "      <th>10</th>\n",
       "    </tr>\n",
       "    <tr>\n",
       "      <th>date</th>\n",
       "      <th></th>\n",
       "      <th></th>\n",
       "    </tr>\n",
       "  </thead>\n",
       "  <tbody>\n",
       "    <tr>\n",
       "      <th>2016-04-01</th>\n",
       "      <td>1.0</td>\n",
       "      <td>NaN</td>\n",
       "    </tr>\n",
       "    <tr>\n",
       "      <th>2017-02-01</th>\n",
       "      <td>1.0</td>\n",
       "      <td>1.0</td>\n",
       "    </tr>\n",
       "    <tr>\n",
       "      <th>2017-04-01</th>\n",
       "      <td>NaN</td>\n",
       "      <td>10.0</td>\n",
       "    </tr>\n",
       "    <tr>\n",
       "      <th>2017-04-02</th>\n",
       "      <td>1.0</td>\n",
       "      <td>7.0</td>\n",
       "    </tr>\n",
       "    <tr>\n",
       "      <th>2017-04-03</th>\n",
       "      <td>1.0</td>\n",
       "      <td>4.0</td>\n",
       "    </tr>\n",
       "  </tbody>\n",
       "</table>\n",
       "</div>"
      ],
      "text/plain": [
       "status      -1     10\n",
       "date                 \n",
       "2016-04-01  1.0   NaN\n",
       "2017-02-01  1.0   1.0\n",
       "2017-04-01  NaN  10.0\n",
       "2017-04-02  1.0   7.0\n",
       "2017-04-03  1.0   4.0"
      ]
     },
     "execution_count": 30,
     "metadata": {},
     "output_type": "execute_result"
    }
   ],
   "source": [
    "df.groupby(['date', 'status']).size().unstack()\n"
   ]
  },
  {
   "cell_type": "code",
   "execution_count": 23,
   "metadata": {},
   "outputs": [
    {
     "name": "stdout",
     "output_type": "stream",
     "text": [
      "{'date': '2016-04-01'}\n",
      "{'date': '2017-02-01'}\n",
      "{'date': '2017-04-01'}\n",
      "{'date': '2017-04-02'}\n",
      "{'date': '2017-04-03'}\n",
      "[{'date': '2016-04-01', 'status-1': 1}, {'date': '2017-02-01', 'status-1': 1, 'status10': 1}, {'date': '2017-04-01', 'status10': 10}, {'date': '2017-04-02', 'status-1': 1, 'status10': 7}, {'date': '2017-04-03', 'status-1': 1, 'status10': 4}]\n"
     ]
    }
   ],
   "source": [
    "lst = []\n",
    "for name, group in df.groupby('date'):\n",
    "    d = dict(date=name)\n",
    "    print(d)\n",
    "    for n, g in group.groupby('status'):\n",
    "        d['status{}'.format(n)] = len(g)\n",
    "    lst.append(d)\n",
    "\n",
    "print(lst)"
   ]
  },
  {
   "cell_type": "code",
   "execution_count": null,
   "metadata": {},
   "outputs": [],
   "source": []
  }
 ],
 "metadata": {
  "kernelspec": {
   "display_name": "Python 3",
   "language": "python",
   "name": "python3"
  },
  "language_info": {
   "codemirror_mode": {
    "name": "ipython",
    "version": 3
   },
   "file_extension": ".py",
   "mimetype": "text/x-python",
   "name": "python",
   "nbconvert_exporter": "python",
   "pygments_lexer": "ipython3",
   "version": "3.7.1"
  }
 },
 "nbformat": 4,
 "nbformat_minor": 2
}
