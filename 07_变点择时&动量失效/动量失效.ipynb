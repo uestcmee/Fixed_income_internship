{
 "cells": [
  {
   "cell_type": "markdown",
   "metadata": {},
   "source": [
    "# 动量失效模型\n",
    "\n",
    "参考**数量化投资技术系列报告之三十二** 基于动量失效的量化择时策略探讨\n",
    "\n",
    "广义上来讲，任何利用前期的规律沿着趋势前进的现象的失效，都可以称作动量失效。\n",
    "\n",
    "在对因子贡献度的动量失效情况进行解释之后，我们发现动量的失效点往往发生在市场的拐点处，而这似乎也并不是一个巧合。加速度总是提\n",
    "前于速度形成拐点，传统量化择时方法总是偏于右侧，原因就是着眼于“速度”的策略必须等待速度形成新的趋势才可确认。\n",
    "\n",
    "市场朝一个方向发展到一定程度，则会向相反的方向进行转化，而这一原有规律的失效恰恰是两种相反方向起始与终结的拐点。在知晓拐点处的失效情况后，我们便开始着手判断市场的动量失效时点。\n",
    "\n",
    "## 数据概述\n",
    "\n",
    "* Wind获得沪深300的收盘数据\n",
    "* 数据频率：15分钟\n",
    "* 数据采用前复权价格\n",
    "* 时间区间：2017-01-01-->2020-03-27\n",
    "\n",
    "## 价格动量的定义 \n",
    "\n",
    "价格动量是根据过去的价格信息来推断未来的趋势。\n",
    "\n",
    "参照 MACD 指标的编制原理，我们会利用快速（短期）和慢速（长期）两条均线的位置和走势等股票的价格动量信息来判断股票下一步的动向，并从不同频度来加强我们的判断。\n",
    "\n",
    "我们根据周期长短，分别考虑以下频率的价格：**15 分钟、1 小时、1 日、1 周**。\n",
    "\n",
    "最短的频率为 15 分钟，故以 15 分钟为基本单位，则各频率可表示为：\n",
    "\n",
    "* 1 小时=4*15 分钟\n",
    "\n",
    "* 1 日=16*15 分钟\n",
    "\n",
    "下面会将 4 和 16 作为短期和长期的划分长度，而每 15 分钟取当时的 15 分钟价格、小时价格、日价格和周价格进行价格动量指标的构建。\n",
    "\n",
    "## 指标的构建 \n",
    "1. 计算移动平均值（EMA）\n",
    "\n",
    "短期：EMA（4）=前一刻钟 EMA（4）×3/5＋当前刻钟收盘价×2/5\n",
    "长期：EMA（16）=前一刻钟 EMA（16）×15/17＋当前刻钟收盘价×2/17\n",
    "\n",
    "2. 计算离差值（DIF）DIF=当前刻钟 EMA（4）-当前刻钟 EMA（16）\n",
    "\n",
    "3. 前期高低点\n",
    "前期的定义：根据变点数据所得到的拐点，将当期之前经历的一个完整趋势至今定义为前期。如当期 2009.4.5 之前有两个拐点 2008.11.7 和2009.1.20，则将 2008.11.7 至 2009.4.5 作为前期。\n",
    "\n",
    "    * 前期最高价：即前期所出现的最高收盘价（在 15 分钟、小时、日、周上会有所区别）\n",
    "    * 前期最低价：即前期所出现的最低收盘价\n",
    "    * 前期最高 DIF：即前期所出现的最高 DIF 值前期\n",
    "    * 最低 DIF：即前期所出现的最低 DIF 值\n",
    "\n",
    "## 指标的运用 \n",
    "\n",
    "1. 突破的确定若当期价格超过前期最高价或低于前期最低价，则称为突破；同理对于 DIF 指标。\n",
    "2. 背离的确定若价格突破前期最高价（或最低价），而 DIF 指标未突破则称为背离，分钟、小时、日、周同时出现背离，则判断为出现反转。在此我们暂不对顶背离和底背离做出区别，统一为反转。后面会将反转具体分为上涨动量失效点（顶背离）和下跌动量失效点（底背离）。"
   ]
  },
  {
   "cell_type": "markdown",
   "metadata": {},
   "source": [
    "启动Wind API，从Wind获取数据"
   ]
  },
  {
   "cell_type": "code",
   "execution_count": 2,
   "metadata": {},
   "outputs": [
    {
     "name": "stdout",
     "output_type": "stream",
     "text": [
      "Welcome to use Wind Quant API for Python (WindPy)!\n",
      "\n",
      "COPYRIGHT (C) 2017 WIND INFORMATION CO., LTD. ALL RIGHTS RESERVED.\n",
      "IN NO CIRCUMSTANCE SHALL WIND BE RESPONSIBLE FOR ANY DAMAGES OR LOSSES CAUSED BY USING WIND QUANT API FOR Python.\n"
     ]
    },
    {
     "data": {
      "text/html": [
       "<div>\n",
       "<style scoped>\n",
       "    .dataframe tbody tr th:only-of-type {\n",
       "        vertical-align: middle;\n",
       "    }\n",
       "\n",
       "    .dataframe tbody tr th {\n",
       "        vertical-align: top;\n",
       "    }\n",
       "\n",
       "    .dataframe thead th {\n",
       "        text-align: right;\n",
       "    }\n",
       "</style>\n",
       "<table border=\"1\" class=\"dataframe\">\n",
       "  <thead>\n",
       "    <tr style=\"text-align: right;\">\n",
       "      <th></th>\n",
       "      <th>close</th>\n",
       "    </tr>\n",
       "  </thead>\n",
       "  <tbody>\n",
       "    <tr>\n",
       "      <th>2017-03-29 09:45:00</th>\n",
       "      <td>3467.84</td>\n",
       "    </tr>\n",
       "    <tr>\n",
       "      <th>2017-03-29 10:00:00</th>\n",
       "      <td>3469.93</td>\n",
       "    </tr>\n",
       "    <tr>\n",
       "      <th>2017-03-29 10:15:00</th>\n",
       "      <td>3457.15</td>\n",
       "    </tr>\n",
       "    <tr>\n",
       "      <th>2017-03-29 10:30:00</th>\n",
       "      <td>3459.14</td>\n",
       "    </tr>\n",
       "    <tr>\n",
       "      <th>2017-03-29 10:45:00</th>\n",
       "      <td>3464.31</td>\n",
       "    </tr>\n",
       "  </tbody>\n",
       "</table>\n",
       "</div>"
      ],
      "text/plain": [
       "                       close\n",
       "2017-03-29 09:45:00  3467.84\n",
       "2017-03-29 10:00:00  3469.93\n",
       "2017-03-29 10:15:00  3457.15\n",
       "2017-03-29 10:30:00  3459.14\n",
       "2017-03-29 10:45:00  3464.31"
      ]
     },
     "execution_count": 2,
     "metadata": {},
     "output_type": "execute_result"
    }
   ],
   "source": [
    "from WindPy import *\n",
    "import pandas as pd\n",
    "import matplotlib.pyplot as plt\n",
    "import numpy as np\n",
    "w.start()\n",
    "error,data_df=w.wsi(\"000300.SH\", \"close\", \"2017-01-01 09:00:00\", \"2020-03-27 14:25:00\", \"BarSize=15;Fill=Previous\", usedf=True)\n",
    "\n",
    "assert error == 0, \"API数据提取错误，ErrorCode={}，具体含义请至帮助文档附件《常见API错误码》中查询。\".format(error)\n",
    "\n",
    "data_df.head()"
   ]
  },
  {
   "cell_type": "markdown",
   "metadata": {},
   "source": [
    "分别按照各个时间频度（15 分钟、1 小时、1 日、1 周）计算对应的收盘价，并计算对应的4期和16期的移动平均值（EMA），并相减得到离差值"
   ]
  },
  {
   "cell_type": "code",
   "execution_count": 3,
   "metadata": {},
   "outputs": [
    {
     "data": {
      "text/html": [
       "<div>\n",
       "<style scoped>\n",
       "    .dataframe tbody tr th:only-of-type {\n",
       "        vertical-align: middle;\n",
       "    }\n",
       "\n",
       "    .dataframe tbody tr th {\n",
       "        vertical-align: top;\n",
       "    }\n",
       "\n",
       "    .dataframe thead th {\n",
       "        text-align: right;\n",
       "    }\n",
       "</style>\n",
       "<table border=\"1\" class=\"dataframe\">\n",
       "  <thead>\n",
       "    <tr style=\"text-align: right;\">\n",
       "      <th></th>\n",
       "      <th>close</th>\n",
       "      <th>ema4</th>\n",
       "      <th>ema16</th>\n",
       "      <th>dif</th>\n",
       "    </tr>\n",
       "  </thead>\n",
       "  <tbody>\n",
       "    <tr>\n",
       "      <th>2020-03-27 10:45:00</th>\n",
       "      <td>3732.0968</td>\n",
       "      <td>3727.044550</td>\n",
       "      <td>3718.169529</td>\n",
       "      <td>8.875021</td>\n",
       "    </tr>\n",
       "    <tr>\n",
       "      <th>2020-03-27 11:00:00</th>\n",
       "      <td>3719.7618</td>\n",
       "      <td>3724.131450</td>\n",
       "      <td>3718.356855</td>\n",
       "      <td>5.774595</td>\n",
       "    </tr>\n",
       "    <tr>\n",
       "      <th>2020-03-27 11:15:00</th>\n",
       "      <td>3730.1951</td>\n",
       "      <td>3726.556910</td>\n",
       "      <td>3719.749590</td>\n",
       "      <td>6.807320</td>\n",
       "    </tr>\n",
       "    <tr>\n",
       "      <th>2020-03-27 11:30:00</th>\n",
       "      <td>3757.1000</td>\n",
       "      <td>3738.774146</td>\n",
       "      <td>3724.143756</td>\n",
       "      <td>14.630390</td>\n",
       "    </tr>\n",
       "    <tr>\n",
       "      <th>2020-03-27 13:15:00</th>\n",
       "      <td>3735.1490</td>\n",
       "      <td>3737.324088</td>\n",
       "      <td>3725.438490</td>\n",
       "      <td>11.885597</td>\n",
       "    </tr>\n",
       "    <tr>\n",
       "      <th>2020-03-27 13:30:00</th>\n",
       "      <td>3729.8879</td>\n",
       "      <td>3734.349613</td>\n",
       "      <td>3725.961950</td>\n",
       "      <td>8.387662</td>\n",
       "    </tr>\n",
       "    <tr>\n",
       "      <th>2020-03-27 13:45:00</th>\n",
       "      <td>3734.4973</td>\n",
       "      <td>3734.408688</td>\n",
       "      <td>3726.966109</td>\n",
       "      <td>7.442579</td>\n",
       "    </tr>\n",
       "    <tr>\n",
       "      <th>2020-03-27 14:00:00</th>\n",
       "      <td>3737.0332</td>\n",
       "      <td>3735.458493</td>\n",
       "      <td>3728.150473</td>\n",
       "      <td>7.308020</td>\n",
       "    </tr>\n",
       "    <tr>\n",
       "      <th>2020-03-27 14:15:00</th>\n",
       "      <td>3730.6946</td>\n",
       "      <td>3733.552936</td>\n",
       "      <td>3728.449782</td>\n",
       "      <td>5.103154</td>\n",
       "    </tr>\n",
       "    <tr>\n",
       "      <th>2020-03-27 14:30:00</th>\n",
       "      <td>3724.8074</td>\n",
       "      <td>3730.054721</td>\n",
       "      <td>3728.021266</td>\n",
       "      <td>2.033455</td>\n",
       "    </tr>\n",
       "  </tbody>\n",
       "</table>\n",
       "</div>"
      ],
      "text/plain": [
       "                         close         ema4        ema16        dif\n",
       "2020-03-27 10:45:00  3732.0968  3727.044550  3718.169529   8.875021\n",
       "2020-03-27 11:00:00  3719.7618  3724.131450  3718.356855   5.774595\n",
       "2020-03-27 11:15:00  3730.1951  3726.556910  3719.749590   6.807320\n",
       "2020-03-27 11:30:00  3757.1000  3738.774146  3724.143756  14.630390\n",
       "2020-03-27 13:15:00  3735.1490  3737.324088  3725.438490  11.885597\n",
       "2020-03-27 13:30:00  3729.8879  3734.349613  3725.961950   8.387662\n",
       "2020-03-27 13:45:00  3734.4973  3734.408688  3726.966109   7.442579\n",
       "2020-03-27 14:00:00  3737.0332  3735.458493  3728.150473   7.308020\n",
       "2020-03-27 14:15:00  3730.6946  3733.552936  3728.449782   5.103154\n",
       "2020-03-27 14:30:00  3724.8074  3730.054721  3728.021266   2.033455"
      ]
     },
     "execution_count": 3,
     "metadata": {},
     "output_type": "execute_result"
    }
   ],
   "source": [
    "mul=(1,4,16,80)\n",
    "\n",
    "\n",
    "def cal_ma(df):\n",
    "    MA_list=[4,16]\n",
    "    for ma in MA_list:\n",
    "        df['ema'+str(ma)]=df['close'].ewm(span=ma).mean()\n",
    "    df['dif']=df['ema4']-df['ema16']\n",
    "    return df\n",
    "df_list={}\n",
    "for m in mul:\n",
    "    if m==1:\n",
    "        buf_df=data_df\n",
    "    else:\n",
    "        close_m=np.zeros(data_df['close'].shape)\n",
    "        for i in range(data_df.shape[0]):\n",
    "            close_m[i]=data_df['close'][int(i/m)*m]\n",
    "        buf_df=pd.DataFrame(close_m,columns=['close'])\n",
    "    buf_df=cal_ma(buf_df)\n",
    "    df_list[m]=buf_df\n",
    "# data_df\n",
    "df_list.keys()\n",
    "df_list[1].tail(10)"
   ]
  },
  {
   "cell_type": "markdown",
   "metadata": {},
   "source": [
    "将15分钟频度收盘价和离差值得图像绘制如下"
   ]
  },
  {
   "cell_type": "code",
   "execution_count": 4,
   "metadata": {},
   "outputs": [
    {
     "data": {
      "image/png": "[encoded data removed]",
      "text/plain": [
       "<Figure size 432x288 with 2 Axes>"
      ]
     },
     "metadata": {
      "needs_background": "light"
     },
     "output_type": "display_data"
    }
   ],
   "source": [
    "fig=plt.figure()\n",
    "ax=plt.subplot(211)\n",
    "ax.plot(df_list[1]['close'])\n",
    "ax.set_title('close and dif')\n",
    "ax=plt.subplot(212)\n",
    "ax.plot(df_list[1]['dif'])\n",
    "\n",
    "plt.show()"
   ]
  },
  {
   "cell_type": "markdown",
   "metadata": {},
   "source": [
    "此处使用从变点择时策略中得到的变点数据（使用的threshold_times阈值取100，为了与国信证券报告中的变点出现频率相似），确定**突破**和**背离**，找到对应得突破和背离点"
   ]
  },
  {
   "cell_type": "code",
   "execution_count": 19,
   "metadata": {},
   "outputs": [
    {
     "name": "stdout",
     "output_type": "stream",
     "text": [
      "单位时长：15min*1\n",
      "已完成11000个已完成\n",
      "单位时长：15min*4\n",
      "已完成11000个已完成\n",
      "单位时长：15min*16\n",
      "已完成11000个已完成\n",
      "单位时长：15min*80\n",
      "已完成11000个已完成\n"
     ]
    }
   ],
   "source": [
    "# strr='''788 buy\n",
    "# 3379 sell\n",
    "# 4395 buy\n",
    "# 4548 sell\n",
    "# 7315 buy\n",
    "# 9231 sell\n",
    "# 9437 buy'''\n",
    "strr='''757 buy\n",
    "3348 sell\n",
    "4364 buy\n",
    "4517 sell\n",
    "7284 buy\n",
    "9200 sell\n",
    "9406 buy'''\n",
    "\n",
    "inflection_points= [int(i.split(' ')[0]) for i in strr.split('\\n')]\n",
    "\n",
    "def get_start_point(i): # 区间起始点\n",
    "    i=int(i)\n",
    "    for p in range(len(inflection_points)):\n",
    "        if i>inflection_points[-1]: # 如果已经在最后一个变点之后\n",
    "            return inflection_points[-2] # 取倒数第二个点为区间开始点\n",
    "        elif inflection_points[p]<i and inflection_points[p+1]>=i: # 其他情况\n",
    "            return inflection_points[p-1]\n",
    "        elif i<=inflection_points[0]:\n",
    "            return 0\n",
    "        else:\n",
    "            pass\n",
    "    raise BaseException\n",
    "def get_beili_list(one_df): # 获取背离点\n",
    "    beili_list=[[],[]]\n",
    "    npp=np.array(one_df) # 使用numpy提升速度,价格和偏离分别在第0列和3列\n",
    "    for i in range(one_df.shape[0]):\n",
    "        if i%1000==0:\n",
    "            print('\\r已完成{}个'.format(i),end='')\n",
    "        [price,dif]=[npp[i][0],npp[i][3]] # 当前的价格和偏离\n",
    "        \n",
    "        start=get_start_point(i)\n",
    "#         if start==0:\n",
    "#             continue\n",
    "\n",
    "        period=npp[start:i] # 区间的价格和偏离数据\n",
    "        if period.size==0:\n",
    "            continue\n",
    "        p_low=period[:,0].min()\n",
    "        p_high=period[:,0].max()\n",
    "        dif_low=period[:,3].min()\n",
    "        dif_high=period[:,3].max()\n",
    "        # 几个突破指标\n",
    "        flags=[price>p_high,price<p_low,dif>dif_high,dif <dif_low]\n",
    "        \n",
    "        if flags[2:4]==[False,False]: # 如果dif未突破\n",
    "            if flags[0]==True: # 价格上突破\n",
    "                beili_list[0].append(i)\n",
    "            elif flags[1]==True: # 价格下突破\n",
    "                beili_list[1].append(i)\n",
    "    print('已完成')\n",
    "    return beili_list\n",
    "\n",
    "beili_lists={}\n",
    "for m in mul:\n",
    "    print('单位时长：15min*{}'.format(m))\n",
    "    beili_lists[m]=get_beili_list(df_list[m])\n",
    "    "
   ]
  },
  {
   "cell_type": "markdown",
   "metadata": {},
   "source": [
    "汇总各个频率的背离点\n",
    "按顶背离和底背离分别进行汇总"
   ]
  },
  {
   "cell_type": "code",
   "execution_count": 20,
   "metadata": {},
   "outputs": [
    {
     "data": {
      "text/plain": [
       "[[10800], [4880, 6080]]"
      ]
     },
     "execution_count": 20,
     "metadata": {},
     "output_type": "execute_result"
    }
   ],
   "source": [
    "join_beili=[[],[]]\n",
    "for i in [0,1]:\n",
    "    join_beili[i]=list(set(beili_lists[1][i]).intersection(beili_lists[mul[1]][i],beili_lists[mul[2]][i],beili_lists[mul[3]][i]))\n",
    "join_beili"
   ]
  },
  {
   "cell_type": "markdown",
   "metadata": {},
   "source": [
    "绘制背离点的图像"
   ]
  },
  {
   "cell_type": "code",
   "execution_count": 18,
   "metadata": {},
   "outputs": [
    {
     "data": {
      "image/png": "[encoded data removed]",
      "text/plain": [
       "<Figure size 432x288 with 1 Axes>"
      ]
     },
     "metadata": {
      "needs_background": "light"
     },
     "output_type": "display_data"
    }
   ],
   "source": [
    "import matplotlib.pyplot as plt\n",
    "dt0=data_df['close']\n",
    "plt.subplot(1,1,1)\n",
    "plt.plot(dt0, color='y', lw=2.)\n",
    "plt.plot(dt0, '^', markersize=5, color='r', label='Top', markevery=join_beili[0])\n",
    "plt.plot(dt0, 'v', markersize=5, color='g', label='Buttom', markevery=join_beili[1])\n",
    "plt.legend()\n",
    "plt.show()"
   ]
  },
  {
   "cell_type": "markdown",
   "metadata": {},
   "source": [
    "如果如下规则进行交易\n",
    "\n",
    "* 如果出现底背离，则买入证券\n",
    "* 如果出现顶背离，则卖出证券\n",
    "\n",
    "绘制指数和策略对应的收益率曲线"
   ]
  },
  {
   "cell_type": "code",
   "execution_count": 8,
   "metadata": {},
   "outputs": [
    {
     "name": "stdout",
     "output_type": "stream",
     "text": [
      "4880 buy\n",
      "10800 sell\n"
     ]
    },
    {
     "data": {
      "text/plain": [
       "11692"
      ]
     },
     "execution_count": 8,
     "metadata": {},
     "output_type": "execute_result"
    }
   ],
   "source": [
    "r_i=data_df['close']/data_df['close'].shift(1)\n",
    "cumr_i=[1]\n",
    "cumr_s=[1]\n",
    "hold_flag=0\n",
    "for i in range(1,data_df.shape[0]-2):\n",
    "    cumr_i.append(cumr_i[i-1]*r_i[i])\n",
    "    if i in join_beili[1] and hold_flag==0: # 上升拐点且未持有\n",
    "        hold_flag=1\n",
    "        print(i,'buy')\n",
    "    elif i in join_beili[0] and hold_flag==1: # 下降拐点且持有\n",
    "        hold_flag=0\n",
    "        print(i,'sell')\n",
    "    if hold_flag==1:\n",
    "        cumr_s.append(cumr_s[i-1]*r_i[i])\n",
    "    else:\n",
    "        cumr_s.append(cumr_s[i-1])\n",
    "len(cumr_s)"
   ]
  },
  {
   "cell_type": "code",
   "execution_count": 9,
   "metadata": {},
   "outputs": [
    {
     "name": "stdout",
     "output_type": "stream",
     "text": [
      "              index      stratety\n",
      "count  11692.000000  11692.000000\n",
      "mean       1.072808      1.033282\n",
      "std        0.089188      0.079929\n",
      "min        0.853246      0.855362\n",
      "25%        1.004138      1.000000\n",
      "50%        1.093749      1.000000\n",
      "75%        1.135861      1.102468\n",
      "max        1.268648      1.191183\n"
     ]
    },
    {
     "data": {
      "image/png": "[encoded data removed]",
      "text/plain": [
       "<Figure size 432x288 with 1 Axes>"
      ]
     },
     "metadata": {
      "needs_background": "light"
     },
     "output_type": "display_data"
    },
    {
     "data": {
      "text/html": [
       "<div>\n",
       "<style scoped>\n",
       "    .dataframe tbody tr th:only-of-type {\n",
       "        vertical-align: middle;\n",
       "    }\n",
       "\n",
       "    .dataframe tbody tr th {\n",
       "        vertical-align: top;\n",
       "    }\n",
       "\n",
       "    .dataframe thead th {\n",
       "        text-align: right;\n",
       "    }\n",
       "</style>\n",
       "<table border=\"1\" class=\"dataframe\">\n",
       "  <thead>\n",
       "    <tr style=\"text-align: right;\">\n",
       "      <th></th>\n",
       "      <th>信息比率</th>\n",
       "      <th>累计收益率</th>\n",
       "      <th>年化收益率</th>\n",
       "      <th>每日收益率</th>\n",
       "      <th>年化波动率</th>\n",
       "      <th>最大每日收益</th>\n",
       "      <th>最大每日损失</th>\n",
       "      <th>上涨天数</th>\n",
       "      <th>下跌天数</th>\n",
       "      <th>胜率</th>\n",
       "      <th>上涨时平均每日收益率</th>\n",
       "      <th>下跌时平均每日收益率</th>\n",
       "      <th>盈亏比</th>\n",
       "      <th>最大回撤</th>\n",
       "    </tr>\n",
       "  </thead>\n",
       "  <tbody>\n",
       "    <tr>\n",
       "      <th>index</th>\n",
       "      <td>0.058226</td>\n",
       "      <td>1.077626</td>\n",
       "      <td>0.002655</td>\n",
       "      <td>0.000011</td>\n",
       "      <td>0.045597</td>\n",
       "      <td>0.02715</td>\n",
       "      <td>-0.072546</td>\n",
       "      <td>5803.0</td>\n",
       "      <td>5880.0</td>\n",
       "      <td>0.496705</td>\n",
       "      <td>0.001882</td>\n",
       "      <td>-0.001836</td>\n",
       "      <td>1.024827</td>\n",
       "      <td>0.327437</td>\n",
       "    </tr>\n",
       "    <tr>\n",
       "      <th>stratety</th>\n",
       "      <td>0.125501</td>\n",
       "      <td>1.184237</td>\n",
       "      <td>0.004207</td>\n",
       "      <td>0.000017</td>\n",
       "      <td>0.033521</td>\n",
       "      <td>0.02715</td>\n",
       "      <td>-0.041362</td>\n",
       "      <td>2914.0</td>\n",
       "      <td>3004.0</td>\n",
       "      <td>0.492396</td>\n",
       "      <td>0.002057</td>\n",
       "      <td>-0.001931</td>\n",
       "      <td>1.065573</td>\n",
       "      <td>0.177184</td>\n",
       "    </tr>\n",
       "  </tbody>\n",
       "</table>\n",
       "</div>"
      ],
      "text/plain": [
       "              信息比率     累计收益率     年化收益率     每日收益率     年化波动率   最大每日收益    最大每日损失  \\\n",
       "index     0.058226  1.077626  0.002655  0.000011  0.045597  0.02715 -0.072546   \n",
       "stratety  0.125501  1.184237  0.004207  0.000017  0.033521  0.02715 -0.041362   \n",
       "\n",
       "            上涨天数    下跌天数        胜率  上涨时平均每日收益率  下跌时平均每日收益率       盈亏比      最大回撤  \n",
       "index     5803.0  5880.0  0.496705    0.001882   -0.001836  1.024827  0.327437  \n",
       "stratety  2914.0  3004.0  0.492396    0.002057   -0.001931  1.065573  0.177184  "
      ]
     },
     "execution_count": 9,
     "metadata": {},
     "output_type": "execute_result"
    }
   ],
   "source": [
    "df2=pd.DataFrame([cumr_i,cumr_s]).T\n",
    "df2.columns=['index','stratety']\n",
    "print(df2.describe())\n",
    "df2.plot()\n",
    "plt.show()\n",
    "\n",
    "from Ratio import ratio\n",
    "single_day_r=(df2/(df2).shift(1))-1 # 计算指数和策略的单日收益率\n",
    "result=ratio().cal_ratio(single_day_r)\n",
    "result.T"
   ]
  },
  {
   "cell_type": "code",
   "execution_count": null,
   "metadata": {},
   "outputs": [],
   "source": []
  },
  {
   "cell_type": "code",
   "execution_count": null,
   "metadata": {},
   "outputs": [],
   "source": []
  }
 ],
 "metadata": {
  "kernelspec": {
   "display_name": "Python 3",
   "language": "python",
   "name": "python3"
  },
  "language_info": {
   "codemirror_mode": {
    "name": "ipython",
    "version": 3
   },
   "file_extension": ".py",
   "mimetype": "text/x-python",
   "name": "python",
   "nbconvert_exporter": "python",
   "pygments_lexer": "ipython3",
   "version": "3.7.1"
  }
 },
 "nbformat": 4,
 "nbformat_minor": 2
}
