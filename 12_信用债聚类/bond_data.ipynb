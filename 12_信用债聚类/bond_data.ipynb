{
 "cells": [
  {
   "cell_type": "code",
   "execution_count": 97,
   "metadata": {},
   "outputs": [],
   "source": [
    "import pandas as pd\n",
    "import numpy as np\n",
    "from pylab import mpl\n",
    "\n",
    "# 设置中文字体\n",
    "mpl.rcParams['font.sans-serif'] = ['SimHei']\n"
   ]
  },
  {
   "cell_type": "code",
   "execution_count": 2,
   "metadata": {},
   "outputs": [
    {
     "data": {
      "text/html": [
       "<div>\n",
       "<style scoped>\n",
       "    .dataframe tbody tr th:only-of-type {\n",
       "        vertical-align: middle;\n",
       "    }\n",
       "\n",
       "    .dataframe tbody tr th {\n",
       "        vertical-align: top;\n",
       "    }\n",
       "\n",
       "    .dataframe thead th {\n",
       "        text-align: right;\n",
       "    }\n",
       "</style>\n",
       "<table border=\"1\" class=\"dataframe\">\n",
       "  <thead>\n",
       "    <tr style=\"text-align: right;\">\n",
       "      <th></th>\n",
       "      <th>剩余期限</th>\n",
       "      <th>简称</th>\n",
       "      <th>收益率</th>\n",
       "      <th>评级</th>\n",
       "      <th>剩余期限.1</th>\n",
       "      <th>简称.1</th>\n",
       "      <th>收益率.1</th>\n",
       "      <th>评级.1</th>\n",
       "    </tr>\n",
       "  </thead>\n",
       "  <tbody>\n",
       "    <tr>\n",
       "      <th>0</th>\n",
       "      <td>短融</td>\n",
       "      <td>NaN</td>\n",
       "      <td>NaN</td>\n",
       "      <td>NaN</td>\n",
       "      <td>2.05Y</td>\n",
       "      <td>19通用MTN001A</td>\n",
       "      <td>3.62</td>\n",
       "      <td>AAA</td>\n",
       "    </tr>\n",
       "    <tr>\n",
       "      <th>1</th>\n",
       "      <td>259D</td>\n",
       "      <td>20浙交投SCP006</td>\n",
       "      <td>3.16</td>\n",
       "      <td>AAA</td>\n",
       "      <td>2.05Y</td>\n",
       "      <td>19通用MTN001A</td>\n",
       "      <td>3.62</td>\n",
       "      <td>AAA</td>\n",
       "    </tr>\n",
       "    <tr>\n",
       "      <th>2</th>\n",
       "      <td>259D</td>\n",
       "      <td>20浙交投SCP006</td>\n",
       "      <td>3.15</td>\n",
       "      <td>AAA</td>\n",
       "      <td>2.05Y</td>\n",
       "      <td>19通用MTN001A</td>\n",
       "      <td>3.62</td>\n",
       "      <td>AAA</td>\n",
       "    </tr>\n",
       "    <tr>\n",
       "      <th>3</th>\n",
       "      <td>332D</td>\n",
       "      <td>20内蒙电投CP001</td>\n",
       "      <td>4.4</td>\n",
       "      <td>AA+</td>\n",
       "      <td>2.06Y</td>\n",
       "      <td>19国电MTN003</td>\n",
       "      <td>3.5</td>\n",
       "      <td>AAA</td>\n",
       "    </tr>\n",
       "    <tr>\n",
       "      <th>4</th>\n",
       "      <td>中票</td>\n",
       "      <td>NaN</td>\n",
       "      <td>NaN</td>\n",
       "      <td>NaN</td>\n",
       "      <td>2.06Y</td>\n",
       "      <td>19国电MTN003</td>\n",
       "      <td>3.5</td>\n",
       "      <td>AAA</td>\n",
       "    </tr>\n",
       "    <tr>\n",
       "      <th>...</th>\n",
       "      <td>...</td>\n",
       "      <td>...</td>\n",
       "      <td>...</td>\n",
       "      <td>...</td>\n",
       "      <td>...</td>\n",
       "      <td>...</td>\n",
       "      <td>...</td>\n",
       "      <td>...</td>\n",
       "    </tr>\n",
       "    <tr>\n",
       "      <th>241</th>\n",
       "      <td>2.07Y+2Y</td>\n",
       "      <td>19万科02</td>\n",
       "      <td>3.6</td>\n",
       "      <td>AAA</td>\n",
       "      <td>2.18Y+2Y</td>\n",
       "      <td>19筑城01</td>\n",
       "      <td>4.95</td>\n",
       "      <td>AA+</td>\n",
       "    </tr>\n",
       "    <tr>\n",
       "      <th>242</th>\n",
       "      <td>4.07Y+NY</td>\n",
       "      <td>19华电Y4</td>\n",
       "      <td>4.21</td>\n",
       "      <td>AAA</td>\n",
       "      <td>4.37Y</td>\n",
       "      <td>20义乌02</td>\n",
       "      <td>4.32</td>\n",
       "      <td>AA+</td>\n",
       "    </tr>\n",
       "    <tr>\n",
       "      <th>243</th>\n",
       "      <td>4.2Y+NY</td>\n",
       "      <td>19建设银行永续债</td>\n",
       "      <td>4.5</td>\n",
       "      <td>AAA</td>\n",
       "      <td>2.47Y+2Y</td>\n",
       "      <td>20南新01</td>\n",
       "      <td>5.37</td>\n",
       "      <td>AA+</td>\n",
       "    </tr>\n",
       "    <tr>\n",
       "      <th>244</th>\n",
       "      <td>4.25Y</td>\n",
       "      <td>19鲁高02</td>\n",
       "      <td>4.04</td>\n",
       "      <td>AAA</td>\n",
       "      <td>2.91Y+2Y</td>\n",
       "      <td>20涪陵03</td>\n",
       "      <td>4.18</td>\n",
       "      <td>AA+</td>\n",
       "    </tr>\n",
       "    <tr>\n",
       "      <th>245</th>\n",
       "      <td>4.25Y</td>\n",
       "      <td>19鲁高02</td>\n",
       "      <td>4.04</td>\n",
       "      <td>AAA</td>\n",
       "      <td>5.98Y</td>\n",
       "      <td>G19长交1</td>\n",
       "      <td>5.3</td>\n",
       "      <td>AA+</td>\n",
       "    </tr>\n",
       "  </tbody>\n",
       "</table>\n",
       "<p>246 rows × 8 columns</p>\n",
       "</div>"
      ],
      "text/plain": [
       "         剩余期限           简称   收益率   评级    剩余期限.1         简称.1 收益率.1 评级.1\n",
       "0          短融          NaN   NaN  NaN     2.05Y  19通用MTN001A  3.62  AAA\n",
       "1        259D  20浙交投SCP006  3.16  AAA     2.05Y  19通用MTN001A  3.62  AAA\n",
       "2        259D  20浙交投SCP006  3.15  AAA     2.05Y  19通用MTN001A  3.62  AAA\n",
       "3        332D  20内蒙电投CP001   4.4  AA+     2.06Y   19国电MTN003   3.5  AAA\n",
       "4          中票          NaN   NaN  NaN     2.06Y   19国电MTN003   3.5  AAA\n",
       "..        ...          ...   ...  ...       ...          ...   ...  ...\n",
       "241  2.07Y+2Y       19万科02   3.6  AAA  2.18Y+2Y       19筑城01  4.95  AA+\n",
       "242  4.07Y+NY       19华电Y4  4.21  AAA     4.37Y       20义乌02  4.32  AA+\n",
       "243   4.2Y+NY    19建设银行永续债   4.5  AAA  2.47Y+2Y       20南新01  5.37  AA+\n",
       "244     4.25Y       19鲁高02  4.04  AAA  2.91Y+2Y       20涪陵03  4.18  AA+\n",
       "245     4.25Y       19鲁高02  4.04  AAA     5.98Y       G19长交1   5.3  AA+\n",
       "\n",
       "[246 rows x 8 columns]"
      ]
     },
     "execution_count": 2,
     "metadata": {},
     "output_type": "execute_result"
    }
   ],
   "source": [
    "df=pd.read_excel('./信用债成交记录表2020年09月2日周三.xls',sheet_name='页面模板',header=1)\n",
    "df"
   ]
  },
  {
   "cell_type": "code",
   "execution_count": 3,
   "metadata": {},
   "outputs": [
    {
     "data": {
      "text/html": [
       "<div>\n",
       "<style scoped>\n",
       "    .dataframe tbody tr th:only-of-type {\n",
       "        vertical-align: middle;\n",
       "    }\n",
       "\n",
       "    .dataframe tbody tr th {\n",
       "        vertical-align: top;\n",
       "    }\n",
       "\n",
       "    .dataframe thead th {\n",
       "        text-align: right;\n",
       "    }\n",
       "</style>\n",
       "<table border=\"1\" class=\"dataframe\">\n",
       "  <thead>\n",
       "    <tr style=\"text-align: right;\">\n",
       "      <th></th>\n",
       "      <th>剩余期限</th>\n",
       "      <th>简称</th>\n",
       "      <th>收益率</th>\n",
       "      <th>评级</th>\n",
       "    </tr>\n",
       "  </thead>\n",
       "  <tbody>\n",
       "    <tr>\n",
       "      <th>0</th>\n",
       "      <td>短融</td>\n",
       "      <td>NaN</td>\n",
       "      <td>NaN</td>\n",
       "      <td>NaN</td>\n",
       "    </tr>\n",
       "    <tr>\n",
       "      <th>1</th>\n",
       "      <td>259D</td>\n",
       "      <td>20浙交投SCP006</td>\n",
       "      <td>3.16</td>\n",
       "      <td>AAA</td>\n",
       "    </tr>\n",
       "    <tr>\n",
       "      <th>2</th>\n",
       "      <td>259D</td>\n",
       "      <td>20浙交投SCP006</td>\n",
       "      <td>3.15</td>\n",
       "      <td>AAA</td>\n",
       "    </tr>\n",
       "    <tr>\n",
       "      <th>3</th>\n",
       "      <td>332D</td>\n",
       "      <td>20内蒙电投CP001</td>\n",
       "      <td>4.4</td>\n",
       "      <td>AA+</td>\n",
       "    </tr>\n",
       "    <tr>\n",
       "      <th>4</th>\n",
       "      <td>中票</td>\n",
       "      <td>NaN</td>\n",
       "      <td>NaN</td>\n",
       "      <td>NaN</td>\n",
       "    </tr>\n",
       "    <tr>\n",
       "      <th>...</th>\n",
       "      <td>...</td>\n",
       "      <td>...</td>\n",
       "      <td>...</td>\n",
       "      <td>...</td>\n",
       "    </tr>\n",
       "    <tr>\n",
       "      <th>487</th>\n",
       "      <td>2.18Y+2Y</td>\n",
       "      <td>19筑城01</td>\n",
       "      <td>4.95</td>\n",
       "      <td>AA+</td>\n",
       "    </tr>\n",
       "    <tr>\n",
       "      <th>488</th>\n",
       "      <td>4.37Y</td>\n",
       "      <td>20义乌02</td>\n",
       "      <td>4.32</td>\n",
       "      <td>AA+</td>\n",
       "    </tr>\n",
       "    <tr>\n",
       "      <th>489</th>\n",
       "      <td>2.47Y+2Y</td>\n",
       "      <td>20南新01</td>\n",
       "      <td>5.37</td>\n",
       "      <td>AA+</td>\n",
       "    </tr>\n",
       "    <tr>\n",
       "      <th>490</th>\n",
       "      <td>2.91Y+2Y</td>\n",
       "      <td>20涪陵03</td>\n",
       "      <td>4.18</td>\n",
       "      <td>AA+</td>\n",
       "    </tr>\n",
       "    <tr>\n",
       "      <th>491</th>\n",
       "      <td>5.98Y</td>\n",
       "      <td>G19长交1</td>\n",
       "      <td>5.3</td>\n",
       "      <td>AA+</td>\n",
       "    </tr>\n",
       "  </tbody>\n",
       "</table>\n",
       "<p>492 rows × 4 columns</p>\n",
       "</div>"
      ],
      "text/plain": [
       "         剩余期限           简称   收益率   评级\n",
       "0          短融          NaN   NaN  NaN\n",
       "1        259D  20浙交投SCP006  3.16  AAA\n",
       "2        259D  20浙交投SCP006  3.15  AAA\n",
       "3        332D  20内蒙电投CP001   4.4  AA+\n",
       "4          中票          NaN   NaN  NaN\n",
       "..        ...          ...   ...  ...\n",
       "487  2.18Y+2Y       19筑城01  4.95  AA+\n",
       "488     4.37Y       20义乌02  4.32  AA+\n",
       "489  2.47Y+2Y       20南新01  5.37  AA+\n",
       "490  2.91Y+2Y       20涪陵03  4.18  AA+\n",
       "491     5.98Y       G19长交1   5.3  AA+\n",
       "\n",
       "[492 rows x 4 columns]"
      ]
     },
     "execution_count": 3,
     "metadata": {},
     "output_type": "execute_result"
    }
   ],
   "source": [
    "df_s=df.iloc[:,4:]\n",
    "df_s.columns=df.iloc[:,:4].columns\n",
    "df2=pd.concat([df.iloc[:,:4],df_s],axis=0,ignore_index=True)\n",
    "df2"
   ]
  },
  {
   "cell_type": "code",
   "execution_count": 4,
   "metadata": {},
   "outputs": [],
   "source": [
    "start=df2[df2['剩余期限']=='中票'].index[0]"
   ]
  },
  {
   "cell_type": "code",
   "execution_count": 5,
   "metadata": {},
   "outputs": [],
   "source": [
    "end=df2[df2['剩余期限']=='企业债'].index[0]"
   ]
  },
  {
   "cell_type": "code",
   "execution_count": 6,
   "metadata": {},
   "outputs": [],
   "source": [
    "df_zhongpiao=df2.iloc[start+1:end]"
   ]
  },
  {
   "cell_type": "code",
   "execution_count": 99,
   "metadata": {},
   "outputs": [],
   "source": [
    "if '剩余期限' in df_zhongpiao.columns:\n",
    "    df_zhongpiao['剩余期限']=df_zhongpiao['剩余期限'].apply(lambda x:x.replace('D','').replace('Y','*365'))\n",
    "    df_zhongpiao['剩余期限']"
   ]
  },
  {
   "cell_type": "code",
   "execution_count": 8,
   "metadata": {},
   "outputs": [
    {
     "name": "stderr",
     "output_type": "stream",
     "text": [
      "C:\\Users\\zikep\\anaconda3\\lib\\site-packages\\pandas\\core\\frame.py:3997: SettingWithCopyWarning: \n",
      "A value is trying to be set on a copy of a slice from a DataFrame\n",
      "\n",
      "See the caveats in the documentation: https://pandas.pydata.org/pandas-docs/stable/user_guide/indexing.html#returning-a-view-versus-a-copy\n",
      "  errors=errors,\n"
     ]
    },
    {
     "data": {
      "text/html": [
       "<div>\n",
       "<style scoped>\n",
       "    .dataframe tbody tr th:only-of-type {\n",
       "        vertical-align: middle;\n",
       "    }\n",
       "\n",
       "    .dataframe tbody tr th {\n",
       "        vertical-align: top;\n",
       "    }\n",
       "\n",
       "    .dataframe thead th {\n",
       "        text-align: right;\n",
       "    }\n",
       "</style>\n",
       "<table border=\"1\" class=\"dataframe\">\n",
       "  <thead>\n",
       "    <tr style=\"text-align: right;\">\n",
       "      <th></th>\n",
       "      <th>剩余期限</th>\n",
       "      <th>简称</th>\n",
       "      <th>收益率</th>\n",
       "      <th>评级</th>\n",
       "    </tr>\n",
       "  </thead>\n",
       "  <tbody>\n",
       "    <tr>\n",
       "      <th>5</th>\n",
       "      <td>323</td>\n",
       "      <td>16武汉地产MTN003</td>\n",
       "      <td>3.3</td>\n",
       "      <td>AAA</td>\n",
       "    </tr>\n",
       "    <tr>\n",
       "      <th>7</th>\n",
       "      <td>343</td>\n",
       "      <td>16川高速MTN001</td>\n",
       "      <td>3.23</td>\n",
       "      <td>AAA</td>\n",
       "    </tr>\n",
       "    <tr>\n",
       "      <th>8</th>\n",
       "      <td>1.13*365</td>\n",
       "      <td>18河钢集MTN010</td>\n",
       "      <td>3.3</td>\n",
       "      <td>AAA</td>\n",
       "    </tr>\n",
       "    <tr>\n",
       "      <th>9</th>\n",
       "      <td>1.13*365</td>\n",
       "      <td>18河钢集MTN010</td>\n",
       "      <td>3.3</td>\n",
       "      <td>AAA</td>\n",
       "    </tr>\n",
       "    <tr>\n",
       "      <th>10</th>\n",
       "      <td>1.13*365</td>\n",
       "      <td>18河钢集MTN010</td>\n",
       "      <td>3.3</td>\n",
       "      <td>AAA</td>\n",
       "    </tr>\n",
       "    <tr>\n",
       "      <th>...</th>\n",
       "      <td>...</td>\n",
       "      <td>...</td>\n",
       "      <td>...</td>\n",
       "      <td>...</td>\n",
       "    </tr>\n",
       "    <tr>\n",
       "      <th>135</th>\n",
       "      <td>363</td>\n",
       "      <td>16河南铁路MTN001</td>\n",
       "      <td>3.82</td>\n",
       "      <td>AA</td>\n",
       "    </tr>\n",
       "    <tr>\n",
       "      <th>136</th>\n",
       "      <td>2.14*365</td>\n",
       "      <td>19邵阳城投MTN001</td>\n",
       "      <td>5.1</td>\n",
       "      <td>AA</td>\n",
       "    </tr>\n",
       "    <tr>\n",
       "      <th>137</th>\n",
       "      <td>2.23*365</td>\n",
       "      <td>17蔡甸城投MTN002</td>\n",
       "      <td>4.1</td>\n",
       "      <td>AA</td>\n",
       "    </tr>\n",
       "    <tr>\n",
       "      <th>138</th>\n",
       "      <td>2.63*365</td>\n",
       "      <td>20滹沱投资MTN001</td>\n",
       "      <td>4.68</td>\n",
       "      <td>AA</td>\n",
       "    </tr>\n",
       "    <tr>\n",
       "      <th>139</th>\n",
       "      <td>2.63*365</td>\n",
       "      <td>20滹沱投资MTN001</td>\n",
       "      <td>4.68</td>\n",
       "      <td>AA</td>\n",
       "    </tr>\n",
       "  </tbody>\n",
       "</table>\n",
       "<p>110 rows × 4 columns</p>\n",
       "</div>"
      ],
      "text/plain": [
       "         剩余期限            简称   收益率   评级\n",
       "5         323  16武汉地产MTN003   3.3  AAA\n",
       "7         343   16川高速MTN001  3.23  AAA\n",
       "8    1.13*365   18河钢集MTN010   3.3  AAA\n",
       "9    1.13*365   18河钢集MTN010   3.3  AAA\n",
       "10   1.13*365   18河钢集MTN010   3.3  AAA\n",
       "..        ...           ...   ...  ...\n",
       "135       363  16河南铁路MTN001  3.82   AA\n",
       "136  2.14*365  19邵阳城投MTN001   5.1   AA\n",
       "137  2.23*365  17蔡甸城投MTN002   4.1   AA\n",
       "138  2.63*365  20滹沱投资MTN001  4.68   AA\n",
       "139  2.63*365  20滹沱投资MTN001  4.68   AA\n",
       "\n",
       "[110 rows x 4 columns]"
      ]
     },
     "execution_count": 8,
     "metadata": {},
     "output_type": "execute_result"
    }
   ],
   "source": [
    "for one in df_zhongpiao.index:\n",
    "#     print(one)\n",
    "    qixian=df_zhongpiao.loc[one]['剩余期限']\n",
    "#     print(one)\n",
    "    if '('in qixian or 'N'in qixian or '+'in qixian or '债'in qixian or '期'in qixian:\n",
    "        df_zhongpiao.drop(one,inplace=True)\n",
    "df_zhongpiao"
   ]
  },
  {
   "cell_type": "code",
   "execution_count": 9,
   "metadata": {},
   "outputs": [
    {
     "name": "stderr",
     "output_type": "stream",
     "text": [
      "C:\\Users\\zikep\\anaconda3\\lib\\site-packages\\ipykernel_launcher.py:1: SettingWithCopyWarning: \n",
      "A value is trying to be set on a copy of a slice from a DataFrame.\n",
      "Try using .loc[row_indexer,col_indexer] = value instead\n",
      "\n",
      "See the caveats in the documentation: https://pandas.pydata.org/pandas-docs/stable/user_guide/indexing.html#returning-a-view-versus-a-copy\n",
      "  \"\"\"Entry point for launching an IPython kernel.\n"
     ]
    }
   ],
   "source": [
    "df_zhongpiao['剩余期限']=df_zhongpiao['剩余期限'].apply(lambda x:eval(x))"
   ]
  },
  {
   "cell_type": "code",
   "execution_count": 10,
   "metadata": {},
   "outputs": [
    {
     "data": {
      "text/html": [
       "<div>\n",
       "<style scoped>\n",
       "    .dataframe tbody tr th:only-of-type {\n",
       "        vertical-align: middle;\n",
       "    }\n",
       "\n",
       "    .dataframe tbody tr th {\n",
       "        vertical-align: top;\n",
       "    }\n",
       "\n",
       "    .dataframe thead th {\n",
       "        text-align: right;\n",
       "    }\n",
       "</style>\n",
       "<table border=\"1\" class=\"dataframe\">\n",
       "  <thead>\n",
       "    <tr style=\"text-align: right;\">\n",
       "      <th></th>\n",
       "      <th>days</th>\n",
       "      <th>name</th>\n",
       "      <th>ytm</th>\n",
       "      <th>rating</th>\n",
       "    </tr>\n",
       "  </thead>\n",
       "  <tbody>\n",
       "    <tr>\n",
       "      <th>5</th>\n",
       "      <td>323.00</td>\n",
       "      <td>16武汉地产MTN003</td>\n",
       "      <td>3.3</td>\n",
       "      <td>AAA</td>\n",
       "    </tr>\n",
       "    <tr>\n",
       "      <th>7</th>\n",
       "      <td>343.00</td>\n",
       "      <td>16川高速MTN001</td>\n",
       "      <td>3.23</td>\n",
       "      <td>AAA</td>\n",
       "    </tr>\n",
       "    <tr>\n",
       "      <th>8</th>\n",
       "      <td>412.45</td>\n",
       "      <td>18河钢集MTN010</td>\n",
       "      <td>3.3</td>\n",
       "      <td>AAA</td>\n",
       "    </tr>\n",
       "    <tr>\n",
       "      <th>9</th>\n",
       "      <td>412.45</td>\n",
       "      <td>18河钢集MTN010</td>\n",
       "      <td>3.3</td>\n",
       "      <td>AAA</td>\n",
       "    </tr>\n",
       "    <tr>\n",
       "      <th>10</th>\n",
       "      <td>412.45</td>\n",
       "      <td>18河钢集MTN010</td>\n",
       "      <td>3.3</td>\n",
       "      <td>AAA</td>\n",
       "    </tr>\n",
       "    <tr>\n",
       "      <th>...</th>\n",
       "      <td>...</td>\n",
       "      <td>...</td>\n",
       "      <td>...</td>\n",
       "      <td>...</td>\n",
       "    </tr>\n",
       "    <tr>\n",
       "      <th>135</th>\n",
       "      <td>363.00</td>\n",
       "      <td>16河南铁路MTN001</td>\n",
       "      <td>3.82</td>\n",
       "      <td>AA</td>\n",
       "    </tr>\n",
       "    <tr>\n",
       "      <th>136</th>\n",
       "      <td>781.10</td>\n",
       "      <td>19邵阳城投MTN001</td>\n",
       "      <td>5.1</td>\n",
       "      <td>AA</td>\n",
       "    </tr>\n",
       "    <tr>\n",
       "      <th>137</th>\n",
       "      <td>813.95</td>\n",
       "      <td>17蔡甸城投MTN002</td>\n",
       "      <td>4.1</td>\n",
       "      <td>AA</td>\n",
       "    </tr>\n",
       "    <tr>\n",
       "      <th>138</th>\n",
       "      <td>959.95</td>\n",
       "      <td>20滹沱投资MTN001</td>\n",
       "      <td>4.68</td>\n",
       "      <td>AA</td>\n",
       "    </tr>\n",
       "    <tr>\n",
       "      <th>139</th>\n",
       "      <td>959.95</td>\n",
       "      <td>20滹沱投资MTN001</td>\n",
       "      <td>4.68</td>\n",
       "      <td>AA</td>\n",
       "    </tr>\n",
       "  </tbody>\n",
       "</table>\n",
       "<p>110 rows × 4 columns</p>\n",
       "</div>"
      ],
      "text/plain": [
       "       days          name   ytm rating\n",
       "5    323.00  16武汉地产MTN003   3.3    AAA\n",
       "7    343.00   16川高速MTN001  3.23    AAA\n",
       "8    412.45   18河钢集MTN010   3.3    AAA\n",
       "9    412.45   18河钢集MTN010   3.3    AAA\n",
       "10   412.45   18河钢集MTN010   3.3    AAA\n",
       "..      ...           ...   ...    ...\n",
       "135  363.00  16河南铁路MTN001  3.82     AA\n",
       "136  781.10  19邵阳城投MTN001   5.1     AA\n",
       "137  813.95  17蔡甸城投MTN002   4.1     AA\n",
       "138  959.95  20滹沱投资MTN001  4.68     AA\n",
       "139  959.95  20滹沱投资MTN001  4.68     AA\n",
       "\n",
       "[110 rows x 4 columns]"
      ]
     },
     "execution_count": 10,
     "metadata": {},
     "output_type": "execute_result"
    }
   ],
   "source": [
    "df_zhongpiao.columns='days name ytm rating'.split(' ')\n",
    "df_zhongpiao"
   ]
  },
  {
   "cell_type": "code",
   "execution_count": 11,
   "metadata": {},
   "outputs": [
    {
     "data": {
      "text/plain": [
       "<matplotlib.axes._subplots.AxesSubplot at 0x23fbbe199c8>"
      ]
     },
     "execution_count": 11,
     "metadata": {},
     "output_type": "execute_result"
    },
    {
     "data": {
      "image/png": "[encoded data removed]",
      "text/plain": [
       "<Figure size 432x288 with 1 Axes>"
      ]
     },
     "metadata": {
      "needs_background": "light"
     },
     "output_type": "display_data"
    }
   ],
   "source": [
    "import matplotlib.pyplot as plt \n",
    "import seaborn as sns\n",
    "sns.scatterplot(df_zhongpiao['days'],df_zhongpiao['ytm'],df_zhongpiao['rating'])"
   ]
  },
  {
   "cell_type": "code",
   "execution_count": 12,
   "metadata": {},
   "outputs": [
    {
     "data": {
      "image/png": "[encoded data removed]",
      "text/plain": [
       "<Figure size 432x288 with 1 Axes>"
      ]
     },
     "metadata": {
      "needs_background": "light"
     },
     "output_type": "display_data"
    }
   ],
   "source": [
    "from sklearn.cluster import KMeans\n",
    "y_pred = KMeans(n_clusters=2, random_state=9).fit_predict(df_zhongpiao[['days','ytm']])\n",
    "plt.scatter(df_zhongpiao['days'],df_zhongpiao['ytm'], c=y_pred)\n",
    "plt.show()"
   ]
  },
  {
   "cell_type": "code",
   "execution_count": 13,
   "metadata": {},
   "outputs": [
    {
     "data": {
      "text/html": [
       "<div>\n",
       "<style scoped>\n",
       "    .dataframe tbody tr th:only-of-type {\n",
       "        vertical-align: middle;\n",
       "    }\n",
       "\n",
       "    .dataframe tbody tr th {\n",
       "        vertical-align: top;\n",
       "    }\n",
       "\n",
       "    .dataframe thead th {\n",
       "        text-align: right;\n",
       "    }\n",
       "</style>\n",
       "<table border=\"1\" class=\"dataframe\">\n",
       "  <thead>\n",
       "    <tr style=\"text-align: right;\">\n",
       "      <th></th>\n",
       "      <th>2020-09-03</th>\n",
       "    </tr>\n",
       "    <tr>\n",
       "      <th>中债中短期票据收益率曲线(AAA)(到期) --单位: 年</th>\n",
       "      <th></th>\n",
       "    </tr>\n",
       "  </thead>\n",
       "  <tbody>\n",
       "    <tr>\n",
       "      <th>0.0</th>\n",
       "      <td>2.3462</td>\n",
       "    </tr>\n",
       "    <tr>\n",
       "      <th>0.1</th>\n",
       "      <td>2.5638</td>\n",
       "    </tr>\n",
       "    <tr>\n",
       "      <th>0.2</th>\n",
       "      <td>2.7707</td>\n",
       "    </tr>\n",
       "    <tr>\n",
       "      <th>0.3</th>\n",
       "      <td>2.7894</td>\n",
       "    </tr>\n",
       "    <tr>\n",
       "      <th>0.4</th>\n",
       "      <td>2.9017</td>\n",
       "    </tr>\n",
       "  </tbody>\n",
       "</table>\n",
       "</div>"
      ],
      "text/plain": [
       "                               2020-09-03\n",
       "中债中短期票据收益率曲线(AAA)(到期) --单位: 年            \n",
       "0.0                                2.3462\n",
       "0.1                                2.5638\n",
       "0.2                                2.7707\n",
       "0.3                                2.7894\n",
       "0.4                                2.9017"
      ]
     },
     "execution_count": 13,
     "metadata": {},
     "output_type": "execute_result"
    }
   ],
   "source": [
    "df_hist=pd.read_excel('./bond_hist_data.xls',sheet_name='AAA',index_col=0)\n",
    "df_hist.head()"
   ]
  },
  {
   "cell_type": "code",
   "execution_count": 14,
   "metadata": {},
   "outputs": [
    {
     "data": {
      "text/plain": [
       "[<matplotlib.lines.Line2D at 0x23fbfbc5088>]"
      ]
     },
     "execution_count": 14,
     "metadata": {},
     "output_type": "execute_result"
    },
    {
     "data": {
      "image/png": "[encoded data removed]",
      "text/plain": [
       "<Figure size 432x288 with 1 Axes>"
      ]
     },
     "metadata": {
      "needs_background": "light"
     },
     "output_type": "display_data"
    }
   ],
   "source": [
    "plt.plot(df_hist.index*365,df_hist.iloc[:,0])"
   ]
  },
  {
   "cell_type": "code",
   "execution_count": 27,
   "metadata": {},
   "outputs": [
    {
     "data": {
      "text/plain": [
       "<matplotlib.axes._subplots.AxesSubplot at 0x23fbf331b08>"
      ]
     },
     "execution_count": 27,
     "metadata": {},
     "output_type": "execute_result"
    },
    {
     "data": {
      "image/png": "[encoded data removed]",
      "text/plain": [
       "<Figure size 432x288 with 1 Axes>"
      ]
     },
     "metadata": {
      "needs_background": "light"
     },
     "output_type": "display_data"
    }
   ],
   "source": [
    "sns.scatterplot(df_zhongpiao['days'],df_zhongpiao['ytm'])\n",
    "sns.lineplot(df_hist.index,df_hist.iloc[:,0])"
   ]
  },
  {
   "cell_type": "code",
   "execution_count": null,
   "metadata": {},
   "outputs": [],
   "source": []
  },
  {
   "cell_type": "code",
   "execution_count": 16,
   "metadata": {},
   "outputs": [],
   "source": [
    "df_hist=pd.read_excel('./bond_hist_data.xls',sheet_name='AAA',index_col=0)\n",
    "df_hist.columns=['rate']\n",
    "df_hist.index=list(map(lambda x:round(x,0),df_hist.index*365))"
   ]
  },
  {
   "cell_type": "code",
   "execution_count": 17,
   "metadata": {},
   "outputs": [
    {
     "data": {
      "text/html": [
       "<div>\n",
       "<style scoped>\n",
       "    .dataframe tbody tr th:only-of-type {\n",
       "        vertical-align: middle;\n",
       "    }\n",
       "\n",
       "    .dataframe tbody tr th {\n",
       "        vertical-align: top;\n",
       "    }\n",
       "\n",
       "    .dataframe thead th {\n",
       "        text-align: right;\n",
       "    }\n",
       "</style>\n",
       "<table border=\"1\" class=\"dataframe\">\n",
       "  <thead>\n",
       "    <tr style=\"text-align: right;\">\n",
       "      <th></th>\n",
       "      <th>rate</th>\n",
       "    </tr>\n",
       "  </thead>\n",
       "  <tbody>\n",
       "    <tr>\n",
       "      <th>1679.0</th>\n",
       "      <td>3.9280</td>\n",
       "    </tr>\n",
       "    <tr>\n",
       "      <th>1716.0</th>\n",
       "      <td>3.9382</td>\n",
       "    </tr>\n",
       "    <tr>\n",
       "      <th>1752.0</th>\n",
       "      <td>3.9481</td>\n",
       "    </tr>\n",
       "    <tr>\n",
       "      <th>1789.0</th>\n",
       "      <td>3.9574</td>\n",
       "    </tr>\n",
       "    <tr>\n",
       "      <th>1825.0</th>\n",
       "      <td>3.9662</td>\n",
       "    </tr>\n",
       "  </tbody>\n",
       "</table>\n",
       "</div>"
      ],
      "text/plain": [
       "          rate\n",
       "1679.0  3.9280\n",
       "1716.0  3.9382\n",
       "1752.0  3.9481\n",
       "1789.0  3.9574\n",
       "1825.0  3.9662"
      ]
     },
     "execution_count": 17,
     "metadata": {},
     "output_type": "execute_result"
    }
   ],
   "source": [
    "df_hist.tail()"
   ]
  },
  {
   "cell_type": "markdown",
   "metadata": {},
   "source": [
    "df_full=pd.DataFrame(index=[i for i in range(365*5+10)],columns=['rate'])\n",
    "df_full.loc[df_hist.index.tolist()]=df_hist.iloc[:,0].tolist()"
   ]
  },
  {
   "cell_type": "code",
   "execution_count": 18,
   "metadata": {},
   "outputs": [
    {
     "data": {
      "text/html": [
       "<div>\n",
       "<style scoped>\n",
       "    .dataframe tbody tr th:only-of-type {\n",
       "        vertical-align: middle;\n",
       "    }\n",
       "\n",
       "    .dataframe tbody tr th {\n",
       "        vertical-align: top;\n",
       "    }\n",
       "\n",
       "    .dataframe thead th {\n",
       "        text-align: right;\n",
       "    }\n",
       "</style>\n",
       "<table border=\"1\" class=\"dataframe\">\n",
       "  <thead>\n",
       "    <tr style=\"text-align: right;\">\n",
       "      <th></th>\n",
       "      <th>rate</th>\n",
       "    </tr>\n",
       "  </thead>\n",
       "  <tbody>\n",
       "    <tr>\n",
       "      <th>0.0</th>\n",
       "      <td>2.3462</td>\n",
       "    </tr>\n",
       "    <tr>\n",
       "      <th>1.0</th>\n",
       "      <td>NaN</td>\n",
       "    </tr>\n",
       "    <tr>\n",
       "      <th>2.0</th>\n",
       "      <td>NaN</td>\n",
       "    </tr>\n",
       "    <tr>\n",
       "      <th>3.0</th>\n",
       "      <td>NaN</td>\n",
       "    </tr>\n",
       "    <tr>\n",
       "      <th>4.0</th>\n",
       "      <td>NaN</td>\n",
       "    </tr>\n",
       "    <tr>\n",
       "      <th>...</th>\n",
       "      <td>...</td>\n",
       "    </tr>\n",
       "    <tr>\n",
       "      <th>1830.0</th>\n",
       "      <td>NaN</td>\n",
       "    </tr>\n",
       "    <tr>\n",
       "      <th>1831.0</th>\n",
       "      <td>NaN</td>\n",
       "    </tr>\n",
       "    <tr>\n",
       "      <th>1832.0</th>\n",
       "      <td>NaN</td>\n",
       "    </tr>\n",
       "    <tr>\n",
       "      <th>1833.0</th>\n",
       "      <td>NaN</td>\n",
       "    </tr>\n",
       "    <tr>\n",
       "      <th>1834.0</th>\n",
       "      <td>NaN</td>\n",
       "    </tr>\n",
       "  </tbody>\n",
       "</table>\n",
       "<p>1835 rows × 1 columns</p>\n",
       "</div>"
      ],
      "text/plain": [
       "          rate\n",
       "0.0     2.3462\n",
       "1.0        NaN\n",
       "2.0        NaN\n",
       "3.0        NaN\n",
       "4.0        NaN\n",
       "...        ...\n",
       "1830.0     NaN\n",
       "1831.0     NaN\n",
       "1832.0     NaN\n",
       "1833.0     NaN\n",
       "1834.0     NaN\n",
       "\n",
       "[1835 rows x 1 columns]"
      ]
     },
     "execution_count": 18,
     "metadata": {},
     "output_type": "execute_result"
    }
   ],
   "source": [
    "df_full=pd.DataFrame(index=[i for i in range(365*5+10)])\n",
    "df_full=pd.concat([df_full,df_hist],axis=1)\n",
    "df_full"
   ]
  },
  {
   "cell_type": "code",
   "execution_count": 19,
   "metadata": {},
   "outputs": [
    {
     "data": {
      "text/html": [
       "<div>\n",
       "<style scoped>\n",
       "    .dataframe tbody tr th:only-of-type {\n",
       "        vertical-align: middle;\n",
       "    }\n",
       "\n",
       "    .dataframe tbody tr th {\n",
       "        vertical-align: top;\n",
       "    }\n",
       "\n",
       "    .dataframe thead th {\n",
       "        text-align: right;\n",
       "    }\n",
       "</style>\n",
       "<table border=\"1\" class=\"dataframe\">\n",
       "  <thead>\n",
       "    <tr style=\"text-align: right;\">\n",
       "      <th></th>\n",
       "      <th>rate</th>\n",
       "    </tr>\n",
       "  </thead>\n",
       "  <tbody>\n",
       "    <tr>\n",
       "      <th>0.0</th>\n",
       "      <td>2.346200</td>\n",
       "    </tr>\n",
       "    <tr>\n",
       "      <th>1.0</th>\n",
       "      <td>2.352244</td>\n",
       "    </tr>\n",
       "    <tr>\n",
       "      <th>2.0</th>\n",
       "      <td>2.358289</td>\n",
       "    </tr>\n",
       "    <tr>\n",
       "      <th>3.0</th>\n",
       "      <td>2.364333</td>\n",
       "    </tr>\n",
       "    <tr>\n",
       "      <th>4.0</th>\n",
       "      <td>2.370378</td>\n",
       "    </tr>\n",
       "    <tr>\n",
       "      <th>...</th>\n",
       "      <td>...</td>\n",
       "    </tr>\n",
       "    <tr>\n",
       "      <th>1830.0</th>\n",
       "      <td>3.966200</td>\n",
       "    </tr>\n",
       "    <tr>\n",
       "      <th>1831.0</th>\n",
       "      <td>3.966200</td>\n",
       "    </tr>\n",
       "    <tr>\n",
       "      <th>1832.0</th>\n",
       "      <td>3.966200</td>\n",
       "    </tr>\n",
       "    <tr>\n",
       "      <th>1833.0</th>\n",
       "      <td>3.966200</td>\n",
       "    </tr>\n",
       "    <tr>\n",
       "      <th>1834.0</th>\n",
       "      <td>3.966200</td>\n",
       "    </tr>\n",
       "  </tbody>\n",
       "</table>\n",
       "<p>1835 rows × 1 columns</p>\n",
       "</div>"
      ],
      "text/plain": [
       "            rate\n",
       "0.0     2.346200\n",
       "1.0     2.352244\n",
       "2.0     2.358289\n",
       "3.0     2.364333\n",
       "4.0     2.370378\n",
       "...          ...\n",
       "1830.0  3.966200\n",
       "1831.0  3.966200\n",
       "1832.0  3.966200\n",
       "1833.0  3.966200\n",
       "1834.0  3.966200\n",
       "\n",
       "[1835 rows x 1 columns]"
      ]
     },
     "execution_count": 19,
     "metadata": {},
     "output_type": "execute_result"
    }
   ],
   "source": [
    "df_full.interpolate(inplace=True)\n",
    "df_full"
   ]
  },
  {
   "cell_type": "code",
   "execution_count": 20,
   "metadata": {},
   "outputs": [
    {
     "data": {
      "text/plain": [
       "<matplotlib.axes._subplots.AxesSubplot at 0x23fbfc7dc48>"
      ]
     },
     "execution_count": 20,
     "metadata": {},
     "output_type": "execute_result"
    },
    {
     "data": {
      "image/png": "[encoded data removed]",
      "text/plain": [
       "<Figure size 432x288 with 1 Axes>"
      ]
     },
     "metadata": {
      "needs_background": "light"
     },
     "output_type": "display_data"
    }
   ],
   "source": [
    "df_full.plot()"
   ]
  },
  {
   "cell_type": "code",
   "execution_count": 21,
   "metadata": {},
   "outputs": [
    {
     "data": {
      "text/html": [
       "<div>\n",
       "<style scoped>\n",
       "    .dataframe tbody tr th:only-of-type {\n",
       "        vertical-align: middle;\n",
       "    }\n",
       "\n",
       "    .dataframe tbody tr th {\n",
       "        vertical-align: top;\n",
       "    }\n",
       "\n",
       "    .dataframe thead th {\n",
       "        text-align: right;\n",
       "    }\n",
       "</style>\n",
       "<table border=\"1\" class=\"dataframe\">\n",
       "  <thead>\n",
       "    <tr style=\"text-align: right;\">\n",
       "      <th></th>\n",
       "      <th>days</th>\n",
       "      <th>ytm</th>\n",
       "    </tr>\n",
       "  </thead>\n",
       "  <tbody>\n",
       "    <tr>\n",
       "      <th>5</th>\n",
       "      <td>323.00</td>\n",
       "      <td>3.3</td>\n",
       "    </tr>\n",
       "    <tr>\n",
       "      <th>7</th>\n",
       "      <td>343.00</td>\n",
       "      <td>3.23</td>\n",
       "    </tr>\n",
       "    <tr>\n",
       "      <th>8</th>\n",
       "      <td>412.45</td>\n",
       "      <td>3.3</td>\n",
       "    </tr>\n",
       "    <tr>\n",
       "      <th>9</th>\n",
       "      <td>412.45</td>\n",
       "      <td>3.3</td>\n",
       "    </tr>\n",
       "    <tr>\n",
       "      <th>10</th>\n",
       "      <td>412.45</td>\n",
       "      <td>3.3</td>\n",
       "    </tr>\n",
       "    <tr>\n",
       "      <th>...</th>\n",
       "      <td>...</td>\n",
       "      <td>...</td>\n",
       "    </tr>\n",
       "    <tr>\n",
       "      <th>135</th>\n",
       "      <td>363.00</td>\n",
       "      <td>3.82</td>\n",
       "    </tr>\n",
       "    <tr>\n",
       "      <th>136</th>\n",
       "      <td>781.10</td>\n",
       "      <td>5.1</td>\n",
       "    </tr>\n",
       "    <tr>\n",
       "      <th>137</th>\n",
       "      <td>813.95</td>\n",
       "      <td>4.1</td>\n",
       "    </tr>\n",
       "    <tr>\n",
       "      <th>138</th>\n",
       "      <td>959.95</td>\n",
       "      <td>4.68</td>\n",
       "    </tr>\n",
       "    <tr>\n",
       "      <th>139</th>\n",
       "      <td>959.95</td>\n",
       "      <td>4.68</td>\n",
       "    </tr>\n",
       "  </tbody>\n",
       "</table>\n",
       "<p>110 rows × 2 columns</p>\n",
       "</div>"
      ],
      "text/plain": [
       "       days   ytm\n",
       "5    323.00   3.3\n",
       "7    343.00  3.23\n",
       "8    412.45   3.3\n",
       "9    412.45   3.3\n",
       "10   412.45   3.3\n",
       "..      ...   ...\n",
       "135  363.00  3.82\n",
       "136  781.10   5.1\n",
       "137  813.95   4.1\n",
       "138  959.95  4.68\n",
       "139  959.95  4.68\n",
       "\n",
       "[110 rows x 2 columns]"
      ]
     },
     "execution_count": 21,
     "metadata": {},
     "output_type": "execute_result"
    }
   ],
   "source": [
    "df_zhongpiao[['days','ytm']]"
   ]
  },
  {
   "cell_type": "code",
   "execution_count": 22,
   "metadata": {},
   "outputs": [
    {
     "name": "stderr",
     "output_type": "stream",
     "text": [
      "C:\\Users\\zikep\\anaconda3\\lib\\site-packages\\ipykernel_launcher.py:2: SettingWithCopyWarning: \n",
      "A value is trying to be set on a copy of a slice from a DataFrame.\n",
      "Try using .loc[row_indexer,col_indexer] = value instead\n",
      "\n",
      "See the caveats in the documentation: https://pandas.pydata.org/pandas-docs/stable/user_guide/indexing.html#returning-a-view-versus-a-copy\n",
      "  \n"
     ]
    }
   ],
   "source": [
    "benchmark=df_full.loc[df_zhongpiao['days'].apply(lambda x:round(x,0))]\n",
    "df_zhongpiao['licha']=df_zhongpiao['ytm']-benchmark['rate'].tolist()"
   ]
  },
  {
   "cell_type": "code",
   "execution_count": 23,
   "metadata": {},
   "outputs": [
    {
     "data": {
      "text/html": [
       "<div>\n",
       "<style scoped>\n",
       "    .dataframe tbody tr th:only-of-type {\n",
       "        vertical-align: middle;\n",
       "    }\n",
       "\n",
       "    .dataframe tbody tr th {\n",
       "        vertical-align: top;\n",
       "    }\n",
       "\n",
       "    .dataframe thead th {\n",
       "        text-align: right;\n",
       "    }\n",
       "</style>\n",
       "<table border=\"1\" class=\"dataframe\">\n",
       "  <thead>\n",
       "    <tr style=\"text-align: right;\">\n",
       "      <th></th>\n",
       "      <th>days</th>\n",
       "      <th>name</th>\n",
       "      <th>ytm</th>\n",
       "      <th>rating</th>\n",
       "      <th>licha</th>\n",
       "    </tr>\n",
       "  </thead>\n",
       "  <tbody>\n",
       "    <tr>\n",
       "      <th>5</th>\n",
       "      <td>323.00</td>\n",
       "      <td>16武汉地产MTN003</td>\n",
       "      <td>3.3</td>\n",
       "      <td>AAA</td>\n",
       "      <td>0.165008</td>\n",
       "    </tr>\n",
       "    <tr>\n",
       "      <th>7</th>\n",
       "      <td>343.00</td>\n",
       "      <td>16川高速MTN001</td>\n",
       "      <td>3.23</td>\n",
       "      <td>AAA</td>\n",
       "      <td>0.0774622</td>\n",
       "    </tr>\n",
       "    <tr>\n",
       "      <th>8</th>\n",
       "      <td>412.45</td>\n",
       "      <td>18河钢集MTN010</td>\n",
       "      <td>3.3</td>\n",
       "      <td>AAA</td>\n",
       "      <td>0.0896722</td>\n",
       "    </tr>\n",
       "    <tr>\n",
       "      <th>9</th>\n",
       "      <td>412.45</td>\n",
       "      <td>18河钢集MTN010</td>\n",
       "      <td>3.3</td>\n",
       "      <td>AAA</td>\n",
       "      <td>0.0896722</td>\n",
       "    </tr>\n",
       "    <tr>\n",
       "      <th>10</th>\n",
       "      <td>412.45</td>\n",
       "      <td>18河钢集MTN010</td>\n",
       "      <td>3.3</td>\n",
       "      <td>AAA</td>\n",
       "      <td>0.0896722</td>\n",
       "    </tr>\n",
       "    <tr>\n",
       "      <th>...</th>\n",
       "      <td>...</td>\n",
       "      <td>...</td>\n",
       "      <td>...</td>\n",
       "      <td>...</td>\n",
       "      <td>...</td>\n",
       "    </tr>\n",
       "    <tr>\n",
       "      <th>135</th>\n",
       "      <td>363.00</td>\n",
       "      <td>16河南铁路MTN001</td>\n",
       "      <td>3.82</td>\n",
       "      <td>AA</td>\n",
       "      <td>0.649678</td>\n",
       "    </tr>\n",
       "    <tr>\n",
       "      <th>136</th>\n",
       "      <td>781.10</td>\n",
       "      <td>19邵阳城投MTN001</td>\n",
       "      <td>5.1</td>\n",
       "      <td>AA</td>\n",
       "      <td>1.50865</td>\n",
       "    </tr>\n",
       "    <tr>\n",
       "      <th>137</th>\n",
       "      <td>813.95</td>\n",
       "      <td>17蔡甸城投MTN002</td>\n",
       "      <td>4.1</td>\n",
       "      <td>AA</td>\n",
       "      <td>0.485419</td>\n",
       "    </tr>\n",
       "    <tr>\n",
       "      <th>138</th>\n",
       "      <td>959.95</td>\n",
       "      <td>20滹沱投资MTN001</td>\n",
       "      <td>4.68</td>\n",
       "      <td>AA</td>\n",
       "      <td>0.99003</td>\n",
       "    </tr>\n",
       "    <tr>\n",
       "      <th>139</th>\n",
       "      <td>959.95</td>\n",
       "      <td>20滹沱投资MTN001</td>\n",
       "      <td>4.68</td>\n",
       "      <td>AA</td>\n",
       "      <td>0.99003</td>\n",
       "    </tr>\n",
       "  </tbody>\n",
       "</table>\n",
       "<p>110 rows × 5 columns</p>\n",
       "</div>"
      ],
      "text/plain": [
       "       days          name   ytm rating      licha\n",
       "5    323.00  16武汉地产MTN003   3.3    AAA   0.165008\n",
       "7    343.00   16川高速MTN001  3.23    AAA  0.0774622\n",
       "8    412.45   18河钢集MTN010   3.3    AAA  0.0896722\n",
       "9    412.45   18河钢集MTN010   3.3    AAA  0.0896722\n",
       "10   412.45   18河钢集MTN010   3.3    AAA  0.0896722\n",
       "..      ...           ...   ...    ...        ...\n",
       "135  363.00  16河南铁路MTN001  3.82     AA   0.649678\n",
       "136  781.10  19邵阳城投MTN001   5.1     AA    1.50865\n",
       "137  813.95  17蔡甸城投MTN002   4.1     AA   0.485419\n",
       "138  959.95  20滹沱投资MTN001  4.68     AA    0.99003\n",
       "139  959.95  20滹沱投资MTN001  4.68     AA    0.99003\n",
       "\n",
       "[110 rows x 5 columns]"
      ]
     },
     "execution_count": 23,
     "metadata": {},
     "output_type": "execute_result"
    }
   ],
   "source": [
    "df_zhongpiao"
   ]
  },
  {
   "cell_type": "code",
   "execution_count": 24,
   "metadata": {},
   "outputs": [
    {
     "data": {
      "text/html": [
       "<div>\n",
       "<style scoped>\n",
       "    .dataframe tbody tr th:only-of-type {\n",
       "        vertical-align: middle;\n",
       "    }\n",
       "\n",
       "    .dataframe tbody tr th {\n",
       "        vertical-align: top;\n",
       "    }\n",
       "\n",
       "    .dataframe thead th {\n",
       "        text-align: right;\n",
       "    }\n",
       "</style>\n",
       "<table border=\"1\" class=\"dataframe\">\n",
       "  <thead>\n",
       "    <tr style=\"text-align: right;\">\n",
       "      <th></th>\n",
       "      <th>days</th>\n",
       "      <th>licha</th>\n",
       "    </tr>\n",
       "  </thead>\n",
       "  <tbody>\n",
       "    <tr>\n",
       "      <th>5</th>\n",
       "      <td>323.00</td>\n",
       "      <td>0.165008</td>\n",
       "    </tr>\n",
       "    <tr>\n",
       "      <th>7</th>\n",
       "      <td>343.00</td>\n",
       "      <td>0.0774622</td>\n",
       "    </tr>\n",
       "    <tr>\n",
       "      <th>8</th>\n",
       "      <td>412.45</td>\n",
       "      <td>0.0896722</td>\n",
       "    </tr>\n",
       "    <tr>\n",
       "      <th>9</th>\n",
       "      <td>412.45</td>\n",
       "      <td>0.0896722</td>\n",
       "    </tr>\n",
       "    <tr>\n",
       "      <th>10</th>\n",
       "      <td>412.45</td>\n",
       "      <td>0.0896722</td>\n",
       "    </tr>\n",
       "    <tr>\n",
       "      <th>...</th>\n",
       "      <td>...</td>\n",
       "      <td>...</td>\n",
       "    </tr>\n",
       "    <tr>\n",
       "      <th>135</th>\n",
       "      <td>363.00</td>\n",
       "      <td>0.649678</td>\n",
       "    </tr>\n",
       "    <tr>\n",
       "      <th>136</th>\n",
       "      <td>781.10</td>\n",
       "      <td>1.50865</td>\n",
       "    </tr>\n",
       "    <tr>\n",
       "      <th>137</th>\n",
       "      <td>813.95</td>\n",
       "      <td>0.485419</td>\n",
       "    </tr>\n",
       "    <tr>\n",
       "      <th>138</th>\n",
       "      <td>959.95</td>\n",
       "      <td>0.99003</td>\n",
       "    </tr>\n",
       "    <tr>\n",
       "      <th>139</th>\n",
       "      <td>959.95</td>\n",
       "      <td>0.99003</td>\n",
       "    </tr>\n",
       "  </tbody>\n",
       "</table>\n",
       "<p>110 rows × 2 columns</p>\n",
       "</div>"
      ],
      "text/plain": [
       "       days      licha\n",
       "5    323.00   0.165008\n",
       "7    343.00  0.0774622\n",
       "8    412.45  0.0896722\n",
       "9    412.45  0.0896722\n",
       "10   412.45  0.0896722\n",
       "..      ...        ...\n",
       "135  363.00   0.649678\n",
       "136  781.10    1.50865\n",
       "137  813.95   0.485419\n",
       "138  959.95    0.99003\n",
       "139  959.95    0.99003\n",
       "\n",
       "[110 rows x 2 columns]"
      ]
     },
     "execution_count": 24,
     "metadata": {},
     "output_type": "execute_result"
    }
   ],
   "source": [
    "df_zhongpiao[['days','licha']]"
   ]
  },
  {
   "cell_type": "code",
   "execution_count": 32,
   "metadata": {},
   "outputs": [
    {
     "data": {
      "text/plain": [
       "<matplotlib.axes._subplots.AxesSubplot at 0x23fc0025188>"
      ]
     },
     "execution_count": 32,
     "metadata": {},
     "output_type": "execute_result"
    },
    {
     "data": {
      "image/png": "[encoded data removed]",
      "text/plain": [
       "<Figure size 432x288 with 1 Axes>"
      ]
     },
     "metadata": {
      "needs_background": "light"
     },
     "output_type": "display_data"
    }
   ],
   "source": [
    "sns.scatterplot(df_zhongpiao['ytm'],df_zhongpiao['licha'])"
   ]
  },
  {
   "cell_type": "code",
   "execution_count": 63,
   "metadata": {},
   "outputs": [
    {
     "data": {
      "image/png": "[encoded data removed]",
      "text/plain": [
       "<Figure size 432x288 with 1 Axes>"
      ]
     },
     "metadata": {
      "needs_background": "light"
     },
     "output_type": "display_data"
    }
   ],
   "source": [
    "y_pred = KMeans(n_clusters=5, random_state=9).fit_predict(df_zhongpiao[['ytm','licha']])\n",
    "plt.scatter(df_zhongpiao['days'],df_zhongpiao['licha'], c=y_pred)\n",
    "plt.show()"
   ]
  },
  {
   "cell_type": "code",
   "execution_count": 64,
   "metadata": {},
   "outputs": [
    {
     "data": {
      "image/png": "[encoded data removed]",
      "text/plain": [
       "<Figure size 432x288 with 1 Axes>"
      ]
     },
     "metadata": {
      "needs_background": "light"
     },
     "output_type": "display_data"
    },
    {
     "data": {
      "image/png": "[encoded data removed]",
      "text/plain": [
       "<Figure size 432x288 with 1 Axes>"
      ]
     },
     "metadata": {
      "needs_background": "light"
     },
     "output_type": "display_data"
    }
   ],
   "source": [
    "plt.scatter(df_zhongpiao['ytm'],df_zhongpiao['licha'], c=y_pred)\n",
    "plt.show()\n",
    "plt.scatter(df_zhongpiao['days'],df_zhongpiao['ytm'], c=y_pred)\n",
    "plt.plot(df_full)\n",
    "plt.show()"
   ]
  },
  {
   "cell_type": "code",
   "execution_count": 65,
   "metadata": {
    "collapsed": true,
    "jupyter": {
     "outputs_hidden": true
    }
   },
   "outputs": [
    {
     "name": "stdout",
     "output_type": "stream",
     "text": [
      "        days          name   ytm rating     licha  pred  fix\n",
      "63    967.25    20蓝星MTN003  3.95    AAA  0.257249     0    1\n",
      "64    967.25    20蓝星MTN003  3.95    AAA  0.257249     0    1\n",
      "65    967.25    20蓝星MTN003  3.95    AAA  0.257249     0    1\n",
      "96   1230.05  19华发集团MTN001  4.02    AAA    0.2212     0    1\n",
      "98   1281.15  19绍兴交投MTN001  4.06    AAA  0.238967     0    1\n",
      "101  1401.60   19甬交投MTN002  4.02    AAA  0.170119     0    1\n",
      "103  1478.25  19兆润投资MTN002   4.1    AAA    0.2307     0    1\n",
      "104  1478.25  19兆润投资MTN002   4.1    AAA    0.2307     0    1\n",
      "105  1478.25  19兆润投资MTN002   4.1    AAA    0.2307     0    1\n",
      "107  1481.90   19豫交投MTN001  4.11    AAA  0.239544     0    1\n",
      "108  1485.55  19华发集团MTN005  4.14    AAA  0.268389     0    1\n",
      "109  1485.55  19华发集团MTN005  4.14    AAA  0.268389     0    1\n",
      "112  1507.45  19天津轨交MTN003  4.21    AAA  0.332319     0    1\n",
      "113  1525.70   19石国投MTN001  4.12    AAA  0.236824     0    1\n",
      "114  1536.65   19渝高速MTN001  4.11    AAA  0.223643     0    1\n",
      "118  1591.40   20豫交投MTN001  4.11    AAA    0.2078     0    1\n",
      "119  1598.70  20武汉地产MTN001   4.2    AAA    0.2954     0    1\n",
      "120  1598.70  20武汉地产MTN001   4.2    AAA    0.2954     0    1\n",
      "125  1649.80   20嘉公路MTN001  4.33    AA+   0.41023     0    1\n",
      "126  1649.80   20嘉公路MTN001  4.33    AA+   0.41023     0    1\n",
      "127  1649.80   20嘉公路MTN001  4.33    AA+   0.41023     0    1\n",
      "129  1700.90  20惠州交投MTN001  4.25    AA+  0.315935     0    1\n",
      "130  1700.90  20惠州交投MTN001  4.25    AA+  0.315935     0    1\n",
      "131  1700.90  20惠州交投MTN001  4.25    AA+  0.315935     0    1\n",
      "134   363.00  16河南铁路MTN001  3.82     AA  0.649678     0    1\n",
      "135   363.00  16河南铁路MTN001  3.82     AA  0.649678     0    1\n",
      "137   813.95  17蔡甸城投MTN002   4.1     AA  0.485419     0    1\n",
      "        days          name   ytm rating       licha  pred  fix\n",
      "5     323.00  16武汉地产MTN003   3.3    AAA    0.165008     1    1\n",
      "7     343.00   16川高速MTN001  3.23    AAA   0.0774622     1    1\n",
      "8     412.45   18河钢集MTN010   3.3    AAA   0.0896722     1    1\n",
      "9     412.45   18河钢集MTN010   3.3    AAA   0.0896722     1    1\n",
      "10    412.45   18河钢集MTN010   3.3    AAA   0.0896722     1    1\n",
      "11    412.45   18河钢集MTN010   3.3    AAA   0.0896722     1    1\n",
      "13    430.70    18汇金MTN014  3.18    AAA  -0.0474806     1    1\n",
      "14    430.70    18汇金MTN014  3.18    AAA  -0.0474806     1    1\n",
      "16    474.50  18中银投资MTN001  3.33    AAA        0.06     1    1\n",
      "18    478.15   18冀交投MTN001  3.38    AAA    0.105784     1    1\n",
      "19    478.15   18冀交投MTN001  3.38    AAA    0.105784     1    1\n",
      "21    492.75   19河钢集MTN001  3.36    AAA    0.069973     1    1\n",
      "22    492.75   19河钢集MTN001  3.36    AAA    0.069973     1    1\n",
      "23    507.35   19中交投MTN001  3.48    AAA    0.175216     1    1\n",
      "24    507.35   19中交投MTN001  3.48    AAA    0.175216     1    1\n",
      "25    507.35   19中交投MTN001  3.48    AAA    0.175216     1    1\n",
      "26    569.40  19深圳水务MTN001  3.47    AAA   0.0957583     1    1\n",
      "33    605.90   19中建材MTN001  3.45    AAA   0.0327556     1    1\n",
      "34    605.90   19中建材MTN001  3.45    AAA   0.0327556     1    1\n",
      "35    605.90   19中建材MTN001  3.45    AAA   0.0327556     1    1\n",
      "36    627.80    19汇金MTN009  3.35    AAA  -0.0923865     1    1\n",
      "37    635.10   19陕延油MTN004  3.49    AAA   0.0398378     1    1\n",
      "38    635.10   19陕延油MTN004  3.49    AAA   0.0398378     1    1\n",
      "39    642.40   19闽能源MTN001  3.45    AAA -0.00793784     1    1\n",
      "40    667.95  17宁波轨交MTN001   3.5    AAA   0.0137162     1    1\n",
      "44    682.55   17川发展MTN001  3.45    AAA  -0.0522162     1    1\n",
      "45    686.20   19中交建MTN002   3.5    AAA  -0.0054027     1    1\n",
      "46    686.20   19中交建MTN002   3.5    AAA  -0.0054027     1    1\n",
      "47    686.20    19华润MTN005  3.48    AAA  -0.0254027     1    1\n",
      "48    686.20    19华润MTN005  3.48    AAA  -0.0254027     1    1\n",
      "49    686.20    19华润MTN005  3.48    AAA  -0.0254027     1    1\n",
      "57    719.05  19华润控股MTN004   3.6    AAA   0.0614472     1    1\n",
      "74    992.80   20汇金MTN007A  3.52    AAA   -0.182964     1    1\n",
      "82   1080.40   20汇金MTN009A  3.54    AAA   -0.195108     1    1\n",
      "83   1080.40   20汇金MTN009A  3.54    AAA   -0.195108     1    1\n",
      "84   1080.40   20汇金MTN009A  3.54    AAA   -0.195108     1    1\n",
      "85   1080.40   20汇金MTN009A  3.54    AAA   -0.195108     1    1\n",
      "106  1481.90    19南电MTN008  3.66    AAA   -0.210456     1    1\n",
      "111  1507.45   19中石油MTN006  3.67    AAA   -0.207681     1    1\n",
      "        days          name   ytm rating       licha  pred  fix\n",
      "27    598.60   15津城建MTN001  3.77    AAA    0.360883     2    1\n",
      "28    602.25    19晋煤MTN001   3.7    AAA      0.2874     2    1\n",
      "29    602.25    19晋煤MTN001   3.7    AAA      0.2874     2    1\n",
      "30    602.25    19晋煤MTN001   3.7    AAA      0.2874     2    1\n",
      "31    602.25    19晋煤MTN001   3.7    AAA      0.2874     2    1\n",
      "32    602.25    19晋煤MTN001   3.7    AAA      0.2874     2    1\n",
      "41    671.60    17金地MTN001   3.6    AAA    0.109468     2    1\n",
      "53    700.80   19鲁能源MTN001  3.73    AAA    0.209197     2    1\n",
      "54    700.80   19鲁能源MTN001  3.73    AAA    0.209197     2    1\n",
      "55    700.80   19鲁能源MTN001  3.73    AAA    0.209197     2    1\n",
      "56    700.80   19鲁能源MTN001  3.73    AAA    0.209197     2    1\n",
      "58    740.95  17诚通控股MTN001   3.7    AAA    0.141128     2    1\n",
      "59    740.95  17诚通控股MTN001   3.7    AAA    0.141128     2    1\n",
      "62    967.25   20南航股MTN007  3.73    AAA   0.0372486     2    1\n",
      "66    970.90  20广州地铁MTN001   3.7    AAA  0.00565946     2    1\n",
      "67    978.20  20中银投资MTN001  3.78    AAA   0.0828784     2    1\n",
      "68    978.20  20中银投资MTN001  3.78    AAA   0.0828784     2    1\n",
      "69    978.20  20中银投资MTN001  3.78    AAA   0.0828784     2    1\n",
      "70    978.20  20中银投资MTN001  3.78    AAA   0.0828784     2    1\n",
      "71    978.20  20中银投资MTN001   3.8    AAA    0.102878     2    1\n",
      "72    978.20  20中银投资MTN001   3.8    AAA    0.102878     2    1\n",
      "73    992.80    20闽投MTN005   3.7    AAA -0.00296389     2    1\n",
      "78   1043.90  16皖交控MTN002B  3.72    AAA -0.00206667     2    1\n",
      "79   1043.90  16皖交控MTN002B  3.72    AAA -0.00206667     2    1\n",
      "80   1051.20  20深圳地铁MTN002  3.72    AAA -0.00463333     2    1\n",
      "89   1168.00   18闽高速MTN003   3.8    AAA      0.0307     2    1\n",
      "90   1189.90   18甬开投MTN001  3.89    AAA    0.110617     2    1\n",
      "91   1189.90   18甬开投MTN001  3.89    AAA    0.110617     2    1\n",
      "92   1189.90   18京热力MTN002  3.91    AAA    0.130617     2    1\n",
      "93   1189.90   18京热力MTN002  3.91    AAA    0.130617     2    1\n",
      "94   1208.15   18大横琴MTN002  3.94    AAA      0.1522     2    1\n",
      "95   1208.15   18大横琴MTN002  3.93    AAA      0.1422     2    1\n",
      "97   1281.15   19锡公用MTN001  3.95    AAA    0.128967     2    1\n",
      "100  1379.70    19闽投MTN003  3.81    AAA  -0.0354568     2    1\n",
      "121  1602.35  20朝阳国资MTN001     4    AAA      0.0945     2    1\n",
      "      days          name  ytm rating    licha  pred  fix\n",
      "136  781.1  19邵阳城投MTN001  5.1     AA  1.50865     3    1\n",
      "        days          name   ytm  rating     licha  pred  fix\n",
      "15    445.30  18大同煤矿MTN009  4.26     AAA   1.01916     4    1\n",
      "17    474.50   18津保投MTN015  4.22     AAA      0.95     4    1\n",
      "110  1500.15   19黔铁投MTN002  4.61     AAA  0.734343     4    1\n",
      "128  1697.25  20榆林能源MTN002  4.71     AA+  0.777038     4    1\n",
      "132  1584.10  20南通汽运MTN001  4.78  AA/AAA    0.8799     4    1\n",
      "133   342.00  16皖维高新MTN001   4.2      AA   1.04835     4    1\n",
      "138   959.95  20滹沱投资MTN001  4.68      AA   0.99003     4    1\n",
      "139   959.95  20滹沱投资MTN001  4.68      AA   0.99003     4    1\n"
     ]
    },
    {
     "name": "stderr",
     "output_type": "stream",
     "text": [
      "C:\\Users\\zikep\\anaconda3\\lib\\site-packages\\ipykernel_launcher.py:1: SettingWithCopyWarning: \n",
      "A value is trying to be set on a copy of a slice from a DataFrame.\n",
      "Try using .loc[row_indexer,col_indexer] = value instead\n",
      "\n",
      "See the caveats in the documentation: https://pandas.pydata.org/pandas-docs/stable/user_guide/indexing.html#returning-a-view-versus-a-copy\n",
      "  \"\"\"Entry point for launching an IPython kernel.\n"
     ]
    }
   ],
   "source": [
    "df_zhongpiao['pred']=y_pred\n",
    "for one in df_zhongpiao.groupby('pred'):\n",
    "    print(one[1])"
   ]
  },
  {
   "cell_type": "code",
   "execution_count": 66,
   "metadata": {},
   "outputs": [
    {
     "name": "stderr",
     "output_type": "stream",
     "text": [
      "C:\\Users\\zikep\\anaconda3\\lib\\site-packages\\ipykernel_launcher.py:1: SettingWithCopyWarning: \n",
      "A value is trying to be set on a copy of a slice from a DataFrame.\n",
      "Try using .loc[row_indexer,col_indexer] = value instead\n",
      "\n",
      "See the caveats in the documentation: https://pandas.pydata.org/pandas-docs/stable/user_guide/indexing.html#returning-a-view-versus-a-copy\n",
      "  \"\"\"Entry point for launching an IPython kernel.\n"
     ]
    },
    {
     "data": {
      "image/png": "[encoded data removed]",
      "text/plain": [
       "<Figure size 432x288 with 1 Axes>"
      ]
     },
     "metadata": {
      "needs_background": "light"
     },
     "output_type": "display_data"
    }
   ],
   "source": [
    "df_zhongpiao['fix']=[1]*len(df_zhongpiao.index)\n",
    "y_pred = KMeans(n_clusters=4, random_state=9).fit_predict(df_zhongpiao[['fix','licha']])\n",
    "plt.scatter(df_zhongpiao['days'],df_zhongpiao['licha'], c=y_pred)\n",
    "plt.show()"
   ]
  },
  {
   "cell_type": "code",
   "execution_count": 90,
   "metadata": {},
   "outputs": [],
   "source": [
    "font={'family':'msyh.ttc',\n",
    "#      'style':'italic',\n",
    "#     'weight':'normal',\n",
    "#       'color':'red',\n",
    "      'size':8\n",
    "}\n",
    "font={}"
   ]
  },
  {
   "cell_type": "code",
   "execution_count": 103,
   "metadata": {},
   "outputs": [
    {
     "name": "stderr",
     "output_type": "stream",
     "text": [
      "C:\\Users\\zikep\\anaconda3\\lib\\site-packages\\matplotlib\\backends\\backend_agg.py:211: RuntimeWarning: Glyph 8722 missing from current font.\n",
      "  font.set_text(s, 0.0, flags=flags)\n",
      "C:\\Users\\zikep\\anaconda3\\lib\\site-packages\\matplotlib\\backends\\backend_agg.py:180: RuntimeWarning: Glyph 8722 missing from current font.\n",
      "  font.set_text(s, 0, flags=flags)\n"
     ]
    },
    {
     "data": {
      "image/png": "[encoded data removed]",
      "text/plain": [
       "<Figure size 432x288 with 1 Axes>"
      ]
     },
     "metadata": {
      "needs_background": "light"
     },
     "output_type": "display_data"
    },
    {
     "data": {
      "image/png": "[encoded data removed]",
      "text/plain": [
       "<Figure size 432x288 with 1 Axes>"
      ]
     },
     "metadata": {
      "needs_background": "light"
     },
     "output_type": "display_data"
    }
   ],
   "source": [
    "plt.scatter(df_zhongpiao['ytm'],df_zhongpiao['licha'], c=y_pred)\n",
    "plt.show()\n",
    "\n",
    "plt.scatter(df_zhongpiao['days'],df_zhongpiao['ytm'], c=y_pred)\n",
    "plt.plot(df_full)\n",
    "for point in df_zhongpiao[df_zhongpiao['licha'].abs()>0.5].index:\n",
    "    point=df_zhongpiao.loc[point]\n",
    "    _x,_y,_name=point['days'],point['ytm'],point['name']\n",
    "    plt.text( _x,_y,_name)\n",
    "    \n",
    "plt.savefig('output.png',transparent=True)\n",
    "plt.show()"
   ]
  },
  {
   "cell_type": "code",
   "execution_count": 93,
   "metadata": {},
   "outputs": [
    {
     "name": "stdout",
     "output_type": "stream",
     "text": [
      "C:\\Users\\zikep\\anaconda3\\lib\\site-packages\\matplotlib\\mpl-data\\matplotlibrc\n",
      "C:\\Users\\zikep\\.matplotlib\n"
     ]
    }
   ],
   "source": [
    "# 查找字体路径\n",
    "import matplotlib\n",
    "print(matplotlib.matplotlib_fname())\n",
    "# 查找字体缓存路径\n",
    "print(matplotlib.get_cachedir())"
   ]
  },
  {
   "cell_type": "code",
   "execution_count": 74,
   "metadata": {},
   "outputs": [
    {
     "data": {
      "text/html": [
       "<div>\n",
       "<style scoped>\n",
       "    .dataframe tbody tr th:only-of-type {\n",
       "        vertical-align: middle;\n",
       "    }\n",
       "\n",
       "    .dataframe tbody tr th {\n",
       "        vertical-align: top;\n",
       "    }\n",
       "\n",
       "    .dataframe thead th {\n",
       "        text-align: right;\n",
       "    }\n",
       "</style>\n",
       "<table border=\"1\" class=\"dataframe\">\n",
       "  <thead>\n",
       "    <tr style=\"text-align: right;\">\n",
       "      <th></th>\n",
       "      <th>days</th>\n",
       "      <th>name</th>\n",
       "      <th>ytm</th>\n",
       "      <th>rating</th>\n",
       "      <th>licha</th>\n",
       "      <th>pred</th>\n",
       "      <th>fix</th>\n",
       "    </tr>\n",
       "  </thead>\n",
       "  <tbody>\n",
       "    <tr>\n",
       "      <th>15</th>\n",
       "      <td>445.30</td>\n",
       "      <td>18大同煤矿MTN009</td>\n",
       "      <td>4.26</td>\n",
       "      <td>AAA</td>\n",
       "      <td>1.01916</td>\n",
       "      <td>1</td>\n",
       "      <td>1</td>\n",
       "    </tr>\n",
       "    <tr>\n",
       "      <th>17</th>\n",
       "      <td>474.50</td>\n",
       "      <td>18津保投MTN015</td>\n",
       "      <td>4.22</td>\n",
       "      <td>AAA</td>\n",
       "      <td>0.95</td>\n",
       "      <td>1</td>\n",
       "      <td>1</td>\n",
       "    </tr>\n",
       "    <tr>\n",
       "      <th>110</th>\n",
       "      <td>1500.15</td>\n",
       "      <td>19黔铁投MTN002</td>\n",
       "      <td>4.61</td>\n",
       "      <td>AAA</td>\n",
       "      <td>0.734343</td>\n",
       "      <td>1</td>\n",
       "      <td>1</td>\n",
       "    </tr>\n",
       "    <tr>\n",
       "      <th>128</th>\n",
       "      <td>1697.25</td>\n",
       "      <td>20榆林能源MTN002</td>\n",
       "      <td>4.71</td>\n",
       "      <td>AA+</td>\n",
       "      <td>0.777038</td>\n",
       "      <td>1</td>\n",
       "      <td>1</td>\n",
       "    </tr>\n",
       "    <tr>\n",
       "      <th>132</th>\n",
       "      <td>1584.10</td>\n",
       "      <td>20南通汽运MTN001</td>\n",
       "      <td>4.78</td>\n",
       "      <td>AA/AAA</td>\n",
       "      <td>0.8799</td>\n",
       "      <td>1</td>\n",
       "      <td>1</td>\n",
       "    </tr>\n",
       "    <tr>\n",
       "      <th>133</th>\n",
       "      <td>342.00</td>\n",
       "      <td>16皖维高新MTN001</td>\n",
       "      <td>4.2</td>\n",
       "      <td>AA</td>\n",
       "      <td>1.04835</td>\n",
       "      <td>1</td>\n",
       "      <td>1</td>\n",
       "    </tr>\n",
       "    <tr>\n",
       "      <th>134</th>\n",
       "      <td>363.00</td>\n",
       "      <td>16河南铁路MTN001</td>\n",
       "      <td>3.82</td>\n",
       "      <td>AA</td>\n",
       "      <td>0.649678</td>\n",
       "      <td>1</td>\n",
       "      <td>1</td>\n",
       "    </tr>\n",
       "    <tr>\n",
       "      <th>135</th>\n",
       "      <td>363.00</td>\n",
       "      <td>16河南铁路MTN001</td>\n",
       "      <td>3.82</td>\n",
       "      <td>AA</td>\n",
       "      <td>0.649678</td>\n",
       "      <td>1</td>\n",
       "      <td>1</td>\n",
       "    </tr>\n",
       "    <tr>\n",
       "      <th>136</th>\n",
       "      <td>781.10</td>\n",
       "      <td>19邵阳城投MTN001</td>\n",
       "      <td>5.1</td>\n",
       "      <td>AA</td>\n",
       "      <td>1.50865</td>\n",
       "      <td>1</td>\n",
       "      <td>1</td>\n",
       "    </tr>\n",
       "    <tr>\n",
       "      <th>138</th>\n",
       "      <td>959.95</td>\n",
       "      <td>20滹沱投资MTN001</td>\n",
       "      <td>4.68</td>\n",
       "      <td>AA</td>\n",
       "      <td>0.99003</td>\n",
       "      <td>1</td>\n",
       "      <td>1</td>\n",
       "    </tr>\n",
       "    <tr>\n",
       "      <th>139</th>\n",
       "      <td>959.95</td>\n",
       "      <td>20滹沱投资MTN001</td>\n",
       "      <td>4.68</td>\n",
       "      <td>AA</td>\n",
       "      <td>0.99003</td>\n",
       "      <td>1</td>\n",
       "      <td>1</td>\n",
       "    </tr>\n",
       "  </tbody>\n",
       "</table>\n",
       "</div>"
      ],
      "text/plain": [
       "        days          name   ytm  rating     licha  pred  fix\n",
       "15    445.30  18大同煤矿MTN009  4.26     AAA   1.01916     1    1\n",
       "17    474.50   18津保投MTN015  4.22     AAA      0.95     1    1\n",
       "110  1500.15   19黔铁投MTN002  4.61     AAA  0.734343     1    1\n",
       "128  1697.25  20榆林能源MTN002  4.71     AA+  0.777038     1    1\n",
       "132  1584.10  20南通汽运MTN001  4.78  AA/AAA    0.8799     1    1\n",
       "133   342.00  16皖维高新MTN001   4.2      AA   1.04835     1    1\n",
       "134   363.00  16河南铁路MTN001  3.82      AA  0.649678     1    1\n",
       "135   363.00  16河南铁路MTN001  3.82      AA  0.649678     1    1\n",
       "136   781.10  19邵阳城投MTN001   5.1      AA   1.50865     1    1\n",
       "138   959.95  20滹沱投资MTN001  4.68      AA   0.99003     1    1\n",
       "139   959.95  20滹沱投资MTN001  4.68      AA   0.99003     1    1"
      ]
     },
     "execution_count": 74,
     "metadata": {},
     "output_type": "execute_result"
    }
   ],
   "source": [
    "df_zhongpiao[df_zhongpiao['licha'].abs()>0.5]"
   ]
  },
  {
   "cell_type": "code",
   "execution_count": 71,
   "metadata": {},
   "outputs": [
    {
     "name": "stdout",
     "output_type": "stream",
     "text": [
      "\n",
      "\n",
      "\n",
      " 0.055964375433125484 \n",
      "\n",
      " 7       16川高速MTN001\n",
      "8       18河钢集MTN010\n",
      "13       18汇金MTN014\n",
      "16     18中银投资MTN001\n",
      "18      18冀交投MTN001\n",
      "21      19河钢集MTN001\n",
      "26     19深圳水务MTN001\n",
      "33      19中建材MTN001\n",
      "37      19陕延油MTN004\n",
      "39      19闽能源MTN001\n",
      "40     17宁波轨交MTN001\n",
      "41       17金地MTN001\n",
      "44      17川发展MTN001\n",
      "45      19中交建MTN002\n",
      "47       19华润MTN005\n",
      "57     19华润控股MTN004\n",
      "58     17诚通控股MTN001\n",
      "62      20南航股MTN007\n",
      "66     20广州地铁MTN001\n",
      "67     20中银投资MTN001\n",
      "73       20闽投MTN005\n",
      "78     16皖交控MTN002B\n",
      "80     20深圳地铁MTN002\n",
      "89      18闽高速MTN003\n",
      "90      18甬开投MTN001\n",
      "92      18京热力MTN002\n",
      "94      18大横琴MTN002\n",
      "97      19锡公用MTN001\n",
      "100      19闽投MTN003\n",
      "121    20朝阳国资MTN001\n",
      "Name: name, dtype: object\n",
      "\n",
      "\n",
      "\n",
      " 0.9269876194376192 \n",
      "\n",
      " 15     18大同煤矿MTN009\n",
      "17      18津保投MTN015\n",
      "110     19黔铁投MTN002\n",
      "128    20榆林能源MTN002\n",
      "132    20南通汽运MTN001\n",
      "133    16皖维高新MTN001\n",
      "134    16河南铁路MTN001\n",
      "136    19邵阳城投MTN001\n",
      "138    20滹沱投资MTN001\n",
      "Name: name, dtype: object\n",
      "\n",
      "\n",
      "\n",
      " 0.2679764995764995 \n",
      "\n",
      " 5      16武汉地产MTN003\n",
      "23      19中交投MTN001\n",
      "27      15津城建MTN001\n",
      "28       19晋煤MTN001\n",
      "53      19鲁能源MTN001\n",
      "63       20蓝星MTN003\n",
      "96     19华发集团MTN001\n",
      "98     19绍兴交投MTN001\n",
      "101     19甬交投MTN002\n",
      "103    19兆润投资MTN002\n",
      "107     19豫交投MTN001\n",
      "108    19华发集团MTN005\n",
      "112    19天津轨交MTN003\n",
      "113     19石国投MTN001\n",
      "114     19渝高速MTN001\n",
      "118     20豫交投MTN001\n",
      "119    20武汉地产MTN001\n",
      "125     20嘉公路MTN001\n",
      "129    20惠州交投MTN001\n",
      "137    17蔡甸城投MTN002\n",
      "Name: name, dtype: object\n",
      "\n",
      "\n",
      "\n",
      " -0.1842399305555555 \n",
      "\n",
      " 36      19汇金MTN009\n",
      "74     20汇金MTN007A\n",
      "82     20汇金MTN009A\n",
      "106     19南电MTN008\n",
      "111    19中石油MTN006\n",
      "Name: name, dtype: object\n"
     ]
    },
    {
     "name": "stderr",
     "output_type": "stream",
     "text": [
      "C:\\Users\\zikep\\anaconda3\\lib\\site-packages\\ipykernel_launcher.py:1: SettingWithCopyWarning: \n",
      "A value is trying to be set on a copy of a slice from a DataFrame.\n",
      "Try using .loc[row_indexer,col_indexer] = value instead\n",
      "\n",
      "See the caveats in the documentation: https://pandas.pydata.org/pandas-docs/stable/user_guide/indexing.html#returning-a-view-versus-a-copy\n",
      "  \"\"\"Entry point for launching an IPython kernel.\n"
     ]
    }
   ],
   "source": [
    "df_zhongpiao['pred']=y_pred\n",
    "for one in df_zhongpiao.groupby('pred'):\n",
    "    print('\\n\\n\\n',one[1]['licha'].mean(),'\\n\\n',one[1]['name'].drop_duplicates())"
   ]
  },
  {
   "cell_type": "code",
   "execution_count": 95,
   "metadata": {},
   "outputs": [],
   "source": []
  },
  {
   "cell_type": "code",
   "execution_count": null,
   "metadata": {},
   "outputs": [],
   "source": []
  }
 ],
 "metadata": {
  "kernelspec": {
   "display_name": "Python 3",
   "language": "python",
   "name": "python3"
  },
  "language_info": {
   "codemirror_mode": {
    "name": "ipython",
    "version": 3
   },
   "file_extension": ".py",
   "mimetype": "text/x-python",
   "name": "python",
   "nbconvert_exporter": "python",
   "pygments_lexer": "ipython3",
   "version": "3.7.6"
  }
 },
 "nbformat": 4,
 "nbformat_minor": 4
}
