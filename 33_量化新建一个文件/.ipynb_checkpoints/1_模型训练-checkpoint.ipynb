{
 "cells": [
  {
   "cell_type": "markdown",
   "metadata": {},
   "source": [
    "## 简单demo数据"
   ]
  },
  {
   "cell_type": "code",
   "execution_count": 1,
   "metadata": {},
   "outputs": [],
   "source": [
    "# 设置绘图\n",
    "from matplotlib import pyplot as plt\n",
    "import seaborn as sns\n",
    "sns.set()\n",
    "#设置字体为SimHei显示中文\n",
    "plt.rcParams['font.sans-serif'] = 'SimHei'\n",
    "#设置正常显示字符\n",
    "plt.rcParams['axes.unicode_minus'] = False\n",
    "\n",
    "import pandas as pd\n",
    "import numpy as np\n",
    "import xgboost\n",
    "import math"
   ]
  },
  {
   "cell_type": "code",
   "execution_count": 2,
   "metadata": {},
   "outputs": [
    {
     "data": {
      "text/html": [
       "<div>\n",
       "<style scoped>\n",
       "    .dataframe tbody tr th:only-of-type {\n",
       "        vertical-align: middle;\n",
       "    }\n",
       "\n",
       "    .dataframe tbody tr th {\n",
       "        vertical-align: top;\n",
       "    }\n",
       "\n",
       "    .dataframe thead th {\n",
       "        text-align: right;\n",
       "    }\n",
       "</style>\n",
       "<table border=\"1\" class=\"dataframe\">\n",
       "  <thead>\n",
       "    <tr style=\"text-align: right;\">\n",
       "      <th></th>\n",
       "      <th>open</th>\n",
       "      <th>high</th>\n",
       "      <th>low</th>\n",
       "      <th>close</th>\n",
       "      <th>volume</th>\n",
       "    </tr>\n",
       "  </thead>\n",
       "  <tbody>\n",
       "    <tr>\n",
       "      <th>2017-12-18 09:45:00</th>\n",
       "      <td>92.985</td>\n",
       "      <td>93.120</td>\n",
       "      <td>92.970</td>\n",
       "      <td>93.070</td>\n",
       "      <td>6729</td>\n",
       "    </tr>\n",
       "    <tr>\n",
       "      <th>2017-12-18 10:15:00</th>\n",
       "      <td>93.075</td>\n",
       "      <td>93.080</td>\n",
       "      <td>93.010</td>\n",
       "      <td>93.030</td>\n",
       "      <td>3445</td>\n",
       "    </tr>\n",
       "    <tr>\n",
       "      <th>2017-12-18 10:45:00</th>\n",
       "      <td>93.030</td>\n",
       "      <td>93.045</td>\n",
       "      <td>92.945</td>\n",
       "      <td>92.955</td>\n",
       "      <td>2849</td>\n",
       "    </tr>\n",
       "    <tr>\n",
       "      <th>2017-12-18 11:15:00</th>\n",
       "      <td>92.960</td>\n",
       "      <td>93.010</td>\n",
       "      <td>92.950</td>\n",
       "      <td>92.995</td>\n",
       "      <td>1295</td>\n",
       "    </tr>\n",
       "    <tr>\n",
       "      <th>2017-12-18 13:15:00</th>\n",
       "      <td>92.990</td>\n",
       "      <td>93.000</td>\n",
       "      <td>92.965</td>\n",
       "      <td>92.990</td>\n",
       "      <td>1269</td>\n",
       "    </tr>\n",
       "    <tr>\n",
       "      <th>...</th>\n",
       "      <td>...</td>\n",
       "      <td>...</td>\n",
       "      <td>...</td>\n",
       "      <td>...</td>\n",
       "      <td>...</td>\n",
       "    </tr>\n",
       "    <tr>\n",
       "      <th>2020-12-17 13:30:00</th>\n",
       "      <td>97.245</td>\n",
       "      <td>97.280</td>\n",
       "      <td>97.220</td>\n",
       "      <td>97.265</td>\n",
       "      <td>4083</td>\n",
       "    </tr>\n",
       "    <tr>\n",
       "      <th>2020-12-17 14:00:00</th>\n",
       "      <td>97.260</td>\n",
       "      <td>97.290</td>\n",
       "      <td>97.255</td>\n",
       "      <td>97.260</td>\n",
       "      <td>3955</td>\n",
       "    </tr>\n",
       "    <tr>\n",
       "      <th>2020-12-17 14:30:00</th>\n",
       "      <td>97.260</td>\n",
       "      <td>97.280</td>\n",
       "      <td>97.215</td>\n",
       "      <td>97.225</td>\n",
       "      <td>4976</td>\n",
       "    </tr>\n",
       "    <tr>\n",
       "      <th>2020-12-17 15:00:00</th>\n",
       "      <td>97.225</td>\n",
       "      <td>97.250</td>\n",
       "      <td>97.210</td>\n",
       "      <td>97.210</td>\n",
       "      <td>3783</td>\n",
       "    </tr>\n",
       "    <tr>\n",
       "      <th>2020-12-17 15:15:00</th>\n",
       "      <td>97.210</td>\n",
       "      <td>97.225</td>\n",
       "      <td>97.185</td>\n",
       "      <td>97.220</td>\n",
       "      <td>3898</td>\n",
       "    </tr>\n",
       "  </tbody>\n",
       "</table>\n",
       "<p>6569 rows × 5 columns</p>\n",
       "</div>"
      ],
      "text/plain": [
       "                       open    high     low   close  volume\n",
       "2017-12-18 09:45:00  92.985  93.120  92.970  93.070    6729\n",
       "2017-12-18 10:15:00  93.075  93.080  93.010  93.030    3445\n",
       "2017-12-18 10:45:00  93.030  93.045  92.945  92.955    2849\n",
       "2017-12-18 11:15:00  92.960  93.010  92.950  92.995    1295\n",
       "2017-12-18 13:15:00  92.990  93.000  92.965  92.990    1269\n",
       "...                     ...     ...     ...     ...     ...\n",
       "2020-12-17 13:30:00  97.245  97.280  97.220  97.265    4083\n",
       "2020-12-17 14:00:00  97.260  97.290  97.255  97.260    3955\n",
       "2020-12-17 14:30:00  97.260  97.280  97.215  97.225    4976\n",
       "2020-12-17 15:00:00  97.225  97.250  97.210  97.210    3783\n",
       "2020-12-17 15:15:00  97.210  97.225  97.185  97.220    3898\n",
       "\n",
       "[6569 rows x 5 columns]"
      ]
     },
     "execution_count": 2,
     "metadata": {},
     "output_type": "execute_result"
    }
   ],
   "source": [
    "df=pd.read_excel('T_30min.xlsx',index_col=0)\n",
    "df"
   ]
  },
  {
   "cell_type": "code",
   "execution_count": 92,
   "metadata": {},
   "outputs": [
    {
     "data": {
      "text/html": [
       "<div>\n",
       "<style scoped>\n",
       "    .dataframe tbody tr th:only-of-type {\n",
       "        vertical-align: middle;\n",
       "    }\n",
       "\n",
       "    .dataframe tbody tr th {\n",
       "        vertical-align: top;\n",
       "    }\n",
       "\n",
       "    .dataframe thead th {\n",
       "        text-align: right;\n",
       "    }\n",
       "</style>\n",
       "<table border=\"1\" class=\"dataframe\">\n",
       "  <thead>\n",
       "    <tr style=\"text-align: right;\">\n",
       "      <th></th>\n",
       "      <th>r</th>\n",
       "      <th>range</th>\n",
       "      <th>volume</th>\n",
       "    </tr>\n",
       "  </thead>\n",
       "  <tbody>\n",
       "    <tr>\n",
       "      <th>2017-12-18 09:45:00</th>\n",
       "      <td>0.000914</td>\n",
       "      <td>0.001613</td>\n",
       "      <td>6729</td>\n",
       "    </tr>\n",
       "    <tr>\n",
       "      <th>2017-12-18 10:15:00</th>\n",
       "      <td>-0.000483</td>\n",
       "      <td>0.000753</td>\n",
       "      <td>3445</td>\n",
       "    </tr>\n",
       "    <tr>\n",
       "      <th>2017-12-18 10:45:00</th>\n",
       "      <td>-0.000806</td>\n",
       "      <td>0.001076</td>\n",
       "      <td>2849</td>\n",
       "    </tr>\n",
       "    <tr>\n",
       "      <th>2017-12-18 11:15:00</th>\n",
       "      <td>0.000377</td>\n",
       "      <td>0.000646</td>\n",
       "      <td>1295</td>\n",
       "    </tr>\n",
       "    <tr>\n",
       "      <th>2017-12-18 13:15:00</th>\n",
       "      <td>0.000000</td>\n",
       "      <td>0.000376</td>\n",
       "      <td>1269</td>\n",
       "    </tr>\n",
       "    <tr>\n",
       "      <th>...</th>\n",
       "      <td>...</td>\n",
       "      <td>...</td>\n",
       "      <td>...</td>\n",
       "    </tr>\n",
       "    <tr>\n",
       "      <th>2020-12-17 13:30:00</th>\n",
       "      <td>0.000206</td>\n",
       "      <td>0.000617</td>\n",
       "      <td>4083</td>\n",
       "    </tr>\n",
       "    <tr>\n",
       "      <th>2020-12-17 14:00:00</th>\n",
       "      <td>0.000000</td>\n",
       "      <td>0.000360</td>\n",
       "      <td>3955</td>\n",
       "    </tr>\n",
       "    <tr>\n",
       "      <th>2020-12-17 14:30:00</th>\n",
       "      <td>-0.000360</td>\n",
       "      <td>0.000669</td>\n",
       "      <td>4976</td>\n",
       "    </tr>\n",
       "    <tr>\n",
       "      <th>2020-12-17 15:00:00</th>\n",
       "      <td>-0.000154</td>\n",
       "      <td>0.000411</td>\n",
       "      <td>3783</td>\n",
       "    </tr>\n",
       "    <tr>\n",
       "      <th>2020-12-17 15:15:00</th>\n",
       "      <td>0.000103</td>\n",
       "      <td>0.000412</td>\n",
       "      <td>3898</td>\n",
       "    </tr>\n",
       "  </tbody>\n",
       "</table>\n",
       "<p>6569 rows × 3 columns</p>\n",
       "</div>"
      ],
      "text/plain": [
       "                            r     range  volume\n",
       "2017-12-18 09:45:00  0.000914  0.001613    6729\n",
       "2017-12-18 10:15:00 -0.000483  0.000753    3445\n",
       "2017-12-18 10:45:00 -0.000806  0.001076    2849\n",
       "2017-12-18 11:15:00  0.000377  0.000646    1295\n",
       "2017-12-18 13:15:00  0.000000  0.000376    1269\n",
       "...                       ...       ...     ...\n",
       "2020-12-17 13:30:00  0.000206  0.000617    4083\n",
       "2020-12-17 14:00:00  0.000000  0.000360    3955\n",
       "2020-12-17 14:30:00 -0.000360  0.000669    4976\n",
       "2020-12-17 15:00:00 -0.000154  0.000411    3783\n",
       "2020-12-17 15:15:00  0.000103  0.000412    3898\n",
       "\n",
       "[6569 rows x 3 columns]"
      ]
     },
     "execution_count": 92,
     "metadata": {},
     "output_type": "execute_result"
    }
   ],
   "source": [
    "df['r']=df['close']/df['open']-1\n",
    "df['range']=df['high']/df['low']-1\n",
    "dataset=df[['r','range','volume']]\n",
    "dataset"
   ]
  },
  {
   "cell_type": "code",
   "execution_count": 121,
   "metadata": {},
   "outputs": [
    {
     "data": {
      "text/plain": [
       "array([], dtype=float64)"
      ]
     },
     "execution_count": 121,
     "metadata": {},
     "output_type": "execute_result"
    }
   ],
   "source": [
    "np.zeros(0)"
   ]
  },
  {
   "cell_type": "code",
   "execution_count": 124,
   "metadata": {},
   "outputs": [
    {
     "data": {
      "text/plain": [
       "array([], dtype=float64)"
      ]
     },
     "execution_count": 124,
     "metadata": {},
     "output_type": "execute_result"
    }
   ],
   "source": [
    "np.array([])"
   ]
  },
  {
   "cell_type": "code",
   "execution_count": 135,
   "metadata": {},
   "outputs": [],
   "source": [
    "def create_dataset(dataset:np.ndarray, look_back:int):  # 后一个数据和前look_back个数据有关系\n",
    "    assert not (isinstance(dataset,np.ndarray) and isinstance(dataset,pd.core.frame.DataFrame)) ,'输入数据格式不符合要求，使用pandas或numpy'\n",
    "    dataset=np.array(dataset)\n",
    "\n",
    "    dataX, dataY = [],[]\n",
    "    look_back = 20\n",
    "    for i in range(len(dataset) - look_back - 1):\n",
    "        a = dataset[i:(i + look_back)]\n",
    "        dataX.append(a)  # .apeend方法追加元素\n",
    "        dataY.append(dataset[i + look_back])\n",
    "        \n",
    "    dataX,dataY=np.array(dataX),np.array(dataY)\n",
    "        \n",
    "    dataX,dataY=np.reshape(dataX,(dataX.shape[0],-1)),np.reshape(dataY,(-1,1))# 转变为二维数据\n",
    "    \n",
    "    # 进行归一化\n",
    "    from sklearn.preprocessing import MinMaxScaler\n",
    "    \n",
    "    scalerX = MinMaxScaler(feature_range=(0, 1))  # 归一化0-1\n",
    "    scalerX.fit(dataX)\n",
    "    dataX=scalerX.transform(dataX)\n",
    "\n",
    "    scalerY = MinMaxScaler(feature_range=(0, 1))  # 归一化0-1\n",
    "    scalerY.fit(dataY)\n",
    "    dataY=scalerY.transform(dataY)\n",
    "    \n",
    "    return np.array(dataX), np.array(dataY)  # 生成输入数据和输出数据"
   ]
  },
  {
   "cell_type": "code",
   "execution_count": 136,
   "metadata": {},
   "outputs": [
    {
     "data": {
      "text/plain": [
       "array([[0.61321715, 0.16014863, 0.243074  , ..., 0.56070403, 0.08965191,\n",
       "        0.08386509],\n",
       "       [0.46126492, 0.06576652, 0.11291665, ..., 0.47869051, 0.04824487,\n",
       "        0.04383496],\n",
       "       [0.42617882, 0.10121372, 0.08929491, ..., 0.49039626, 0.06599784,\n",
       "        0.06920059],\n",
       "       ...,\n",
       "       [0.51940891, 0.04514282, 0.12995918, ..., 0.53619117, 0.05091541,\n",
       "        0.138203  ],\n",
       "       [0.49709614, 0.04513647, 0.08410289, ..., 0.5138305 , 0.02270676,\n",
       "        0.13312988],\n",
       "       [0.48035663, 0.06768009, 0.21814435, ..., 0.47470537, 0.05655807,\n",
       "        0.17359597]])"
      ]
     },
     "execution_count": 136,
     "metadata": {},
     "output_type": "execute_result"
    }
   ],
   "source": [
    "totX, totY = create_dataset(np.array(dataset), look_back)  # 训练输入输出\n",
    "totX"
   ]
  },
  {
   "cell_type": "code",
   "execution_count": 7,
   "metadata": {},
   "outputs": [
    {
     "name": "stdout",
     "output_type": "stream",
     "text": [
      "(4380, 3, 20)\n"
     ]
    }
   ],
   "source": [
    "def split_dataset(dataset):\n",
    "    dataset=np.array(dataset)\n",
    "    train_size = int(len(dataset) * 0.67)  # %67的训练集，剩下测试集\n",
    "    test_size = len(dataset) - train_size\n",
    "    train, test = dataset[0:train_size, :], dataset[train_size:len(dataset), :]  # 训练集和测试集\n",
    "    \n",
    "\n",
    "#     trainX, trainY = create_dataset(train, look_back)  # 训练输入输出\n",
    "#     testX, testY = create_dataset(test, look_back)  # 测试输入输出\n",
    "    trainX = np.reshape(trainX, (trainX.shape[0], 3, trainX.shape[1]))\n",
    "    testX = np.reshape(testX, (testX.shape[0], 3, testX.shape[1]))\n",
    "    \n",
    "    trainY,testY=trainY[:,0],testY[:,0]\n",
    "    \n",
    "    return trainX,trainY,testX,testY\n",
    "trainX,trainY,testX,testY=split_dataset(dataset)\n",
    "print(trainX.shape)"
   ]
  },
  {
   "cell_type": "code",
   "execution_count": null,
   "metadata": {},
   "outputs": [],
   "source": []
  },
  {
   "cell_type": "code",
   "execution_count": 8,
   "metadata": {},
   "outputs": [],
   "source": [
    "\n",
    "\n"
   ]
  },
  {
   "cell_type": "code",
   "execution_count": null,
   "metadata": {},
   "outputs": [],
   "source": []
  },
  {
   "cell_type": "code",
   "execution_count": 9,
   "metadata": {},
   "outputs": [
    {
     "data": {
      "text/plain": [
       "array([[<matplotlib.axes._subplots.AxesSubplot object at 0x0000020512CB0508>]],\n",
       "      dtype=object)"
      ]
     },
     "execution_count": 9,
     "metadata": {},
     "output_type": "execute_result"
    },
    {
     "data": {
      "image/png": "[encoded data removed]",
      "text/plain": [
       "<Figure size 432x288 with 1 Axes>"
      ]
     },
     "metadata": {},
     "output_type": "display_data"
    }
   ],
   "source": [
    "pd.DataFrame(trainX[:,0]).hist()"
   ]
  },
  {
   "cell_type": "markdown",
   "metadata": {},
   "source": [
    "整理好的数据格式：\n",
    "\n",
    "1. **trainX:\\[length,m,lookback\\]**\n",
    "    * 其中length为数据长度，\n",
    "    * 每一个时期的数据包括m*lookback个数据，主要在LSTM中用到，其中m为单日数据维度，lookback为选择的期数\n",
    "    * 在神经网络和xgboost中我们将所有数据变为一维数据\n",
    "2. **trainY:\\[length,k\\]**\n",
    "    * length与trainX的长度相同，k为输出的数据维度（先暂时考虑只输出收益率r？）**因此就算只有一维数据，也需要reshape(n,1)**\n",
    "3. testX\n",
    "4. testY"
   ]
  },
  {
   "cell_type": "markdown",
   "metadata": {},
   "source": [
    "## 神经网络\n"
   ]
  },
  {
   "cell_type": "code",
   "execution_count": 90,
   "metadata": {},
   "outputs": [],
   "source": [
    "from keras.models import Sequential  # 采用贯序模型\n",
    "from keras.layers import Input, Dense, Dropout, Activation,LSTM\n",
    "from keras.models import Model\n",
    "from keras.optimizers import SGD\n",
    "import numpy as np"
   ]
  },
  {
   "cell_type": "code",
   "execution_count": 91,
   "metadata": {},
   "outputs": [],
   "source": [
    "tBatchSize = 128\n",
    "'''第一步：选择模型'''\n",
    "model = Sequential()  # 采用贯序模型\n",
    "\n",
    "'''第二步：构建网络层'''\n",
    "'''构建网络只是构建了一个网络结构，并定义网络的参数，此时还没有输入的数据集'''\n",
    "# 构建的第一个层作为输入层\n",
    "# Dense 这是第一个隐藏层，并附带定义了输入层，该隐含层有500个神经元。输入则是 784个节点\n",
    "model.add(Dense(50, input_shape=(60,)))  # 输入层，28*28=784 输入层将二维矩阵换成了一维向量输入\n",
    "model.add(Activation('tanh'))  # 激活函数是tanh 为双曲正切  tanh(x) = sinh(x)/cosh(x) = (e^x - e^(-x))/(e^x + e^(-x))\n",
    "model.add(Dropout(0.5))  # 采用50%的dropout  随机取一半进行训练\n",
    "\n",
    "# 构建的第2个层作为隐藏层2， （如果加上输入层，实际上是第三层）\n",
    "model.add(Dense(50))  # 隐藏层节点500个\n",
    "model.add(Activation('tanh'))\n",
    "model.add(Dropout(0.5))\n",
    "\n",
    "model.add(Dense(50))  # 隐藏层3，节点500个\n",
    "model.add(Activation('tanh'))\n",
    "# model.add(Dropout(0.5))\n",
    "\n",
    "# 构建的第3个层作为输出层\n",
    "model.add(Dense(1))  # 输出结果是10个类别，所以维度是10\n",
    "# softmax介绍可以参考https://blog.csdn.net/haolexiao/article/details/72757796\n",
    "# model.add(Activation('softmax'))  # 最后一层用softmax作为激活函数"
   ]
  },
  {
   "cell_type": "code",
   "execution_count": 12,
   "metadata": {},
   "outputs": [],
   "source": [
    "'''第三步：网络优化和编译'''\n",
    "#   lr：大于0的浮点数，学习率\n",
    "#   momentum：大于0的浮点数，动量参数\n",
    "#   decay：大于0的浮点数，每次更新后的学习率衰减值\n",
    "#   nesterov：布尔值，确定是否使用Nesterov动量\n",
    "sgd = SGD(lr=0.01, decay=1e-6, momentum=0.9, nesterov=True)  # 优化函数，设定学习率（lr）等参数\n",
    "\n",
    "# 只有通过了编译，model才真正的建立起来，这时候才能够被使用\n",
    "# model.compile(loss='categorical_crossentropy', optimizer=sgd, class_mode='categorical') # 使用交叉熵作为loss函数 这是原例子，但是执行出错\n",
    "model.compile(loss='categorical_crossentropy', optimizer=sgd)  # 使用交叉熵作为loss函数    # 去掉 class_mode 即可。可能是版本不同导致的？？？"
   ]
  },
  {
   "cell_type": "code",
   "execution_count": 13,
   "metadata": {},
   "outputs": [],
   "source": [
    "'''\n",
    "   第四步：训练\n",
    "'''\n",
    "\n",
    "# 数据集获取 mnist 数据集的介绍可以参考 https://blog.csdn.net/simple_the_best/article/details/75267863\n",
    "# (trainX, trainY),(testX, testY) = mnist.load_data()  # 使用Keras自带的mnist工具读取数据（第一次需要联网）\n",
    "\n",
    "# 由于mist的输入数据维度是(num, 28, 28)，这里需要把后面的维度直接拼起来变成784维\n",
    "\n",
    "# trainX,trainY,testX,testY=split_dataset(dataset)\n",
    "# trainY,testY=trainY[:,0],testY[:,0]\n",
    "# trainX = trainX.reshape(trainX.shape[0], trainX.shape[1] * trainX.shape[2])\n",
    "# testX = testX.reshape(testX.shape[0], testX.shape[1] * testX.shape[2])\n",
    "# print(trainX.shape)\n",
    "# 这个能生成一个OneHot的10维向量，作为Y_train的一行，这样Y_train就有60000行OneHot作为输出\n",
    "# trainY = (np.arange(10) == trainY[:, None]).astype(int)  # 整理输出\n",
    "# testY = (np.arange(10) == testY[:, None]).astype(int)  # np.arange(5) = array([0,1,2,3,4])\n",
    "\n",
    "'''\n",
    "   .fit的一些参数\n",
    "   batch_size：对总的样本数进行分组，每组包含的样本数量\n",
    "   epochs ：训练次数\n",
    "   shuffle：是否把数据随机打乱之后再进行训练\n",
    "   validation_split：拿出百分之多少用来做交叉验证\n",
    "   verbose：屏显模式 0：不输出  1：输出进度  2：输出每次的训练结果\n",
    "''';"
   ]
  },
  {
   "cell_type": "code",
   "execution_count": 14,
   "metadata": {},
   "outputs": [
    {
     "data": {
      "text/plain": [
       "(array([3.000e+00, 5.000e+00, 2.000e+01, 1.590e+02, 1.463e+03, 2.380e+03,\n",
       "        3.160e+02, 2.700e+01, 6.000e+00, 1.000e+00]),\n",
       " array([0. , 0.1, 0.2, 0.3, 0.4, 0.5, 0.6, 0.7, 0.8, 0.9, 1. ]),\n",
       " <a list of 10 Patch objects>)"
      ]
     },
     "execution_count": 14,
     "metadata": {},
     "output_type": "execute_result"
    },
    {
     "data": {
      "image/png": "[encoded data removed]",
      "text/plain": [
       "<Figure size 432x288 with 1 Axes>"
      ]
     },
     "metadata": {},
     "output_type": "display_data"
    }
   ],
   "source": [
    "plt.hist(trainY)"
   ]
  },
  {
   "cell_type": "code",
   "execution_count": 15,
   "metadata": {},
   "outputs": [
    {
     "data": {
      "text/plain": [
       "<tensorflow.python.keras.callbacks.History at 0x2051aafd948>"
      ]
     },
     "execution_count": 15,
     "metadata": {},
     "output_type": "execute_result"
    }
   ],
   "source": [
    "model.fit(trainX, trainY, batch_size=tBatchSize, epochs=100, shuffle=True, verbose=0, validation_split=0.3)\n",
    "# model.evaluate(testX, testY, batch_size=200, verbose=0)\n"
   ]
  },
  {
   "cell_type": "code",
   "execution_count": 16,
   "metadata": {},
   "outputs": [
    {
     "data": {
      "text/plain": [
       "(0.0865226314839278,\n",
       " 0.9860498840650036,\n",
       " array([[0.48613175],\n",
       "        [0.49166585],\n",
       "        [0.49166133],\n",
       "        ...,\n",
       "        [0.5138305 ],\n",
       "        [0.47470537],\n",
       "        [0.49705655]]))"
      ]
     },
     "execution_count": 16,
     "metadata": {},
     "output_type": "execute_result"
    }
   ],
   "source": [
    "testX[:,0].min(),testX[:,0].max(),testY"
   ]
  },
  {
   "cell_type": "code",
   "execution_count": 17,
   "metadata": {},
   "outputs": [
    {
     "name": "stdout",
     "output_type": "stream",
     "text": [
      "test set\n",
      "\n",
      "The test loss is 0.000000\n"
     ]
    }
   ],
   "source": [
    "'''第五步：输出'''\n",
    "print(\"test set\")\n",
    "# 误差评价 ：按batch计算在batch用到的输入数据上模型的误差\n",
    "scores = model.evaluate(testX, testY, batch_size=tBatchSize, verbose=0)\n",
    "print(\"\")\n",
    "print(\"The test loss is %f\" % scores)"
   ]
  },
  {
   "cell_type": "code",
   "execution_count": 19,
   "metadata": {},
   "outputs": [
    {
     "data": {
      "text/plain": [
       "array([[<matplotlib.axes._subplots.AxesSubplot object at 0x000002051ABC6888>]],\n",
       "      dtype=object)"
      ]
     },
     "execution_count": 19,
     "metadata": {},
     "output_type": "execute_result"
    },
    {
     "data": {
      "image/png": "[encoded data removed]",
      "text/plain": [
       "<Figure size 432x288 with 1 Axes>"
      ]
     },
     "metadata": {},
     "output_type": "display_data"
    },
    {
     "data": {
      "image/png": "[encoded data removed]",
      "text/plain": [
       "<Figure size 432x288 with 1 Axes>"
      ]
     },
     "metadata": {},
     "output_type": "display_data"
    }
   ],
   "source": [
    "\n",
    "# 根据模型获取预测结果  为了节约计算内存，也是分组（batch）load到内存中的，\n",
    "result= model.predict(testX, batch_size=tBatchSize, verbose=0)\n",
    "\n",
    "\n",
    "result_raw=scalerY.inverse_transform(result)\n",
    "testY_raw=scalerY.inverse_transform(testY)\n",
    "\n",
    "pd.DataFrame(result_raw[:,0]).hist()\n",
    "pd.DataFrame(testY_raw[:,0]).hist()\n",
    "\n",
    "# # 找到每行最大的序号\n",
    "# result_max = np.argmax(result, axis=1)  # axis=1表示按行 取最大值   如果axis=0表示按列 取最大值 axis=None表示全部\n",
    "# test_max = np.argmax(testY, axis=1)  # 这是结果的真实序号\n",
    "\n",
    "# result_bool = np.equal(result_max, test_max)  # 预测结果和真实结果一致的为真（按元素比较）\n",
    "# true_num = np.sum(result_bool)  # 正确结果的数量\n",
    "# print(\"The accuracy of the model is %f\" % (true_num / len(result_bool)))  # 验证结果的准确率\n"
   ]
  },
  {
   "cell_type": "code",
   "execution_count": null,
   "metadata": {},
   "outputs": [],
   "source": []
  },
  {
   "cell_type": "code",
   "execution_count": 22,
   "metadata": {},
   "outputs": [
    {
     "data": {
      "text/html": [
       "<div>\n",
       "<style scoped>\n",
       "    .dataframe tbody tr th:only-of-type {\n",
       "        vertical-align: middle;\n",
       "    }\n",
       "\n",
       "    .dataframe tbody tr th {\n",
       "        vertical-align: top;\n",
       "    }\n",
       "\n",
       "    .dataframe thead th {\n",
       "        text-align: right;\n",
       "    }\n",
       "</style>\n",
       "<table border=\"1\" class=\"dataframe\">\n",
       "  <thead>\n",
       "    <tr style=\"text-align: right;\">\n",
       "      <th></th>\n",
       "      <th>pred</th>\n",
       "      <th>real</th>\n",
       "    </tr>\n",
       "  </thead>\n",
       "  <tbody>\n",
       "    <tr>\n",
       "      <th>count</th>\n",
       "      <td>2147.000000</td>\n",
       "      <td>2.147000e+03</td>\n",
       "    </tr>\n",
       "    <tr>\n",
       "      <th>mean</th>\n",
       "      <td>0.000467</td>\n",
       "      <td>-4.377149e-07</td>\n",
       "    </tr>\n",
       "    <tr>\n",
       "      <th>std</th>\n",
       "      <td>0.000676</td>\n",
       "      <td>7.279984e-04</td>\n",
       "    </tr>\n",
       "    <tr>\n",
       "      <th>min</th>\n",
       "      <td>-0.002420</td>\n",
       "      <td>-3.930238e-03</td>\n",
       "    </tr>\n",
       "    <tr>\n",
       "      <th>25%</th>\n",
       "      <td>-0.000002</td>\n",
       "      <td>-4.036836e-04</td>\n",
       "    </tr>\n",
       "    <tr>\n",
       "      <th>50%</th>\n",
       "      <td>0.000419</td>\n",
       "      <td>0.000000e+00</td>\n",
       "    </tr>\n",
       "    <tr>\n",
       "      <th>75%</th>\n",
       "      <td>0.000871</td>\n",
       "      <td>4.070425e-04</td>\n",
       "    </tr>\n",
       "    <tr>\n",
       "      <th>max</th>\n",
       "      <td>0.003386</td>\n",
       "      <td>4.343320e-03</td>\n",
       "    </tr>\n",
       "  </tbody>\n",
       "</table>\n",
       "</div>"
      ],
      "text/plain": [
       "              pred          real\n",
       "count  2147.000000  2.147000e+03\n",
       "mean      0.000467 -4.377149e-07\n",
       "std       0.000676  7.279984e-04\n",
       "min      -0.002420 -3.930238e-03\n",
       "25%      -0.000002 -4.036836e-04\n",
       "50%       0.000419  0.000000e+00\n",
       "75%       0.000871  4.070425e-04\n",
       "max       0.003386  4.343320e-03"
      ]
     },
     "execution_count": 22,
     "metadata": {},
     "output_type": "execute_result"
    }
   ],
   "source": [
    "result_df=pd.DataFrame({'pred':result_raw[:,0]})\n",
    "result_df['real']=testY_raw[:,0]\n",
    "result_df.describe()"
   ]
  },
  {
   "cell_type": "code",
   "execution_count": 40,
   "metadata": {},
   "outputs": [
    {
     "data": {
      "text/html": [
       "<div>\n",
       "<style scoped>\n",
       "    .dataframe tbody tr th:only-of-type {\n",
       "        vertical-align: middle;\n",
       "    }\n",
       "\n",
       "    .dataframe tbody tr th {\n",
       "        vertical-align: top;\n",
       "    }\n",
       "\n",
       "    .dataframe thead th {\n",
       "        text-align: right;\n",
       "    }\n",
       "</style>\n",
       "<table border=\"1\" class=\"dataframe\">\n",
       "  <thead>\n",
       "    <tr style=\"text-align: right;\">\n",
       "      <th></th>\n",
       "      <th>pred</th>\n",
       "      <th>real</th>\n",
       "      <th>buy</th>\n",
       "      <th>real_return</th>\n",
       "      <th>stg_return</th>\n",
       "      <th>buy_and_sell</th>\n",
       "      <th>stg_buy</th>\n",
       "      <th>stg_buy_and_sell</th>\n",
       "    </tr>\n",
       "  </thead>\n",
       "  <tbody>\n",
       "    <tr>\n",
       "      <th>0</th>\n",
       "      <td>0.000266</td>\n",
       "      <td>-0.000255</td>\n",
       "      <td>True</td>\n",
       "      <td>0.999745</td>\n",
       "      <td>0.999745</td>\n",
       "      <td>1</td>\n",
       "      <td>0.999745</td>\n",
       "      <td>0.999745</td>\n",
       "    </tr>\n",
       "    <tr>\n",
       "      <th>1</th>\n",
       "      <td>0.000093</td>\n",
       "      <td>-0.000204</td>\n",
       "      <td>True</td>\n",
       "      <td>0.999541</td>\n",
       "      <td>0.999541</td>\n",
       "      <td>1</td>\n",
       "      <td>0.999541</td>\n",
       "      <td>0.999541</td>\n",
       "    </tr>\n",
       "    <tr>\n",
       "      <th>2</th>\n",
       "      <td>0.000313</td>\n",
       "      <td>-0.000204</td>\n",
       "      <td>True</td>\n",
       "      <td>0.999338</td>\n",
       "      <td>0.999338</td>\n",
       "      <td>1</td>\n",
       "      <td>0.999338</td>\n",
       "      <td>0.999338</td>\n",
       "    </tr>\n",
       "    <tr>\n",
       "      <th>3</th>\n",
       "      <td>-0.000435</td>\n",
       "      <td>-0.000051</td>\n",
       "      <td>False</td>\n",
       "      <td>0.999287</td>\n",
       "      <td>0.999389</td>\n",
       "      <td>-1</td>\n",
       "      <td>0.999338</td>\n",
       "      <td>0.999389</td>\n",
       "    </tr>\n",
       "    <tr>\n",
       "      <th>4</th>\n",
       "      <td>-0.000435</td>\n",
       "      <td>-0.000357</td>\n",
       "      <td>False</td>\n",
       "      <td>0.998930</td>\n",
       "      <td>0.999745</td>\n",
       "      <td>-1</td>\n",
       "      <td>0.999338</td>\n",
       "      <td>0.999745</td>\n",
       "    </tr>\n",
       "    <tr>\n",
       "      <th>...</th>\n",
       "      <td>...</td>\n",
       "      <td>...</td>\n",
       "      <td>...</td>\n",
       "      <td>...</td>\n",
       "      <td>...</td>\n",
       "      <td>...</td>\n",
       "      <td>...</td>\n",
       "      <td>...</td>\n",
       "    </tr>\n",
       "    <tr>\n",
       "      <th>2142</th>\n",
       "      <td>0.000765</td>\n",
       "      <td>-0.000257</td>\n",
       "      <td>True</td>\n",
       "      <td>0.998801</td>\n",
       "      <td>1.046483</td>\n",
       "      <td>1</td>\n",
       "      <td>1.022478</td>\n",
       "      <td>1.046483</td>\n",
       "    </tr>\n",
       "    <tr>\n",
       "      <th>2143</th>\n",
       "      <td>0.000119</td>\n",
       "      <td>0.000206</td>\n",
       "      <td>True</td>\n",
       "      <td>0.999006</td>\n",
       "      <td>1.046698</td>\n",
       "      <td>1</td>\n",
       "      <td>1.022688</td>\n",
       "      <td>1.046698</td>\n",
       "    </tr>\n",
       "    <tr>\n",
       "      <th>2144</th>\n",
       "      <td>-0.000686</td>\n",
       "      <td>0.000000</td>\n",
       "      <td>False</td>\n",
       "      <td>0.999006</td>\n",
       "      <td>1.046698</td>\n",
       "      <td>-1</td>\n",
       "      <td>1.022688</td>\n",
       "      <td>1.046698</td>\n",
       "    </tr>\n",
       "    <tr>\n",
       "      <th>2145</th>\n",
       "      <td>0.000195</td>\n",
       "      <td>-0.000360</td>\n",
       "      <td>True</td>\n",
       "      <td>0.998647</td>\n",
       "      <td>1.046322</td>\n",
       "      <td>1</td>\n",
       "      <td>1.022320</td>\n",
       "      <td>1.046322</td>\n",
       "    </tr>\n",
       "    <tr>\n",
       "      <th>2146</th>\n",
       "      <td>0.000173</td>\n",
       "      <td>-0.000154</td>\n",
       "      <td>True</td>\n",
       "      <td>0.998493</td>\n",
       "      <td>1.046160</td>\n",
       "      <td>1</td>\n",
       "      <td>1.022162</td>\n",
       "      <td>1.046160</td>\n",
       "    </tr>\n",
       "  </tbody>\n",
       "</table>\n",
       "<p>2147 rows × 8 columns</p>\n",
       "</div>"
      ],
      "text/plain": [
       "          pred      real    buy  real_return  stg_return  buy_and_sell  \\\n",
       "0     0.000266 -0.000255   True     0.999745    0.999745             1   \n",
       "1     0.000093 -0.000204   True     0.999541    0.999541             1   \n",
       "2     0.000313 -0.000204   True     0.999338    0.999338             1   \n",
       "3    -0.000435 -0.000051  False     0.999287    0.999389            -1   \n",
       "4    -0.000435 -0.000357  False     0.998930    0.999745            -1   \n",
       "...        ...       ...    ...          ...         ...           ...   \n",
       "2142  0.000765 -0.000257   True     0.998801    1.046483             1   \n",
       "2143  0.000119  0.000206   True     0.999006    1.046698             1   \n",
       "2144 -0.000686  0.000000  False     0.999006    1.046698            -1   \n",
       "2145  0.000195 -0.000360   True     0.998647    1.046322             1   \n",
       "2146  0.000173 -0.000154   True     0.998493    1.046160             1   \n",
       "\n",
       "       stg_buy  stg_buy_and_sell  \n",
       "0     0.999745          0.999745  \n",
       "1     0.999541          0.999541  \n",
       "2     0.999338          0.999338  \n",
       "3     0.999338          0.999389  \n",
       "4     0.999338          0.999745  \n",
       "...        ...               ...  \n",
       "2142  1.022478          1.046483  \n",
       "2143  1.022688          1.046698  \n",
       "2144  1.022688          1.046698  \n",
       "2145  1.022320          1.046322  \n",
       "2146  1.022162          1.046160  \n",
       "\n",
       "[2147 rows x 8 columns]"
      ]
     },
     "execution_count": 40,
     "metadata": {},
     "output_type": "execute_result"
    }
   ],
   "source": [
    "result_df['buy']=result_df['pred']>0 #只做多\n",
    "result_df['buy_and_sell']=result_df['pred'].apply(lambda x:1 if x>0 else -1 ) # 加做空\n",
    "\n",
    "result_df['real_return']=(1+result_df['real']).cumprod()\n",
    "result_df['stg_buy']=((result_df['real']*result_df['buy'])+1).cumprod()\n",
    "result_df['stg_buy_and_sell']=((result_df['real']*result_df['buy_and_sell'])+1).cumprod()\n",
    "result_df"
   ]
  },
  {
   "cell_type": "code",
   "execution_count": 41,
   "metadata": {},
   "outputs": [
    {
     "data": {
      "text/plain": [
       "<matplotlib.axes._subplots.AxesSubplot at 0x2051d407488>"
      ]
     },
     "execution_count": 41,
     "metadata": {},
     "output_type": "execute_result"
    },
    {
     "data": {
      "image/png": "[encoded data removed]",
      "text/plain": [
       "<Figure size 432x288 with 1 Axes>"
      ]
     },
     "metadata": {},
     "output_type": "display_data"
    }
   ],
   "source": [
    "result_df[['real_return','stg_buy','stg_buy_and_sell']].plot()"
   ]
  },
  {
   "cell_type": "markdown",
   "metadata": {},
   "source": [
    "## LSTM\n"
   ]
  },
  {
   "cell_type": "code",
   "execution_count": 131,
   "metadata": {},
   "outputs": [
    {
     "data": {
      "text/plain": [
       "(6569, 3)"
      ]
     },
     "execution_count": 131,
     "metadata": {},
     "output_type": "execute_result"
    }
   ],
   "source": []
  },
  {
   "cell_type": "code",
   "execution_count": 42,
   "metadata": {},
   "outputs": [],
   "source": [
    "# def create_dataset(dataset, look_back:int):  # 后一个数据和前look_back个数据有关系\n",
    "#     dataX, dataY = [], []\n",
    "#     for i in range(len(dataset) - look_back - 1):\n",
    "#         a = dataset[i:(i + look_back)]\n",
    "#         dataX.append(a)  # .apeend方法追加元素\n",
    "#         dataY.append(dataset[i + look_back])\n",
    "#     return np.array(dataX), np.array(dataY)  # 生成输入数据和输出数据"
   ]
  },
  {
   "cell_type": "code",
   "execution_count": null,
   "metadata": {},
   "outputs": [],
   "source": []
  },
  {
   "cell_type": "code",
   "execution_count": 137,
   "metadata": {},
   "outputs": [
    {
     "name": "stdout",
     "output_type": "stream",
     "text": [
      "(4380, 3, 20)\n"
     ]
    }
   ],
   "source": [
    "# def split_dataset(dataset):\n",
    "#     train_size = int(len(dataset) * 0.67)  # %67的训练集，剩下测试集\n",
    "#     test_size = len(dataset) - train_size\n",
    "#     train, test = dataset[0:train_size, :], dataset[train_size:len(dataset), :]  # 训练集和测试集\n",
    "    \n",
    "#     look_back = 20\n",
    "#     trainX, trainY = create_dataset(train, look_back)  # 训练输入输出\n",
    "#     testX, testY = create_dataset(test, look_back)  # 测试输入输出\n",
    "#     trainY,testY=trainY[:,0],testY[:,0]\n",
    "#     trainX = np.reshape(trainX, (trainX.shape[0], 3, trainX.shape[1]))\n",
    "#     testX = np.reshape(testX, (testX.shape[0], 3, testX.shape[1]))\n",
    "#     return trainX,trainY,testX,testY\n",
    "# trainX,trainY,testX,testY=split_dataset(dataset)\n",
    "# print(trainX.shape)"
   ]
  },
  {
   "cell_type": "code",
   "execution_count": 51,
   "metadata": {},
   "outputs": [
    {
     "data": {
      "text/plain": [
       "(4380, 3, 20)"
      ]
     },
     "execution_count": 51,
     "metadata": {},
     "output_type": "execute_result"
    }
   ],
   "source": [
    "trainX=np.reshape(trainX,(trainX.shape[0],3,-1))\n",
    "testX=np.reshape(testX,(testX.shape[0],3,-1))\n",
    "\n",
    "trainX.shape"
   ]
  },
  {
   "cell_type": "code",
   "execution_count": 53,
   "metadata": {
    "collapsed": true,
    "jupyter": {
     "outputs_hidden": true
    }
   },
   "outputs": [
    {
     "name": "stdout",
     "output_type": "stream",
     "text": [
      "Epoch 1/200\n",
      "44/44 [==============================] - 0s 2ms/step - loss: 0.0650\n",
      "Epoch 2/200\n",
      "44/44 [==============================] - 0s 2ms/step - loss: 0.0063\n",
      "Epoch 3/200\n",
      "44/44 [==============================] - 0s 2ms/step - loss: 0.0058\n",
      "Epoch 4/200\n",
      "44/44 [==============================] - 0s 2ms/step - loss: 0.0057\n",
      "Epoch 5/200\n",
      "44/44 [==============================] - 0s 2ms/step - loss: 0.0056\n",
      "Epoch 6/200\n",
      "44/44 [==============================] - 0s 2ms/step - loss: 0.0055\n",
      "Epoch 7/200\n",
      "44/44 [==============================] - 0s 2ms/step - loss: 0.0054\n",
      "Epoch 8/200\n",
      "44/44 [==============================] - 0s 2ms/step - loss: 0.0053\n",
      "Epoch 9/200\n",
      "44/44 [==============================] - 0s 2ms/step - loss: 0.0052\n",
      "Epoch 10/200\n",
      "44/44 [==============================] - 0s 2ms/step - loss: 0.0052\n",
      "Epoch 11/200\n",
      "44/44 [==============================] - 0s 2ms/step - loss: 0.0051\n",
      "Epoch 12/200\n",
      "44/44 [==============================] - 0s 2ms/step - loss: 0.0051\n",
      "Epoch 13/200\n",
      "44/44 [==============================] - 0s 2ms/step - loss: 0.0050\n",
      "Epoch 14/200\n",
      "44/44 [==============================] - 0s 2ms/step - loss: 0.0050\n",
      "Epoch 15/200\n",
      "44/44 [==============================] - 0s 2ms/step - loss: 0.0050\n",
      "Epoch 16/200\n",
      "44/44 [==============================] - 0s 2ms/step - loss: 0.0050\n",
      "Epoch 17/200\n",
      "44/44 [==============================] - 0s 2ms/step - loss: 0.0049\n",
      "Epoch 18/200\n",
      "44/44 [==============================] - 0s 2ms/step - loss: 0.0049\n",
      "Epoch 19/200\n",
      "44/44 [==============================] - 0s 2ms/step - loss: 0.0049\n",
      "Epoch 20/200\n",
      "44/44 [==============================] - 0s 2ms/step - loss: 0.0049\n",
      "Epoch 21/200\n",
      "44/44 [==============================] - 0s 2ms/step - loss: 0.0049\n",
      "Epoch 22/200\n",
      "44/44 [==============================] - 0s 2ms/step - loss: 0.0049\n",
      "Epoch 23/200\n",
      "44/44 [==============================] - 0s 2ms/step - loss: 0.0048\n",
      "Epoch 24/200\n",
      "44/44 [==============================] - 0s 2ms/step - loss: 0.0048\n",
      "Epoch 25/200\n",
      "44/44 [==============================] - 0s 2ms/step - loss: 0.0048\n",
      "Epoch 26/200\n",
      "44/44 [==============================] - 0s 2ms/step - loss: 0.0048\n",
      "Epoch 27/200\n",
      "44/44 [==============================] - 0s 2ms/step - loss: 0.0048\n",
      "Epoch 28/200\n",
      "44/44 [==============================] - 0s 2ms/step - loss: 0.0048\n",
      "Epoch 29/200\n",
      "44/44 [==============================] - 0s 2ms/step - loss: 0.0048\n",
      "Epoch 30/200\n",
      "44/44 [==============================] - 0s 2ms/step - loss: 0.0048\n",
      "Epoch 31/200\n",
      "44/44 [==============================] - 0s 2ms/step - loss: 0.0048\n",
      "Epoch 32/200\n",
      "44/44 [==============================] - 0s 2ms/step - loss: 0.0048\n",
      "Epoch 33/200\n",
      "44/44 [==============================] - 0s 2ms/step - loss: 0.0048\n",
      "Epoch 34/200\n",
      "44/44 [==============================] - 0s 2ms/step - loss: 0.0048\n",
      "Epoch 35/200\n",
      "44/44 [==============================] - 0s 2ms/step - loss: 0.0048\n",
      "Epoch 36/200\n",
      "44/44 [==============================] - 0s 2ms/step - loss: 0.0048\n",
      "Epoch 37/200\n",
      "44/44 [==============================] - 0s 2ms/step - loss: 0.0048\n",
      "Epoch 38/200\n",
      "44/44 [==============================] - 0s 2ms/step - loss: 0.0047\n",
      "Epoch 39/200\n",
      "44/44 [==============================] - 0s 2ms/step - loss: 0.0047\n",
      "Epoch 40/200\n",
      "44/44 [==============================] - 0s 2ms/step - loss: 0.0047\n",
      "Epoch 41/200\n",
      "44/44 [==============================] - 0s 2ms/step - loss: 0.0047\n",
      "Epoch 42/200\n",
      "44/44 [==============================] - 0s 2ms/step - loss: 0.0047\n",
      "Epoch 43/200\n",
      "44/44 [==============================] - 0s 2ms/step - loss: 0.0047\n",
      "Epoch 44/200\n",
      "44/44 [==============================] - 0s 2ms/step - loss: 0.0047\n",
      "Epoch 45/200\n",
      "44/44 [==============================] - 0s 2ms/step - loss: 0.0047\n",
      "Epoch 46/200\n",
      "44/44 [==============================] - 0s 2ms/step - loss: 0.0047\n",
      "Epoch 47/200\n",
      "44/44 [==============================] - 0s 2ms/step - loss: 0.0047\n",
      "Epoch 48/200\n",
      "44/44 [==============================] - 0s 2ms/step - loss: 0.0047\n",
      "Epoch 49/200\n",
      "44/44 [==============================] - 0s 2ms/step - loss: 0.0047\n",
      "Epoch 50/200\n",
      "44/44 [==============================] - 0s 2ms/step - loss: 0.0047\n",
      "Epoch 51/200\n",
      "44/44 [==============================] - 0s 2ms/step - loss: 0.0047\n",
      "Epoch 52/200\n",
      "44/44 [==============================] - 0s 2ms/step - loss: 0.0047\n",
      "Epoch 53/200\n",
      "44/44 [==============================] - 0s 2ms/step - loss: 0.0047\n",
      "Epoch 54/200\n",
      "44/44 [==============================] - 0s 2ms/step - loss: 0.0047\n",
      "Epoch 55/200\n",
      "44/44 [==============================] - 0s 2ms/step - loss: 0.0047\n",
      "Epoch 56/200\n",
      "44/44 [==============================] - 0s 2ms/step - loss: 0.0047\n",
      "Epoch 57/200\n",
      "44/44 [==============================] - 0s 2ms/step - loss: 0.0047\n",
      "Epoch 58/200\n",
      "44/44 [==============================] - 0s 2ms/step - loss: 0.0047\n",
      "Epoch 59/200\n",
      "44/44 [==============================] - 0s 2ms/step - loss: 0.0047\n",
      "Epoch 60/200\n",
      "44/44 [==============================] - 0s 2ms/step - loss: 0.0047\n",
      "Epoch 61/200\n",
      "44/44 [==============================] - 0s 2ms/step - loss: 0.0047\n",
      "Epoch 62/200\n",
      "44/44 [==============================] - 0s 2ms/step - loss: 0.0047\n",
      "Epoch 63/200\n",
      "44/44 [==============================] - 0s 2ms/step - loss: 0.0047\n",
      "Epoch 64/200\n",
      "44/44 [==============================] - 0s 2ms/step - loss: 0.0047\n",
      "Epoch 65/200\n",
      "44/44 [==============================] - 0s 2ms/step - loss: 0.0047\n",
      "Epoch 66/200\n",
      "44/44 [==============================] - 0s 2ms/step - loss: 0.0047\n",
      "Epoch 67/200\n",
      "44/44 [==============================] - 0s 2ms/step - loss: 0.0047\n",
      "Epoch 68/200\n",
      "44/44 [==============================] - 0s 2ms/step - loss: 0.0047\n",
      "Epoch 69/200\n",
      "44/44 [==============================] - 0s 2ms/step - loss: 0.0047\n",
      "Epoch 70/200\n",
      "44/44 [==============================] - 0s 3ms/step - loss: 0.0047\n",
      "Epoch 71/200\n",
      "44/44 [==============================] - 0s 2ms/step - loss: 0.0047\n",
      "Epoch 72/200\n",
      "44/44 [==============================] - 0s 2ms/step - loss: 0.0047\n",
      "Epoch 73/200\n",
      "44/44 [==============================] - 0s 2ms/step - loss: 0.0047\n",
      "Epoch 74/200\n",
      "44/44 [==============================] - 0s 2ms/step - loss: 0.0047\n",
      "Epoch 75/200\n",
      "44/44 [==============================] - 0s 2ms/step - loss: 0.0047\n",
      "Epoch 76/200\n",
      "44/44 [==============================] - 0s 2ms/step - loss: 0.0047\n",
      "Epoch 77/200\n",
      "44/44 [==============================] - 0s 2ms/step - loss: 0.0047\n",
      "Epoch 78/200\n",
      "44/44 [==============================] - 0s 2ms/step - loss: 0.0047\n",
      "Epoch 79/200\n",
      "44/44 [==============================] - 0s 2ms/step - loss: 0.0047\n",
      "Epoch 80/200\n",
      "44/44 [==============================] - 0s 2ms/step - loss: 0.0047\n",
      "Epoch 81/200\n",
      "44/44 [==============================] - 0s 2ms/step - loss: 0.0047\n",
      "Epoch 82/200\n",
      "44/44 [==============================] - 0s 2ms/step - loss: 0.0047\n",
      "Epoch 83/200\n",
      "44/44 [==============================] - 0s 2ms/step - loss: 0.0047\n",
      "Epoch 84/200\n",
      "44/44 [==============================] - 0s 2ms/step - loss: 0.0047\n",
      "Epoch 85/200\n",
      "44/44 [==============================] - 0s 2ms/step - loss: 0.0047\n",
      "Epoch 86/200\n",
      "44/44 [==============================] - 0s 2ms/step - loss: 0.0047\n",
      "Epoch 87/200\n",
      "44/44 [==============================] - 0s 2ms/step - loss: 0.0047\n",
      "Epoch 88/200\n",
      "44/44 [==============================] - 0s 2ms/step - loss: 0.0047\n",
      "Epoch 89/200\n",
      "44/44 [==============================] - 0s 2ms/step - loss: 0.0047\n",
      "Epoch 90/200\n",
      "44/44 [==============================] - 0s 2ms/step - loss: 0.0047\n",
      "Epoch 91/200\n",
      "44/44 [==============================] - 0s 2ms/step - loss: 0.0047\n",
      "Epoch 92/200\n",
      "44/44 [==============================] - 0s 2ms/step - loss: 0.0047\n",
      "Epoch 93/200\n",
      "44/44 [==============================] - 0s 2ms/step - loss: 0.0046\n",
      "Epoch 94/200\n",
      "44/44 [==============================] - 0s 2ms/step - loss: 0.0047\n",
      "Epoch 95/200\n",
      "44/44 [==============================] - 0s 2ms/step - loss: 0.0046\n",
      "Epoch 96/200\n",
      "44/44 [==============================] - 0s 2ms/step - loss: 0.0046\n",
      "Epoch 97/200\n",
      "44/44 [==============================] - 0s 2ms/step - loss: 0.0047\n",
      "Epoch 98/200\n",
      "44/44 [==============================] - 0s 2ms/step - loss: 0.0047\n",
      "Epoch 99/200\n",
      "44/44 [==============================] - 0s 2ms/step - loss: 0.0046\n",
      "Epoch 100/200\n",
      "44/44 [==============================] - 0s 2ms/step - loss: 0.0047\n",
      "Epoch 101/200\n",
      "44/44 [==============================] - 0s 2ms/step - loss: 0.0047\n",
      "Epoch 102/200\n",
      "44/44 [==============================] - 0s 2ms/step - loss: 0.0046\n",
      "Epoch 103/200\n",
      "44/44 [==============================] - 0s 2ms/step - loss: 0.0047\n",
      "Epoch 104/200\n",
      "44/44 [==============================] - 0s 2ms/step - loss: 0.0046\n",
      "Epoch 105/200\n",
      "44/44 [==============================] - 0s 2ms/step - loss: 0.0047\n",
      "Epoch 106/200\n",
      "44/44 [==============================] - 0s 2ms/step - loss: 0.0046\n",
      "Epoch 107/200\n",
      "44/44 [==============================] - 0s 2ms/step - loss: 0.0046\n",
      "Epoch 108/200\n",
      "44/44 [==============================] - 0s 2ms/step - loss: 0.0047\n",
      "Epoch 109/200\n",
      "44/44 [==============================] - 0s 2ms/step - loss: 0.0047\n",
      "Epoch 110/200\n",
      "44/44 [==============================] - 0s 2ms/step - loss: 0.0046\n",
      "Epoch 111/200\n",
      "44/44 [==============================] - 0s 2ms/step - loss: 0.0046\n",
      "Epoch 112/200\n",
      "44/44 [==============================] - 0s 2ms/step - loss: 0.0047\n",
      "Epoch 113/200\n",
      "44/44 [==============================] - 0s 2ms/step - loss: 0.0047\n",
      "Epoch 114/200\n",
      "44/44 [==============================] - 0s 3ms/step - loss: 0.0046\n",
      "Epoch 115/200\n",
      "44/44 [==============================] - 0s 2ms/step - loss: 0.0047\n",
      "Epoch 116/200\n",
      "44/44 [==============================] - 0s 2ms/step - loss: 0.0046\n",
      "Epoch 117/200\n",
      "44/44 [==============================] - 0s 2ms/step - loss: 0.0047\n",
      "Epoch 118/200\n",
      "44/44 [==============================] - 0s 2ms/step - loss: 0.0047\n",
      "Epoch 119/200\n",
      "44/44 [==============================] - 0s 2ms/step - loss: 0.0046\n",
      "Epoch 120/200\n",
      "44/44 [==============================] - 0s 2ms/step - loss: 0.0046\n",
      "Epoch 121/200\n",
      "44/44 [==============================] - 0s 2ms/step - loss: 0.0046\n",
      "Epoch 122/200\n",
      "44/44 [==============================] - 0s 2ms/step - loss: 0.0046\n",
      "Epoch 123/200\n",
      "44/44 [==============================] - 0s 2ms/step - loss: 0.0046\n",
      "Epoch 124/200\n",
      "44/44 [==============================] - 0s 2ms/step - loss: 0.0047\n",
      "Epoch 125/200\n",
      "44/44 [==============================] - 0s 2ms/step - loss: 0.0046\n",
      "Epoch 126/200\n",
      "44/44 [==============================] - 0s 2ms/step - loss: 0.0046\n",
      "Epoch 127/200\n",
      "44/44 [==============================] - 0s 2ms/step - loss: 0.0047\n",
      "Epoch 128/200\n",
      "44/44 [==============================] - 0s 2ms/step - loss: 0.0046\n",
      "Epoch 129/200\n",
      "44/44 [==============================] - 0s 2ms/step - loss: 0.0046\n",
      "Epoch 130/200\n",
      "44/44 [==============================] - 0s 2ms/step - loss: 0.0047\n",
      "Epoch 131/200\n",
      "44/44 [==============================] - 0s 2ms/step - loss: 0.0046\n",
      "Epoch 132/200\n",
      "44/44 [==============================] - 0s 2ms/step - loss: 0.0047\n",
      "Epoch 133/200\n",
      "44/44 [==============================] - 0s 2ms/step - loss: 0.0046\n",
      "Epoch 134/200\n",
      "44/44 [==============================] - 0s 2ms/step - loss: 0.0046\n",
      "Epoch 135/200\n",
      "44/44 [==============================] - 0s 2ms/step - loss: 0.0046\n",
      "Epoch 136/200\n",
      "44/44 [==============================] - 0s 2ms/step - loss: 0.0046\n",
      "Epoch 137/200\n",
      "44/44 [==============================] - 0s 2ms/step - loss: 0.0046\n",
      "Epoch 138/200\n",
      "44/44 [==============================] - 0s 2ms/step - loss: 0.0046\n",
      "Epoch 139/200\n",
      "44/44 [==============================] - 0s 2ms/step - loss: 0.0047\n",
      "Epoch 140/200\n",
      "44/44 [==============================] - 0s 2ms/step - loss: 0.0046\n",
      "Epoch 141/200\n",
      "44/44 [==============================] - 0s 2ms/step - loss: 0.0047\n",
      "Epoch 142/200\n",
      "44/44 [==============================] - 0s 2ms/step - loss: 0.0046\n",
      "Epoch 143/200\n",
      "44/44 [==============================] - 0s 2ms/step - loss: 0.0046\n",
      "Epoch 144/200\n",
      "44/44 [==============================] - 0s 2ms/step - loss: 0.0046\n",
      "Epoch 145/200\n",
      "44/44 [==============================] - 0s 2ms/step - loss: 0.0047\n",
      "Epoch 146/200\n",
      "44/44 [==============================] - 0s 2ms/step - loss: 0.0046\n",
      "Epoch 147/200\n",
      "44/44 [==============================] - 0s 2ms/step - loss: 0.0046\n",
      "Epoch 148/200\n",
      "44/44 [==============================] - 0s 2ms/step - loss: 0.0046\n",
      "Epoch 149/200\n",
      "44/44 [==============================] - 0s 2ms/step - loss: 0.0046\n",
      "Epoch 150/200\n",
      "44/44 [==============================] - 0s 2ms/step - loss: 0.0046\n",
      "Epoch 151/200\n",
      "44/44 [==============================] - 0s 2ms/step - loss: 0.0047\n",
      "Epoch 152/200\n",
      "44/44 [==============================] - 0s 2ms/step - loss: 0.0046\n",
      "Epoch 153/200\n",
      "44/44 [==============================] - 0s 2ms/step - loss: 0.0046\n",
      "Epoch 154/200\n",
      "44/44 [==============================] - 0s 2ms/step - loss: 0.0047\n",
      "Epoch 155/200\n",
      "44/44 [==============================] - 0s 2ms/step - loss: 0.0046\n",
      "Epoch 156/200\n",
      "44/44 [==============================] - 0s 2ms/step - loss: 0.0047\n",
      "Epoch 157/200\n",
      "44/44 [==============================] - 0s 2ms/step - loss: 0.0046\n",
      "Epoch 158/200\n",
      "44/44 [==============================] - 0s 2ms/step - loss: 0.0046\n",
      "Epoch 159/200\n",
      "44/44 [==============================] - 0s 2ms/step - loss: 0.0047\n",
      "Epoch 160/200\n",
      "44/44 [==============================] - 0s 2ms/step - loss: 0.0046\n",
      "Epoch 161/200\n",
      "44/44 [==============================] - 0s 2ms/step - loss: 0.0047\n",
      "Epoch 162/200\n",
      "44/44 [==============================] - 0s 2ms/step - loss: 0.0046\n",
      "Epoch 163/200\n",
      "44/44 [==============================] - 0s 2ms/step - loss: 0.0046\n",
      "Epoch 164/200\n",
      "44/44 [==============================] - 0s 2ms/step - loss: 0.0047\n",
      "Epoch 165/200\n",
      "44/44 [==============================] - 0s 2ms/step - loss: 0.0046\n",
      "Epoch 166/200\n",
      "44/44 [==============================] - 0s 2ms/step - loss: 0.0046\n",
      "Epoch 167/200\n",
      "44/44 [==============================] - 0s 2ms/step - loss: 0.0046\n",
      "Epoch 168/200\n",
      "44/44 [==============================] - 0s 2ms/step - loss: 0.0046\n",
      "Epoch 169/200\n",
      "44/44 [==============================] - 0s 2ms/step - loss: 0.0046\n",
      "Epoch 170/200\n",
      "44/44 [==============================] - 0s 3ms/step - loss: 0.0046\n",
      "Epoch 171/200\n",
      "44/44 [==============================] - 0s 3ms/step - loss: 0.0047\n",
      "Epoch 172/200\n",
      "44/44 [==============================] - 0s 2ms/step - loss: 0.0047\n",
      "Epoch 173/200\n",
      "44/44 [==============================] - 0s 2ms/step - loss: 0.0047\n",
      "Epoch 174/200\n",
      "44/44 [==============================] - 0s 2ms/step - loss: 0.0046\n",
      "Epoch 175/200\n",
      "44/44 [==============================] - 0s 2ms/step - loss: 0.0046\n",
      "Epoch 176/200\n",
      "44/44 [==============================] - 0s 2ms/step - loss: 0.0046\n",
      "Epoch 177/200\n",
      "44/44 [==============================] - 0s 2ms/step - loss: 0.0046\n",
      "Epoch 178/200\n",
      "44/44 [==============================] - 0s 2ms/step - loss: 0.0046\n",
      "Epoch 179/200\n",
      "44/44 [==============================] - 0s 2ms/step - loss: 0.0046\n",
      "Epoch 180/200\n",
      "44/44 [==============================] - 0s 2ms/step - loss: 0.0047\n",
      "Epoch 181/200\n",
      "44/44 [==============================] - 0s 2ms/step - loss: 0.0047\n",
      "Epoch 182/200\n",
      "44/44 [==============================] - 0s 2ms/step - loss: 0.0046\n",
      "Epoch 183/200\n",
      "44/44 [==============================] - 0s 2ms/step - loss: 0.0046\n",
      "Epoch 184/200\n",
      "44/44 [==============================] - 0s 2ms/step - loss: 0.0047\n",
      "Epoch 185/200\n",
      "44/44 [==============================] - 0s 2ms/step - loss: 0.0046\n",
      "Epoch 186/200\n",
      "44/44 [==============================] - 0s 2ms/step - loss: 0.0046\n",
      "Epoch 187/200\n",
      "44/44 [==============================] - 0s 2ms/step - loss: 0.0046\n",
      "Epoch 188/200\n",
      "44/44 [==============================] - 0s 2ms/step - loss: 0.0046\n",
      "Epoch 189/200\n",
      "44/44 [==============================] - 0s 2ms/step - loss: 0.0046\n",
      "Epoch 190/200\n",
      "44/44 [==============================] - 0s 2ms/step - loss: 0.0046\n",
      "Epoch 191/200\n",
      "44/44 [==============================] - 0s 2ms/step - loss: 0.0046\n",
      "Epoch 192/200\n",
      "44/44 [==============================] - 0s 2ms/step - loss: 0.0047\n",
      "Epoch 193/200\n",
      "44/44 [==============================] - 0s 2ms/step - loss: 0.0046\n",
      "Epoch 194/200\n",
      "44/44 [==============================] - 0s 2ms/step - loss: 0.0046\n",
      "Epoch 195/200\n",
      "44/44 [==============================] - 0s 2ms/step - loss: 0.0046\n",
      "Epoch 196/200\n",
      "44/44 [==============================] - 0s 2ms/step - loss: 0.0046\n",
      "Epoch 197/200\n",
      "44/44 [==============================] - 0s 2ms/step - loss: 0.0046\n",
      "Epoch 198/200\n",
      "44/44 [==============================] - 0s 2ms/step - loss: 0.0046\n",
      "Epoch 199/200\n",
      "44/44 [==============================] - 0s 2ms/step - loss: 0.0046\n",
      "Epoch 200/200\n",
      "44/44 [==============================] - 0s 2ms/step - loss: 0.0046\n"
     ]
    },
    {
     "data": {
      "text/plain": [
       "<tensorflow.python.keras.callbacks.History at 0x2051de83c48>"
      ]
     },
     "execution_count": 53,
     "metadata": {},
     "output_type": "execute_result"
    }
   ],
   "source": [
    "model = Sequential()\n",
    "\n",
    "look_back=20\n",
    "model.add(LSTM(11, input_shape=(3, look_back)))  # 隐层11个神经元 （可以断调整此参数提高预测精度）\n",
    "model.add(Dense(1))\n",
    "model.compile(loss='mse', optimizer='adam')  # 评价函数mse，优化器adam\n",
    "model.fit(trainX, trainY, epochs=200, batch_size=100, verbose=1)  # 100次迭代\n",
    "\n",
    "# save the model\n",
    "# model.save_weights(\"my_model_weights.h5\") # only save the weight\n",
    "# model.save('./model_file/{}.h5'.format(MODEL_NAME))"
   ]
  },
  {
   "cell_type": "code",
   "execution_count": 55,
   "metadata": {},
   "outputs": [
    {
     "name": "stdout",
     "output_type": "stream",
     "text": [
      "test: [[0.5075581]\n",
      " [0.5093956]\n",
      " [0.513042 ]\n",
      " ...\n",
      " [0.507102 ]\n",
      " [0.5062131]\n",
      " [0.5102996]]\n",
      "(4380, 1)\n",
      "(4380, 1)\n"
     ]
    }
   ],
   "source": [
    "trainPredict = model.predict(trainX)\n",
    "testPredict = model.predict(testX)\n",
    "# 数据反归一化\n",
    "# print('Pre:',trainPredict)\n",
    "print('test:',testPredict)\n",
    "print(trainPredict.shape)\n",
    "print(trainY.shape)\n",
    "trainPredict=trainPredict.reshape(trainPredict.shape[0],-1)\n",
    "trainY=trainY.reshape(trainY.shape[0],1)\n",
    "testPredict=testPredict.reshape(testPredict.shape[0],-1)\n",
    "testY=testY.reshape(testY.shape[0],1)\n"
   ]
  },
  {
   "cell_type": "code",
   "execution_count": 58,
   "metadata": {},
   "outputs": [
    {
     "name": "stdout",
     "output_type": "stream",
     "text": [
      "Train Score: 0.06814 RMSE\n",
      "Test Score: 0.07962 RMSE\n"
     ]
    }
   ],
   "source": [
    "from sklearn.metrics import mean_squared_error\n",
    "\n",
    "trainScore = math.sqrt(mean_squared_error(trainY, trainPredict))\n",
    "print('Train Score: %.5f RMSE' % (trainScore))\n",
    "testScore = math.sqrt(mean_squared_error(testY, testPredict))\n",
    "print('Test Score: %.5f RMSE' % (testScore))\n",
    "\n",
    "\n"
   ]
  },
  {
   "cell_type": "code",
   "execution_count": null,
   "metadata": {},
   "outputs": [],
   "source": []
  },
  {
   "cell_type": "code",
   "execution_count": 64,
   "metadata": {},
   "outputs": [
    {
     "data": {
      "text/plain": [
       "<matplotlib.axes._subplots.AxesSubplot at 0x20522addf88>"
      ]
     },
     "execution_count": 64,
     "metadata": {},
     "output_type": "execute_result"
    },
    {
     "data": {
      "image/png": "[encoded data removed]",
      "text/plain": [
       "<Figure size 432x288 with 1 Axes>"
      ]
     },
     "metadata": {},
     "output_type": "display_data"
    }
   ],
   "source": [
    "\n",
    "# 根据模型获取预测结果  为了节约计算内存，也是分组（batch）load到内存中的，\n",
    "result= model.predict(testX, batch_size=tBatchSize, verbose=0)\n",
    "\n",
    "\n",
    "def result_plot(result):\n",
    "    result_raw=scalerY.inverse_transform(result)\n",
    "    testY_raw=scalerY.inverse_transform(testY)\n",
    "\n",
    "    result_df=pd.DataFrame({'pred':result_raw[:,0]})\n",
    "    result_df['real']=testY_raw[:,0]\n",
    "\n",
    "\n",
    "    result_df['buy']=result_df['pred']>0 #只做多\n",
    "    result_df['buy_and_sell']=result_df['pred'].apply(lambda x:1 if x>0 else -1 ) # 加做空\n",
    "\n",
    "    result_df['real_return']=(1+result_df['real']).cumprod()\n",
    "    result_df['stg_buy']=((result_df['real']*result_df['buy'])+1).cumprod()\n",
    "    result_df['stg_buy_and_sell']=((result_df['real']*result_df['buy_and_sell'])+1).cumprod()\n",
    "    return result_df\n",
    "result_df=result_plot(result)\n",
    "result_df[['real_return','stg_buy','stg_buy_and_sell']].plot()"
   ]
  },
  {
   "cell_type": "markdown",
   "metadata": {},
   "source": [
    "## xgboost\n"
   ]
  },
  {
   "cell_type": "code",
   "execution_count": 65,
   "metadata": {},
   "outputs": [],
   "source": [
    "# def data_processing_xgb(price_series,look_back):\n",
    "#     # 转换为收益率序列\n",
    "#     pct_chg_series=(price_series/price_series.shift(1)-1)[1:]\n",
    "#     # 进行归一化\n",
    "#     scaler = MinMaxScaler(feature_range=(0, 1))  # 定义归一化函数，归一化0-1\n",
    "#     scaler_series=scaler.fit_transform(np.array(pct_chg_series*100).reshape(len(pct_chg_series),1))\n",
    "#     train,test=scaler_series[0:int(len(scaler_series)*0.75)],scaler_series[int(len(scaler_series)*0.75):] # 对其进行训练和测试的划分\n",
    "    \n",
    "#     # 对于训练集和测试集按照所需格式进行划分\n",
    "#     train_x,train_y=create_dataset(train,look_back=20) # 训练集\n",
    "#     test_x,test_y=create_dataset(test,look_back=20) # 测试集\n",
    "\n",
    "#     # 进行reshape，用于XGBoosting模型\n",
    "#     train_x=np.reshape(train_x, (train_x.shape[0], train_x.shape[1]))\n",
    "#     test_x=np.reshape(test_x, (test_x.shape[0], test_x.shape[1]))\n",
    "#     return train_x,train_y,test_x,test_y,scaler\n",
    "    "
   ]
  },
  {
   "cell_type": "code",
   "execution_count": 73,
   "metadata": {},
   "outputs": [
    {
     "name": "stdout",
     "output_type": "stream",
     "text": [
      "[13:10:47] WARNING: C:\\Users\\Administrator\\workspace\\xgboost-win64_release_1.2.0\\src\\learner.cc:516: \n",
      "Parameters: { silent } might not be used.\n",
      "\n",
      "  This may not be accurate due to some parameters are only used in language bindings but\n",
      "  passed down to XGBoost core.  Or some parameters are not used but slip through this\n",
      "  verification. Please open an issue if you find above cases.\n",
      "\n",
      "\n",
      "[0]\ttrain-auc:0.50886\n",
      "[999]\ttrain-auc:0.56464\n"
     ]
    }
   ],
   "source": [
    "# def xgb_model(price_series):\n",
    "#     assert type(price_series)==type(pd.Series(dtype='float')),'请传入价格的pandas Series序列'\n",
    "import xgboost as xgb\n",
    "\n",
    "look_back=20\n",
    "trainX=np.reshape(trainX,(trainX.shape[0],-1))\n",
    "testX=np.reshape(testX,(testX.shape[0],-1))\n",
    "\n",
    "#     train_x,train_y,test_x,test_y,scaler=data_processing_xgb(price_series,look_back)\n",
    "dtrain = xgb.DMatrix(trainX, label = trainY)\n",
    "dtest = xgb.DMatrix(testX)\n",
    "# 参数设置\n",
    "params={'booster':'gbtree',\n",
    "    'objective': 'binary:logistic',\n",
    "    'eval_metric': 'auc',\n",
    "    'max_depth':4,\n",
    "    'lambda':10,\n",
    "    'subsample':0.75,\n",
    "    'colsample_bytree':0.75,\n",
    "    'min_child_weight':2,\n",
    "    'eta': 0.025,\n",
    "    'seed':0,\n",
    "    'nthread':8,\n",
    "     'silent':1}\n",
    "\n",
    "watchlist = [(dtrain,'train')]\n",
    "# 进行训练\n",
    "model=xgb.train(params,dtrain,num_boost_round=1000,evals=watchlist,verbose_eval=1000)\n",
    "\n"
   ]
  },
  {
   "cell_type": "code",
   "execution_count": 86,
   "metadata": {},
   "outputs": [
    {
     "data": {
      "text/plain": [
       "array([[0.5116954 ],\n",
       "       [0.49789426],\n",
       "       [0.50024956],\n",
       "       ...,\n",
       "       [0.5087699 ],\n",
       "       [0.48226422],\n",
       "       [0.51876825]], dtype=float32)"
      ]
     },
     "execution_count": 86,
     "metadata": {},
     "output_type": "execute_result"
    }
   ],
   "source": [
    "# 预测\n",
    "test_predict=bst.predict(dtest)\n",
    "test_predict=np.reshape(test_predict,(-1,1))\n",
    "test_predict"
   ]
  },
  {
   "cell_type": "code",
   "execution_count": 87,
   "metadata": {},
   "outputs": [
    {
     "data": {
      "text/plain": [
       "<matplotlib.axes._subplots.AxesSubplot at 0x20522b86e08>"
      ]
     },
     "execution_count": 87,
     "metadata": {},
     "output_type": "execute_result"
    },
    {
     "data": {
      "image/png": "[encoded data removed]",
      "text/plain": [
       "<Figure size 432x288 with 1 Axes>"
      ]
     },
     "metadata": {},
     "output_type": "display_data"
    }
   ],
   "source": [
    "result_df=result_plot(test_predict)\n",
    "result_df[['real_return','stg_buy','stg_buy_and_sell']].plot()"
   ]
  },
  {
   "cell_type": "code",
   "execution_count": null,
   "metadata": {},
   "outputs": [],
   "source": []
  },
  {
   "cell_type": "markdown",
   "metadata": {},
   "source": [
    "## 隐马尔科夫链\n",
    "由于只用到前一期的数据，因此输入的数据结构需要有所不同\n"
   ]
  },
  {
   "cell_type": "code",
   "execution_count": 163,
   "metadata": {},
   "outputs": [],
   "source": [
    "\n",
    "from hmmlearn import hmm\n",
    "import numpy as np\n",
    "from matplotlib import pyplot as plt"
   ]
  },
  {
   "cell_type": "code",
   "execution_count": 164,
   "metadata": {},
   "outputs": [
    {
     "data": {
      "text/html": [
       "<div>\n",
       "<style scoped>\n",
       "    .dataframe tbody tr th:only-of-type {\n",
       "        vertical-align: middle;\n",
       "    }\n",
       "\n",
       "    .dataframe tbody tr th {\n",
       "        vertical-align: top;\n",
       "    }\n",
       "\n",
       "    .dataframe thead th {\n",
       "        text-align: right;\n",
       "    }\n",
       "</style>\n",
       "<table border=\"1\" class=\"dataframe\">\n",
       "  <thead>\n",
       "    <tr style=\"text-align: right;\">\n",
       "      <th></th>\n",
       "      <th>open</th>\n",
       "      <th>high</th>\n",
       "      <th>low</th>\n",
       "      <th>close</th>\n",
       "      <th>volume</th>\n",
       "      <th>r</th>\n",
       "      <th>range</th>\n",
       "    </tr>\n",
       "  </thead>\n",
       "  <tbody>\n",
       "    <tr>\n",
       "      <th>2017-12-18 09:45:00</th>\n",
       "      <td>92.985</td>\n",
       "      <td>93.120</td>\n",
       "      <td>92.970</td>\n",
       "      <td>93.070</td>\n",
       "      <td>6729</td>\n",
       "      <td>1.000914</td>\n",
       "      <td>1.001613</td>\n",
       "    </tr>\n",
       "    <tr>\n",
       "      <th>2017-12-18 10:15:00</th>\n",
       "      <td>93.075</td>\n",
       "      <td>93.080</td>\n",
       "      <td>93.010</td>\n",
       "      <td>93.030</td>\n",
       "      <td>3445</td>\n",
       "      <td>0.999517</td>\n",
       "      <td>1.000753</td>\n",
       "    </tr>\n",
       "    <tr>\n",
       "      <th>2017-12-18 10:45:00</th>\n",
       "      <td>93.030</td>\n",
       "      <td>93.045</td>\n",
       "      <td>92.945</td>\n",
       "      <td>92.955</td>\n",
       "      <td>2849</td>\n",
       "      <td>0.999194</td>\n",
       "      <td>1.001076</td>\n",
       "    </tr>\n",
       "    <tr>\n",
       "      <th>2017-12-18 11:15:00</th>\n",
       "      <td>92.960</td>\n",
       "      <td>93.010</td>\n",
       "      <td>92.950</td>\n",
       "      <td>92.995</td>\n",
       "      <td>1295</td>\n",
       "      <td>1.000377</td>\n",
       "      <td>1.000646</td>\n",
       "    </tr>\n",
       "    <tr>\n",
       "      <th>2017-12-18 13:15:00</th>\n",
       "      <td>92.990</td>\n",
       "      <td>93.000</td>\n",
       "      <td>92.965</td>\n",
       "      <td>92.990</td>\n",
       "      <td>1269</td>\n",
       "      <td>1.000000</td>\n",
       "      <td>1.000376</td>\n",
       "    </tr>\n",
       "    <tr>\n",
       "      <th>...</th>\n",
       "      <td>...</td>\n",
       "      <td>...</td>\n",
       "      <td>...</td>\n",
       "      <td>...</td>\n",
       "      <td>...</td>\n",
       "      <td>...</td>\n",
       "      <td>...</td>\n",
       "    </tr>\n",
       "    <tr>\n",
       "      <th>2020-12-17 13:30:00</th>\n",
       "      <td>97.245</td>\n",
       "      <td>97.280</td>\n",
       "      <td>97.220</td>\n",
       "      <td>97.265</td>\n",
       "      <td>4083</td>\n",
       "      <td>1.000206</td>\n",
       "      <td>1.000617</td>\n",
       "    </tr>\n",
       "    <tr>\n",
       "      <th>2020-12-17 14:00:00</th>\n",
       "      <td>97.260</td>\n",
       "      <td>97.290</td>\n",
       "      <td>97.255</td>\n",
       "      <td>97.260</td>\n",
       "      <td>3955</td>\n",
       "      <td>1.000000</td>\n",
       "      <td>1.000360</td>\n",
       "    </tr>\n",
       "    <tr>\n",
       "      <th>2020-12-17 14:30:00</th>\n",
       "      <td>97.260</td>\n",
       "      <td>97.280</td>\n",
       "      <td>97.215</td>\n",
       "      <td>97.225</td>\n",
       "      <td>4976</td>\n",
       "      <td>0.999640</td>\n",
       "      <td>1.000669</td>\n",
       "    </tr>\n",
       "    <tr>\n",
       "      <th>2020-12-17 15:00:00</th>\n",
       "      <td>97.225</td>\n",
       "      <td>97.250</td>\n",
       "      <td>97.210</td>\n",
       "      <td>97.210</td>\n",
       "      <td>3783</td>\n",
       "      <td>0.999846</td>\n",
       "      <td>1.000411</td>\n",
       "    </tr>\n",
       "    <tr>\n",
       "      <th>2020-12-17 15:15:00</th>\n",
       "      <td>97.210</td>\n",
       "      <td>97.225</td>\n",
       "      <td>97.185</td>\n",
       "      <td>97.220</td>\n",
       "      <td>3898</td>\n",
       "      <td>1.000103</td>\n",
       "      <td>1.000412</td>\n",
       "    </tr>\n",
       "  </tbody>\n",
       "</table>\n",
       "<p>6569 rows × 7 columns</p>\n",
       "</div>"
      ],
      "text/plain": [
       "                       open    high     low   close  volume         r  \\\n",
       "2017-12-18 09:45:00  92.985  93.120  92.970  93.070    6729  1.000914   \n",
       "2017-12-18 10:15:00  93.075  93.080  93.010  93.030    3445  0.999517   \n",
       "2017-12-18 10:45:00  93.030  93.045  92.945  92.955    2849  0.999194   \n",
       "2017-12-18 11:15:00  92.960  93.010  92.950  92.995    1295  1.000377   \n",
       "2017-12-18 13:15:00  92.990  93.000  92.965  92.990    1269  1.000000   \n",
       "...                     ...     ...     ...     ...     ...       ...   \n",
       "2020-12-17 13:30:00  97.245  97.280  97.220  97.265    4083  1.000206   \n",
       "2020-12-17 14:00:00  97.260  97.290  97.255  97.260    3955  1.000000   \n",
       "2020-12-17 14:30:00  97.260  97.280  97.215  97.225    4976  0.999640   \n",
       "2020-12-17 15:00:00  97.225  97.250  97.210  97.210    3783  0.999846   \n",
       "2020-12-17 15:15:00  97.210  97.225  97.185  97.220    3898  1.000103   \n",
       "\n",
       "                        range  \n",
       "2017-12-18 09:45:00  1.001613  \n",
       "2017-12-18 10:15:00  1.000753  \n",
       "2017-12-18 10:45:00  1.001076  \n",
       "2017-12-18 11:15:00  1.000646  \n",
       "2017-12-18 13:15:00  1.000376  \n",
       "...                       ...  \n",
       "2020-12-17 13:30:00  1.000617  \n",
       "2020-12-17 14:00:00  1.000360  \n",
       "2020-12-17 14:30:00  1.000669  \n",
       "2020-12-17 15:00:00  1.000411  \n",
       "2020-12-17 15:15:00  1.000412  \n",
       "\n",
       "[6569 rows x 7 columns]"
      ]
     },
     "execution_count": 164,
     "metadata": {},
     "output_type": "execute_result"
    }
   ],
   "source": [
    "df"
   ]
  },
  {
   "cell_type": "code",
   "execution_count": null,
   "metadata": {},
   "outputs": [],
   "source": []
  },
  {
   "cell_type": "code",
   "execution_count": 159,
   "metadata": {},
   "outputs": [],
   "source": [
    "def pre_process(data):\n",
    "    \"\"\"\n",
    "    这个函数进行数据预处理，返回训练所需数据\n",
    "    \"\"\"\n",
    "    volume = data['volume']\n",
    "    close = data['close']\n",
    "    \n",
    "    bday=6 # 所需获取的提前的数据天数\n",
    "    \n",
    "    logDel = np.log(np.array(data['high'])) - np.log(np.array(data['low'])) #时段内振幅收益\n",
    "    logRet_1 = np.array(np.diff(np.log(close))) #  log(Pt/Pt-1)\n",
    "    logRet_5 = np.log(np.array(close[bday:])) - np.log(np.array(close[:-bday])) # 五日（时期）收益率\n",
    "    logVol_5 = np.log(np.array(volume[bday:])) - np.log(np.array(volume[:-bday])) #五日（时期）交易量变化\n",
    "    Date = pd.to_datetime(data.index[bday:])\n",
    "    \n",
    "    # 保持所有的数据长度相同\n",
    "    logDel = logDel[bday:]\n",
    "    logRet_1 = logRet_1[bday-1:]\n",
    "    close = close[bday:]\n",
    "    \n",
    "    info_df=pd.DataFrame({'Date': Date, 'close':close,'logReg_1': logRet_1}).set_index('Date') # 数据的基础信息\n",
    "    A = np.column_stack([logDel, logRet_5])#,logVol_5,logRet_1])# 训练所用指标\n",
    "\n",
    "    return info_df,A"
   ]
  },
  {
   "cell_type": "code",
   "execution_count": 160,
   "metadata": {},
   "outputs": [],
   "source": [
    "def result_plot(result_df,only=False):\n",
    "    \"\"\"\n",
    "    画图\n",
    "    \"\"\"\n",
    "    \n",
    "    hidden_states=result_df.states\n",
    "    long = result_df.long  # 多头（买入）\n",
    "    short = result_df.short  # 空头（卖出）\n",
    "    \n",
    "    if only !=True:\n",
    "        plt.figure(figsize=(10, 10))\n",
    "\n",
    "        \"\"\"\n",
    "        各时段所对应隐含状态\n",
    "        \"\"\"\n",
    "        plt.subplot(221)\n",
    "        for i in range(n):\n",
    "            pos = (hidden_states == i)\n",
    "            plt.plot(result_df.close[pos], 'o', label='hidden state %d' % i, lw=2)\n",
    "            plt.legend()\n",
    "        plt.title('各时段隐含状态')\n",
    "        #     plt.show()\n",
    "\n",
    "        \"\"\"\n",
    "        各隐含状态对应收益率图形\n",
    "        \"\"\"\n",
    "        plt.subplot(222)\n",
    "        for i in range(n):\n",
    "            pos = (hidden_states == i)\n",
    "            pos = np.append(1, pos[:-1]) # 后移一个时期\n",
    "            result_df['state_ret%d' % i] = result_df.logReg_1.multiply(pos)\n",
    "            data_i = np.exp(result_df['state_ret%d' % i].cumsum())\n",
    "            plt.plot_date(result_df.index, data_i, '-', label='hidden state %d' % i)\n",
    "            plt.legend()\n",
    "        plt.title('各隐含状态对应收益率')\n",
    "        #     plt.show()\n",
    "\n",
    "        \"\"\"\n",
    "        各隐含状态占比图形\n",
    "        \"\"\"\n",
    "        plt.subplot(223)\n",
    "        countDict = dict()\n",
    "        proportitionDict = dict()\n",
    "        for i in range(n):\n",
    "            countDict[i] = list(hidden_states).count(i) # 各个状态的数量\n",
    "            proportitionDict[i] =list(hidden_states).count(i)/len(hidden_states)# 各个状态占比\n",
    "\n",
    "        plt.pie(list(proportitionDict.values()),labels=list(proportitionDict))\n",
    "        plt.legend()\n",
    "        plt.title('各个隐含状态占比')\n",
    "        #     plt.show()\n",
    "    \n",
    "        \"\"\"\n",
    "        策略收益率\n",
    "        \"\"\"\n",
    "        plt.subplot(224)\n",
    "    \n",
    "    else:\n",
    "        plt.figure(figsize=(10,6))\n",
    "\n",
    "    # plt.figure(figsize=(10, 7))\n",
    "#     plt.plot(result_df['stg_r'], 'r-',label='策略收益率') # 策略收益函数\n",
    "    plt.plot(result_df['index_r'],'y',label='指数做多',linewidth=0.5) # 原收益函数\n",
    "    plt.plot(result_df['adj_r'],'r',label='策略收益率') # 原收益函数\n",
    "    \n",
    "    plt.plot(result_df['index_r_short'],'g',label='指数做空',linewidth=0.5) # 原收益函数\n",
    "\n",
    "\n",
    "    plt.title('策略收益率与指数收益率')\n",
    "    plt.legend()\n",
    "    plt.show()\n",
    "    \n",
    "    # return operate_df,long,short"
   ]
  },
  {
   "cell_type": "code",
   "execution_count": 161,
   "metadata": {},
   "outputs": [],
   "source": [
    "def train_model(data):\n",
    "    \"\"\"\n",
    "    传入DataFrame，用来训练模型\n",
    "    \"\"\"\n",
    "    info_df,A=pre_process(data)\n",
    "    model = hmm.GaussianHMM(n_components=n, covariance_type=\"full\", n_iter=200000).fit(A) #拟合GaussianHMM\n",
    "    return model"
   ]
  },
  {
   "cell_type": "code",
   "execution_count": 162,
   "metadata": {},
   "outputs": [],
   "source": [
    "def model_order(model,data):\n",
    "    \"\"\"\n",
    "    传入模型和DataFrame，\n",
    "    获得各个隐含状态的收益率排名\n",
    "    \"\"\"\n",
    "    info_df,A=pre_process(data)\n",
    "    hidden_states = model.predict(A)  # 模型的预测\n",
    "    info_df.insert(2, 'state',hidden_states)\n",
    "    series = info_df.logReg_1\n",
    "    templist = [] # 各个策略的最终收益率\n",
    "\n",
    "    for i in range(n):\n",
    "        pos = (hidden_states == i)\n",
    "        pos = np.append(1, pos[:-1]) # 后移一个时期\n",
    "        info_df['state_ret%d' % i] = series.multiply(pos)\n",
    "        data_i = np.exp(info_df['state_ret%d' % i].cumsum())\n",
    "        templist.append(data_i[-1])# 得到期末的某一种隐含状态对应的收益率\n",
    "    templist = np.array(templist).argsort()\n",
    "    return templist\n",
    "\n",
    "\n",
    "def get_result(model,templist,data):    \n",
    "    global fee,margin\n",
    "\n",
    "    \"\"\"\n",
    "    传入模型和DataFrame，用模型预测隐含状态，并输出回测结果\n",
    "    \"\"\"\n",
    "    info_df,A=pre_process(data)\n",
    "    hidden_states = model.predict(A)  # 模型的预测\n",
    "    \"\"\"\n",
    "    计算各项数据，并到df中\n",
    "    \"\"\"\n",
    "    df=info_df\n",
    "    \n",
    "    if margin !=1:\n",
    "        df['logReg_1']/=margin\n",
    "    \n",
    "    df['states']=hidden_states\n",
    "    long = (hidden_states == templist[-1]) # 收益好的隐含状态对应买入\n",
    "    short = (hidden_states == templist[0])  # 空头（卖出）\n",
    "    long = np.append(0, long[:-1])\n",
    "    short = np.append(0, short[:-1])\n",
    "    df['long']=long\n",
    "    df['short']=short\n",
    "    df['stg_r_1']= info_df.logReg_1.multiply(long) - info_df.logReg_1.multiply(short) # 做多做空\n",
    "    df['stg_r']=np.exp((df['stg_r_1']*1).cumsum())    \n",
    "    df['index_r']=np.exp(df['logReg_1'].cumsum())\n",
    "    \n",
    "    df['index_r_short']=np.exp(-df['logReg_1'].cumsum())\n",
    "\n",
    "    df['trade']=(df['long']!=df['long'].shift(1)) | (df['short']!=df['short'].shift(1))\n",
    "    \n",
    "    df['adj_r']=np.exp((df['stg_r_1']-(df['trade']+0)*fee).cumsum())\n",
    "\n",
    "    \n",
    "    print('策略收益率:{:.2f}%,基准收益率：{:.2f}%，超额收益率：{:.2f}%'.format((df['stg_r'][-1]-1)*100,(df['index_r'][-1]-1)*100,(df['stg_r'][-1]-df['index_r'][-1])*100))\n",
    "    trade_num=(df['trade']+0).sum()\n",
    "    print('调仓次数：{}，预估交易手续费：{:.2f}%'.format(trade_num,trade_num*fee))\n",
    "    print('总时段数：{}，做空时段：{}'.format(len(df),df.short.sum()))\n",
    "\n",
    "    return df\n"
   ]
  },
  {
   "cell_type": "code",
   "execution_count": 170,
   "metadata": {},
   "outputs": [],
   "source": [
    "margin=1 # 保证金比率，不考虑杠杆，则使用此\n",
    "fee=3/1000000 # (100万合约-->3元)"
   ]
  },
  {
   "cell_type": "code",
   "execution_count": 171,
   "metadata": {},
   "outputs": [],
   "source": [
    "n=2"
   ]
  },
  {
   "cell_type": "code",
   "execution_count": 172,
   "metadata": {},
   "outputs": [
    {
     "name": "stdout",
     "output_type": "stream",
     "text": [
      "[[0.49998397 0.50001603]\n",
      " [0.49996514 0.50003486]]\n",
      "策略收益率:2.06%,基准收益率：4.66%，超额收益率：-2.59%\n",
      "调仓次数：1090，预估交易手续费：0.00%\n",
      "总时段数：6563，做空时段：1950\n"
     ]
    },
    {
     "data": {
      "image/png": "[encoded data removed]",
      "text/plain": [
       "<Figure size 720x720 with 4 Axes>"
      ]
     },
     "metadata": {},
     "output_type": "display_data"
    }
   ],
   "source": [
    "model=train_model(df) # 使用训练集训练模型\n",
    "print(model.transmat_) # 转移概率矩阵\n",
    "templist=model_order(model,df) # 使用模型得到隐含状态排名\n",
    "operate_df=get_result(model,templist,df) # 高收益隐含状态买入，\n",
    "result_plot(operate_df);"
   ]
  },
  {
   "cell_type": "code",
   "execution_count": null,
   "metadata": {},
   "outputs": [],
   "source": []
  },
  {
   "cell_type": "code",
   "execution_count": null,
   "metadata": {},
   "outputs": [],
   "source": []
  },
  {
   "cell_type": "markdown",
   "metadata": {},
   "source": [
    "## 计算评价指标\n"
   ]
  },
  {
   "cell_type": "code",
   "execution_count": null,
   "metadata": {},
   "outputs": [],
   "source": []
  },
  {
   "cell_type": "code",
   "execution_count": null,
   "metadata": {},
   "outputs": [],
   "source": []
  }
 ],
 "metadata": {
  "kernelspec": {
   "display_name": "Python 3",
   "language": "python",
   "name": "python3"
  },
  "language_info": {
   "codemirror_mode": {
    "name": "ipython",
    "version": 3
   },
   "file_extension": ".py",
   "mimetype": "text/x-python",
   "name": "python",
   "nbconvert_exporter": "python",
   "pygments_lexer": "ipython3",
   "version": "3.7.6"
  }
 },
 "nbformat": 4,
 "nbformat_minor": 4
}
