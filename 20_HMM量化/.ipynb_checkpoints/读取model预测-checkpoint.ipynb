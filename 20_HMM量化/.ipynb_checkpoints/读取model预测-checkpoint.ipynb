{
 "cells": [
  {
   "cell_type": "code",
   "execution_count": null,
   "metadata": {},
   "outputs": [],
   "source": [
    "from WindPy import *\n",
    "w.start()"
   ]
  },
  {
   "cell_type": "code",
   "execution_count": 6,
   "metadata": {},
   "outputs": [
    {
     "ename": "NameError",
     "evalue": "name 'T' is not defined",
     "output_type": "error",
     "traceback": [
      "\u001b[1;31m---------------------------------------------------------------------------\u001b[0m",
      "\u001b[1;31mNameError\u001b[0m                                 Traceback (most recent call last)",
      "\u001b[1;32m<ipython-input-6-29704cb91324>\u001b[0m in \u001b[0;36m<module>\u001b[1;34m\u001b[0m\n\u001b[1;32m----> 1\u001b[1;33m \u001b[0mT\u001b[0m\u001b[1;33m\u001b[0m\u001b[1;33m\u001b[0m\u001b[0m\n\u001b[0m",
      "\u001b[1;31mNameError\u001b[0m: name 'T' is not defined"
     ]
    }
   ],
   "source": [
    "T"
   ]
  },
  {
   "cell_type": "code",
   "execution_count": 7,
   "metadata": {},
   "outputs": [
    {
     "data": {
      "text/html": [
       "<div>\n",
       "<style scoped>\n",
       "    .dataframe tbody tr th:only-of-type {\n",
       "        vertical-align: middle;\n",
       "    }\n",
       "\n",
       "    .dataframe tbody tr th {\n",
       "        vertical-align: top;\n",
       "    }\n",
       "\n",
       "    .dataframe thead th {\n",
       "        text-align: right;\n",
       "    }\n",
       "</style>\n",
       "<table border=\"1\" class=\"dataframe\">\n",
       "  <thead>\n",
       "    <tr style=\"text-align: right;\">\n",
       "      <th></th>\n",
       "    </tr>\n",
       "  </thead>\n",
       "  <tbody>\n",
       "  </tbody>\n",
       "</table>\n",
       "</div>"
      ],
      "text/plain": [
       "Empty DataFrame\n",
       "Columns: []\n",
       "Index: []"
      ]
     },
     "execution_count": 7,
     "metadata": {},
     "output_type": "execute_result"
    }
   ],
   "source": [
    "T=w.wsd(\"TS.CFE\", \"open,high,low,close,volume\", \"2015-01-01\", \"2020-12-16\", \"Fill=Previous;PriceAdj=F\", usedf=True)[1]\n",
    "T"
   ]
  },
  {
   "cell_type": "code",
   "execution_count": 21,
   "metadata": {},
   "outputs": [],
   "source": [
    "# T.to_excel('./data/TS.xlsx')"
   ]
  },
  {
   "cell_type": "code",
   "execution_count": null,
   "metadata": {},
   "outputs": [],
   "source": [
    "w.wsi(\"T.CFE\", \"close\", \"2015-01-01 09:00:00\", \"2020-12-17 15:15:00\", \"tradeDate=20201216;priceAdj=1;cycle=1;BarSize=30;Fill=Previous\", usedf=True)[1]"
   ]
  },
  {
   "cell_type": "code",
   "execution_count": null,
   "metadata": {},
   "outputs": [],
   "source": [
    "T=w.wsd(\"TF.CFE\", \"open,high,low,close,volume\", \"2015-01-01\", \"2020-12-16\", \"Fill=Previous;PriceAdj=F\", usedf=True)[1]\n",
    "T"
   ]
  },
  {
   "cell_type": "code",
   "execution_count": 5,
   "metadata": {},
   "outputs": [
    {
     "data": {
      "text/plain": [
       "GaussianHMM(algorithm='viterbi', covariance_type='full', covars_prior=0.01,\n",
       "            covars_weight=1, init_params='stmc', means_prior=0, means_weight=0,\n",
       "            min_covar=0.001, n_components=2, n_iter=200000, params='stmc',\n",
       "            random_state=None, startprob_prior=1.0, tol=0.01,\n",
       "            transmat_prior=1.0, verbose=False)"
      ]
     },
     "execution_count": 5,
     "metadata": {},
     "output_type": "execute_result"
    }
   ],
   "source": [
    "import joblib\n",
    "\n",
    "\n",
    "model = joblib.load('model.pkl') \n",
    "model"
   ]
  },
  {
   "cell_type": "code",
   "execution_count": 6,
   "metadata": {},
   "outputs": [
    {
     "data": {
      "text/plain": [
       "array([0])"
      ]
     },
     "execution_count": 6,
     "metadata": {},
     "output_type": "execute_result"
    }
   ],
   "source": [
    "model.predict([[0.01,0.01]])"
   ]
  },
  {
   "cell_type": "code",
   "execution_count": 7,
   "metadata": {},
   "outputs": [],
   "source": [
    "A=[[ 7.71347067e-04, -1.02833051e-04],\n",
    "        [ 3.59980462e-04,  5.65887301e-04],\n",
    "        [ 4.62832026e-04,  2.57181803e-04],\n",
    "        [ 1.18072860e-03,  2.10629140e-03],\n",
    "        [ 7.69842733e-04,  2.05433794e-03],\n",
    "        [ 5.13109971e-04,  2.10575050e-03],\n",
    "        [ 5.64348577e-04,  2.20858355e-03],\n",
    "        [ 5.64290676e-04,  2.26035234e-03],\n",
    "        [ 7.69763721e-04,  1.95242317e-03],\n",
    "        [ 6.67471080e-04, -1.53968539e-04],\n",
    "        [ 7.18685863e-04, -7.69882246e-04],\n",
    "        [ 3.08087294e-04, -9.75284321e-04],\n",
    "        [ 1.18091047e-03, -3.07881776e-04],\n",
    "        [ 4.61858218e-04, -2.05275583e-04],\n",
    "        [ 5.13215305e-04, -5.13307497e-05],\n",
    "        [ 7.18870378e-04, -5.13399744e-04],\n",
    "        [ 7.19461463e-04, -1.13023387e-03],\n",
    "        [ 4.11163083e-04, -7.19239692e-04],\n",
    "        [ 2.56957115e-04, -1.33525081e-03],\n",
    "        [ 7.70673350e-04, -8.72891637e-04],\n",
    "        [ 3.08229736e-04, -6.16174602e-04],\n",
    "        [ 1.18109239e-03,  3.59407495e-04],\n",
    "        [ 6.16111330e-04,  1.07888731e-03],\n",
    "        [ 1.54162415e-03, -2.56996738e-04],\n",
    "        [ 5.14059539e-04, -5.65450962e-04],\n",
    "        [ 6.16966601e-04, -7.19424491e-04]]"
   ]
  },
  {
   "cell_type": "code",
   "execution_count": 8,
   "metadata": {},
   "outputs": [
    {
     "data": {
      "text/plain": [
       "array([0, 0, 0, 0, 0, 0, 0, 0, 0, 1, 1, 1, 1, 1, 1, 1, 1, 1, 1, 1, 1, 1,\n",
       "       0, 1, 1, 1])"
      ]
     },
     "execution_count": 8,
     "metadata": {},
     "output_type": "execute_result"
    }
   ],
   "source": [
    "model.predict(A)"
   ]
  },
  {
   "cell_type": "code",
   "execution_count": null,
   "metadata": {},
   "outputs": [],
   "source": []
  }
 ],
 "metadata": {
  "kernelspec": {
   "display_name": "Python 3",
   "language": "python",
   "name": "python3"
  },
  "language_info": {
   "codemirror_mode": {
    "name": "ipython",
    "version": 3
   },
   "file_extension": ".py",
   "mimetype": "text/x-python",
   "name": "python",
   "nbconvert_exporter": "python",
   "pygments_lexer": "ipython3",
   "version": "3.7.6"
  }
 },
 "nbformat": 4,
 "nbformat_minor": 4
}
