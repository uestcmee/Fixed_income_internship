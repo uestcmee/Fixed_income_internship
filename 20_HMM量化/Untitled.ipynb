{
 "cells": [
  {
   "cell_type": "code",
   "execution_count": 1,
   "metadata": {},
   "outputs": [
    {
     "name": "stdout",
     "output_type": "stream",
     "text": [
      "Welcome to use Wind Quant API for Python (WindPy)!\n",
      "\n",
      "COPYRIGHT (C) 2020 WIND INFORMATION CO., LTD. ALL RIGHTS RESERVED.\n",
      "IN NO CIRCUMSTANCE SHALL WIND BE RESPONSIBLE FOR ANY DAMAGES OR LOSSES CAUSED BY USING WIND QUANT API FOR Python.\n"
     ]
    },
    {
     "data": {
      "text/plain": [
       ".ErrorCode=0\n",
       ".Data=[OK!]"
      ]
     },
     "execution_count": 1,
     "metadata": {},
     "output_type": "execute_result"
    }
   ],
   "source": [
    "from WindPy import *\n",
    "w.start()"
   ]
  },
  {
   "cell_type": "code",
   "execution_count": null,
   "metadata": {},
   "outputs": [],
   "source": []
  },
  {
   "cell_type": "code",
   "execution_count": 7,
   "metadata": {},
   "outputs": [
    {
     "data": {
      "text/html": [
       "<div>\n",
       "<style scoped>\n",
       "    .dataframe tbody tr th:only-of-type {\n",
       "        vertical-align: middle;\n",
       "    }\n",
       "\n",
       "    .dataframe tbody tr th {\n",
       "        vertical-align: top;\n",
       "    }\n",
       "\n",
       "    .dataframe thead th {\n",
       "        text-align: right;\n",
       "    }\n",
       "</style>\n",
       "<table border=\"1\" class=\"dataframe\">\n",
       "  <thead>\n",
       "    <tr style=\"text-align: right;\">\n",
       "      <th></th>\n",
       "    </tr>\n",
       "  </thead>\n",
       "  <tbody>\n",
       "  </tbody>\n",
       "</table>\n",
       "</div>"
      ],
      "text/plain": [
       "Empty DataFrame\n",
       "Columns: []\n",
       "Index: []"
      ]
     },
     "execution_count": 7,
     "metadata": {},
     "output_type": "execute_result"
    }
   ],
   "source": [
    "T=w.wsd(\"TS.CFE\", \"open,high,low,close,volume\", \"2015-01-01\", \"2020-12-16\", \"Fill=Previous;PriceAdj=F\", usedf=True)[1]\n",
    "T"
   ]
  },
  {
   "cell_type": "code",
   "execution_count": 21,
   "metadata": {},
   "outputs": [],
   "source": [
    "# T.to_excel('./data/TS.xlsx')"
   ]
  },
  {
   "cell_type": "code",
   "execution_count": 15,
   "metadata": {},
   "outputs": [
    {
     "data": {
      "text/html": [
       "<div>\n",
       "<style scoped>\n",
       "    .dataframe tbody tr th:only-of-type {\n",
       "        vertical-align: middle;\n",
       "    }\n",
       "\n",
       "    .dataframe tbody tr th {\n",
       "        vertical-align: top;\n",
       "    }\n",
       "\n",
       "    .dataframe thead th {\n",
       "        text-align: right;\n",
       "    }\n",
       "</style>\n",
       "<table border=\"1\" class=\"dataframe\">\n",
       "  <thead>\n",
       "    <tr style=\"text-align: right;\">\n",
       "      <th></th>\n",
       "      <th>open</th>\n",
       "      <th>high</th>\n",
       "      <th>low</th>\n",
       "      <th>close</th>\n",
       "      <th>volume</th>\n",
       "    </tr>\n",
       "  </thead>\n",
       "  <tbody>\n",
       "    <tr>\n",
       "      <th>2018-08-17 09:15:00</th>\n",
       "      <td>99.400</td>\n",
       "      <td>99.405</td>\n",
       "      <td>99.235</td>\n",
       "      <td>99.270</td>\n",
       "      <td>678.0</td>\n",
       "    </tr>\n",
       "    <tr>\n",
       "      <th>2018-08-17 09:16:00</th>\n",
       "      <td>99.265</td>\n",
       "      <td>99.290</td>\n",
       "      <td>99.260</td>\n",
       "      <td>99.280</td>\n",
       "      <td>286.0</td>\n",
       "    </tr>\n",
       "    <tr>\n",
       "      <th>2018-08-17 09:17:00</th>\n",
       "      <td>99.290</td>\n",
       "      <td>99.330</td>\n",
       "      <td>99.275</td>\n",
       "      <td>99.320</td>\n",
       "      <td>161.0</td>\n",
       "    </tr>\n",
       "    <tr>\n",
       "      <th>2018-08-17 09:18:00</th>\n",
       "      <td>99.320</td>\n",
       "      <td>99.355</td>\n",
       "      <td>99.315</td>\n",
       "      <td>99.355</td>\n",
       "      <td>244.0</td>\n",
       "    </tr>\n",
       "    <tr>\n",
       "      <th>2018-08-17 09:19:00</th>\n",
       "      <td>99.360</td>\n",
       "      <td>99.360</td>\n",
       "      <td>99.325</td>\n",
       "      <td>99.330</td>\n",
       "      <td>36.0</td>\n",
       "    </tr>\n",
       "    <tr>\n",
       "      <th>...</th>\n",
       "      <td>...</td>\n",
       "      <td>...</td>\n",
       "      <td>...</td>\n",
       "      <td>...</td>\n",
       "      <td>...</td>\n",
       "    </tr>\n",
       "    <tr>\n",
       "      <th>2020-12-17 15:11:00</th>\n",
       "      <td>100.215</td>\n",
       "      <td>100.215</td>\n",
       "      <td>100.215</td>\n",
       "      <td>100.215</td>\n",
       "      <td>20.0</td>\n",
       "    </tr>\n",
       "    <tr>\n",
       "      <th>2020-12-17 15:12:00</th>\n",
       "      <td>100.215</td>\n",
       "      <td>100.215</td>\n",
       "      <td>100.215</td>\n",
       "      <td>100.215</td>\n",
       "      <td>11.0</td>\n",
       "    </tr>\n",
       "    <tr>\n",
       "      <th>2020-12-17 15:13:00</th>\n",
       "      <td>100.220</td>\n",
       "      <td>100.220</td>\n",
       "      <td>100.215</td>\n",
       "      <td>100.215</td>\n",
       "      <td>14.0</td>\n",
       "    </tr>\n",
       "    <tr>\n",
       "      <th>2020-12-17 15:14:00</th>\n",
       "      <td>100.215</td>\n",
       "      <td>100.215</td>\n",
       "      <td>100.200</td>\n",
       "      <td>100.200</td>\n",
       "      <td>141.0</td>\n",
       "    </tr>\n",
       "    <tr>\n",
       "      <th>2020-12-17 15:15:00</th>\n",
       "      <td>100.200</td>\n",
       "      <td>100.200</td>\n",
       "      <td>100.200</td>\n",
       "      <td>100.200</td>\n",
       "      <td>0.0</td>\n",
       "    </tr>\n",
       "  </tbody>\n",
       "</table>\n",
       "<p>152649 rows × 5 columns</p>\n",
       "</div>"
      ],
      "text/plain": [
       "                        open     high      low    close  volume\n",
       "2018-08-17 09:15:00   99.400   99.405   99.235   99.270   678.0\n",
       "2018-08-17 09:16:00   99.265   99.290   99.260   99.280   286.0\n",
       "2018-08-17 09:17:00   99.290   99.330   99.275   99.320   161.0\n",
       "2018-08-17 09:18:00   99.320   99.355   99.315   99.355   244.0\n",
       "2018-08-17 09:19:00   99.360   99.360   99.325   99.330    36.0\n",
       "...                      ...      ...      ...      ...     ...\n",
       "2020-12-17 15:11:00  100.215  100.215  100.215  100.215    20.0\n",
       "2020-12-17 15:12:00  100.215  100.215  100.215  100.215    11.0\n",
       "2020-12-17 15:13:00  100.220  100.220  100.215  100.215    14.0\n",
       "2020-12-17 15:14:00  100.215  100.215  100.200  100.200   141.0\n",
       "2020-12-17 15:15:00  100.200  100.200  100.200  100.200     0.0\n",
       "\n",
       "[152649 rows x 5 columns]"
      ]
     },
     "execution_count": 15,
     "metadata": {},
     "output_type": "execute_result"
    }
   ],
   "source": [
    "T5min=w.wsi(\"TS.CFE\", \"open,high,low,close,volume\", \"2018-01-01 09:00:00\", \"2020-12-17 15:15:00\", \"tradeDate=20201216;priceAdj=1;cycle=1;Fill=Previous\", usedf=True)[1]\n",
    "T5min"
   ]
  },
  {
   "cell_type": "code",
   "execution_count": 16,
   "metadata": {},
   "outputs": [],
   "source": [
    "T5min.to_excel('./data/TS_1min.xlsx')"
   ]
  },
  {
   "cell_type": "code",
   "execution_count": null,
   "metadata": {},
   "outputs": [],
   "source": [
    "T=w.wsd(\"TF.CFE\", \"open,high,low,close,volume\", \"2015-01-01\", \"2020-12-16\", \"Fill=Previous;PriceAdj=F\", usedf=True)[1]\n",
    "T"
   ]
  },
  {
   "cell_type": "code",
   "execution_count": 5,
   "metadata": {},
   "outputs": [
    {
     "data": {
      "text/plain": [
       "GaussianHMM(algorithm='viterbi', covariance_type='full', covars_prior=0.01,\n",
       "            covars_weight=1, init_params='stmc', means_prior=0, means_weight=0,\n",
       "            min_covar=0.001, n_components=2, n_iter=200000, params='stmc',\n",
       "            random_state=None, startprob_prior=1.0, tol=0.01,\n",
       "            transmat_prior=1.0, verbose=False)"
      ]
     },
     "execution_count": 5,
     "metadata": {},
     "output_type": "execute_result"
    }
   ],
   "source": [
    "import joblib\n",
    "\n",
    "\n",
    "model = joblib.load('model.pkl') \n",
    "model"
   ]
  },
  {
   "cell_type": "code",
   "execution_count": 6,
   "metadata": {},
   "outputs": [
    {
     "data": {
      "text/plain": [
       "array([0])"
      ]
     },
     "execution_count": 6,
     "metadata": {},
     "output_type": "execute_result"
    }
   ],
   "source": [
    "model.predict([[0.01,0.01]])"
   ]
  },
  {
   "cell_type": "code",
   "execution_count": 7,
   "metadata": {},
   "outputs": [],
   "source": [
    "A=[[ 7.71347067e-04, -1.02833051e-04],\n",
    "        [ 3.59980462e-04,  5.65887301e-04],\n",
    "        [ 4.62832026e-04,  2.57181803e-04],\n",
    "        [ 1.18072860e-03,  2.10629140e-03],\n",
    "        [ 7.69842733e-04,  2.05433794e-03],\n",
    "        [ 5.13109971e-04,  2.10575050e-03],\n",
    "        [ 5.64348577e-04,  2.20858355e-03],\n",
    "        [ 5.64290676e-04,  2.26035234e-03],\n",
    "        [ 7.69763721e-04,  1.95242317e-03],\n",
    "        [ 6.67471080e-04, -1.53968539e-04],\n",
    "        [ 7.18685863e-04, -7.69882246e-04],\n",
    "        [ 3.08087294e-04, -9.75284321e-04],\n",
    "        [ 1.18091047e-03, -3.07881776e-04],\n",
    "        [ 4.61858218e-04, -2.05275583e-04],\n",
    "        [ 5.13215305e-04, -5.13307497e-05],\n",
    "        [ 7.18870378e-04, -5.13399744e-04],\n",
    "        [ 7.19461463e-04, -1.13023387e-03],\n",
    "        [ 4.11163083e-04, -7.19239692e-04],\n",
    "        [ 2.56957115e-04, -1.33525081e-03],\n",
    "        [ 7.70673350e-04, -8.72891637e-04],\n",
    "        [ 3.08229736e-04, -6.16174602e-04],\n",
    "        [ 1.18109239e-03,  3.59407495e-04],\n",
    "        [ 6.16111330e-04,  1.07888731e-03],\n",
    "        [ 1.54162415e-03, -2.56996738e-04],\n",
    "        [ 5.14059539e-04, -5.65450962e-04],\n",
    "        [ 6.16966601e-04, -7.19424491e-04]]"
   ]
  },
  {
   "cell_type": "code",
   "execution_count": 8,
   "metadata": {},
   "outputs": [
    {
     "data": {
      "text/plain": [
       "array([0, 0, 0, 0, 0, 0, 0, 0, 0, 1, 1, 1, 1, 1, 1, 1, 1, 1, 1, 1, 1, 1,\n",
       "       0, 1, 1, 1])"
      ]
     },
     "execution_count": 8,
     "metadata": {},
     "output_type": "execute_result"
    }
   ],
   "source": [
    "model.predict(A)"
   ]
  },
  {
   "cell_type": "code",
   "execution_count": null,
   "metadata": {},
   "outputs": [],
   "source": []
  }
 ],
 "metadata": {
  "kernelspec": {
   "display_name": "Python 3",
   "language": "python",
   "name": "python3"
  },
  "language_info": {
   "codemirror_mode": {
    "name": "ipython",
    "version": 3
   },
   "file_extension": ".py",
   "mimetype": "text/x-python",
   "name": "python",
   "nbconvert_exporter": "python",
   "pygments_lexer": "ipython3",
   "version": "3.7.6"
  }
 },
 "nbformat": 4,
 "nbformat_minor": 4
}
