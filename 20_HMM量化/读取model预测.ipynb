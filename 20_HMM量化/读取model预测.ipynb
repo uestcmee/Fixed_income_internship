{
 "cells": [
  {
   "cell_type": "code",
   "execution_count": null,
   "metadata": {},
   "outputs": [],
   "source": []
  },
  {
   "cell_type": "code",
   "execution_count": null,
   "metadata": {},
   "outputs": [],
   "source": []
  },
  {
   "cell_type": "code",
   "execution_count": null,
   "metadata": {},
   "outputs": [],
   "source": []
  },
  {
   "cell_type": "code",
   "execution_count": 21,
   "metadata": {},
   "outputs": [],
   "source": [
    "# T.to_excel('./data/TS.xlsx')"
   ]
  },
  {
   "cell_type": "code",
   "execution_count": null,
   "metadata": {},
   "outputs": [],
   "source": []
  },
  {
   "cell_type": "code",
   "execution_count": null,
   "metadata": {},
   "outputs": [],
   "source": []
  },
  {
   "cell_type": "code",
   "execution_count": null,
   "metadata": {},
   "outputs": [],
   "source": []
  },
  {
   "cell_type": "code",
   "execution_count": 1,
   "metadata": {},
   "outputs": [
    {
     "data": {
      "text/plain": [
       "GaussianHMM(algorithm='viterbi', covariance_type='full', covars_prior=0.01,\n",
       "            covars_weight=1, init_params='stmc', means_prior=0, means_weight=0,\n",
       "            min_covar=0.001, n_components=2, n_iter=200000, params='stmc',\n",
       "            random_state=None, startprob_prior=1.0, tol=0.01,\n",
       "            transmat_prior=1.0, verbose=False)"
      ]
     },
     "execution_count": 1,
     "metadata": {},
     "output_type": "execute_result"
    }
   ],
   "source": [
    "import joblib\n",
    "\n",
    "\n",
    "model = joblib.load('model.pkl') \n",
    "model"
   ]
  },
  {
   "cell_type": "code",
   "execution_count": 2,
   "metadata": {},
   "outputs": [
    {
     "data": {
      "text/plain": [
       "array([0])"
      ]
     },
     "execution_count": 2,
     "metadata": {},
     "output_type": "execute_result"
    }
   ],
   "source": [
    "model.predict([[0.01,0.01]])"
   ]
  },
  {
   "cell_type": "code",
   "execution_count": 3,
   "metadata": {},
   "outputs": [],
   "source": [
    "A=[[ 7.71347067e-04, -1.02833051e-04],\n",
    "        [ 3.59980462e-04,  5.65887301e-04],\n",
    "        [ 4.62832026e-04,  2.57181803e-04],\n",
    "        [ 1.18072860e-03,  2.10629140e-03],\n",
    "        [ 7.69842733e-04,  2.05433794e-03],\n",
    "        [ 5.13109971e-04,  2.10575050e-03],\n",
    "        [ 5.64348577e-04,  2.20858355e-03],\n",
    "        [ 5.64290676e-04,  2.26035234e-03],\n",
    "        [ 7.69763721e-04,  1.95242317e-03],\n",
    "        [ 6.67471080e-04, -1.53968539e-04],\n",
    "        [ 7.18685863e-04, -7.69882246e-04],\n",
    "        [ 3.08087294e-04, -9.75284321e-04],\n",
    "        [ 1.18091047e-03, -3.07881776e-04],\n",
    "        [ 4.61858218e-04, -2.05275583e-04],\n",
    "        [ 5.13215305e-04, -5.13307497e-05],\n",
    "        [ 7.18870378e-04, -5.13399744e-04],\n",
    "        [ 7.19461463e-04, -1.13023387e-03],\n",
    "        [ 4.11163083e-04, -7.19239692e-04],\n",
    "        [ 2.56957115e-04, -1.33525081e-03],\n",
    "        [ 7.70673350e-04, -8.72891637e-04],\n",
    "        [ 3.08229736e-04, -6.16174602e-04],\n",
    "        [ 1.18109239e-03,  3.59407495e-04],\n",
    "        [ 6.16111330e-04,  1.07888731e-03],\n",
    "        [ 1.54162415e-03, -2.56996738e-04],\n",
    "        [ 5.14059539e-04, -5.65450962e-04],\n",
    "        [ 6.16966601e-04, -7.19424491e-04]]"
   ]
  },
  {
   "cell_type": "code",
   "execution_count": 4,
   "metadata": {},
   "outputs": [
    {
     "data": {
      "text/plain": [
       "array([0, 0, 0, 0, 0, 0, 0, 0, 0, 1, 1, 1, 1, 1, 1, 1, 1, 1, 1, 1, 1, 1,\n",
       "       0, 1, 1, 1])"
      ]
     },
     "execution_count": 4,
     "metadata": {},
     "output_type": "execute_result"
    }
   ],
   "source": [
    "model.predict(A)"
   ]
  },
  {
   "cell_type": "code",
   "execution_count": null,
   "metadata": {},
   "outputs": [],
   "source": []
  }
 ],
 "metadata": {
  "kernelspec": {
   "display_name": "Python 3",
   "language": "python",
   "name": "python3"
  },
  "language_info": {
   "codemirror_mode": {
    "name": "ipython",
    "version": 3
   },
   "file_extension": ".py",
   "mimetype": "text/x-python",
   "name": "python",
   "nbconvert_exporter": "python",
   "pygments_lexer": "ipython3",
   "version": "3.7.6"
  }
 },
 "nbformat": 4,
 "nbformat_minor": 4
}
