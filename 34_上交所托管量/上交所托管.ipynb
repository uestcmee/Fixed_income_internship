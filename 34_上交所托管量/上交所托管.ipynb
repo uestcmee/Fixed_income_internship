{
 "cells": [
  {
   "cell_type": "code",
   "execution_count": 88,
   "metadata": {},
   "outputs": [],
   "source": [
    "from selenium import webdriver\n",
    "from bs4 import BeautifulSoup\n",
    "import time\n"
   ]
  },
  {
   "cell_type": "code",
   "execution_count": 2,
   "metadata": {},
   "outputs": [],
   "source": [
    "driver = webdriver.Edge()\n"
   ]
  },
  {
   "cell_type": "code",
   "execution_count": 3,
   "metadata": {},
   "outputs": [],
   "source": [
    "url='http://www.sse.com.cn/market/bonddata/statistic/'\n",
    "driver.get(url)"
   ]
  },
  {
   "cell_type": "code",
   "execution_count": 9,
   "metadata": {},
   "outputs": [],
   "source": [
    "js_exe=\"\"\"\n",
    "document.getElementById(\"searchBondDate\") \n",
    "document.getElementById(\"searchBondDate\").removeAttribute(\"readonly\") \n",
    "\"\"\"\n",
    "driver.execute_script(js_exe)\n",
    "\n",
    "\n"
   ]
  },
  {
   "cell_type": "code",
   "execution_count": 70,
   "metadata": {},
   "outputs": [
    {
     "data": {
      "text/plain": [
       "'2021-01-23'"
      ]
     },
     "execution_count": 70,
     "metadata": {},
     "output_type": "execute_result"
    }
   ],
   "source": [
    "date=\"2020-12-11\"\n",
    "import datetime\n",
    "one_day=datetime.timedelta(days=1)\n",
    "now_time=datetime.datetime.now()-one_day\n",
    "now_str=str(now_time)[:10]\n",
    "now_str"
   ]
  },
  {
   "cell_type": "code",
   "execution_count": 71,
   "metadata": {},
   "outputs": [],
   "source": [
    "import pandas as pd\n"
   ]
  },
  {
   "cell_type": "code",
   "execution_count": 102,
   "metadata": {},
   "outputs": [
    {
     "data": {
      "text/html": [
       "<div>\n",
       "<style scoped>\n",
       "    .dataframe tbody tr th:only-of-type {\n",
       "        vertical-align: middle;\n",
       "    }\n",
       "\n",
       "    .dataframe tbody tr th {\n",
       "        vertical-align: top;\n",
       "    }\n",
       "\n",
       "    .dataframe thead th {\n",
       "        text-align: right;\n",
       "    }\n",
       "</style>\n",
       "<table border=\"1\" class=\"dataframe\">\n",
       "  <thead>\n",
       "    <tr style=\"text-align: right;\">\n",
       "      <th></th>\n",
       "      <th>日期</th>\n",
       "      <th>托管只数</th>\n",
       "      <th>托管市值（亿元）</th>\n",
       "      <th>托管面值（亿元）</th>\n",
       "    </tr>\n",
       "    <tr>\n",
       "      <th>债券现货</th>\n",
       "      <th></th>\n",
       "      <th></th>\n",
       "      <th></th>\n",
       "      <th></th>\n",
       "    </tr>\n",
       "  </thead>\n",
       "  <tbody>\n",
       "    <tr>\n",
       "      <th>国债</th>\n",
       "      <td>2021-01-07</td>\n",
       "      <td>195</td>\n",
       "      <td>7314.16</td>\n",
       "      <td>7254.72</td>\n",
       "    </tr>\n",
       "    <tr>\n",
       "      <th>地方债</th>\n",
       "      <td>2021-01-07</td>\n",
       "      <td>5317</td>\n",
       "      <td>6745.88</td>\n",
       "      <td>6741.22</td>\n",
       "    </tr>\n",
       "    <tr>\n",
       "      <th>金融债</th>\n",
       "      <td>2021-01-07</td>\n",
       "      <td>19</td>\n",
       "      <td>989.75</td>\n",
       "      <td>970.70</td>\n",
       "    </tr>\n",
       "    <tr>\n",
       "      <th>企业债</th>\n",
       "      <td>2021-01-07</td>\n",
       "      <td>2234</td>\n",
       "      <td>7506.48</td>\n",
       "      <td>7446.15</td>\n",
       "    </tr>\n",
       "    <tr>\n",
       "      <th>非公开发行公司债券</th>\n",
       "      <td>2021-01-07</td>\n",
       "      <td>4969</td>\n",
       "      <td>43920.54</td>\n",
       "      <td>44248.97</td>\n",
       "    </tr>\n",
       "    <tr>\n",
       "      <th>可交换债</th>\n",
       "      <td>2021-01-07</td>\n",
       "      <td>57</td>\n",
       "      <td>1363.58</td>\n",
       "      <td>1285.37</td>\n",
       "    </tr>\n",
       "    <tr>\n",
       "      <th>公开发行公司债券</th>\n",
       "      <td>2021-01-07</td>\n",
       "      <td>3394</td>\n",
       "      <td>46476.85</td>\n",
       "      <td>46738.07</td>\n",
       "    </tr>\n",
       "    <tr>\n",
       "      <th>可转换公司债</th>\n",
       "      <td>2021-01-07</td>\n",
       "      <td>142</td>\n",
       "      <td>3705.74</td>\n",
       "      <td>3202.50</td>\n",
       "    </tr>\n",
       "    <tr>\n",
       "      <th>资产支持证券</th>\n",
       "      <td>2021-01-07</td>\n",
       "      <td>4131</td>\n",
       "      <td>14755.99</td>\n",
       "      <td>14750.97</td>\n",
       "    </tr>\n",
       "    <tr>\n",
       "      <th>合计</th>\n",
       "      <td>2021-01-07</td>\n",
       "      <td>20458</td>\n",
       "      <td>132778.95</td>\n",
       "      <td>132638.67</td>\n",
       "    </tr>\n",
       "  </tbody>\n",
       "</table>\n",
       "</div>"
      ],
      "text/plain": [
       "                   日期   托管只数   托管市值（亿元）   托管面值（亿元）\n",
       "债券现货                                              \n",
       "国债         2021-01-07    195    7314.16    7254.72\n",
       "地方债        2021-01-07   5317    6745.88    6741.22\n",
       "金融债        2021-01-07     19     989.75     970.70\n",
       "企业债        2021-01-07   2234    7506.48    7446.15\n",
       "非公开发行公司债券  2021-01-07   4969   43920.54   44248.97\n",
       "可交换债       2021-01-07     57    1363.58    1285.37\n",
       "公开发行公司债券   2021-01-07   3394   46476.85   46738.07\n",
       "可转换公司债     2021-01-07    142    3705.74    3202.50\n",
       "资产支持证券     2021-01-07   4131   14755.99   14750.97\n",
       "合计         2021-01-07  20458  132778.95  132638.67"
      ]
     },
     "execution_count": 102,
     "metadata": {},
     "output_type": "execute_result"
    }
   ],
   "source": [
    "def get_result_df(date_str:str):\n",
    "    driver.find_element_by_id('searchBondDate').clear()\n",
    "    driver.find_element_by_id(\"searchBondDate\").send_keys(date_str)\n",
    "    driver.find_element_by_id(\"btnQuery\").click()\n",
    "    time.sleep(0.2)\n",
    "    text=driver.page_source\n",
    "    result_df=pd.read_html(text,index_col=0)[1]\n",
    "    result_df.insert(0,'日期',date_str)\n",
    "    return result_df\n",
    "get_result_df('2021-01-07')"
   ]
  },
  {
   "cell_type": "code",
   "execution_count": null,
   "metadata": {},
   "outputs": [],
   "source": []
  },
  {
   "cell_type": "code",
   "execution_count": null,
   "metadata": {},
   "outputs": [],
   "source": []
  },
  {
   "cell_type": "code",
   "execution_count": null,
   "metadata": {},
   "outputs": [],
   "source": []
  },
  {
   "cell_type": "code",
   "execution_count": 99,
   "metadata": {},
   "outputs": [],
   "source": [
    "from sqlalchemy import create_engine\n",
    "\n",
    "engine=create_engine('sqlite:///上交所托管量.db')\n",
    "\n",
    "\n",
    "def write_to_sql(result_df):\n",
    "    for one in result_df.index:\n",
    "    #     print(result_df.loc[one])\n",
    "        result_df.loc[[one]].to_sql(one,engine,if_exists='append')\n",
    "    return 0"
   ]
  },
  {
   "cell_type": "code",
   "execution_count": 103,
   "metadata": {},
   "outputs": [
    {
     "name": "stdout",
     "output_type": "stream",
     "text": [
      "2016-07-06 19"
     ]
    }
   ],
   "source": [
    "one_day=datetime.timedelta(days=1)\n",
    "now_time=datetime.datetime.now()\n",
    "null_num=0\n",
    "while null_num<20:\n",
    "    now_str=str(now_time)[:10]\n",
    "    print('\\r'+now_str ,null_num,end='')\n",
    "    now_time-=one_day\n",
    "    \n",
    "    result_df=get_result_df(now_str)\n",
    "#     print(result_df)\n",
    "    if len(result_df)==0:\n",
    "        null_num+=1\n",
    "    else:\n",
    "        null_num=0\n",
    "        write_to_sql(result_df)"
   ]
  },
  {
   "cell_type": "code",
   "execution_count": 107,
   "metadata": {},
   "outputs": [
    {
     "data": {
      "text/plain": [
       "['中小企业私募债',\n",
       " '企业债',\n",
       " '企业资产支持证券',\n",
       " '信贷资产支持证券',\n",
       " '公开发行公司债',\n",
       " '公开发行公司债券',\n",
       " '其他债券',\n",
       " '分离债',\n",
       " '可交换债',\n",
       " '可转债',\n",
       " '可转换公司债',\n",
       " '合计',\n",
       " '国债',\n",
       " '地方债',\n",
       " '地方政府债',\n",
       " '记账式国债',\n",
       " '资产支持证券',\n",
       " '金融债',\n",
       " '非公开发行公司债',\n",
       " '非公开发行公司债券']"
      ]
     },
     "execution_count": 107,
     "metadata": {},
     "output_type": "execute_result"
    }
   ],
   "source": [
    "def GetTables(db_file = 'main.db'):\n",
    "    try:\n",
    "        conn = sqlite3.connect(db_file)\n",
    "        cur = conn.cursor()\n",
    "        cur.execute(\"select name from sqlite_master where type='table' order by name\")\n",
    "        table_list=[x[0] for x in  cur.fetchall()]\n",
    "        return table_list\n",
    "    except Exception as e:\n",
    "        print (e)\n",
    "        return []\n",
    "import sqlite3\n",
    "table_list=GetTables('上交所托管量.db')\n",
    "table_list"
   ]
  },
  {
   "cell_type": "code",
   "execution_count": 114,
   "metadata": {},
   "outputs": [
    {
     "name": "stdout",
     "output_type": "stream",
     "text": [
      "中小企业私募债\n",
      "企业债\n",
      "企业资产支持证券\n",
      "信贷资产支持证券\n",
      "公开发行公司债\n",
      "公开发行公司债券\n",
      "其他债券\n",
      "分离债\n",
      "可交换债\n",
      "可转债\n",
      "可转换公司债\n",
      "合计\n",
      "国债\n",
      "地方债\n",
      "地方政府债\n",
      "记账式国债\n",
      "资产支持证券\n",
      "金融债\n",
      "非公开发行公司债\n",
      "非公开发行公司债券\n"
     ]
    }
   ],
   "source": [
    "xlsx_path='./xlsx/'\n",
    "for one in table_list:\n",
    "    df=pd.read_sql(one,engine,index_col='日期')\n",
    "    print(one)\n",
    "    df.to_excel(xlsx_path+'{}.xlsx'.format(one))\n",
    "#     break"
   ]
  },
  {
   "cell_type": "code",
   "execution_count": 115,
   "metadata": {},
   "outputs": [],
   "source": [
    "driver.quit()"
   ]
  },
  {
   "cell_type": "code",
   "execution_count": null,
   "metadata": {},
   "outputs": [],
   "source": []
  }
 ],
 "metadata": {
  "kernelspec": {
   "display_name": "Python 3",
   "language": "python",
   "name": "python3"
  },
  "language_info": {
   "codemirror_mode": {
    "name": "ipython",
    "version": 3
   },
   "file_extension": ".py",
   "mimetype": "text/x-python",
   "name": "python",
   "nbconvert_exporter": "python",
   "pygments_lexer": "ipython3",
   "version": "3.7.6"
  }
 },
 "nbformat": 4,
 "nbformat_minor": 4
}
