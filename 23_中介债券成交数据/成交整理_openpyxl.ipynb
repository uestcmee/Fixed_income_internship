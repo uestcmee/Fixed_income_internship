{
 "cells": [
  {
   "cell_type": "code",
   "execution_count": 2,
   "metadata": {},
   "outputs": [],
   "source": [
    "import pandas as pd\n",
    "import numpy as np\n",
    "import re"
   ]
  },
  {
   "cell_type": "code",
   "execution_count": 3,
   "metadata": {},
   "outputs": [],
   "source": [
    "file_name='2020年06月25日周四'\n",
    "\n",
    "with open ('./{}.txt'.format(file_name)) as f:\n",
    "    text=f.read()\n",
    "    f.close()\n"
   ]
  },
  {
   "cell_type": "code",
   "execution_count": 4,
   "metadata": {},
   "outputs": [
    {
     "name": "stdout",
     "output_type": "stream",
     "text": [
      "无法获取信息 ['68D(休1)', '19凯盛科技CP001', '041900342', '', '3.20', 'AA+']\n",
      "无法获取信息 ['33D(休1)', '19海安开投SCP002', '011902529', '', '4.40', 'AA']\n",
      "无法获取信息 ['173D(休1)', '19阜阳投资CP001', '041900467', '', '2.85', 'AA+']\n",
      "无法获取信息 ['115D', '20开封基建SCP001', '012000235', '', '3.63', 'AA']\n",
      "无法获取信息 ['172D(休2)', '20大足国资SCP001', '012000903', '', '3.82', 'AA']\n"
     ]
    },
    {
     "data": {
      "text/plain": [
       "0"
      ]
     },
     "execution_count": 4,
     "metadata": {},
     "output_type": "execute_result"
    }
   ],
   "source": [
    "fenlei={'短融':[],\n",
    "        '中票':[],\n",
    "        '企业债':[],\n",
    "        '其他':[]}\n",
    "\n",
    "\n",
    "for i,line in enumerate(text.split('\\n')):\n",
    "    line=re.split(' +|\\t+',line.strip())\n",
    "    if len(line)==1 and line!=['']:\n",
    "        if re.search('|'.join(['短融','中票','企业债','其他']) ,line[0])!=None:\n",
    "            now_list=re.search('|'.join(['短融','中票','企业债','其他']) ,line[0]).group()\n",
    "            \n",
    "    \n",
    "    if len (line)>=5:\n",
    "        year=line[0]\n",
    "        try:\n",
    "#             rating=line[['AAA|(A\\-1)' in i for i in line ].index(True)] # 找评级\n",
    "            rating=line[[re.search('AAA|(A\\-1)',i)!=None  for i in line].index(True)] #找评级\n",
    "\n",
    "            ytm=line[[re.search('\\d+\\.\\d+|\\d+',i)!=None  for i in line[3:]].index(True)+3].replace('%','') #找ytm\n",
    "            name=line[[re.search('[^\\x00-\\xff]+',i)!=None  for i in line[1:]].index(True)+1]#找名称\n",
    "            fenlei[now_list].append([year,name,ytm,rating])\n",
    "\n",
    "        except:\n",
    "            pass\n",
    "#             if now_list=='短融':\n",
    "#                 print('无法获取信息',line)\n",
    "            \n",
    "        \n",
    "    else:\n",
    "        pass\n",
    "        \n",
    "\n",
    "len(fenlei['短融'])"
   ]
  },
  {
   "cell_type": "code",
   "execution_count": 5,
   "metadata": {},
   "outputs": [
    {
     "data": {
      "text/html": [
       "<div>\n",
       "<style scoped>\n",
       "    .dataframe tbody tr th:only-of-type {\n",
       "        vertical-align: middle;\n",
       "    }\n",
       "\n",
       "    .dataframe tbody tr th {\n",
       "        vertical-align: top;\n",
       "    }\n",
       "\n",
       "    .dataframe thead th {\n",
       "        text-align: right;\n",
       "    }\n",
       "</style>\n",
       "<table border=\"1\" class=\"dataframe\">\n",
       "  <thead>\n",
       "    <tr style=\"text-align: right;\">\n",
       "      <th></th>\n",
       "      <th>剩余期限</th>\n",
       "      <th>简称</th>\n",
       "      <th>收益率</th>\n",
       "      <th>评级</th>\n",
       "    </tr>\n",
       "  </thead>\n",
       "  <tbody>\n",
       "    <tr>\n",
       "      <th>0</th>\n",
       "      <td>361D</td>\n",
       "      <td>14山西交投MTN001</td>\n",
       "      <td>3.25</td>\n",
       "      <td>AAA/AA+</td>\n",
       "    </tr>\n",
       "    <tr>\n",
       "      <th>1</th>\n",
       "      <td>361D</td>\n",
       "      <td>14山西交投MTN001</td>\n",
       "      <td>3.25</td>\n",
       "      <td>AAA/AA+</td>\n",
       "    </tr>\n",
       "    <tr>\n",
       "      <th>2</th>\n",
       "      <td>363D</td>\n",
       "      <td>18电网MTN001</td>\n",
       "      <td>2.62</td>\n",
       "      <td>AAA</td>\n",
       "    </tr>\n",
       "    <tr>\n",
       "      <th>3</th>\n",
       "      <td>1.12Y</td>\n",
       "      <td>18汇金MTN010</td>\n",
       "      <td>2.65</td>\n",
       "      <td>AAA</td>\n",
       "    </tr>\n",
       "    <tr>\n",
       "      <th>4</th>\n",
       "      <td>1.12Y</td>\n",
       "      <td>18汇金MTN010</td>\n",
       "      <td>2.65</td>\n",
       "      <td>AAA</td>\n",
       "    </tr>\n",
       "    <tr>\n",
       "      <th>...</th>\n",
       "      <td>...</td>\n",
       "      <td>...</td>\n",
       "      <td>...</td>\n",
       "      <td>...</td>\n",
       "    </tr>\n",
       "    <tr>\n",
       "      <th>186</th>\n",
       "      <td>1.34Y</td>\n",
       "      <td>18华电租赁MTN001</td>\n",
       "      <td>3.48</td>\n",
       "      <td>AAA</td>\n",
       "    </tr>\n",
       "    <tr>\n",
       "      <th>187</th>\n",
       "      <td>4.85Y</td>\n",
       "      <td>20溧水经开MTN002</td>\n",
       "      <td>4.30</td>\n",
       "      <td>AA+/AAA</td>\n",
       "    </tr>\n",
       "    <tr>\n",
       "      <th>188</th>\n",
       "      <td>4.83Y</td>\n",
       "      <td>20甘交建MTN001BC(品种二)</td>\n",
       "      <td>4.30</td>\n",
       "      <td>AAA</td>\n",
       "    </tr>\n",
       "    <tr>\n",
       "      <th>189</th>\n",
       "      <td>1.07Y</td>\n",
       "      <td>18汇金MTN009</td>\n",
       "      <td>2.60</td>\n",
       "      <td>AAA</td>\n",
       "    </tr>\n",
       "    <tr>\n",
       "      <th>190</th>\n",
       "      <td>1.07Y</td>\n",
       "      <td>18电网MTN002</td>\n",
       "      <td>2.60</td>\n",
       "      <td>AAA</td>\n",
       "    </tr>\n",
       "  </tbody>\n",
       "</table>\n",
       "<p>191 rows × 4 columns</p>\n",
       "</div>"
      ],
      "text/plain": [
       "      剩余期限                  简称   收益率       评级\n",
       "0     361D        14山西交投MTN001  3.25  AAA/AA+\n",
       "1     361D        14山西交投MTN001  3.25  AAA/AA+\n",
       "2     363D          18电网MTN001  2.62      AAA\n",
       "3    1.12Y          18汇金MTN010  2.65      AAA\n",
       "4    1.12Y          18汇金MTN010  2.65      AAA\n",
       "..     ...                 ...   ...      ...\n",
       "186  1.34Y        18华电租赁MTN001  3.48      AAA\n",
       "187  4.85Y        20溧水经开MTN002  4.30  AA+/AAA\n",
       "188  4.83Y  20甘交建MTN001BC(品种二)  4.30      AAA\n",
       "189  1.07Y          18汇金MTN009  2.60      AAA\n",
       "190  1.07Y          18电网MTN002  2.60      AAA\n",
       "\n",
       "[191 rows x 4 columns]"
      ]
     },
     "execution_count": 5,
     "metadata": {},
     "output_type": "execute_result"
    }
   ],
   "source": [
    "fenlei_df ={i:pd.DataFrame(fenlei[i],columns='剩余期限 简称 收益率 评级'.split(' ')) for  i in fenlei.keys()}\n",
    "fenlei_df['中票']"
   ]
  },
  {
   "cell_type": "code",
   "execution_count": 6,
   "metadata": {},
   "outputs": [],
   "source": [
    "def get_day(days:str):\n",
    "    main_day=days.split('+')[0]\n",
    "    if 'D' in main_day:\n",
    "        real_day=float(re.findall('\\d+\\.\\d+|\\d+',main_day)[0])\n",
    "    elif 'Y' in main_day:\n",
    "        real_day=float(re.findall('\\d+\\.\\d+|\\d+',main_day)[0])*365\n",
    "    else:\n",
    "        real_day=main_day\n",
    "    return real_day"
   ]
  },
  {
   "cell_type": "code",
   "execution_count": 7,
   "metadata": {},
   "outputs": [
    {
     "data": {
      "text/html": [
       "<div>\n",
       "<style scoped>\n",
       "    .dataframe tbody tr th:only-of-type {\n",
       "        vertical-align: middle;\n",
       "    }\n",
       "\n",
       "    .dataframe tbody tr th {\n",
       "        vertical-align: top;\n",
       "    }\n",
       "\n",
       "    .dataframe thead th {\n",
       "        text-align: right;\n",
       "    }\n",
       "</style>\n",
       "<table border=\"1\" class=\"dataframe\">\n",
       "  <thead>\n",
       "    <tr style=\"text-align: right;\">\n",
       "      <th></th>\n",
       "      <th>剩余期限</th>\n",
       "      <th>简称</th>\n",
       "      <th>收益率</th>\n",
       "      <th>评级</th>\n",
       "    </tr>\n",
       "  </thead>\n",
       "  <tbody>\n",
       "    <tr>\n",
       "      <th>0</th>\n",
       "      <td>308D</td>\n",
       "      <td>18中金集MTN001BC</td>\n",
       "      <td>2.9</td>\n",
       "      <td>AAA</td>\n",
       "    </tr>\n",
       "    <tr>\n",
       "      <th>1</th>\n",
       "      <td>308D</td>\n",
       "      <td>18中金集MTN001BC</td>\n",
       "      <td>2.9</td>\n",
       "      <td>AAA</td>\n",
       "    </tr>\n",
       "    <tr>\n",
       "      <th>2</th>\n",
       "      <td>310D+NY</td>\n",
       "      <td>16甬城投MTN001</td>\n",
       "      <td>3.42</td>\n",
       "      <td>AAA</td>\n",
       "    </tr>\n",
       "    <tr>\n",
       "      <th>3</th>\n",
       "      <td>361D</td>\n",
       "      <td>14山西交投MTN001</td>\n",
       "      <td>3.25</td>\n",
       "      <td>AAA/AA+</td>\n",
       "    </tr>\n",
       "    <tr>\n",
       "      <th>4</th>\n",
       "      <td>361D</td>\n",
       "      <td>14山西交投MTN001</td>\n",
       "      <td>3.25</td>\n",
       "      <td>AAA/AA+</td>\n",
       "    </tr>\n",
       "  </tbody>\n",
       "</table>\n",
       "</div>"
      ],
      "text/plain": [
       "      剩余期限             简称   收益率       评级\n",
       "0     308D  18中金集MTN001BC   2.9      AAA\n",
       "1     308D  18中金集MTN001BC   2.9      AAA\n",
       "2  310D+NY    16甬城投MTN001  3.42      AAA\n",
       "3     361D   14山西交投MTN001  3.25  AAA/AA+\n",
       "4     361D   14山西交投MTN001  3.25  AAA/AA+"
      ]
     },
     "execution_count": 7,
     "metadata": {},
     "output_type": "execute_result"
    }
   ],
   "source": [
    "for key in fenlei_df:\n",
    "    df=fenlei_df[key]\n",
    "    df['day']=df['剩余期限'].apply(lambda x:get_day(x))\n",
    "    df.sort_values('day',inplace=True)\n",
    "    df.index=[i for i in range(len(df))]\n",
    "    fenlei_df[key]=df.drop('day',axis=1) #去掉辅助列\n",
    "    \n",
    "fenlei_df['中票'].head()"
   ]
  },
  {
   "cell_type": "markdown",
   "metadata": {},
   "source": [
    "## 输出到excel中"
   ]
  },
  {
   "cell_type": "code",
   "execution_count": 118,
   "metadata": {},
   "outputs": [
    {
     "data": {
      "text/plain": [
       "<Worksheet \"Sheet1\">"
      ]
     },
     "execution_count": 118,
     "metadata": {},
     "output_type": "execute_result"
    }
   ],
   "source": [
    "from shutil import copyfile\n",
    "copyfile('./页面模板.xlsx','./{}.xlsx'.format(file_name))\n",
    "\n",
    "import openpyxl\n",
    "wb=openpyxl.load_workbook('{}.xlsx'.format(file_name))\n",
    "sht=wb['Sheet1']\n",
    "sht\n",
    "\n"
   ]
  },
  {
   "cell_type": "code",
   "execution_count": 119,
   "metadata": {},
   "outputs": [
    {
     "name": "stdout",
     "output_type": "stream",
     "text": [
      "A65\n"
     ]
    }
   ],
   "source": [
    "\n",
    "def get_excel_coor(now_line):\n",
    "    page=int(now_line/120)\n",
    "    line=now_line%60\n",
    "    if now_line%120<60:\n",
    "        col='A'\n",
    "    else:\n",
    "        col='E'\n",
    "    row=page*62+line+3\n",
    "    return str(col)+str(row)\n",
    "now_line=120\n",
    "print(get_excel_coor(now_line))\n"
   ]
  },
  {
   "cell_type": "code",
   "execution_count": 120,
   "metadata": {},
   "outputs": [
    {
     "name": "stdout",
     "output_type": "stream",
     "text": [
      "A3:D3 短融\n"
     ]
    }
   ],
   "source": [
    "from openpyxl.styles import Font, colors, Alignment\n",
    "def small_title(sheet,coor,title):\n",
    "    end_coor_dic={'A':'D','E':'H'}\n",
    "    hebing=coor+':'+end_coor_dic[coor[0]]+coor[1:]\n",
    "    sheet.merge_cells(hebing)\n",
    "    sheet[coor]=title\n",
    "    sheet[coor].alignment = Alignment(horizontal='center', vertical='center')\n",
    "    print(hebing,title)\n",
    "small_title(sht,'A3','短融')"
   ]
  },
  {
   "cell_type": "code",
   "execution_count": 121,
   "metadata": {},
   "outputs": [
    {
     "name": "stdout",
     "output_type": "stream",
     "text": [
      "unmerged\n",
      "unmerged\n",
      "unmerged\n",
      "unmerged\n",
      "unmerged\n",
      "unmerged\n"
     ]
    }
   ],
   "source": [
    "# 取消合并所有单元格\n",
    "\n",
    "for page in range(6):\n",
    "    page_range='A{}:H{}'.format(page*62+3,page*62+62)\n",
    "    try:\n",
    "        sht.unmerge_cells(page_range)\n",
    "    except:\n",
    "        print('unmerged')\n",
    "        pass\n",
    "    # Borders(11) 内部垂直边线。    # Borders(12) 内部水平边线。\n",
    "\n",
    "#     for line in [11,12]:\n",
    "#         sht.c(page_range).api.Borders(line).LineStyle = 1\n",
    "#         sht.range(page_range).api.Borders(line).Weight = 2\n",
    "#         sht.range(page_range).api.HorizontalAlignment = -4131\n",
    "#         sht.range(page_range).value=None\n",
    "#         sht.range(page_range).api.NumberFormat = \"@\"\n",
    "sht['E1']=file_name\n"
   ]
  },
  {
   "cell_type": "code",
   "execution_count": 128,
   "metadata": {},
   "outputs": [],
   "source": [
    "def write_area(sht,coor,write_df):\n",
    "    if coor[0]=='A':\n",
    "        min_col=1\n",
    "        max_col=4\n",
    "    if coor[0]=='E':\n",
    "        min_col=5\n",
    "        max_col=8\n",
    "    min_row=int(coor[1:])\n",
    "    max_row=min_row+len(write_df)-1\n",
    "#     print(write_df)\n",
    "    for i,row in enumerate(sht.iter_rows(min_row=min_row,min_col=min_col, max_col=max_col, max_row=max_row)):\n",
    "        for j,cell in enumerate(row):\n",
    "#             print(cell)\n",
    "            try:\n",
    "                cell.value=write_df.iloc[i,j]\n",
    "            except:\n",
    "                print(cell)"
   ]
  },
  {
   "cell_type": "code",
   "execution_count": 129,
   "metadata": {},
   "outputs": [
    {
     "name": "stdout",
     "output_type": "stream",
     "text": [
      "A3:D3 短融\n",
      "A4:D4 中票\n",
      "A5\n",
      "E3\n",
      "A65\n",
      "E65\n",
      "E78:H78 企业债\n",
      "E79\n",
      "A127\n",
      "E127\n",
      "A189\n",
      "A247:D247 其他\n",
      "A248\n",
      "E189\n",
      "A251\n"
     ]
    }
   ],
   "source": [
    "now_line=0\n",
    "\n",
    "\n",
    "def xiugai_df(write_df):\n",
    "    buf=write_df.iloc[0,0]\n",
    "    write_df.set_index('剩余期限',inplace=True)\n",
    "    write_df.columns=write_df.iloc[0]\n",
    "    write_df.index.name=buf\n",
    "    write_df=write_df.iloc[1:] # 通过一个很愚蠢的方式去掉表头\n",
    "    return write_df\n",
    "\n",
    "for one in fenlei_df:\n",
    "    # 输入标签\n",
    "    coor=get_excel_coor(now_line)\n",
    "    small_title(sht,coor,one)\n",
    "    now_line+=1\n",
    "    \n",
    "    \n",
    "    if len(fenlei_df[one])==0:\n",
    "        continue\n",
    "    \n",
    "    line_left=60-now_line%60# 剩下多少行的空间\n",
    "    small_df=fenlei_df[one]\n",
    "    \n",
    "    while len(small_df)>0:\n",
    "#         print('还剩多少行:',line_left,'需要多少行:',len(small_df))\n",
    "        coor=get_excel_coor(now_line) # 计算新的坐标位置\n",
    "        print(coor)\n",
    "        # 填充剩余位置\n",
    "        write_df=small_df.iloc[:line_left]\n",
    "        \n",
    "        write_area(sht,coor,write_df)\n",
    "        \n",
    "        # 更新位置\n",
    "        now_line+=len(write_df)\n",
    "        \n",
    "        small_df=small_df.iloc[line_left:]\n",
    "        line_left=60-now_line%60  # 更新剩下多少行的空间\n",
    "        \n"
   ]
  },
  {
   "cell_type": "code",
   "execution_count": 131,
   "metadata": {},
   "outputs": [],
   "source": [
    "wb.save('{}.xlsx'.format(file_name))"
   ]
  },
  {
   "cell_type": "code",
   "execution_count": null,
   "metadata": {},
   "outputs": [],
   "source": []
  }
 ],
 "metadata": {
  "kernelspec": {
   "display_name": "Python 3",
   "language": "python",
   "name": "python3"
  },
  "language_info": {
   "codemirror_mode": {
    "name": "ipython",
    "version": 3
   },
   "file_extension": ".py",
   "mimetype": "text/x-python",
   "name": "python",
   "nbconvert_exporter": "python",
   "pygments_lexer": "ipython3",
   "version": "3.7.6"
  }
 },
 "nbformat": 4,
 "nbformat_minor": 4
}
