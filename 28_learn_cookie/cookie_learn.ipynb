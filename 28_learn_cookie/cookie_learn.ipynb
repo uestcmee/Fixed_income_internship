{
 "cells": [
  {
   "cell_type": "markdown",
   "metadata": {},
   "source": [
    "# cookie\n",
    "\n",
    "参考：https://www.cnblogs.com/small-bud/p/9064674.html"
   ]
  },
  {
   "cell_type": "code",
   "execution_count": 1,
   "metadata": {},
   "outputs": [],
   "source": [
    "from selenium import webdriver\n"
   ]
  },
  {
   "cell_type": "code",
   "execution_count": 2,
   "metadata": {},
   "outputs": [],
   "source": [
    "driver=webdriver.Chrome()"
   ]
  },
  {
   "cell_type": "code",
   "execution_count": 3,
   "metadata": {},
   "outputs": [],
   "source": [
    "driver.get('https://www.baidu.com/')"
   ]
  },
  {
   "cell_type": "code",
   "execution_count": 6,
   "metadata": {},
   "outputs": [
    {
     "data": {
      "text/plain": [
       "[{'domain': '.baidu.com',\n",
       "  'expiry': 1609996287,\n",
       "  'httpOnly': False,\n",
       "  'name': 'BA_HECTOR',\n",
       "  'path': '/',\n",
       "  'secure': False,\n",
       "  'value': '0o2k242081802h4hvn1fvd2ff0r'},\n",
       " {'domain': '.baidu.com',\n",
       "  'httpOnly': False,\n",
       "  'name': 'H_PS_PSSID',\n",
       "  'path': '/',\n",
       "  'secure': False,\n",
       "  'value': '33425_1455_33357_31253_33287_33351_26350_33389_33370'},\n",
       " {'domain': '.baidu.com',\n",
       "  'expiry': 1869192684,\n",
       "  'httpOnly': True,\n",
       "  'name': 'BDUSS_BFESS',\n",
       "  'path': '/',\n",
       "  'sameSite': 'None',\n",
       "  'secure': True,\n",
       "  'value': 'UhwcVN-cVlGWFgtc0xodzR1clBSQ0Izd2lvcHQwZ0p2dzFWa1l6bEdWWHNGaDVnRVFBQUFBJCQAAAAAAAAAAAEAAABZAJxLw~vX1jMxNDE1OQAAAAAAAAAAAAAAAAAAAAAAAAAAAAAAAAAAAAAAAAAAAAAAAAAAAAAAAAAAAAAAAAAAAAAAAOyJ9l~sifZfe'},\n",
       " {'domain': '.baidu.com',\n",
       "  'expiry': 1869192684,\n",
       "  'httpOnly': True,\n",
       "  'name': 'BDUSS',\n",
       "  'path': '/',\n",
       "  'secure': False,\n",
       "  'value': 'UhwcVN-cVlGWFgtc0xodzR1clBSQ0Izd2lvcHQwZ0p2dzFWa1l6bEdWWHNGaDVnRVFBQUFBJCQAAAAAAAAAAAEAAABZAJxLw~vX1jMxNDE1OQAAAAAAAAAAAAAAAAAAAAAAAAAAAAAAAAAAAAAAAAAAAAAAAAAAAAAAAAAAAAAAAAAAAAAAAOyJ9l~sifZfe'},\n",
       " {'domain': '.baidu.com',\n",
       "  'expiry': 1641528657,\n",
       "  'httpOnly': False,\n",
       "  'name': 'BAIDUID_BFESS',\n",
       "  'path': '/',\n",
       "  'sameSite': 'None',\n",
       "  'secure': True,\n",
       "  'value': '7DAE8CC7216836E1262E18540BF04678:FG=1'},\n",
       " {'domain': '.www.baidu.com',\n",
       "  'expiry': 2556072687,\n",
       "  'httpOnly': False,\n",
       "  'name': 'sugstore',\n",
       "  'path': '/',\n",
       "  'secure': False,\n",
       "  'value': '1'},\n",
       " {'domain': '.baidu.com',\n",
       "  'expiry': 1641528657,\n",
       "  'httpOnly': False,\n",
       "  'name': 'BAIDUID',\n",
       "  'path': '/',\n",
       "  'secure': False,\n",
       "  'value': '7DAE8CC7216836E1262E18540BF04678:FG=1'},\n",
       " {'domain': '.baidu.com',\n",
       "  'expiry': 3757476304,\n",
       "  'httpOnly': False,\n",
       "  'name': 'BIDUPSID',\n",
       "  'path': '/',\n",
       "  'secure': False,\n",
       "  'value': '7DAE8CC7216836E169A60553F6017BA9'},\n",
       " {'domain': '.baidu.com',\n",
       "  'expiry': 3757476304,\n",
       "  'httpOnly': False,\n",
       "  'name': 'PSTM',\n",
       "  'path': '/',\n",
       "  'secure': False,\n",
       "  'value': '1609992656'},\n",
       " {'domain': 'www.baidu.com',\n",
       "  'expiry': 1610856687,\n",
       "  'httpOnly': False,\n",
       "  'name': 'BD_UPN',\n",
       "  'path': '/',\n",
       "  'secure': False,\n",
       "  'value': '12314753'},\n",
       " {'domain': 'www.baidu.com',\n",
       "  'httpOnly': False,\n",
       "  'name': 'BD_HOME',\n",
       "  'path': '/',\n",
       "  'secure': False,\n",
       "  'value': '1'}]"
      ]
     },
     "execution_count": 6,
     "metadata": {},
     "output_type": "execute_result"
    }
   ],
   "source": [
    "cookies=driver.get_cookies()\n",
    "cookies"
   ]
  },
  {
   "cell_type": "code",
   "execution_count": 5,
   "metadata": {},
   "outputs": [],
   "source": [
    "import json"
   ]
  },
  {
   "cell_type": "code",
   "execution_count": 7,
   "metadata": {},
   "outputs": [],
   "source": [
    "with open('cookies.txt','w') as f:\n",
    "    json.dump(cookies,f)"
   ]
  },
  {
   "cell_type": "code",
   "execution_count": 8,
   "metadata": {},
   "outputs": [],
   "source": [
    "driver.quit()"
   ]
  },
  {
   "cell_type": "code",
   "execution_count": 9,
   "metadata": {},
   "outputs": [],
   "source": [
    "driver=webdriver.Edge()"
   ]
  },
  {
   "cell_type": "code",
   "execution_count": 10,
   "metadata": {},
   "outputs": [],
   "source": [
    "driver.get('https://www.baidu.com/')"
   ]
  },
  {
   "cell_type": "markdown",
   "metadata": {},
   "source": [
    "这里不用登录就会直接显示我的用户名。而且要注意不同的浏览器可能处理方式不同，比如在火狐浏览器中就会报错：selenium.common.exceptions.InvalidCookieDomainException: Message: .baidu.com，如果碰到这种错误(不一定，也可能跟系统、浏览器都有关系)，在add_cookie的时候我们可以把domain去掉就行了。"
   ]
  },
  {
   "cell_type": "code",
   "execution_count": 11,
   "metadata": {},
   "outputs": [],
   "source": [
    "with open(\"cookies.txt\", \"r\") as fp:\n",
    "    cookies = json.load(fp)\n",
    "    for cookie in cookies:\n",
    "        # cookie.pop('domain')  # 如果报domain无效的错误\n",
    "        driver.add_cookie(cookie)"
   ]
  },
  {
   "cell_type": "code",
   "execution_count": 12,
   "metadata": {},
   "outputs": [],
   "source": [
    "driver.get('https://www.baidu.com/')"
   ]
  },
  {
   "cell_type": "code",
   "execution_count": 39,
   "metadata": {},
   "outputs": [],
   "source": [
    "driver.quit()"
   ]
  },
  {
   "cell_type": "markdown",
   "metadata": {},
   "source": [
    "## selenium 的cookie在requests中使用\n"
   ]
  },
  {
   "cell_type": "code",
   "execution_count": 23,
   "metadata": {},
   "outputs": [
    {
     "data": {
      "text/plain": [
       "<Response [200]>"
      ]
     },
     "execution_count": 23,
     "metadata": {},
     "output_type": "execute_result"
    }
   ],
   "source": [
    "import requests\n",
    "from requests.cookies import RequestsCookieJar\n",
    "s = requests.session()\n",
    "s.verify = False\n",
    "# s.headers = {\n",
    "#     \"User-Agent\": \"Mozilla/5.0 (iPhone; CPU iPhone OS 11_0 like Mac OS X) AppleWebKit/604.1.38 (KHTML, like Gecko) Version/11.0 Mobile/15A372 Safari/604.1\"\n",
    "# }\n",
    "s.get(\"http://www.baidu.com\")\n",
    "\n"
   ]
  },
  {
   "cell_type": "code",
   "execution_count": 34,
   "metadata": {},
   "outputs": [],
   "source": [
    "#这里我们使用cookie对象进行处理\n",
    "jar = RequestsCookieJar()\n",
    "with open(\"cookies.txt\", \"r\") as fp:\n",
    "    cookies = json.load(fp)\n",
    "    for cookie in cookies:\n",
    "        jar.set(cookie['name'], cookie['value'])\n",
    "\n",
    "#百度个人中心\n",
    "r = s.get(\"http://www.baidu.com\", cookies=jar)"
   ]
  },
  {
   "cell_type": "code",
   "execution_count": null,
   "metadata": {},
   "outputs": [],
   "source": [
    "# 也可以使用字典设置\n",
    "cookies_dict = dict()\n",
    "with open(\"cookies.txt\", \"r\") as fp:\n",
    "    cookies = json.load(fp)\n",
    "    for cookie in cookies:\n",
    "        cookies_dict[cookie['name']] = cookie['value']\n",
    "r = s.get(\"https://www.baidu.com/p/setting/profile/basic\", cookies=cookies_dict)\n"
   ]
  },
  {
   "cell_type": "code",
   "execution_count": 35,
   "metadata": {},
   "outputs": [],
   "source": [
    "r.encoding='utf-8'"
   ]
  },
  {
   "cell_type": "code",
   "execution_count": 37,
   "metadata": {},
   "outputs": [],
   "source": [
    "# r.text"
   ]
  },
  {
   "cell_type": "code",
   "execution_count": 38,
   "metadata": {},
   "outputs": [],
   "source": [
    "with open('baidu.html','w') as f:\n",
    "    f.write(r.text)\n",
    "    f.close()"
   ]
  },
  {
   "cell_type": "markdown",
   "metadata": {},
   "source": [
    "保存requests 的cookies\n",
    "\n",
    "> requests 的cookie是RequestsCookieJar对象，使用requests.utils.dict_from_cookiejar将其转换成dict"
   ]
  },
  {
   "cell_type": "code",
   "execution_count": null,
   "metadata": {},
   "outputs": [],
   "source": [
    "cookies = requests.utils.dict_from_cookiejar(s.cookies)\n",
    "with open(\"cook.txt\", \"w\") as fp:\n",
    "    json.dump(cookies, fp)\n",
    "print(cookies)"
   ]
  },
  {
   "cell_type": "markdown",
   "metadata": {},
   "source": [
    "## requests添加cookie内容\n",
    "```python\n",
    "requests.utils.add_dict_to_cookiejar\n",
    "```"
   ]
  },
  {
   "cell_type": "code",
   "execution_count": null,
   "metadata": {},
   "outputs": [],
   "source": [
    "import requests\n",
    "import time\n",
    "mycookie = { \"PHPSESSID\":\"56v9clgo1kdfo3q5q8ck0aaaaa\" }\n",
    "x = requests.session()\n",
    "requests.utils.add_dict_to_cookiejar(x.cookies,{\"PHPSESSID\":\"07et4ol1g7ttb0bnjmbiqjhp43\"})\n",
    "x.get(\"http://127.0.0.1:80\",cookies = mycookie)\n"
   ]
  }
 ],
 "metadata": {
  "kernelspec": {
   "display_name": "Python 3",
   "language": "python",
   "name": "python3"
  },
  "language_info": {
   "codemirror_mode": {
    "name": "ipython",
    "version": 3
   },
   "file_extension": ".py",
   "mimetype": "text/x-python",
   "name": "python",
   "nbconvert_exporter": "python",
   "pygments_lexer": "ipython3",
   "version": "3.7.6"
  }
 },
 "nbformat": 4,
 "nbformat_minor": 4
}
